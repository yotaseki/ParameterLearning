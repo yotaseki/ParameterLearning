{
 "cells": [
  {
   "cell_type": "code",
   "execution_count": 1,
   "metadata": {},
   "outputs": [],
   "source": [
    "from chainer import Link, Chain, ChainList, Variable, optimizers, iterators\n",
    "import chainer.functions as F\n",
    "import chainer.links as L\n",
    "from chainer import cuda\n",
    "from chainer import initializers\n",
    "from chainer import serializers\n",
    "\n",
    "import time\n",
    "import matplotlib.pyplot as plt\n",
    "%matplotlib inline\n",
    "import pandas as pd\n",
    "import numpy\n",
    "import cupy"
   ]
  },
  {
   "cell_type": "code",
   "execution_count": 2,
   "metadata": {},
   "outputs": [],
   "source": [
    "# GPU settings\n",
    "gpu_index = 0\n",
    "if gpu_index >= 0:\n",
    "    cuda.check_cuda_available()\n",
    "    np = cuda.cupy\n",
    "else:\n",
    "    np = numpy"
   ]
  },
  {
   "cell_type": "markdown",
   "metadata": {},
   "source": [
    "# 車輪型ロボットモデル（対向2輪型）"
   ]
  },
  {
   "cell_type": "code",
   "execution_count": 3,
   "metadata": {},
   "outputs": [],
   "source": [
    "class CartLayer:\n",
    "    def __init__(self,batchsize=1):\n",
    "        self.cart_num = batchsize\n",
    "        self.pos = Variable(np.zeros( (batchsize,3), dtype=np.float32))\n",
    "        self.path = Variable(np.zeros( (batchsize,1,3), dtype=np.float32))\n",
    "\n",
    "    def move(self,param):\n",
    "        if len(param) == self.cart_num:\n",
    "            dx = F.reshape(param[:,0] * F.cos(self.pos[:,2] + param[:,1]), (self.cart_num,1))\n",
    "            dy = F.reshape(param[:,0] * F.sin(self.pos[:,2] + param[:,1]), (self.cart_num,1))\n",
    "            dth = F.reshape(param[:,1], (self.cart_num,1))\n",
    "            D = F.concat((dx,dy),axis=1)\n",
    "            D = F.concat((D,dth),axis=1)\n",
    "            self.pos = self.pos + D\n",
    "            self.path = F.concat((self.path, F.reshape(self.pos,(self.cart_num,1,3))),axis=1)\n",
    "            return self.pos\n",
    "        else:\n",
    "            print(len(param))\n",
    "            return -1\n",
    "\n",
    "# 連続で動く\n",
    "def calc_car_pos(cart_layer, y):\n",
    "    for step in range(len(y[0])):\n",
    "        cart_layer.move(y[:,step])\n",
    "    # print car.path.shape  # (4step, 50batch, 3x-y-th)\n",
    "    # print car.pos.data.shape  # (50batch, 3x-y-th)\n",
    "    return cart_layer.pos"
   ]
  },
  {
   "cell_type": "markdown",
   "metadata": {},
   "source": [
    "# 経路の描画"
   ]
  },
  {
   "cell_type": "code",
   "execution_count": 4,
   "metadata": {},
   "outputs": [],
   "source": [
    "def plot_path(cart_path,target,xlim=[-5,5],ylim=[-5,5]):\n",
    "    path = cart_path[0,:,:]\n",
    "    if gpu_index >= 0:\n",
    "        path = np.asnumpy(path)\n",
    "        t = np.asnumpy(target)\n",
    "    for i in range(1,len(path)):\n",
    "        plt.quiver(path[i-1,0],path[i-1,1]\n",
    "                   , path[i,0]-path[i-1,0],path[i,1]-path[i-1,1]\n",
    "                   , scale_units='xy', angles='xy', scale=1,color=\"blue\")\n",
    "    plt.scatter(t[:,0],t[:,1],c=\"red\",s=80,marker=\"o\")\n",
    "    num_step = len(target)\n",
    "    plt.scatter(t[num_step-1,0],t[num_step-1,1],c=\"yellow\",s=500,marker=\"*\")\n",
    "    plt.xlabel(\"x\")\n",
    "    plt.ylabel(\"y\")\n",
    "    plt.axis('scaled')\n",
    "    plt.xlim(xlim[0],xlim[1])\n",
    "    plt.ylim(ylim[0],ylim[1])\n",
    "    plt.grid()\n",
    "    plt.show()"
   ]
  },
  {
   "cell_type": "code",
   "execution_count": 5,
   "metadata": {
    "scrolled": true
   },
   "outputs": [
    {
     "data": {
      "image/png": "[encoded data removed]",
      "text/plain": [
       "<Figure size 432x288 with 1 Axes>"
      ]
     },
     "metadata": {},
     "output_type": "display_data"
    },
    {
     "name": "stdout",
     "output_type": "stream",
     "text": [
      "[[[0. 0. 0.]\n",
      "  [1. 0. 0.]\n",
      "  [2. 0. 0.]\n",
      "  [3. 0. 0.]]]\n"
     ]
    },
    {
     "data": {
      "image/png": "[encoded data removed]",
      "text/plain": [
       "<Figure size 432x288 with 1 Axes>"
      ]
     },
     "metadata": {},
     "output_type": "display_data"
    },
    {
     "name": "stdout",
     "output_type": "stream",
     "text": [
      "[[[0. 0. 0.]\n",
      "  [1. 0. 0.]\n",
      "  [2. 0. 0.]\n",
      "  [3. 0. 0.]]]\n"
     ]
    }
   ],
   "source": [
    "sample_v_arr = np.array([1.0,1.0,1.0],dtype=np.float32)\n",
    "sample_w_arr = np.array([0.0,0.0,0.0],dtype=np.float32)\n",
    "sample_w_arr = sample_w_arr * np.pi/180\n",
    "sample_y_data = np.vstack((sample_v_arr,sample_w_arr)).T\n",
    "sample_yV = Variable(np.reshape(sample_y_data,(1,3,2) )) \n",
    "sample_cart = CartLayer()\n",
    "pos = calc_car_pos(sample_cart,sample_yV)\n",
    "plot_path(sample_cart.path.data,np.array([[1,0],[2,0],[3,0]]) )\n",
    "print(sample_cart.path.data)\n",
    "sample_v_arr = np.array([1.0,1.0,1.0],dtype=np.float32)\n",
    "sample_w_arr = np.array([0.0,0.0,0.0],dtype=np.float32)\n",
    "sample_w_arr = sample_w_arr * np.pi/180\n",
    "sample_y_data = np.vstack((sample_v_arr,sample_w_arr)).T\n",
    "sample_yV = Variable(np.reshape(sample_y_data,(1,3,2) )) \n",
    "sample_cart = CartLayer()\n",
    "pos = calc_car_pos(sample_cart,sample_yV)\n",
    "plot_path(sample_cart.path.data,np.array([[0,0],[1,1],[2,2]]) )\n",
    "print(sample_cart.path.data)\n"
   ]
  },
  {
   "cell_type": "markdown",
   "metadata": {},
   "source": [
    "# ネットワーク"
   ]
  },
  {
   "cell_type": "code",
   "execution_count": 6,
   "metadata": {},
   "outputs": [],
   "source": [
    "class ModelPathGenerator(Chain):\n",
    "    def __init__(self, input_dimension, num_step):\n",
    "        self.input_dim = input_dimension\n",
    "        self.num_step = num_step\n",
    "        initializer = initializers.HeNormal()\n",
    "        super(ModelPathGenerator, self).__init__(\n",
    "            l1=L.Linear(self.input_dim, 15, initialW=initializer),\n",
    "            l2=L.Linear(15, 8, initialW=initializer),\n",
    "            l3=L.Linear(8, self.num_step*2, initialW=initializer),\n",
    "        )\n",
    "    def __call__(self, x):\n",
    "        h1 = F.relu(self.l1(x))\n",
    "        h2 = F.relu(self.l2(h1))\n",
    "        h3 = self.l3(h2)\n",
    "        h4 = F.tanh(h3)\n",
    "        o = F.reshape(h4,(len(x),self.num_step,2))\n",
    "        return o\n",
    "\n",
    "    '''\n",
    "    def loss_function():\n",
    "        path\n",
    "    \n",
    "    def get_vw(self,output):\n",
    "        v = output[0,0:3]\n",
    "        w = output[0,3:6]\n",
    "        return v,w\n",
    "    '''"
   ]
  },
  {
   "cell_type": "code",
   "execution_count": 7,
   "metadata": {
    "scrolled": false
   },
   "outputs": [
    {
     "name": "stdout",
     "output_type": "stream",
     "text": [
      "[[3. 0.]]\n",
      "variable([[[ 0.9991678  -0.99562436]\n",
      "           [ 0.25345916 -0.6582676 ]\n",
      "           [-0.43985084 -0.8001582 ]]])\n"
     ]
    }
   ],
   "source": [
    "# sample forward\n",
    "sample_model = ModelPathGenerator(2,3)\n",
    "if gpu_index >=0:\n",
    "    sample_model.to_gpu()\n",
    "sample_x_data = np.array([[3,0]],dtype=np.float32)\n",
    "sample_x = Variable(sample_x_data)\n",
    "print(sample_x_data)\n",
    "sample_y = sample_model(sample_x_data)\n",
    "print(sample_y)"
   ]
  },
  {
   "cell_type": "markdown",
   "metadata": {},
   "source": [
    "# 訓練データの作成\n",
    "\n",
    "* ある関数から経由点のcsvファイルを生成\n",
    "* csvファイルから経路を生成"
   ]
  },
  {
   "cell_type": "code",
   "execution_count": 8,
   "metadata": {},
   "outputs": [],
   "source": [
    "def plot_f(X,Y,color=\"black\"):\n",
    "    if gpu_index >= 0:\n",
    "        x = np.asnumpy(X)\n",
    "        y = np.asnumpy(Y)\n",
    "    plt.scatter(x,y,c=\"gray\",edgecolor=\"black\",s=3,marker=\"o\")\n",
    "\n",
    "# ある関数を経路として生成\n",
    "def make_function_path(f,x,plot=0):\n",
    "    X = x\n",
    "    Y = f(X)\n",
    "    path = np.stack((X,Y),axis=1)\n",
    "    if(plot):\n",
    "        plot_f(X,Y)\n",
    "    return path\n",
    "\n",
    "# 長さと半径から曲率一定の経路を生成\n",
    "def make_arc_path(l,r,plot=0):\n",
    "    theta = np.linspace(-np.pi/2, -np.pi/2+l/r)\n",
    "    X = r * np.cos(theta)\n",
    "    Y = r * np.sin(theta) + r\n",
    "    path = np.stack((X,Y),axis=1)\n",
    "    if(plot):\n",
    "        plot_f(X,Y)\n",
    "        plt.axis('scaled')\n",
    "        # plt.gca().set_aspect('equal', adjustable='box')\n",
    "    return path\n",
    "\n",
    "def make_arc_path_2(l,alpha,s=1,plot=0):\n",
    "    if alpha==0:\n",
    "        X = np.linspace(0, l)\n",
    "        Y = np.zeros(len(X))\n",
    "        path = np.stack((X,Y),axis=1)\n",
    "    else:\n",
    "        r = s/alpha # 曲率\n",
    "        theta = np.linspace(-np.pi/2, -np.pi/2+l/r)\n",
    "        X = r * np.cos(theta)\n",
    "        Y = r * np.sin(theta) + r\n",
    "        path = np.stack((X,Y),axis=1)\n",
    "    if(plot):\n",
    "        plot_f(X,Y,color=\"gray\")\n",
    "        plt.axis('scaled')\n",
    "        # plt.gca().set_aspect('equal', adjustable='box')\n",
    "    return path\n",
    "\n",
    "# 経路を回転\n",
    "def rotate_path(path, rad,plot=0):\n",
    "    theta = rad\n",
    "    X = path[:,1]*np.cos(theta) - path[:,0]*np.sin(theta)\n",
    "    Y = path[:,1]*np.sin(theta) + path[:,0]*np.cos(theta)\n",
    "    ret = np.stack((X,Y),axis=1)\n",
    "    if(plot):\n",
    "        plot_f(X,Y,color=\"gray\")\n",
    "        plt.axis('scaled')\n",
    "        # plt.gca().set_aspect('equal', adjustable='box')\n",
    "    return ret\n",
    "\n",
    "# CSVから経路の読み取り\n",
    "def read_path_csv(filename,plot=0):\n",
    "    df = pd.read_csv(filename, header=None)\n",
    "    path = np.array(df.values,dtype=np.float32)\n",
    "    if(plot):\n",
    "        plot_f(path[:,0],path[:,1],color=\"gray\")\n",
    "        # plt.gca().set_aspect('equal', adjustable='box')\n",
    "    return path\n",
    "\n",
    "# 経路からN点抜き出す\n",
    "def get_n_point_from_path(n,path,margin=5,plot=0):\n",
    "    path_data = np.empty((1,2))\n",
    "    idx = 0\n",
    "    for i in range(n):\n",
    "        idx = idx + np.random.randint(margin,len(path)/3)\n",
    "        if(idx > len(path)):\n",
    "            idx = len(path)\n",
    "        path_data = np.vstack((path_data,path[idx]))\n",
    "    if(plot):\n",
    "        plot_f(path_data[:,0],path_data[:,1],color=\"red\")\n",
    "    return path_data[1:len(path_data)]\n",
    "\n",
    "def get_n_point_from_path_2(n,path,plot=0):\n",
    "    path_data = np.empty((1,2))\n",
    "    idx = [(len(path)-1)/3, (len(path)-1)*2/3, len(path)-1]\n",
    "    for i in idx:\n",
    "        i = int(i)\n",
    "        path_data = np.vstack((path_data,path[i]))\n",
    "    if(plot):\n",
    "        plot_f(path_data[:,0],path_data[:,1],color=\"red\")\n",
    "    return path_data[1:len(path_data)]\n",
    "\n",
    "def distance(p1,p2,ax=0):\n",
    "    D = np.sqrt(np.sum((p1-p2)**2,axis=ax))\n",
    "    return D\n",
    "\n",
    "def get_evenly_spaced_points(data,space):\n",
    "    ret = np.empty((0,2))\n",
    "    idx_list = [];\n",
    "    p1 = np.array((0.0, 0.0),dtype=np.float32);\n",
    "    for i in range(len(data)):\n",
    "        p2 = data[i]\n",
    "        D = distance(p1,p2) \n",
    "        if(D >= space):\n",
    "            ret = np.vstack((ret,p2))\n",
    "            idx_list.append(i)\n",
    "            p1 = p2\n",
    "    return ret, idx_list"
   ]
  },
  {
   "cell_type": "code",
   "execution_count": 9,
   "metadata": {},
   "outputs": [
    {
     "data": {
      "text/plain": [
       "'\\nrand = np.random.rand() * 2 * np.pi\\nx = [rand + (0.1*i) for i in range(5)]\\nprint(x)\\np = make_function_path(np.sin,x,plot=1)\\n'"
      ]
     },
     "execution_count": 9,
     "metadata": {},
     "output_type": "execute_result"
    },
    {
     "data": {
      "image/png": "[encoded data removed]",
      "text/plain": [
       "<Figure size 432x288 with 1 Axes>"
      ]
     },
     "metadata": {},
     "output_type": "display_data"
    }
   ],
   "source": [
    "p = make_function_path(np.sin,np.linspace(0,2*np.pi),plot=1)\n",
    "p = make_function_path(np.cos,np.linspace(0,2*np.pi),plot=1)\n",
    "'''\n",
    "rand = np.random.rand() * 2 * np.pi\n",
    "x = [rand + (0.1*i) for i in range(5)]\n",
    "print(x)\n",
    "p = make_function_path(np.sin,x,plot=1)\n",
    "'''"
   ]
  },
  {
   "cell_type": "code",
   "execution_count": 10,
   "metadata": {},
   "outputs": [
    {
     "name": "stdout",
     "output_type": "stream",
     "text": [
      "[[8.16601187e-01 4.59901220e-01]\n",
      " [8.46639973e-01 1.39662119e+00]\n",
      " [4.82546535e-16 1.90985932e+00]]\n"
     ]
    },
    {
     "data": {
      "text/plain": [
       "array([8.16601187e-01, 4.59901220e-01, 8.46639973e-01, 1.39662119e+00,\n",
       "       4.82546535e-16, 1.90985932e+00])"
      ]
     },
     "execution_count": 10,
     "metadata": {},
     "output_type": "execute_result"
    },
    {
     "data": {
      "image/png": "[encoded data removed]",
      "text/plain": [
       "<Figure size 432x288 with 1 Axes>"
      ]
     },
     "metadata": {},
     "output_type": "display_data"
    }
   ],
   "source": [
    "sample_p = make_arc_path_2(3,np.pi/3,plot=1)\n",
    "sample_vp = get_n_point_from_path_2(3,sample_p,plot=1)\n",
    "print(sample_vp)\n",
    "sample_vp.flatten()"
   ]
  },
  {
   "cell_type": "code",
   "execution_count": 11,
   "metadata": {},
   "outputs": [
    {
     "name": "stdout",
     "output_type": "stream",
     "text": [
      "[[0.0000e+00 0.0000e+00 1.5976e-01]\n",
      " [1.0012e-02 1.6380e-03 1.5976e-01]\n",
      " [2.0024e-02 3.2266e-03 1.5498e-01]\n",
      " ...\n",
      " [3.3239e-03 2.9697e+00 1.6865e+00]\n",
      " [1.6183e-03 2.9848e+00 1.6801e+00]\n",
      " [0.0000e+00 3.0000e+00 1.6801e+00]]\n"
     ]
    },
    {
     "data": {
      "image/png": "[encoded data removed]",
      "text/plain": [
       "<Figure size 432x288 with 1 Axes>"
      ]
     },
     "metadata": {},
     "output_type": "display_data"
    }
   ],
   "source": [
    "test_path = read_path_csv('path.csv',plot=1)\n",
    "print(test_path)"
   ]
  },
  {
   "cell_type": "code",
   "execution_count": 12,
   "metadata": {},
   "outputs": [
    {
     "name": "stdout",
     "output_type": "stream",
     "text": [
      "(1000, 18)\n",
      "[ 0.2040499  -0.00311665  0.40790942 -0.01246368  0.6113884  -0.02803238\n",
      "  0.81429696 -0.04980821  1.0164459  -0.07777087  1.2176464  -0.11189427\n",
      "  1.4177109  -0.15214658  1.6164528  -0.19849022  1.8136866  -0.25088197]\n"
     ]
    },
    {
     "data": {
      "text/plain": [
       "(0.11158478588068611, 1.932547689192714, -1.44311023762713, 1.446234117059809)"
      ]
     },
     "execution_count": 12,
     "metadata": {},
     "output_type": "execute_result"
    },
    {
     "data": {
      "image/png": "[encoded data removed]",
      "text/plain": [
       "<Figure size 432x288 with 1 Axes>"
      ]
     },
     "metadata": {},
     "output_type": "display_data"
    }
   ],
   "source": [
    "# 訓練データのパラメータ\n",
    "data_num = 1000\n",
    "data_len = 9 * 2 #(3step , X-Y)\n",
    "space = 10\n",
    "\n",
    "def get_path_data(data_num, data_len):\n",
    "    data = np.empty((0,data_len),dtype=np.float32)\n",
    "    l = 10 # 円弧の長さ\n",
    "    for i in range(data_num):\n",
    "        rand_rad = np.random.rand() * (2*np.pi/3) - np.pi/3 # 回転範囲 -60 ~ 60\n",
    "        path = make_arc_path_2(l,rand_rad)\n",
    "        path_es, idx_list = get_evenly_spaced_points(path, space/1000)\n",
    "        via_path = path_es[0:data_len/2]\n",
    "        data = np.vstack((data,via_path.flatten()))\n",
    "        #data = np.vstack((data,[via_path]))\n",
    "    return data\n",
    "\n",
    "train_data = get_path_data(data_num,data_len)\n",
    "train_data = np.array(train_data,dtype=np.float32)\n",
    "print(train_data.shape)\n",
    "print(train_data[0])\n",
    "if gpu_index >= 0:\n",
    "    td = np.asnumpy(train_data)\n",
    "for i in range(0,data_len-1,2):\n",
    "    plt.scatter(td[:,i],td[:,i+1],c=\"red\",edgecolor=\"red\",s=30,marker=\"o\")\n",
    "plt.axis('scaled')"
   ]
  },
  {
   "cell_type": "markdown",
   "metadata": {},
   "source": [
    "# 損失関数"
   ]
  },
  {
   "cell_type": "code",
   "execution_count": 13,
   "metadata": {
    "scrolled": true
   },
   "outputs": [],
   "source": [
    "def calc_distance(predict_pos,true_pos):\n",
    "    #print \"true_pos\\n{}\".format(true_pos.shape)\n",
    "    #print \"predict_pos\\n{}\".format(predict_pos.shape)\n",
    "    D = F.sqrt(F.sum((true_pos-predict_pos)**2, axis=1))\n",
    "    return D\n",
    "\n",
    "# sample_p = Variable(np.array([[-0.04729605 , 3.132064, 0]], dtype=np.float32))\n",
    "# sample_t = Variable(np.array([-0.9656074  ,1.9671886], dtype=np.float32))\n",
    "# print calc_distance(sample_p[0,0:2],sample_t)\n",
    "# 1.4833174\n",
    "\n",
    "def velo_diff(v):\n",
    "    # v (batch,3)\n",
    "    V = np.zeros(len(v),dtype=np.float32)\n",
    "    for i in range(len(v[0])-1):\n",
    "        diff = v[:,i] - v[:,i+1]\n",
    "        # print '{} = {} - {}'.format(diff, v[:,i], v[:,i+1])\n",
    "        V = V + (diff*diff)\n",
    "    init_v = np.zeros(len(v),dtype=np.float32)\n",
    "    diff = init_v - v[:,0]\n",
    "    # print '{} = {} - {}'.format(diff, init_v, v[:,0])\n",
    "    V = V + diff*diff\n",
    "    return V\n",
    "\n",
    "# sample_p = Variable(np.array([[1, 1, 1], [2, 2, 2], [1, 1, 1]], dtype=np.float32) )\n",
    "# print velo_diff(sample_p)\n",
    "\n",
    "def terminal_cost(predict_terminal_position, true_terminal_position):\n",
    "    p = predict_terminal_position\n",
    "    t = true_terminal_position\n",
    "    Loss = calc_distance(p,t)\n",
    "    return Loss\n",
    "\n",
    "def List_var2Variable(L):  # list内のVariableをF.concatで結合\n",
    "    if(len(L) >= 2):\n",
    "        V = F.concat((L[0],L[1]))\n",
    "        for i in range(2,len(L)):\n",
    "            V = F.concat((V,L[i]))\n",
    "    else:\n",
    "        V = L[0]\n",
    "    return V\n",
    "\n",
    "def stage_cost(predict_path, true_path):\n",
    "    Loss = np.zeros(len(predict_path),dtype=np.float32)\n",
    "    # print predict_path.shape\n",
    "    # print true_path.shape\n",
    "    if len(true_path[0]) < 2 or len(predict_path[0]) < 3:\n",
    "        return Loss\n",
    "    else:\n",
    "        li_D = []\n",
    "        for i in range( 1,len(predict_path[0])-1 ): # 始点と終点を除く\n",
    "            # print 'ppos:{}'.format(predict_path[:,p_pos])\n",
    "            # print 'tpos:{}'.format(true_path[:,t_pos])\n",
    "            D = calc_distance(predict_path[:,i], true_path[:,i-1])  # D(batch)\n",
    "            D = F.reshape(D,(len(D),1))\n",
    "            li_D.append(D)\n",
    "        Dvar = List_var2Variable(li_D)\n",
    "        # print \"Dmin_var\\n\",Dmin_var\n",
    "        Loss = F.sum(Dvar, axis=1)\n",
    "        return Loss\n",
    "\"\"\"\n",
    "def stage_cost(predict_path, true_path):\n",
    "    Loss = np.zeros(len(predict_path),dtype=np.float32)\n",
    "    # print predict_path.shape\n",
    "    # print true_path.shape\n",
    "    if len(predict_path[0]) < 2:\n",
    "        return Loss\n",
    "    else:\n",
    "        li_Dmin = []\n",
    "        for t_pos in range( 0,len(true_path[0])-1 ): # 終点を除く\n",
    "            li_D = []\n",
    "            for p_pos in range( 1,len(predict_path[0])-1 ): # 始点と終点を除く\n",
    "                # print 'ppos:{}'.format(predict_path[:,p_pos])\n",
    "                # print 'tpos:{}'.format(true_path[:,t_pos])\n",
    "                D = calc_distance(predict_path[:,p_pos], true_path[:,t_pos])  # D(batch)\n",
    "                D = F.reshape(D,(len(D),1))\n",
    "                li_D.append(D)\n",
    "            Dvar = List_var2Variable(li_D)\n",
    "            # print \"Dvar\\n\",Dvar\n",
    "            Dmin = F.min(Dvar,axis=1)\n",
    "            Dmin = F.reshape(Dmin,(len(Dmin),1))\n",
    "            # print \"Dmin\\n\",Dmin\n",
    "            li_Dmin.append(Dmin)\n",
    "        Dmin_var =  List_var2Variable(li_Dmin)\n",
    "        # print \"Dmin_var\\n\",Dmin_var\n",
    "        Loss = F.sum(Dmin_var, axis=1)\n",
    "        return Loss\n",
    "\"\"\"\n",
    "\n",
    "def loss_function(y, x_data):\n",
    "    # y      [ batch, step,param]\n",
    "    # x_data [ batch, point_x-y]\n",
    "    x_data = F.reshape(x_data, (len(x_data),int(len(x_data[0])/2), 2))\n",
    "    num_step = len(y[0])\n",
    "    cart = CartLayer(len(y))\n",
    "    calc_car_pos(cart,y)\n",
    "\n",
    "    # Stage cost\n",
    "    predict_path = cart.path[:,:,0:2] # cart.path [ batch ,step ,x-y-th]\n",
    "    true_path = x_data\n",
    "    Dst = stage_cost(predict_path, true_path)\n",
    "\n",
    "    # Terminal cost\n",
    "    predict_term_pos = cart.pos[:,0:2]\n",
    "    true_term_pos = x_data[:,len(x_data[0])-1]\n",
    "    Dtc = terminal_cost(predict_term_pos, true_term_pos)\n",
    "\n",
    "    # Limiting\n",
    "    v = y[:,:,0]\n",
    "    w = y[:,:,1]\n",
    "    V = velo_diff(v)\n",
    "    W = velo_diff(w)\n",
    "    \n",
    "    # print 'Dtc :{}'.format(Dtc)\n",
    "    # print 'Dst :{}'.format(Dst)\n",
    "    # print 'V :{}, v:{}'.format(V,v)\n",
    "    # print 'W :{}, w:{}'.format(W,w)\n",
    "    Dtc = F.mean(Dtc) # terminate cost\n",
    "    Dst = F.mean(Dst) # stage cost\n",
    "    V = F.mean(1 * V)\n",
    "    W = F.mean(1 * W)\n",
    "    loss = Dtc + Dst\n",
    "    message = \"\\t{} \\t{} \\t{} \\t{}\".format(Dtc.data, Dst.data, V.data, W.data)\n",
    "    return loss, message"
   ]
  },
  {
   "cell_type": "code",
   "execution_count": 14,
   "metadata": {
    "scrolled": false
   },
   "outputs": [],
   "source": [
    "# sample_y = Variable(np.array([[[1,0], [1,0], [2,np.pi/2]], [[-1,0], [-1,0], [-2,-(np.pi/2)]]] ,dtype=np.float32 )) # 2batch 3step v-w\n",
    "# sample_x = Variable(np.array([ [[1,1],[2, 2], [3,3] ]                             , [[2,2],[1,-1],[3,3] ] ] ,dtype=np.float32 )) # 2batch 2point x-y\n",
    "# print loss_function(sample_y, sample_x)"
   ]
  },
  {
   "cell_type": "markdown",
   "metadata": {},
   "source": [
    "# 訓練"
   ]
  },
  {
   "cell_type": "code",
   "execution_count": 15,
   "metadata": {
    "scrolled": true
   },
   "outputs": [],
   "source": [
    "def train(x_data, max_epoch, batch_size, snapshot=10):\n",
    "    input_dim = len(x_data[0])\n",
    "    model = ModelPathGenerator(input_dim, num_step)\n",
    "    if gpu_index >= 0:\n",
    "        cupy.cuda.Device(gpu_index).use()\n",
    "        model.to_gpu(gpu_index)\n",
    "    opt = optimizers.Adam()\n",
    "    opt.setup(model)\n",
    "    train_iter = iterators.SerialIterator(x_data, batch_size)\n",
    "    iterator = 0\n",
    "    print(\"Iter. \\tLoss \\t\\tTerm. \\t\\tStg. \\t\\tV \\t\\tW\")\n",
    "    while train_iter.epoch < max_epoch:\n",
    "        train_batch = np.array(train_iter.next(),dtype=np.float32)\n",
    "        x = Variable(train_batch.reshape(len(train_batch),input_dim))\n",
    "        y = model(x)\n",
    "        loss, msg = loss_function(y,x)\n",
    "        model.cleargrads()\n",
    "        loss.backward()\n",
    "        opt.update()\n",
    "        iterator = iterator + 1\n",
    "        if (iterator % snapshot)==0:\n",
    "            print(str(iterator)+\"\\t\"+str(loss.data)+msg)\n",
    "    return model"
   ]
  },
  {
   "cell_type": "code",
   "execution_count": 16,
   "metadata": {},
   "outputs": [
    {
     "name": "stdout",
     "output_type": "stream",
     "text": [
      "iter: 20000.0\n",
      "Iter. \tLoss \t\tTerm. \t\tStg. \t\tV \t\tW\n",
      "100\t1.3273436\t0.22507517 \t1.1022685 \t0.73775405 \t1.7418089\n",
      "200\t0.6085569\t0.12160843 \t0.4869485 \t0.21742293 \t0.96898085\n",
      "300\t0.33663163\t0.07734891 \t0.2592827 \t0.07839482 \t0.4757737\n",
      "400\t0.20122093\t0.036577962 \t0.16464297 \t0.05438652 \t0.2996656\n",
      "500\t0.1537969\t0.018956779 \t0.13484012 \t0.047660463 \t0.20550716\n",
      "600\t0.1263138\t0.015049484 \t0.11126432 \t0.046529073 \t0.18256114\n",
      "700\t0.13593826\t0.018535154 \t0.117403105 \t0.044495583 \t0.18709596\n",
      "800\t0.11604278\t0.016796105 \t0.09924667 \t0.04522233 \t0.117403924\n",
      "900\t0.09614245\t0.013641076 \t0.082501374 \t0.043090332 \t0.1282735\n",
      "1000\t0.07974686\t0.01176601 \t0.06798085 \t0.04251912 \t0.11131775\n",
      "1100\t0.0919727\t0.014777687 \t0.07719501 \t0.043342695 \t0.11281959\n",
      "1200\t0.083579294\t0.0123279905 \t0.0712513 \t0.04204957 \t0.11192375\n",
      "1300\t0.07783414\t0.011784184 \t0.066049956 \t0.04234641 \t0.09539872\n",
      "1400\t0.07273195\t0.010687358 \t0.06204459 \t0.041960638 \t0.08237551\n",
      "1500\t0.065739065\t0.009536629 \t0.056202438 \t0.042083964 \t0.08094076\n",
      "1600\t0.06267061\t0.009775619 \t0.05289499 \t0.04206266 \t0.07915075\n",
      "1700\t0.07296173\t0.010853278 \t0.062108453 \t0.041803446 \t0.07783683\n",
      "1800\t0.060405776\t0.008032008 \t0.052373767 \t0.04200569 \t0.07392415\n",
      "1900\t0.07826978\t0.011938085 \t0.06633169 \t0.04127731 \t0.066684045\n",
      "2000\t0.05594607\t0.008907251 \t0.04703882 \t0.04141181 \t0.06956121\n",
      "2100\t0.055922292\t0.009126564 \t0.04679573 \t0.042018328 \t0.05763499\n",
      "2200\t0.060568504\t0.010687472 \t0.049881034 \t0.041907895 \t0.061227214\n",
      "2300\t0.058046337\t0.009404703 \t0.048641633 \t0.042634077 \t0.051203754\n",
      "2400\t0.051535204\t0.008008042 \t0.043527164 \t0.04208783 \t0.060878586\n",
      "2500\t0.053414013\t0.007869419 \t0.045544595 \t0.042487793 \t0.057937864\n",
      "2600\t0.053594016\t0.0069719255 \t0.04662209 \t0.04092638 \t0.05871356\n",
      "2700\t0.045625098\t0.006707815 \t0.038917284 \t0.041821178 \t0.05494729\n",
      "2800\t0.04878156\t0.007176913 \t0.041604646 \t0.04190047 \t0.06388845\n",
      "2900\t0.049180463\t0.0088286735 \t0.04035179 \t0.041806106 \t0.04899327\n",
      "3000\t0.042194556\t0.00599446 \t0.036200095 \t0.042121522 \t0.05698279\n",
      "3100\t0.05436868\t0.00981715 \t0.04455153 \t0.040988024 \t0.04575565\n",
      "3200\t0.053620398\t0.009517178 \t0.04410322 \t0.041654073 \t0.042805843\n",
      "3300\t0.045774516\t0.0064711557 \t0.03930336 \t0.04211632 \t0.04492213\n",
      "3400\t0.037345327\t0.0053253006 \t0.032020025 \t0.041515417 \t0.05026675\n",
      "3500\t0.06180999\t0.011400063 \t0.050409928 \t0.041227072 \t0.04175672\n",
      "3600\t0.043645322\t0.007351384 \t0.03629394 \t0.04195728 \t0.04340455\n",
      "3700\t0.038115233\t0.005201643 \t0.03291359 \t0.041497085 \t0.041930147\n",
      "3800\t0.03892069\t0.0056673787 \t0.033253312 \t0.041925132 \t0.04227048\n",
      "3900\t0.03785146\t0.0053196377 \t0.032531824 \t0.04118455 \t0.038744554\n",
      "4000\t0.04182908\t0.007177006 \t0.034652073 \t0.041775353 \t0.03744262\n",
      "4100\t0.053775996\t0.009766818 \t0.04400918 \t0.041827183 \t0.040954888\n",
      "4200\t0.036528274\t0.005441749 \t0.031086525 \t0.04176928 \t0.039340176\n",
      "4300\t0.03649074\t0.0046039913 \t0.031886745 \t0.041205004 \t0.039008785\n",
      "4400\t0.032379173\t0.004588838 \t0.027790336 \t0.041866325 \t0.039593816\n",
      "4500\t0.040616162\t0.005946969 \t0.034669194 \t0.041679364 \t0.038204756\n",
      "4600\t0.0418789\t0.00756306 \t0.03431584 \t0.04191167 \t0.034099825\n",
      "4700\t0.034249924\t0.0047356538 \t0.02951427 \t0.041305624 \t0.036947615\n",
      "4800\t0.033779766\t0.005282536 \t0.02849723 \t0.04135983 \t0.034093123\n",
      "4900\t0.03358546\t0.005112606 \t0.028472852 \t0.041788034 \t0.035272695\n",
      "5000\t0.027780272\t0.0039001347 \t0.023880137 \t0.041596554 \t0.032707497\n",
      "5100\t0.032390893\t0.005279054 \t0.02711184 \t0.04137002 \t0.029657358\n",
      "5200\t0.04604282\t0.010047155 \t0.035995662 \t0.041824073 \t0.031900965\n",
      "5300\t0.032531373\t0.005021752 \t0.02750962 \t0.04151953 \t0.028948879\n",
      "5400\t0.03554471\t0.00530469 \t0.03024002 \t0.041346468 \t0.030813612\n",
      "5500\t0.033106145\t0.005734676 \t0.02737147 \t0.04194973 \t0.026118245\n",
      "5600\t0.028769288\t0.004551877 \t0.024217412 \t0.041362964 \t0.026809629\n",
      "5700\t0.030366793\t0.0046591153 \t0.025707679 \t0.041650407 \t0.031519435\n",
      "5800\t0.038737256\t0.0072474414 \t0.031489816 \t0.041505523 \t0.026492447\n",
      "5900\t0.047331132\t0.008672174 \t0.038658958 \t0.041389957 \t0.027329935\n",
      "6000\t0.035015695\t0.00678946 \t0.028226236 \t0.04191327 \t0.026667356\n",
      "6100\t0.028268982\t0.004199178 \t0.024069805 \t0.042191856 \t0.03026966\n",
      "6200\t0.035136912\t0.0061344267 \t0.029002484 \t0.04171998 \t0.027870407\n",
      "6300\t0.024005437\t0.003249911 \t0.020755526 \t0.041684203 \t0.024154237\n",
      "6400\t0.033816453\t0.0059773694 \t0.027839083 \t0.041896738 \t0.024466787\n",
      "6500\t0.033922467\t0.005852269 \t0.028070198 \t0.041474093 \t0.026179375\n",
      "6600\t0.034126155\t0.006402884 \t0.027723271 \t0.04169636 \t0.025183568\n",
      "6700\t0.03498621\t0.0070296745 \t0.027956536 \t0.041841343 \t0.026487652\n",
      "6800\t0.026686803\t0.0037942885 \t0.022892514 \t0.04137251 \t0.022803906\n",
      "6900\t0.058932573\t0.014669854 \t0.04426272 \t0.04097763 \t0.022956904\n",
      "7000\t0.032748397\t0.0062630964 \t0.0264853 \t0.042309456 \t0.021567954\n",
      "7100\t0.03830924\t0.008022756 \t0.030286483 \t0.041875336 \t0.021182906\n",
      "7200\t0.03418268\t0.005807704 \t0.028374974 \t0.040961746 \t0.022231257\n",
      "7300\t0.022656066\t0.0032988705 \t0.019357195 \t0.041433774 \t0.02280744\n",
      "7400\t0.023875171\t0.004202837 \t0.019672334 \t0.041347444 \t0.018734638\n",
      "7500\t0.02537335\t0.0044158055 \t0.020957546 \t0.041681357 \t0.02028365\n",
      "7600\t0.03925333\t0.008347649 \t0.030905683 \t0.042024687 \t0.022002092\n",
      "7700\t0.029806662\t0.005819547 \t0.023987116 \t0.04143439 \t0.020653702\n",
      "7800\t0.031439193\t0.0057985135 \t0.025640678 \t0.041937966 \t0.02035446\n",
      "7900\t0.02661996\t0.0052011893 \t0.02141877 \t0.041726384 \t0.019107286\n",
      "8000\t0.03335024\t0.0063222824 \t0.027027957 \t0.0421553 \t0.01916333\n",
      "8100\t0.030513236\t0.005772345 \t0.024740892 \t0.04149354 \t0.0201546\n",
      "8200\t0.027363311\t0.005141034 \t0.022222277 \t0.041536737 \t0.018964386\n",
      "8300\t0.024818104\t0.0046527926 \t0.020165311 \t0.04144849 \t0.018694658\n",
      "8400\t0.022947572\t0.004007827 \t0.018939745 \t0.04197583 \t0.020419495\n",
      "8500\t0.025763627\t0.004888375 \t0.020875253 \t0.041244507 \t0.019161029\n",
      "8600\t0.045232177\t0.009641634 \t0.03559054 \t0.041408673 \t0.017716965\n",
      "8700\t0.03439973\t0.0060540843 \t0.028345646 \t0.042059477 \t0.018348267\n",
      "8800\t0.031382013\t0.006279099 \t0.025102915 \t0.04188872 \t0.016964238\n",
      "8900\t0.04079551\t0.009407393 \t0.031388115 \t0.041672844 \t0.017400924\n",
      "9000\t0.026380928\t0.0052479296 \t0.021132998 \t0.041524854 \t0.015981687\n",
      "9100\t0.0380541\t0.008948731 \t0.02910537 \t0.04174497 \t0.017321492\n",
      "9200\t0.028421406\t0.005786128 \t0.022635277 \t0.041550454 \t0.017187104\n",
      "9300\t0.03361034\t0.006299269 \t0.027311072 \t0.041950863 \t0.016769923\n",
      "9400\t0.020882588\t0.003919845 \t0.016962742 \t0.041735362 \t0.015891047\n",
      "9500\t0.033203673\t0.0072128796 \t0.025990792 \t0.041623823 \t0.016199537\n",
      "9600\t0.022045558\t0.004207317 \t0.017838242 \t0.041556828 \t0.014796195\n",
      "9700\t0.024877204\t0.004691309 \t0.020185895 \t0.041804135 \t0.015498747\n",
      "9800\t0.032405104\t0.007594871 \t0.024810232 \t0.04134185 \t0.0169075\n",
      "9900\t0.023228008\t0.0046821623 \t0.018545846 \t0.041738223 \t0.013424824\n",
      "10000\t0.019773318\t0.0031821155 \t0.016591202 \t0.041356698 \t0.01688333\n",
      "10100\t0.02782214\t0.0048498893 \t0.02297225 \t0.04204645 \t0.016142733\n",
      "10200\t0.017061055\t0.0030300021 \t0.0140310535 \t0.04172887 \t0.015774844\n",
      "10300\t0.035058215\t0.006949203 \t0.02810901 \t0.04081993 \t0.016520541\n",
      "10400\t0.026507143\t0.0050679753 \t0.021439169 \t0.04168548 \t0.0141686555\n",
      "10500\t0.025774304\t0.0045733955 \t0.021200908 \t0.041389626 \t0.015323496\n",
      "10600\t0.03205143\t0.0071875537 \t0.024863875 \t0.041759063 \t0.014605899\n",
      "10700\t0.01911072\t0.0035333817 \t0.01557734 \t0.04123829 \t0.014009755\n",
      "10800\t0.045741916\t0.01131974 \t0.034422178 \t0.041482072 \t0.0131775625\n",
      "10900\t0.045140535\t0.010976212 \t0.034164324 \t0.041318458 \t0.015253408\n",
      "11000\t0.022074956\t0.0044052866 \t0.01766967 \t0.04166396 \t0.014393321\n",
      "11100\t0.020828392\t0.004507114 \t0.01632128 \t0.0414433 \t0.015313482\n",
      "11200\t0.017503731\t0.0030766174 \t0.014427114 \t0.04143331 \t0.014483544\n",
      "11300\t0.025832646\t0.0048786653 \t0.02095398 \t0.041270908 \t0.01449075\n",
      "11400\t0.030747654\t0.006735557 \t0.024012096 \t0.0417659 \t0.013007907\n",
      "11500\t0.019871738\t0.0031659587 \t0.01670578 \t0.04121597 \t0.015037546\n",
      "11600\t0.031591434\t0.006436721 \t0.025154714 \t0.04131021 \t0.015113892\n",
      "11700\t0.03293545\t0.0075820005 \t0.02535345 \t0.04181167 \t0.013608648\n",
      "11800\t0.01957007\t0.0030403237 \t0.016529746 \t0.042042978 \t0.014606779\n",
      "11900\t0.016037975\t0.0026039314 \t0.013434042 \t0.04173542 \t0.013581817\n",
      "12000\t0.017979551\t0.0033913767 \t0.014588174 \t0.041725483 \t0.01296924\n",
      "12100\t0.018973842\t0.0032037694 \t0.015770072 \t0.041229878 \t0.012994001\n",
      "12200\t0.022552028\t0.0045128153 \t0.018039213 \t0.041706007 \t0.014301808\n",
      "12300\t0.022276161\t0.0037734553 \t0.018502707 \t0.04123417 \t0.01368134\n",
      "12400\t0.022481596\t0.004893601 \t0.017587995 \t0.041820187 \t0.013017814\n",
      "12500\t0.02623957\t0.005266515 \t0.020973055 \t0.04136359 \t0.014112601\n",
      "12600\t0.023814883\t0.0052046105 \t0.018610273 \t0.04130253 \t0.012713294\n",
      "12700\t0.030747477\t0.00739094 \t0.023356536 \t0.04143134 \t0.013001439\n",
      "12800\t0.016314592\t0.0024796927 \t0.0138349 \t0.041397467 \t0.013812643\n",
      "12900\t0.023942556\t0.00412488 \t0.019817676 \t0.04201227 \t0.013985831\n",
      "13000\t0.03300272\t0.0068916925 \t0.026111025 \t0.040759876 \t0.014167025\n",
      "13100\t0.017328769\t0.003286385 \t0.014042384 \t0.041909423 \t0.01178195\n",
      "13200\t0.028942667\t0.004473076 \t0.02446959 \t0.042210262 \t0.013417792\n",
      "13300\t0.029382514\t0.0057723285 \t0.023610186 \t0.040914673 \t0.012432258\n",
      "13400\t0.03224318\t0.007772397 \t0.024470786 \t0.04169263 \t0.012754361\n",
      "13500\t0.025298037\t0.0060183024 \t0.019279735 \t0.04145834 \t0.012975454\n",
      "13600\t0.022185043\t0.004910472 \t0.01727457 \t0.041659225 \t0.012427223\n",
      "13700\t0.016579801\t0.0031783704 \t0.01340143 \t0.041434832 \t0.012688019\n",
      "13800\t0.037174672\t0.009382263 \t0.02779241 \t0.041445788 \t0.013121422\n",
      "13900\t0.0281307\t0.0064349547 \t0.021695746 \t0.041609097 \t0.011765072\n",
      "14000\t0.026797011\t0.0065676845 \t0.020229327 \t0.041432213 \t0.0118051125\n",
      "14100\t0.01503583\t0.0027676404 \t0.01226819 \t0.041610792 \t0.011495759\n",
      "14200\t0.0175667\t0.003639674 \t0.013927026 \t0.04177933 \t0.01308985\n",
      "14300\t0.01576716\t0.0024715718 \t0.013295589 \t0.04142958 \t0.012284087\n",
      "14400\t0.033752352\t0.007851128 \t0.025901226 \t0.042160153 \t0.014213643\n",
      "14500\t0.020959623\t0.004405472 \t0.01655415 \t0.041737154 \t0.013465118\n",
      "14600\t0.027705807\t0.006464379 \t0.021241428 \t0.04164525 \t0.012069695\n",
      "14700\t0.017975984\t0.003651895 \t0.014324089 \t0.041424908 \t0.011759576\n",
      "14800\t0.021687994\t0.0049082986 \t0.016779695 \t0.041638006 \t0.01224866\n",
      "14900\t0.022347758\t0.004284308 \t0.01806345 \t0.04175159 \t0.011372678\n",
      "15000\t0.021311667\t0.0047134 \t0.016598267 \t0.04188782 \t0.010435038\n",
      "15100\t0.023242895\t0.004507083 \t0.018735811 \t0.041371252 \t0.0117915105\n",
      "15200\t0.016254652\t0.0031394863 \t0.013115166 \t0.041626506 \t0.011339457\n",
      "15300\t0.022800783\t0.0032032111 \t0.019597571 \t0.042011786 \t0.012262634\n",
      "15400\t0.017641375\t0.0034690718 \t0.0141723035 \t0.041488536 \t0.011749303\n",
      "15500\t0.025696317\t0.0059084785 \t0.019787839 \t0.04124604 \t0.012239395\n",
      "15600\t0.017525472\t0.0038065377 \t0.013718935 \t0.041407708 \t0.010910296\n",
      "15700\t0.020791715\t0.004419287 \t0.016372427 \t0.041425098 \t0.011764884\n",
      "15800\t0.01974022\t0.0044834684 \t0.015256752 \t0.041347172 \t0.0115145715\n",
      "15900\t0.019989356\t0.003290641 \t0.016698716 \t0.041179817 \t0.011417133\n",
      "16000\t0.02443842\t0.0056145894 \t0.01882383 \t0.041888166 \t0.01118669\n",
      "16100\t0.018100692\t0.0037801513 \t0.014320541 \t0.041718557 \t0.011268\n",
      "16200\t0.02268581\t0.0046973038 \t0.017988507 \t0.04134015 \t0.011177362\n",
      "16300\t0.022435129\t0.0052355337 \t0.017199595 \t0.041582286 \t0.010005444\n",
      "16400\t0.022319762\t0.0052131936 \t0.017106568 \t0.041298047 \t0.010205118\n",
      "16500\t0.025037797\t0.0059148953 \t0.019122902 \t0.0413517 \t0.011513414\n",
      "16600\t0.020534419\t0.0036579596 \t0.01687646 \t0.041804165 \t0.011292404\n",
      "16700\t0.0257293\t0.005913324 \t0.019815976 \t0.04160589 \t0.011227324\n",
      "16800\t0.015274901\t0.0027847576 \t0.012490143 \t0.041616783 \t0.011351315\n",
      "16900\t0.013365086\t0.0017126447 \t0.011652442 \t0.041917887 \t0.011236984\n",
      "17000\t0.035050683\t0.0090233125 \t0.026027368 \t0.041666836 \t0.0112934075\n",
      "17100\t0.020615587\t0.0043623038 \t0.016253283 \t0.041440457 \t0.012887697\n",
      "17200\t0.018575666\t0.004116407 \t0.014459259 \t0.041557502 \t0.010959208\n",
      "17300\t0.020180913\t0.0040518227 \t0.01612909 \t0.04129197 \t0.011473643\n",
      "17400\t0.013645539\t0.0024518152 \t0.011193724 \t0.041822508 \t0.009905142\n",
      "17500\t0.02349749\t0.004690619 \t0.018806871 \t0.041688755 \t0.011744286\n",
      "17600\t0.018011138\t0.0028525565 \t0.015158582 \t0.04109623 \t0.01089519\n",
      "17700\t0.026487626\t0.0063737333 \t0.020113893 \t0.041755084 \t0.0110059185\n",
      "17800\t0.019166756\t0.004086994 \t0.015079763 \t0.041531153 \t0.01086019\n",
      "17900\t0.019753797\t0.0037914014 \t0.015962396 \t0.0414081 \t0.012082628\n",
      "18000\t0.018092187\t0.003864718 \t0.014227469 \t0.041335274 \t0.012837646\n",
      "18100\t0.016489482\t0.0033582544 \t0.013131227 \t0.041079752 \t0.011006941\n",
      "18200\t0.014551632\t0.0024729478 \t0.012078685 \t0.041499738 \t0.010317611\n",
      "18300\t0.030587532\t0.0053406702 \t0.025246862 \t0.042303264 \t0.01119437\n",
      "18400\t0.019505907\t0.004240122 \t0.015265785 \t0.041423023 \t0.010380461\n",
      "18500\t0.015007258\t0.002960571 \t0.012046687 \t0.041297443 \t0.011403217\n",
      "18600\t0.020618828\t0.0039060323 \t0.016712796 \t0.041201465 \t0.011045597\n",
      "18700\t0.027766958\t0.00689124 \t0.020875718 \t0.041836023 \t0.010322766\n",
      "18800\t0.015551833\t0.0035450566 \t0.012006776 \t0.041537378 \t0.01036174\n",
      "18900\t0.027179753\t0.0065770564 \t0.020602698 \t0.041534748 \t0.010780466\n",
      "19000\t0.026105816\t0.0056401063 \t0.02046571 \t0.041908942 \t0.010765336\n",
      "19100\t0.0404966\t0.009941266 \t0.030555334 \t0.04174682 \t0.010207766\n",
      "19200\t0.019191418\t0.0042673573 \t0.014924061 \t0.041614216 \t0.009886439\n",
      "19300\t0.025241889\t0.0058698403 \t0.01937205 \t0.04190365 \t0.012308376\n",
      "19400\t0.017625008\t0.003949285 \t0.013675723 \t0.041440357 \t0.010700719\n",
      "19500\t0.01776573\t0.00312782 \t0.014637911 \t0.04125623 \t0.011199569\n",
      "19600\t0.015011721\t0.0029372703 \t0.012074451 \t0.041526392 \t0.011079056\n",
      "19700\t0.014951387\t0.0030369253 \t0.011914462 \t0.04185672 \t0.0101093305\n",
      "19800\t0.026203375\t0.006264482 \t0.019938894 \t0.041607793 \t0.012046632\n",
      "19900\t0.021217693\t0.0052516554 \t0.015966037 \t0.041326374 \t0.008938994\n",
      "20000\t0.025986182\t0.006523133 \t0.01946305 \t0.041599892 \t0.01143616\n",
      "Time :1923.7648136615753\n"
     ]
    }
   ],
   "source": [
    "# Parameter\n",
    "batch_size = 100\n",
    "max_epoch  = 2000\n",
    "iteration = data_num / batch_size * max_epoch\n",
    "print(\"iter:\", iteration)\n",
    "snapshot = 100\n",
    "num_step = int(data_len/2)\n",
    "input_dim = int(data_len)\n",
    "\n",
    "# Training\n",
    "start_t = time.time()\n",
    "model = train(train_data, max_epoch, batch_size, snapshot)\n",
    "process_time = time.time() - start_t\n",
    "print('Time :{}'.format(process_time))"
   ]
  },
  {
   "cell_type": "markdown",
   "metadata": {},
   "source": [
    "# 推論"
   ]
  },
  {
   "cell_type": "code",
   "execution_count": 17,
   "metadata": {},
   "outputs": [],
   "source": [
    "def predict(model, x_test, plot=0, xlim=[-5,5],ylim=[-5,5]):\n",
    "    x_data = Variable(x_test)\n",
    "    y = model(x_data)\n",
    "    car = CartLayer(len(y))\n",
    "    predpos = calc_car_pos(car, y)\n",
    "    truepos = Variable(x_test)\n",
    "    loss,msg = loss_function(y, x_data)\n",
    "    print(\"loss: {}\".format(loss))\n",
    "    print(\"v,w: \\n  {}\".format(y))\n",
    "    print(\"path(x-y-th): \\n  {}\".format(car.path))\n",
    "    print(\"truth(x-y-th): \\n  {}\".format(x_test))\n",
    "    if(plot>0):\n",
    "        plot_path(car.path.data, np.reshape(x_data.data, (int(len(x_data[0])/2), 2)),xlim,ylim)"
   ]
  },
  {
   "cell_type": "code",
   "execution_count": 18,
   "metadata": {},
   "outputs": [
    {
     "name": "stdout",
     "output_type": "stream",
     "text": [
      "(1, 18)\n"
     ]
    }
   ],
   "source": [
    "l = 10\n",
    "path = make_arc_path_2(l,0)\n",
    "path_es, idx_list = get_evenly_spaced_points(path, 0.1)\n",
    "via_path = path_es[0:data_len/2]\n",
    "sample_x_test = np.array([via_path.flatten()],dtype=np.float32)\n",
    "print(sample_x_test.shape)"
   ]
  },
  {
   "cell_type": "code",
   "execution_count": 19,
   "metadata": {},
   "outputs": [
    {
     "name": "stdout",
     "output_type": "stream",
     "text": [
      "loss: variable(0.01836419)\n",
      "v,w: \n",
      "  variable([[[ 0.20132367 -0.00241336]\n",
      "           [ 0.20427877  0.00208915]\n",
      "           [ 0.20523565  0.00037163]\n",
      "           [ 0.20387366  0.00781819]\n",
      "           [ 0.2059773  -0.01132078]\n",
      "           [ 0.20312735  0.00957516]\n",
      "           [ 0.20466764 -0.00856909]\n",
      "           [ 0.2039403   0.01030232]\n",
      "           [ 0.2057623  -0.00531976]]])\n",
      "path(x-y-th): \n",
      "  variable([[[ 0.0000000e+00  0.0000000e+00  0.0000000e+00]\n",
      "           [ 2.0132309e-01 -4.8586554e-04 -2.4133576e-03]\n",
      "           [ 4.0560186e-01 -5.5209332e-04 -3.2420293e-04]\n",
      "           [ 6.1083752e-01 -5.4235896e-04  4.7430221e-05]\n",
      "           [ 8.1470490e-01  1.0612169e-03  7.8656180e-03]\n",
      "           [ 1.0206810e+00  3.4953380e-04 -3.4551602e-03]\n",
      "           [ 1.2238046e+00  1.5926661e-03  6.1200038e-03]\n",
      "           [ 1.4284716e+00  1.0914170e-03 -2.4490906e-03]\n",
      "           [ 1.6324055e+00  2.6929907e-03  7.8532305e-03]\n",
      "           [ 1.8381672e+00  3.2142834e-03  2.5334731e-03]]])\n",
      "truth(x-y-th): \n",
      "  [[0.20408164 0.         0.40816328 0.         0.6122449  0.\n",
      "  0.81632656 0.         1.0204082  0.         1.2244898  0.\n",
      "  1.4285715  0.         1.6326531  0.         1.8367347  0.        ]]\n"
     ]
    },
    {
     "data": {
      "image/png": "[encoded data removed]",
      "text/plain": [
       "<Figure size 432x288 with 1 Axes>"
      ]
     },
     "metadata": {},
     "output_type": "display_data"
    }
   ],
   "source": [
    "predict(model, sample_x_test, plot=1, xlim=[-2,2], ylim=[-2,2])"
   ]
  },
  {
   "cell_type": "markdown",
   "metadata": {},
   "source": [
    "# 重みの保存と読み込み"
   ]
  },
  {
   "cell_type": "code",
   "execution_count": 20,
   "metadata": {},
   "outputs": [],
   "source": [
    "# rename model\n",
    "import os\n",
    "import datetime\n",
    "\n",
    "def gen_filename():\n",
    "    name_date = '{0:%Y%m%d%H%M%S}'.format(datetime.datetime.now())\n",
    "    name_epoch = '{}epoch'.format(max_epoch)\n",
    "    name_batch = '{}batch'.format(batch_size)\n",
    "    name_datasize  = '{}data'.format(data_num)\n",
    "    name_num_step = '{}step'.format(num_step)\n",
    "    name_space = '{}mm'.format(space)\n",
    "    model_name = 'cart' + name_num_step + name_space + '_' + name_date + '_'   + name_datasize + name_batch + name_epoch + '.model'\n",
    "    print(model_name)\n",
    "    return model_name"
   ]
  },
  {
   "cell_type": "code",
   "execution_count": 21,
   "metadata": {},
   "outputs": [],
   "source": [
    "def save_pretrained(model, name):\n",
    "    serializers.save_npz(name, model)\n",
    "\n",
    "def load_pretrained(name,dim,step):\n",
    "    load_model = ModelPathGenerator(dim, step)\n",
    "    serializers.load_npz(name, load_model)\n",
    "    return load_model"
   ]
  },
  {
   "cell_type": "code",
   "execution_count": 22,
   "metadata": {},
   "outputs": [
    {
     "name": "stdout",
     "output_type": "stream",
     "text": [
      "cart9step10mm_20190625074335_1000data100batch2000epoch.model\n"
     ]
    },
    {
     "data": {
      "text/plain": [
       "'cart9step10mm_20190625074335_1000data100batch2000epoch.model'"
      ]
     },
     "execution_count": 22,
     "metadata": {},
     "output_type": "execute_result"
    }
   ],
   "source": [
    "# save & copy\n",
    "import shutil\n",
    "save_pretrained(model, 'tmp.model')\n",
    "shutil.copyfile('tmp.model', gen_filename())"
   ]
  },
  {
   "cell_type": "code",
   "execution_count": 23,
   "metadata": {},
   "outputs": [],
   "source": [
    "# Parameter\n",
    "batch_size = 10\n",
    "max_epoch  = 30\n",
    "snapshot = 100\n",
    "num_step = int(data_len/2)\n",
    "input_dim = int(data_len)\n",
    "# load\n",
    "load_model = load_pretrained('tmp.model',input_dim, num_step)\n",
    "if gpu_index >=0:\n",
    "    load_model.to_gpu()"
   ]
  },
  {
   "cell_type": "code",
   "execution_count": 24,
   "metadata": {},
   "outputs": [
    {
     "name": "stdout",
     "output_type": "stream",
     "text": [
      "(1, 18)\n",
      "loss: variable(0.02424207)\n",
      "v,w: \n",
      "  variable([[[ 0.20188752 -0.04323096]\n",
      "           [ 0.20098993 -0.09172361]\n",
      "           [ 0.20678864 -0.09814428]\n",
      "           [ 0.2048913  -0.05805561]\n",
      "           [ 0.20343748 -0.11689841]\n",
      "           [ 0.20508812 -0.07816176]\n",
      "           [ 0.20289096 -0.0968425 ]\n",
      "           [ 0.20419009 -0.08849759]\n",
      "           [ 0.20471792 -0.08281739]]])\n",
      "path(x-y-th): \n",
      "  variable([[[ 0.          0.          0.        ]\n",
      "           [ 0.2016989  -0.00872507 -0.04323096]\n",
      "           [ 0.40086132 -0.03576732 -0.13495457]\n",
      "           [ 0.6020574  -0.0835342  -0.23309885]\n",
      "           [ 0.7983254  -0.14234994 -0.29115447]\n",
      "           [ 0.98505974 -0.22307858 -0.4080529 ]\n",
      "           [ 1.1663798  -0.31891268 -0.48621464]\n",
      "           [ 1.3357499  -0.4306201  -0.58305717]\n",
      "           [ 1.4956012  -0.557668   -0.67155474]\n",
      "           [ 1.6447794  -0.6978652  -0.7543721 ]]])\n",
      "truth(x-y-th): \n",
      "  [[ 0.2038096  -0.00912122  0.40598965 -0.03641194  0.60492355 -0.08165397\n",
      "   0.7990208  -0.14448558  0.98672944 -0.22440436  1.1665487  -0.32077137\n",
      "   1.3370408  -0.43281606  1.4968424  -0.5596426   1.6446761  -0.7002369 ]]\n"
     ]
    },
    {
     "data": {
      "image/png": "[encoded data removed]",
      "text/plain": [
       "<Figure size 432x288 with 1 Axes>"
      ]
     },
     "metadata": {},
     "output_type": "display_data"
    }
   ],
   "source": [
    "l = 10\n",
    "path = make_arc_path_2(l,-np.random.rand()*np.pi/3)\n",
    "path_es, idx_list = get_evenly_spaced_points(path, 0.1)\n",
    "via_path = path_es[0:data_len/2]\n",
    "sample_x_test = np.array([via_path.flatten()],dtype=np.float32)\n",
    "print(sample_x_test.shape)\n",
    "predict(load_model, sample_x_test, plot=1, xlim=[-2,2], ylim=[-2,2])"
   ]
  },
  {
   "cell_type": "markdown",
   "metadata": {},
   "source": [
    "# 分散(未完成)"
   ]
  },
  {
   "cell_type": "code",
   "execution_count": 25,
   "metadata": {
    "scrolled": false
   },
   "outputs": [
    {
     "data": {
      "text/plain": [
       "\"\\nsample_x = [1,2,3,4]\\nsample_y = [1,4,9,16]\\nsample_error = [1,4,9,16]\\ndef plot_error(x,y,err):\\n    plt.plot(x,y)\\n    plt.errorbar(x,y,yerr=err,ecolor='r',color='b',ls='solid',lw=2,marker='o')\\n    plt.show()\\n\\n# plot_error(sample_x,sample_y,sample_error)\\n\""
      ]
     },
     "execution_count": 25,
     "metadata": {},
     "output_type": "execute_result"
    }
   ],
   "source": [
    "'''\n",
    "sample_x = [1,2,3,4]\n",
    "sample_y = [1,4,9,16]\n",
    "sample_error = [1,4,9,16]\n",
    "def plot_error(x,y,err):\n",
    "    plt.plot(x,y)\n",
    "    plt.errorbar(x,y,yerr=err,ecolor='r',color='b',ls='solid',lw=2,marker='o')\n",
    "    plt.show()\n",
    "\n",
    "# plot_error(sample_x,sample_y,sample_error)\n",
    "'''"
   ]
  },
  {
   "cell_type": "markdown",
   "metadata": {},
   "source": [
    "## 議事録\n",
    "---"
   ]
  },
  {
   "cell_type": "markdown",
   "metadata": {},
   "source": [
    "### 2019/02/19 オフィスアワー\n",
    "\n",
    "次回まで\n",
    "- PID制御と比較できるように\n",
    "- 4ステップ程度の短いステップで追従\n",
    "- 入江さんが作った関数を使って学習できるように  \n",
    "  - 同じ結果が再現できるか確認\n",
    "  - cpu用の関数になっているためgpu用に"
   ]
  },
  {
   "cell_type": "markdown",
   "metadata": {},
   "source": [
    "### 2019/01/29 オフィスアワー\n",
    "\n",
    "* 損失の計算確認\n",
    "  - Reshapeが間違い\n",
    "  - 速度・角速度計算の入力に間違い（参照axisがおかしかった）\n",
    "* 途中経路の入力（損失の計算方法を考える\n",
    "  - 経由点（入力座標）を3点に変更\n",
    "  - 9ステップ先まで予測"
   ]
  },
  {
   "cell_type": "markdown",
   "metadata": {},
   "source": [
    "### 2019/01/22 オフィスアワー \n",
    "\n",
    "* 次元ごとにforwordして結果を比較 \n",
    "* lossを貯めて擬似的にmini-batch処理\n",
    "* chainer SLAM 藤本さん qiita の記事?\n",
    "* 同次変換行列ができれば...\n",
    "* バッチ処理は先送りするのも検討\n",
    "* 経路の途中の計算を諦めて評価値だけ天から降ってくるものとして扱う案\n",
    "* NNで最適制御（普通の制御よりは複雑（非線形項））\n",
    "* 前後左右の加減速（ドローンの風で安定しないなど）\n",
    "\n",
    "#### 次回までの課題\n",
    "* 180度を跨がない\n",
    "  - -90～90度の範囲で学習\n",
    "  \n",
    "* tanh (-1 ~ 1)やシグモイド(正)で無茶な加減速を抑制\n",
    "  - tanh層を加えた\n",
    "  - 最大速度　　:１\n",
    "  - 最大角速度　:\n",
    "\n",
    "* 学習回数を増やして結果を比較\n",
    "  - 今まで1000データ 5エポック\n",
    "  - 今回は1000データ 50エポック\n",
    "\n",
    "* (できたらバッチ処理)\n",
    "  - 次元ごとにforwordして結果を比較した\n",
    "  - lossが怪しい"
   ]
  },
  {
   "cell_type": "markdown",
   "metadata": {},
   "source": [
    "### 2018/11/27\n",
    "* バッチで処理 →　学習回数を増やしてデータを取る\n",
    "* ネットワークを変える"
   ]
  },
  {
   "cell_type": "markdown",
   "metadata": {},
   "source": [
    "### 2018/10/24　オフィスアワー\n",
    "\n",
    "---\n",
    "問題点  \n",
    "* **（0,0）で動かなければ損失が少ないと学習してしまう**  \n",
    "    ・極座標系で距離を一定に学習する\n",
    "    \n",
    "    \n",
    "* **optimizers.update() **  \n",
    "    ・勾配を手動計算する場合は引数不要・勾配リセットも必要  \n",
    "    ・そうでない場合はloss_functionを引数に渡す\n",
    "\n",
    "その他  \n",
    "* **Variable配列の型が違って気持ち悪いので行列演算にしたい**"
   ]
  }
 ],
 "metadata": {
  "kernelspec": {
   "display_name": "Python 3",
   "language": "python",
   "name": "python3"
  },
  "language_info": {
   "codemirror_mode": {
    "name": "ipython",
    "version": 3
   },
   "file_extension": ".py",
   "mimetype": "text/x-python",
   "name": "python",
   "nbconvert_exporter": "python",
   "pygments_lexer": "ipython3",
   "version": "3.5.3"
  }
 },
 "nbformat": 4,
 "nbformat_minor": 2
}
