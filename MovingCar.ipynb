{
 "cells": [
  {
   "cell_type": "code",
   "execution_count": 1,
   "metadata": {},
   "outputs": [],
   "source": [
    "from chainer import Link, Chain, ChainList, Variable, optimizers, iterators\n",
    "import chainer.functions as F\n",
    "import chainer.links as L\n",
    "from chainer import cuda\n",
    "from chainer import initializers\n",
    "from chainer import serializers\n",
    "\n",
    "import time\n",
    "import matplotlib.pyplot as plt\n",
    "%matplotlib inline\n",
    "import pandas as pd\n",
    "import numpy\n",
    "import cupy"
   ]
  },
  {
   "cell_type": "code",
   "execution_count": 2,
   "metadata": {},
   "outputs": [],
   "source": [
    "# GPU settings\n",
    "gpu_index = 0\n",
    "if gpu_index >= 0:\n",
    "    cuda.check_cuda_available()\n",
    "    np = cuda.cupy\n",
    "else:\n",
    "    np = numpy"
   ]
  },
  {
   "cell_type": "markdown",
   "metadata": {},
   "source": [
    "# 車輪型ロボットモデル（対向2輪型）"
   ]
  },
  {
   "cell_type": "code",
   "execution_count": 3,
   "metadata": {},
   "outputs": [],
   "source": [
    "class CartLayer:\n",
    "    def __init__(self,batchsize=1):\n",
    "        self.cart_num = batchsize\n",
    "        self.pos = Variable(np.zeros( (batchsize,3), dtype=np.float32))\n",
    "        self.path = Variable(np.zeros( (batchsize,1,3), dtype=np.float32))\n",
    "\n",
    "    def move(self,param):\n",
    "        if len(param) == self.cart_num:\n",
    "            dx = F.reshape(param[:,0] * F.cos(self.pos[:,2] + param[:,1]), (self.cart_num,1))\n",
    "            dy = F.reshape(param[:,0] * F.sin(self.pos[:,2] + param[:,1]), (self.cart_num,1))\n",
    "            dth = F.reshape(param[:,1], (self.cart_num,1))\n",
    "            D = F.concat((dx,dy),axis=1)\n",
    "            D = F.concat((D,dth),axis=1)\n",
    "            self.pos = self.pos + D\n",
    "            self.path = F.concat((self.path, F.reshape(self.pos,(self.cart_num,1,3))),axis=1)\n",
    "            return self.pos\n",
    "        else:\n",
    "            print(len(param))\n",
    "            return -1\n",
    "\n",
    "# 連続で動く\n",
    "def calc_car_pos(cart_layer, y):\n",
    "    for step in range(len(y[0])):\n",
    "        cart_layer.move(y[:,step])\n",
    "    # print car.path.shape  # (4step, 50batch, 3x-y-th)\n",
    "    # print car.pos.data.shape  # (50batch, 3x-y-th)\n",
    "    return cart_layer.pos"
   ]
  },
  {
   "cell_type": "markdown",
   "metadata": {},
   "source": [
    "# 経路の描画"
   ]
  },
  {
   "cell_type": "code",
   "execution_count": 4,
   "metadata": {},
   "outputs": [],
   "source": [
    "def plot_path(cart_path,target,xlim=[-5,5],ylim=[-5,5]):\n",
    "    path = cart_path[0,:,:]\n",
    "    if gpu_index >= 0:\n",
    "        path = np.asnumpy(path)\n",
    "        t = np.asnumpy(target)\n",
    "    for i in range(1,len(path)):\n",
    "        plt.quiver(path[i-1,0],path[i-1,1]\n",
    "                   , path[i,0]-path[i-1,0],path[i,1]-path[i-1,1]\n",
    "                   , scale_units='xy', angles='xy', scale=1,color=\"blue\")\n",
    "    plt.scatter(t[:,0],t[:,1],c=\"red\",s=80,marker=\"o\")\n",
    "    num_step = len(target)\n",
    "    plt.scatter(t[num_step-1,0],t[num_step-1,1],c=\"yellow\",s=500,marker=\"*\")\n",
    "    plt.xlabel(\"x\")\n",
    "    plt.ylabel(\"y\")\n",
    "    plt.axis('scaled')\n",
    "    plt.xlim(xlim[0],xlim[1])\n",
    "    plt.ylim(ylim[0],ylim[1])\n",
    "    plt.grid()\n",
    "    plt.show()"
   ]
  },
  {
   "cell_type": "code",
   "execution_count": 5,
   "metadata": {
    "scrolled": true
   },
   "outputs": [
    {
     "data": {
      "image/png": "[encoded data removed]",
      "text/plain": [
       "<Figure size 432x288 with 1 Axes>"
      ]
     },
     "metadata": {},
     "output_type": "display_data"
    },
    {
     "name": "stdout",
     "output_type": "stream",
     "text": [
      "[[[0. 0. 0.]\n",
      "  [1. 0. 0.]\n",
      "  [2. 0. 0.]\n",
      "  [3. 0. 0.]]]\n"
     ]
    },
    {
     "data": {
      "image/png": "[encoded data removed]",
      "text/plain": [
       "<Figure size 432x288 with 1 Axes>"
      ]
     },
     "metadata": {},
     "output_type": "display_data"
    },
    {
     "name": "stdout",
     "output_type": "stream",
     "text": [
      "[[[0. 0. 0.]\n",
      "  [1. 0. 0.]\n",
      "  [2. 0. 0.]\n",
      "  [3. 0. 0.]]]\n"
     ]
    }
   ],
   "source": [
    "sample_v_arr = np.array([1.0,1.0,1.0],dtype=np.float32)\n",
    "sample_w_arr = np.array([0.0,0.0,0.0],dtype=np.float32)\n",
    "sample_w_arr = sample_w_arr * np.pi/180\n",
    "sample_y_data = np.vstack((sample_v_arr,sample_w_arr)).T\n",
    "sample_yV = Variable(np.reshape(sample_y_data,(1,3,2) )) \n",
    "sample_cart = CartLayer()\n",
    "pos = calc_car_pos(sample_cart,sample_yV)\n",
    "plot_path(sample_cart.path.data,np.array([[1,0],[2,0],[3,0]]) )\n",
    "print(sample_cart.path.data)\n",
    "sample_v_arr = np.array([1.0,1.0,1.0],dtype=np.float32)\n",
    "sample_w_arr = np.array([0.0,0.0,0.0],dtype=np.float32)\n",
    "sample_w_arr = sample_w_arr * np.pi/180\n",
    "sample_y_data = np.vstack((sample_v_arr,sample_w_arr)).T\n",
    "sample_yV = Variable(np.reshape(sample_y_data,(1,3,2) )) \n",
    "sample_cart = CartLayer()\n",
    "pos = calc_car_pos(sample_cart,sample_yV)\n",
    "plot_path(sample_cart.path.data,np.array([[0,0],[1,1],[2,2]]) )\n",
    "print(sample_cart.path.data)\n"
   ]
  },
  {
   "cell_type": "markdown",
   "metadata": {},
   "source": [
    "# ネットワーク"
   ]
  },
  {
   "cell_type": "code",
   "execution_count": 6,
   "metadata": {},
   "outputs": [],
   "source": [
    "class ModelPathGenerator(Chain):\n",
    "    def __init__(self, input_dimension, num_step):\n",
    "        self.input_dim = input_dimension\n",
    "        self.num_step = num_step\n",
    "        initializer = initializers.HeNormal()\n",
    "        super(ModelPathGenerator, self).__init__(\n",
    "            l1=L.Linear(self.input_dim, 15, initialW=initializer),\n",
    "            l2=L.Linear(15, 8, initialW=initializer),\n",
    "            l3=L.Linear(8, self.num_step*2, initialW=initializer),\n",
    "        )\n",
    "    def __call__(self, x):\n",
    "        h1 = F.relu(self.l1(x))\n",
    "        h2 = F.relu(self.l2(h1))\n",
    "        h3 = self.l3(h2)\n",
    "        h4 = F.tanh(h3)\n",
    "        o = F.reshape(h4,(len(x),self.num_step,2))\n",
    "        return o\n",
    "\n",
    "    '''\n",
    "    def loss_function():\n",
    "        path\n",
    "    \n",
    "    def get_vw(self,output):\n",
    "        v = output[0,0:3]\n",
    "        w = output[0,3:6]\n",
    "        return v,w\n",
    "    '''"
   ]
  },
  {
   "cell_type": "code",
   "execution_count": 7,
   "metadata": {
    "scrolled": false
   },
   "outputs": [
    {
     "name": "stdout",
     "output_type": "stream",
     "text": [
      "[[3. 0.]]\n",
      "variable([[[-0.28316996 -0.6575584 ]\n",
      "           [ 0.5656091  -0.14712863]\n",
      "           [-0.67552936  0.82001305]]])\n"
     ]
    }
   ],
   "source": [
    "# sample forward\n",
    "sample_model = ModelPathGenerator(2,3)\n",
    "if gpu_index >=0:\n",
    "    sample_model.to_gpu()\n",
    "sample_x_data = np.array([[3,0]],dtype=np.float32)\n",
    "sample_x = Variable(sample_x_data)\n",
    "print(sample_x_data)\n",
    "sample_y = sample_model(sample_x_data)\n",
    "print(sample_y)"
   ]
  },
  {
   "cell_type": "markdown",
   "metadata": {},
   "source": [
    "# 訓練データの作成\n",
    "\n",
    "* ある関数から経由点のcsvファイルを生成\n",
    "* csvファイルから経路を生成"
   ]
  },
  {
   "cell_type": "code",
   "execution_count": 33,
   "metadata": {},
   "outputs": [],
   "source": [
    "def plot_f(X,Y,color=\"black\"):\n",
    "    if gpu_index >= 0:\n",
    "        x = np.asnumpy(X)\n",
    "        y = np.asnumpy(Y)\n",
    "    plt.scatter(x,y,c=\"gray\",edgecolor=\"black\",s=3,marker=\"o\")\n",
    "\n",
    "# ある関数を経路として生成\n",
    "def make_function_path(f,x,plot=0):\n",
    "    X = x\n",
    "    Y = f(X)\n",
    "    path = np.stack((X,Y),axis=1)\n",
    "    if(plot):\n",
    "        plot_f(X,Y)\n",
    "    return path\n",
    "\n",
    "# 長さと半径から曲率一定の経路を生成\n",
    "def make_arc_path(l,r,plot=0):\n",
    "    theta = np.linspace(-np.pi/2, -np.pi/2+l/r)\n",
    "    X = r * np.cos(theta)\n",
    "    Y = r * np.sin(theta) + r\n",
    "    path = np.stack((X,Y),axis=1)\n",
    "    if(plot):\n",
    "        plot_f(X,Y)\n",
    "        plt.axis('scaled')\n",
    "        # plt.gca().set_aspect('equal', adjustable='box')\n",
    "    return path\n",
    "\n",
    "def make_arc_path_2(l,alpha,s=1,plot=0):\n",
    "    if alpha==0:\n",
    "        X = np.linspace(0, l)\n",
    "        Y = np.zeros(len(X))\n",
    "        path = np.stack((X,Y),axis=1)\n",
    "    else:\n",
    "        r = s/alpha # 曲率\n",
    "        theta = np.linspace(-np.pi/2, -np.pi/2+l/r)\n",
    "        X = r * np.cos(theta)\n",
    "        Y = r * np.sin(theta) + r\n",
    "        path = np.stack((X,Y),axis=1)\n",
    "    if(plot):\n",
    "        plot_f(X,Y,color=\"gray\")\n",
    "        plt.axis('scaled')\n",
    "        # plt.gca().set_aspect('equal', adjustable='box')\n",
    "    return path\n",
    "\n",
    "# 経路を回転\n",
    "def rotate_path(path, rad,plot=0):\n",
    "    theta = rad\n",
    "    X = path[:,1]*np.cos(theta) - path[:,0]*np.sin(theta)\n",
    "    Y = path[:,1]*np.sin(theta) + path[:,0]*np.cos(theta)\n",
    "    ret = np.stack((X,Y),axis=1)\n",
    "    if(plot):\n",
    "        plot_f(X,Y,color=\"gray\")\n",
    "        plt.axis('scaled')\n",
    "        # plt.gca().set_aspect('equal', adjustable='box')\n",
    "    return ret\n",
    "\n",
    "# CSVから経路の読み取り\n",
    "def read_path_csv(filename,plot=0):\n",
    "    df = pd.read_csv(filename, header=None)\n",
    "    path = np.array(df.values,dtype=np.float32)\n",
    "    if(plot):\n",
    "        plot_f(path[:,0],path[:,1],color=\"gray\")\n",
    "        # plt.gca().set_aspect('equal', adjustable='box')\n",
    "    return path\n",
    "\n",
    "# 経路からN点抜き出す\n",
    "def get_n_point_from_path(n,path,margin=5,plot=0):\n",
    "    path_data = np.empty((1,2))\n",
    "    idx = 0\n",
    "    for i in range(n):\n",
    "        idx = idx + np.random.randint(margin,len(path)/3)\n",
    "        if(idx > len(path)):\n",
    "            idx = len(path)\n",
    "        path_data = np.vstack((path_data,path[idx]))\n",
    "    if(plot):\n",
    "        plot_f(path_data[:,0],path_data[:,1],color=\"red\")\n",
    "    return path_data[1:len(path_data)]\n",
    "\n",
    "def get_n_point_from_path_2(n,path,plot=0):\n",
    "    path_data = np.empty((1,2))\n",
    "    idx = [(len(path)-1)/3, (len(path)-1)*2/3, len(path)-1]\n",
    "    for i in idx:\n",
    "        i = int(i)\n",
    "        path_data = np.vstack((path_data,path[i]))\n",
    "    if(plot):\n",
    "        plot_f(path_data[:,0],path_data[:,1],color=\"red\")\n",
    "    return path_data[1:len(path_data)]\n",
    "\n",
    "def distance(p1,p2,ax=0):\n",
    "    D = np.sqrt(np.sum((p1-p2)**2,axis=ax))\n",
    "    return D\n",
    "\n",
    "def get_evenly_spaced_points(data,space):\n",
    "    ret = np.empty((0,2))\n",
    "    idx_list = [];\n",
    "    p1 = np.array((0.0, 0.0),dtype=np.float32);\n",
    "    for i in range(len(data)):\n",
    "        p2 = data[i]\n",
    "        D = distance(p1,p2) \n",
    "        if(D >= space):\n",
    "            ret = np.vstack((ret,p2))\n",
    "            idx_list.append(i)\n",
    "            p1 = p2\n",
    "    return ret, idx_list"
   ]
  },
  {
   "cell_type": "code",
   "execution_count": 9,
   "metadata": {},
   "outputs": [
    {
     "data": {
      "text/plain": [
       "'\\nrand = np.random.rand() * 2 * np.pi\\nx = [rand + (0.1*i) for i in range(5)]\\nprint(x)\\np = make_function_path(np.sin,x,plot=1)\\n'"
      ]
     },
     "execution_count": 9,
     "metadata": {},
     "output_type": "execute_result"
    },
    {
     "data": {
      "image/png": "[encoded data removed]",
      "text/plain": [
       "<Figure size 432x288 with 1 Axes>"
      ]
     },
     "metadata": {},
     "output_type": "display_data"
    }
   ],
   "source": [
    "p = make_function_path(np.sin,np.linspace(0,2*np.pi),plot=1)\n",
    "p = make_function_path(np.cos,np.linspace(0,2*np.pi),plot=1)\n",
    "'''\n",
    "rand = np.random.rand() * 2 * np.pi\n",
    "x = [rand + (0.1*i) for i in range(5)]\n",
    "print(x)\n",
    "p = make_function_path(np.sin,x,plot=1)\n",
    "'''"
   ]
  },
  {
   "cell_type": "code",
   "execution_count": 10,
   "metadata": {},
   "outputs": [
    {
     "name": "stdout",
     "output_type": "stream",
     "text": [
      "[[8.16601187e-01 4.59901220e-01]\n",
      " [8.46639973e-01 1.39662119e+00]\n",
      " [4.82546535e-16 1.90985932e+00]]\n"
     ]
    },
    {
     "data": {
      "text/plain": [
       "array([8.16601187e-01, 4.59901220e-01, 8.46639973e-01, 1.39662119e+00,\n",
       "       4.82546535e-16, 1.90985932e+00])"
      ]
     },
     "execution_count": 10,
     "metadata": {},
     "output_type": "execute_result"
    },
    {
     "data": {
      "image/png": "[encoded data removed]",
      "text/plain": [
       "<Figure size 432x288 with 1 Axes>"
      ]
     },
     "metadata": {},
     "output_type": "display_data"
    }
   ],
   "source": [
    "sample_p = make_arc_path_2(3,np.pi/3,plot=1)\n",
    "sample_vp = get_n_point_from_path_2(3,sample_p,plot=1)\n",
    "print(sample_vp)\n",
    "sample_vp.flatten()"
   ]
  },
  {
   "cell_type": "code",
   "execution_count": 11,
   "metadata": {},
   "outputs": [
    {
     "name": "stdout",
     "output_type": "stream",
     "text": [
      "[[0.0000e+00 0.0000e+00 1.5976e-01]\n",
      " [1.0012e-02 1.6380e-03 1.5976e-01]\n",
      " [2.0024e-02 3.2266e-03 1.5498e-01]\n",
      " ...\n",
      " [3.3239e-03 2.9697e+00 1.6865e+00]\n",
      " [1.6183e-03 2.9848e+00 1.6801e+00]\n",
      " [0.0000e+00 3.0000e+00 1.6801e+00]]\n"
     ]
    },
    {
     "data": {
      "image/png": "[encoded data removed]",
      "text/plain": [
       "<Figure size 432x288 with 1 Axes>"
      ]
     },
     "metadata": {},
     "output_type": "display_data"
    }
   ],
   "source": [
    "test_path = read_path_csv('path.csv',plot=1)\n",
    "print(test_path)"
   ]
  },
  {
   "cell_type": "code",
   "execution_count": 12,
   "metadata": {},
   "outputs": [
    {
     "name": "stdout",
     "output_type": "stream",
     "text": [
      "(1000, 6)\n",
      "[ 0.20283729 -0.01947549  0.39826313 -0.07719032  0.57913685 -0.17103569]\n"
     ]
    },
    {
     "data": {
      "text/plain": [
       "(0.17336700743294906,\n",
       " 0.6351607034862903,\n",
       " -0.21084970526727292,\n",
       " 0.2103883206132278)"
      ]
     },
     "execution_count": 12,
     "metadata": {},
     "output_type": "execute_result"
    },
    {
     "data": {
      "image/png": "[encoded data removed]",
      "text/plain": [
       "<Figure size 432x288 with 1 Axes>"
      ]
     },
     "metadata": {},
     "output_type": "display_data"
    }
   ],
   "source": [
    "data_num = 1000\n",
    "data_len = 3 * 2 #(3step , X-Y)\n",
    "\n",
    "def get_path_data(data_num, data_len):\n",
    "    data = np.empty((1,6),dtype=np.float32)\n",
    "    l = 10 # 円弧の長さ\n",
    "    for i in range(data_num):\n",
    "        rand_rad = np.random.rand() * (2*np.pi/3) - np.pi/3 # 回転範囲 -60 ~ 60\n",
    "        path = make_arc_path_2(l,rand_rad)\n",
    "        path_es, idx_list = get_evenly_spaced_points(path, 0.1)\n",
    "        via_path = path_es[0:data_len/2]\n",
    "        data = np.vstack((data,via_path.flatten()))\n",
    "        #data = np.vstack((data,[via_path]))\n",
    "    return data[1:len(data)]\n",
    "\n",
    "train_data = get_path_data(data_num,data_len)\n",
    "train_data = np.array(train_data,dtype=np.float32)\n",
    "print(train_data.shape)\n",
    "print(train_data[0])\n",
    "if gpu_index >= 0:\n",
    "    td = np.asnumpy(train_data)\n",
    "plt.scatter(td[:,0],td[:,1],c=\"red\",edgecolor=\"red\",s=30,marker=\"o\")\n",
    "plt.scatter(td[:,2],td[:,3],c=\"red\",edgecolor=\"red\",s=30,marker=\"o\")\n",
    "plt.scatter(td[:,4],td[:,5],c=\"red\",edgecolor=\"red\",s=30,marker=\"o\")\n",
    "plt.axis('scaled')"
   ]
  },
  {
   "cell_type": "markdown",
   "metadata": {},
   "source": [
    "# 損失関数"
   ]
  },
  {
   "cell_type": "code",
   "execution_count": 13,
   "metadata": {
    "scrolled": true
   },
   "outputs": [],
   "source": [
    "def calc_distance(predict_pos,true_pos):\n",
    "    #print \"true_pos\\n{}\".format(true_pos.shape)\n",
    "    #print \"predict_pos\\n{}\".format(predict_pos.shape)\n",
    "    D = F.sqrt(F.sum((true_pos-predict_pos)**2, axis=1))\n",
    "    return D\n",
    "\n",
    "# sample_p = Variable(np.array([[-0.04729605 , 3.132064, 0]], dtype=np.float32))\n",
    "# sample_t = Variable(np.array([-0.9656074  ,1.9671886], dtype=np.float32))\n",
    "# print calc_distance(sample_p[0,0:2],sample_t)\n",
    "# 1.4833174\n",
    "\n",
    "def velo_diff(v):\n",
    "    # v (batch,3)\n",
    "    V = np.zeros(len(v),dtype=np.float32)\n",
    "    for i in range(len(v[0])-1):\n",
    "        diff = v[:,i] - v[:,i+1]\n",
    "        # print '{} = {} - {}'.format(diff, v[:,i], v[:,i+1])\n",
    "        V = V + (diff*diff)\n",
    "    init_v = np.zeros(len(v),dtype=np.float32)\n",
    "    diff = init_v - v[:,0]\n",
    "    # print '{} = {} - {}'.format(diff, init_v, v[:,0])\n",
    "    V = V + diff*diff\n",
    "    return V\n",
    "\n",
    "# sample_p = Variable(np.array([[1, 1, 1], [2, 2, 2], [1, 1, 1]], dtype=np.float32) )\n",
    "# print velo_diff(sample_p)\n",
    "\n",
    "def terminal_cost(predict_terminal_position, true_terminal_position):\n",
    "    p = predict_terminal_position\n",
    "    t = true_terminal_position\n",
    "    Loss = calc_distance(p,t)\n",
    "    return Loss\n",
    "\n",
    "def List_var2Variable(L):  # list内のVariableをF.concatで結合\n",
    "    if(len(L) >= 2):\n",
    "        V = F.concat((L[0],L[1]))\n",
    "        for i in range(2,len(L)):\n",
    "            V = F.concat((V,L[i]))\n",
    "    else:\n",
    "        V = L[0]\n",
    "    return V\n",
    "\n",
    "def stage_cost(predict_path, true_path):\n",
    "    Loss = np.zeros(len(predict_path),dtype=np.float32)\n",
    "    # print predict_path.shape\n",
    "    # print true_path.shape\n",
    "    if len(true_path[0]) < 2 or len(predict_path[0]) < 3:\n",
    "        return Loss\n",
    "    else:\n",
    "        li_D = []\n",
    "        for i in range( 1,len(predict_path[0])-1 ): # 始点と終点を除く\n",
    "            # print 'ppos:{}'.format(predict_path[:,p_pos])\n",
    "            # print 'tpos:{}'.format(true_path[:,t_pos])\n",
    "            D = calc_distance(predict_path[:,i], true_path[:,i-1])  # D(batch)\n",
    "            D = F.reshape(D,(len(D),1))\n",
    "            li_D.append(D)\n",
    "        Dvar = List_var2Variable(li_D)\n",
    "        # print \"Dmin_var\\n\",Dmin_var\n",
    "        Loss = F.sum(Dvar, axis=1)\n",
    "        return Loss\n",
    "\"\"\"\n",
    "def stage_cost(predict_path, true_path):\n",
    "    Loss = np.zeros(len(predict_path),dtype=np.float32)\n",
    "    # print predict_path.shape\n",
    "    # print true_path.shape\n",
    "    if len(predict_path[0]) < 2:\n",
    "        return Loss\n",
    "    else:\n",
    "        li_Dmin = []\n",
    "        for t_pos in range( 0,len(true_path[0])-1 ): # 終点を除く\n",
    "            li_D = []\n",
    "            for p_pos in range( 1,len(predict_path[0])-1 ): # 始点と終点を除く\n",
    "                # print 'ppos:{}'.format(predict_path[:,p_pos])\n",
    "                # print 'tpos:{}'.format(true_path[:,t_pos])\n",
    "                D = calc_distance(predict_path[:,p_pos], true_path[:,t_pos])  # D(batch)\n",
    "                D = F.reshape(D,(len(D),1))\n",
    "                li_D.append(D)\n",
    "            Dvar = List_var2Variable(li_D)\n",
    "            # print \"Dvar\\n\",Dvar\n",
    "            Dmin = F.min(Dvar,axis=1)\n",
    "            Dmin = F.reshape(Dmin,(len(Dmin),1))\n",
    "            # print \"Dmin\\n\",Dmin\n",
    "            li_Dmin.append(Dmin)\n",
    "        Dmin_var =  List_var2Variable(li_Dmin)\n",
    "        # print \"Dmin_var\\n\",Dmin_var\n",
    "        Loss = F.sum(Dmin_var, axis=1)\n",
    "        return Loss\n",
    "\"\"\"\n",
    "\n",
    "def loss_function(y, x_data):\n",
    "    # y      [ batch, step,param]\n",
    "    # x_data [ batch, point_x-y]\n",
    "    x_data = F.reshape(x_data, (len(x_data),int(len(x_data[0])/2), 2))\n",
    "    num_step = len(y[0])\n",
    "    cart = CartLayer(len(y))\n",
    "    calc_car_pos(cart,y)\n",
    "\n",
    "    # Stage cost\n",
    "    predict_path = cart.path[:,:,0:2] # cart.path [ batch ,step ,x-y-th]\n",
    "    true_path = x_data\n",
    "    Dst = stage_cost(predict_path, true_path)\n",
    "\n",
    "    # Terminal cost\n",
    "    predict_term_pos = cart.pos[:,0:2]\n",
    "    true_term_pos = x_data[:,len(x_data[0])-1]\n",
    "    Dtc = terminal_cost(predict_term_pos, true_term_pos)\n",
    "\n",
    "    # Limiting\n",
    "    v = y[:,:,0]\n",
    "    w = y[:,:,1]\n",
    "    V = velo_diff(v)\n",
    "    W = velo_diff(w)\n",
    "    \n",
    "    # print 'Dtc :{}'.format(Dtc)\n",
    "    # print 'Dst :{}'.format(Dst)\n",
    "    # print 'V :{}, v:{}'.format(V,v)\n",
    "    # print 'W :{}, w:{}'.format(W,w)\n",
    "    Dtc = F.mean(Dtc) # terminate cost\n",
    "    Dst = F.mean(Dst) # stage cost\n",
    "    V = F.mean(1 * V)\n",
    "    W = F.mean(1 * W)\n",
    "    loss = Dtc + Dst\n",
    "    message = \"\\t{} \\t{} \\t{} \\t{}\".format(Dtc.data, Dst.data, V.data, W.data)\n",
    "    return loss, message"
   ]
  },
  {
   "cell_type": "code",
   "execution_count": 14,
   "metadata": {
    "scrolled": false
   },
   "outputs": [],
   "source": [
    "# sample_y = Variable(np.array([[[1,0], [1,0], [2,np.pi/2]], [[-1,0], [-1,0], [-2,-(np.pi/2)]]] ,dtype=np.float32 )) # 2batch 3step v-w\n",
    "# sample_x = Variable(np.array([ [[1,1],[2, 2], [3,3] ]                             , [[2,2],[1,-1],[3,3] ] ] ,dtype=np.float32 )) # 2batch 2point x-y\n",
    "# print loss_function(sample_y, sample_x)"
   ]
  },
  {
   "cell_type": "markdown",
   "metadata": {},
   "source": [
    "# 訓練"
   ]
  },
  {
   "cell_type": "code",
   "execution_count": 15,
   "metadata": {
    "scrolled": true
   },
   "outputs": [],
   "source": [
    "def train(x_data, max_epoch, batch_size, snapshot=10):\n",
    "    input_dim = len(x_data[0])\n",
    "    model = ModelPathGenerator(input_dim, num_step)\n",
    "    if gpu_index >= 0:\n",
    "        cupy.cuda.Device(gpu_index).use()\n",
    "        model.to_gpu(gpu_index)\n",
    "    opt = optimizers.Adam()\n",
    "    opt.setup(model)\n",
    "    train_iter = iterators.SerialIterator(x_data, batch_size)\n",
    "    iterator = 0\n",
    "    print(\"Iter. \\tLoss \\t\\tTerm. \\t\\tStg. \\t\\tV \\t\\tW\")\n",
    "    while train_iter.epoch < max_epoch:\n",
    "        train_batch = np.array(train_iter.next(),dtype=np.float32)\n",
    "        x = Variable(train_batch.reshape(len(train_batch),input_dim))\n",
    "        y = model(x)\n",
    "        loss, msg = loss_function(y,x)\n",
    "        model.cleargrads()\n",
    "        loss.backward()\n",
    "        opt.update()\n",
    "        iterator = iterator + 1\n",
    "        if (iterator % snapshot)==0:\n",
    "            print(str(iterator)+\"\\t\"+str(loss.data)+msg)\n",
    "    return model"
   ]
  },
  {
   "cell_type": "code",
   "execution_count": 16,
   "metadata": {},
   "outputs": [
    {
     "name": "stdout",
     "output_type": "stream",
     "text": [
      "Iter. \tLoss \t\tTerm. \t\tStg. \t\tV \t\tW\n",
      "100\t0.38863632\t0.21995537 \t0.16868095 \t0.17023817 \t0.009800138\n",
      "200\t0.17849028\t0.10925406 \t0.06923623 \t0.05155758 \t0.001562388\n",
      "300\t0.15400077\t0.09729641 \t0.05670437 \t0.040121973 \t0.00057166046\n",
      "400\t0.13699268\t0.08678642 \t0.050206255 \t0.040792413 \t0.00032661384\n",
      "500\t0.1429656\t0.08999141 \t0.052974183 \t0.040583815 \t0.00044243876\n",
      "600\t0.14239472\t0.088818625 \t0.053576104 \t0.04032604 \t0.0007891068\n",
      "700\t0.13400073\t0.08247077 \t0.05152997 \t0.040248077 \t0.0013314858\n",
      "800\t0.15193093\t0.091199055 \t0.060731877 \t0.0399531 \t0.0020671654\n",
      "900\t0.15718079\t0.09070793 \t0.06647285 \t0.039972235 \t0.003138252\n",
      "1000\t0.12236531\t0.06481617 \t0.05754914 \t0.041187752 \t0.0044957963\n",
      "1100\t0.12306604\t0.058215186 \t0.06485085 \t0.045660105 \t0.0073875855\n",
      "1200\t0.08503598\t0.02734796 \t0.057688024 \t0.044878762 \t0.009302592\n",
      "1300\t0.05851756\t0.00824351 \t0.05027405 \t0.04450827 \t0.010544112\n",
      "1400\t0.042774804\t0.0059312973 \t0.03684351 \t0.044094373 \t0.008725773\n",
      "1500\t0.03259689\t0.0069806864 \t0.025616203 \t0.042938896 \t0.0073853163\n",
      "1600\t0.02891906\t0.007356633 \t0.021562427 \t0.04327599 \t0.008092563\n",
      "1700\t0.025529038\t0.0065984335 \t0.018930605 \t0.04320058 \t0.008612528\n",
      "1800\t0.020305488\t0.003955273 \t0.016350215 \t0.042672552 \t0.0072919186\n",
      "1900\t0.018568758\t0.002689526 \t0.015879232 \t0.042270508 \t0.008274213\n",
      "2000\t0.015004519\t0.0021943352 \t0.012810185 \t0.042549066 \t0.007237546\n",
      "2100\t0.013261659\t0.0017631049 \t0.011498554 \t0.04212804 \t0.007285587\n",
      "2200\t0.012037981\t0.0019850188 \t0.010052962 \t0.041593403 \t0.0073873405\n",
      "2300\t0.010249608\t0.0021275112 \t0.008122097 \t0.041781865 \t0.0071410644\n",
      "2400\t0.009013072\t0.0022337688 \t0.0067793024 \t0.041657582 \t0.007712239\n",
      "2500\t0.007223343\t0.0017301469 \t0.005493196 \t0.0414965 \t0.0073158788\n",
      "2600\t0.0053100954\t0.0014941939 \t0.0038159015 \t0.04165158 \t0.0064167725\n",
      "2700\t0.0049058646\t0.0013996369 \t0.0035062279 \t0.04165841 \t0.007284647\n",
      "2800\t0.0050705443\t0.0018623924 \t0.003208152 \t0.041566465 \t0.0076836976\n",
      "2900\t0.0041699205\t0.0016083051 \t0.0025616153 \t0.04160164 \t0.006607833\n",
      "3000\t0.0038249418\t0.0014420495 \t0.0023828922 \t0.04157838 \t0.0070384485\n",
      "3100\t0.0036595473\t0.0012191294 \t0.002440418 \t0.041706447 \t0.0080900695\n",
      "3200\t0.003421639\t0.0011357324 \t0.0022859068 \t0.04170802 \t0.007687065\n",
      "3300\t0.0028602164\t0.0009869405 \t0.0018732758 \t0.041623916 \t0.0066507105\n",
      "3400\t0.00284026\t0.0010252122 \t0.0018150478 \t0.041617442 \t0.006872333\n",
      "3500\t0.0028746095\t0.0011403892 \t0.0017342202 \t0.041666973 \t0.0061556175\n",
      "3600\t0.0028009508\t0.0011697401 \t0.0016312107 \t0.04161735 \t0.0063490532\n",
      "3700\t0.0026054773\t0.0010479155 \t0.0015575619 \t0.0416306 \t0.006583877\n",
      "3800\t0.002766341\t0.0011571344 \t0.0016092064 \t0.04163844 \t0.006936682\n",
      "3900\t0.0029475132\t0.0013941313 \t0.0015533819 \t0.04164095 \t0.007180048\n",
      "4000\t0.0021825733\t0.00086692005 \t0.0013156533 \t0.04162116 \t0.0073855375\n",
      "4100\t0.0022891276\t0.0010856354 \t0.001203492 \t0.041590266 \t0.006631918\n",
      "4200\t0.0019169411\t0.00078186975 \t0.0011350714 \t0.041660774 \t0.006845854\n",
      "4300\t0.0019776472\t0.0009224163 \t0.001055231 \t0.04164091 \t0.0074852323\n",
      "4400\t0.002092604\t0.0010381966 \t0.0010544073 \t0.041585043 \t0.00698254\n",
      "4500\t0.0023058068\t0.001251644 \t0.0010541629 \t0.041585036 \t0.0077362256\n",
      "4600\t0.0019096525\t0.0009843308 \t0.0009253217 \t0.04157635 \t0.007037518\n",
      "4700\t0.0021726135\t0.0012219858 \t0.0009506276 \t0.041572195 \t0.0072135273\n",
      "4800\t0.0016318918\t0.0009507706 \t0.00068112125 \t0.041598022 \t0.007274477\n",
      "4900\t0.0016213688\t0.00094992906 \t0.0006714397 \t0.04158531 \t0.007784379\n",
      "5000\t0.0015274906\t0.0008996024 \t0.0006278881 \t0.04161292 \t0.007828337\n",
      "5100\t0.0021991772\t0.0013525159 \t0.0008466614 \t0.041589845 \t0.007831854\n",
      "5200\t0.0016357041\t0.0009887238 \t0.00064698025 \t0.041617 \t0.0068722805\n",
      "5300\t0.0016921218\t0.0010088369 \t0.000683285 \t0.04159425 \t0.0075219166\n",
      "5400\t0.0027594385\t0.0017204767 \t0.0010389618 \t0.041606653 \t0.007671804\n",
      "5500\t0.0013418575\t0.00079058256 \t0.0005512749 \t0.041589037 \t0.007438118\n",
      "5600\t0.0015444438\t0.0009216843 \t0.00062275946 \t0.04163618 \t0.007575233\n",
      "5700\t0.0024192263\t0.0015339252 \t0.00088530104 \t0.041615676 \t0.0067483378\n",
      "5800\t0.0037964564\t0.0023731366 \t0.0014233198 \t0.04155897 \t0.0071828985\n",
      "5900\t0.0012992206\t0.0007530431 \t0.00054617756 \t0.041613683 \t0.008037566\n",
      "6000\t0.0012785203\t0.0007684594 \t0.0005100609 \t0.04160772 \t0.0074524544\n",
      "6100\t0.0020377738\t0.0012044568 \t0.00083331694 \t0.041660365 \t0.0074978555\n",
      "6200\t0.0011744078\t0.00068200007 \t0.00049240765 \t0.041582692 \t0.0076398565\n",
      "6300\t0.0012780407\t0.00074107543 \t0.0005369652 \t0.041569714 \t0.0065350197\n",
      "6400\t0.0013194864\t0.00078456476 \t0.0005349217 \t0.041615248 \t0.007612292\n",
      "6500\t0.0012659911\t0.00074750563 \t0.0005184855 \t0.041583978 \t0.0067360145\n",
      "6600\t0.0012709571\t0.0007336037 \t0.0005373534 \t0.041628707 \t0.007871012\n",
      "6700\t0.0016580877\t0.0009964238 \t0.00066166394 \t0.04160096 \t0.0072793155\n",
      "6800\t0.0011905995\t0.00069594104 \t0.00049465854 \t0.041609354 \t0.00717221\n",
      "6900\t0.0012182192\t0.0007189305 \t0.00049928867 \t0.041598346 \t0.006302542\n",
      "7000\t0.0012012072\t0.0007071379 \t0.00049406925 \t0.041588202 \t0.007931074\n",
      "7100\t0.0011603445\t0.0006774676 \t0.00048287684 \t0.041570902 \t0.008194215\n",
      "7200\t0.001684492\t0.0009862453 \t0.0006982467 \t0.041559104 \t0.0067249094\n",
      "7300\t0.0016534496\t0.0010021009 \t0.0006513488 \t0.041599017 \t0.007491232\n",
      "7400\t0.0015363907\t0.0009277826 \t0.00060860807 \t0.04157853 \t0.0074910843\n",
      "7500\t0.0016890056\t0.0010195215 \t0.00066948414 \t0.041600913 \t0.009284006\n",
      "7600\t0.0013581074\t0.0007979778 \t0.00056012964 \t0.041586015 \t0.006187477\n",
      "7700\t0.0013065154\t0.0007597403 \t0.0005467752 \t0.04157108 \t0.007959389\n",
      "7800\t0.0018465532\t0.0011422205 \t0.0007043327 \t0.041590963 \t0.0070928405\n",
      "7900\t0.0013389551\t0.0007864914 \t0.00055246375 \t0.041614633 \t0.0078900885\n",
      "8000\t0.0011794618\t0.0006777103 \t0.0005017515 \t0.04161663 \t0.008543157\n",
      "8100\t0.0011182949\t0.00065670145 \t0.00046159347 \t0.041614998 \t0.00863941\n",
      "8200\t0.0012223254\t0.00070291414 \t0.00051941123 \t0.041610908 \t0.0071330015\n",
      "8300\t0.0013966793\t0.0008201621 \t0.00057651725 \t0.04159974 \t0.00689596\n",
      "8400\t0.0014373421\t0.00086582615 \t0.000571516 \t0.04160601 \t0.007756202\n",
      "8500\t0.00096523156\t0.0005500107 \t0.0004152209 \t0.041591976 \t0.0075495695\n",
      "8600\t0.0014210846\t0.000852036 \t0.0005690487 \t0.04157379 \t0.009417335\n",
      "8700\t0.0013826755\t0.0008007686 \t0.0005819069 \t0.04162733 \t0.0073925154\n",
      "8800\t0.0019874247\t0.0012241333 \t0.0007632914 \t0.041614734 \t0.008768333\n",
      "8900\t0.0014379562\t0.00084517495 \t0.00059278123 \t0.04162451 \t0.0076916716\n",
      "9000\t0.0013508566\t0.00083018094 \t0.00052067573 \t0.041590765 \t0.008151247\n",
      "9100\t0.0010652184\t0.0006107766 \t0.00045444182 \t0.041597422 \t0.008297789\n",
      "9200\t0.0016620641\t0.00097622594 \t0.0006858382 \t0.04155076 \t0.007871687\n",
      "9300\t0.0010045934\t0.00056536106 \t0.00043923236 \t0.04161828 \t0.0072027757\n",
      "9400\t0.0010684326\t0.0006143358 \t0.0004540967 \t0.04163667 \t0.006731876\n",
      "9500\t0.0013155639\t0.0007813395 \t0.0005342245 \t0.041610498 \t0.008145111\n",
      "9600\t0.0011701644\t0.0006963664 \t0.000473798 \t0.04162567 \t0.007719853\n",
      "9700\t0.0011503896\t0.0006487652 \t0.00050162437 \t0.04163358 \t0.008291073\n",
      "9800\t0.0010418297\t0.0005939428 \t0.00044788688 \t0.04161295 \t0.007968469\n",
      "9900\t0.001171859\t0.0006920977 \t0.00047976128 \t0.04159039 \t0.006909916\n",
      "10000\t0.0012233295\t0.0006685733 \t0.00055475614 \t0.04165103 \t0.008167635\n",
      "10100\t0.0016206694\t0.0009929313 \t0.0006277381 \t0.041625395 \t0.0082323225\n",
      "10200\t0.0010272744\t0.0005891187 \t0.00043815578 \t0.041606605 \t0.006681917\n",
      "10300\t0.0016029344\t0.00097599695 \t0.0006269375 \t0.041630164 \t0.0061802845\n",
      "10400\t0.001371043\t0.0008176789 \t0.00055336417 \t0.041617125 \t0.0080668\n",
      "10500\t0.0017374324\t0.0010003948 \t0.0007370376 \t0.0416679 \t0.008158711\n",
      "10600\t0.000972104\t0.00055586745 \t0.00041623658 \t0.041581582 \t0.0076221554\n",
      "10700\t0.0009988381\t0.00057313126 \t0.0004257068 \t0.041594017 \t0.007859555\n",
      "10800\t0.0013311913\t0.00080396247 \t0.00052722887 \t0.0415998 \t0.008014425\n",
      "10900\t0.0010503205\t0.0006073128 \t0.0004430077 \t0.041601334 \t0.0071531306\n",
      "11000\t0.001031745\t0.0006203729 \t0.00041137217 \t0.041623224 \t0.006930777\n",
      "11100\t0.001258937\t0.0007422617 \t0.00051667524 \t0.04159953 \t0.007611513\n",
      "11200\t0.0010997583\t0.00064787717 \t0.0004518812 \t0.04158195 \t0.007908306\n",
      "11300\t0.0009832139\t0.0005579344 \t0.0004252795 \t0.04160982 \t0.0065716696\n",
      "11400\t0.00097500003\t0.0005500971 \t0.00042490294 \t0.04158088 \t0.007820757\n",
      "11500\t0.0012858056\t0.00076606334 \t0.00051974226 \t0.041587733 \t0.008023872\n",
      "11600\t0.002202602\t0.0013658399 \t0.0008367623 \t0.041605446 \t0.008814582\n",
      "11700\t0.0009935398\t0.0006003724 \t0.00039316743 \t0.041603506 \t0.0080041485\n",
      "11800\t0.0011544268\t0.0006709405 \t0.00048348634 \t0.04159442 \t0.0088224765\n",
      "11900\t0.0010436297\t0.0005867787 \t0.00045685106 \t0.041580506 \t0.006281639\n",
      "12000\t0.0011825952\t0.00068456854 \t0.0004980266 \t0.04159052 \t0.006905831\n",
      "12100\t0.00091650675\t0.00052762247 \t0.0003888843 \t0.04159975 \t0.007205915\n",
      "12200\t0.0019698143\t0.0011945385 \t0.0007752758 \t0.04155069 \t0.0076431376\n",
      "12300\t0.0011599574\t0.00069235574 \t0.00046760164 \t0.041584767 \t0.0076052397\n",
      "12400\t0.0010559872\t0.00060488103 \t0.0004511062 \t0.041638225 \t0.00700962\n",
      "12500\t0.0011977686\t0.0007048439 \t0.00049292477 \t0.04164217 \t0.0072540566\n",
      "12600\t0.0011443275\t0.0006374365 \t0.0005068909 \t0.0415543 \t0.0075450437\n",
      "12700\t0.00091519306\t0.0005189578 \t0.00039623526 \t0.041619036 \t0.0075969216\n",
      "12800\t0.001027498\t0.00058631535 \t0.0004411827 \t0.04158555 \t0.0077202534\n",
      "12900\t0.0012406451\t0.00072719605 \t0.000513449 \t0.041628897 \t0.007314527\n",
      "13000\t0.00091185863\t0.0005143938 \t0.00039746484 \t0.041622017 \t0.008243277\n",
      "13100\t0.0008844754\t0.0005058569 \t0.00037861857 \t0.04159352 \t0.008404835\n",
      "13200\t0.0011035227\t0.0006066852 \t0.00049683754 \t0.041562747 \t0.0069899224\n",
      "13300\t0.0011192036\t0.00066624477 \t0.00045295892 \t0.041602083 \t0.0070443437\n",
      "13400\t0.001028684\t0.000569912 \t0.00045877192 \t0.041556578 \t0.0076127094\n",
      "13500\t0.0010425515\t0.0005785258 \t0.00046402565 \t0.041577734 \t0.0079329945\n",
      "13600\t0.0011386606\t0.0006554168 \t0.00048324373 \t0.041579913 \t0.007479334\n",
      "13700\t0.0014102017\t0.00081675604 \t0.00059344555 \t0.041654184 \t0.0076494515\n",
      "13800\t0.00090066984\t0.00051184586 \t0.000388824 \t0.0415988 \t0.00606892\n",
      "13900\t0.0011531862\t0.0006802426 \t0.0004729436 \t0.041598096 \t0.008018363\n",
      "14000\t0.0018994728\t0.0011531257 \t0.0007463471 \t0.04160353 \t0.008184975\n",
      "14100\t0.0011803856\t0.0006857328 \t0.0004946528 \t0.041615043 \t0.008166796\n",
      "14200\t0.001110196\t0.0006223315 \t0.00048786445 \t0.04163247 \t0.00770836\n",
      "14300\t0.0024122773\t0.0015038768 \t0.0009084004 \t0.041581005 \t0.0074107307\n",
      "14400\t0.0009788364\t0.0005585383 \t0.0004202981 \t0.041601546 \t0.007047394\n",
      "15100\t0.0013397523\t0.00075751886 \t0.0005822335 \t0.041659944 \t0.0067356937\n",
      "15200\t0.0014390112\t0.0008590259 \t0.0005799853 \t0.04159889 \t0.007978627\n",
      "15300\t0.0011490592\t0.00066099764 \t0.00048806152 \t0.04158557 \t0.007862921\n",
      "15400\t0.0009175177\t0.0005200505 \t0.00039746717 \t0.0415855 \t0.007498286\n",
      "15500\t0.0013925899\t0.00081842276 \t0.0005741672 \t0.041638568 \t0.0072092754\n",
      "15600\t0.0010822791\t0.00063348084 \t0.00044879827 \t0.041592315 \t0.00795091\n",
      "15700\t0.0017232549\t0.0010557844 \t0.0006674705 \t0.041596927 \t0.006938377\n",
      "15800\t0.0013840267\t0.00078428694 \t0.0005997398 \t0.041557398 \t0.0063871364\n",
      "15900\t0.0012474393\t0.0007068233 \t0.000540616 \t0.04165084 \t0.0077629504\n",
      "16000\t0.0017140647\t0.0010178509 \t0.0006962138 \t0.041571308 \t0.007301033\n",
      "16100\t0.0010622176\t0.00061346416 \t0.00044875353 \t0.04159733 \t0.008343107\n",
      "16200\t0.0009869483\t0.0005757515 \t0.00041119676 \t0.04158157 \t0.008025056\n",
      "16300\t0.0014942572\t0.00086397986 \t0.0006302773 \t0.04154931 \t0.008723414\n",
      "16400\t0.00097407436\t0.00052288105 \t0.00045119328 \t0.04154979 \t0.007025188\n",
      "16500\t0.0010173926\t0.00057896954 \t0.000438423 \t0.041593798 \t0.0077323294\n",
      "16600\t0.0008923422\t0.0005090665 \t0.0003832757 \t0.041592818 \t0.007243179\n",
      "16700\t0.00091435335\t0.00050316815 \t0.0004111852 \t0.041574765 \t0.006761268\n",
      "16800\t0.0021016258\t0.001291784 \t0.00080984173 \t0.041629247 \t0.0069998726\n",
      "16900\t0.00093912345\t0.00053044566 \t0.00040867782 \t0.04159028 \t0.0072549367\n",
      "17000\t0.0013834627\t0.000823573 \t0.0005598897 \t0.041582964 \t0.0084028905\n",
      "17100\t0.0014675888\t0.0008948683 \t0.0005727205 \t0.04158528 \t0.0067352\n",
      "17200\t0.0009139754\t0.00051679596 \t0.00039717948 \t0.04159992 \t0.007661675\n",
      "17300\t0.0011330745\t0.0006698015 \t0.000463273 \t0.041595314 \t0.0077141463\n",
      "17400\t0.0010411153\t0.00060042314 \t0.00044069206 \t0.041622084 \t0.008383825\n",
      "17500\t0.00094530906\t0.0005458756 \t0.0003994335 \t0.04161054 \t0.0065205656\n",
      "17600\t0.0011250151\t0.00067371596 \t0.00045129913 \t0.041625652 \t0.006447283\n",
      "17700\t0.0009196192\t0.0005083098 \t0.00041130945 \t0.041631136 \t0.0075897602\n",
      "17800\t0.000984216\t0.00056995574 \t0.00041426026 \t0.041596632 \t0.0080454685\n",
      "17900\t0.0013487544\t0.0007970868 \t0.00055166765 \t0.041567348 \t0.0077615734\n",
      "18000\t0.00092859915\t0.0005500033 \t0.00037859587 \t0.041610878 \t0.0078055393\n",
      "18100\t0.00087583985\t0.000495394 \t0.00038044585 \t0.0416174 \t0.0075448197\n",
      "18200\t0.002016521\t0.0012574315 \t0.0007590897 \t0.041596565 \t0.0066156816\n",
      "18300\t0.0008794468\t0.0004907577 \t0.0003886891 \t0.04159149 \t0.006758518\n",
      "18400\t0.0009955887\t0.0005661711 \t0.0004294177 \t0.04160752 \t0.0075709727\n",
      "18500\t0.0010452152\t0.00060786586 \t0.00043734928 \t0.041628342 \t0.0071976464\n",
      "18600\t0.0008931741\t0.0005067388 \t0.0003864353 \t0.0415962 \t0.0063955635\n",
      "18700\t0.0016994758\t0.0010388797 \t0.000660596 \t0.041586094 \t0.00797993\n",
      "18800\t0.0013749865\t0.0007895256 \t0.00058546086 \t0.041644588 \t0.008218415\n",
      "18900\t0.0009753984\t0.00055869896 \t0.00041669945 \t0.04162848 \t0.006779475\n",
      "19000\t0.0012531072\t0.0007378612 \t0.000515246 \t0.041578673 \t0.007591444\n",
      "19100\t0.0011342671\t0.00064609875 \t0.00048816836 \t0.04155653 \t0.008765635\n",
      "19200\t0.0008804001\t0.00050129317 \t0.00037910696 \t0.04157464 \t0.007917815\n",
      "19300\t0.0019211839\t0.0011356678 \t0.00078551605 \t0.041538972 \t0.007629963\n",
      "19400\t0.0014782418\t0.000798281 \t0.0006799607 \t0.04166752 \t0.008121752\n",
      "19500\t0.0014899763\t0.0008428925 \t0.0006470838 \t0.04154827 \t0.006697317\n",
      "19600\t0.00085749425\t0.0004806089 \t0.00037688535 \t0.041591052 \t0.0069075655\n",
      "19700\t0.0011188737\t0.0006239513 \t0.0004949224 \t0.04156022 \t0.0073727285\n",
      "19800\t0.0011539932\t0.0006902529 \t0.00046374023 \t0.041595865 \t0.0070959404\n",
      "19900\t0.0010618404\t0.0005439044 \t0.000517936 \t0.041529913 \t0.007786393\n",
      "20000\t0.00086270296\t0.0004958337 \t0.00036686927 \t0.041603103 \t0.0066816253\n",
      "Time :752.4597046375275\n"
     ]
    }
   ],
   "source": [
    "# Dataset\n",
    "data_len = 3*2\n",
    "data_size = 1000\n",
    "\n",
    "# Parameter\n",
    "batch_size = 100\n",
    "max_epoch  = 2000\n",
    "iteration = data_size / batch_size * max_epoch\n",
    "snapshot = 100\n",
    "num_step = 3\n",
    "input_dim = num_step*2\n",
    "\n",
    "# Training\n",
    "start_t = time.time()\n",
    "model = train(train_data, max_epoch, batch_size, snapshot)\n",
    "process_time = time.time() - start_t\n",
    "print('Time :{}'.format(process_time))"
   ]
  },
  {
   "cell_type": "markdown",
   "metadata": {},
   "source": [
    "# 推論"
   ]
  },
  {
   "cell_type": "code",
   "execution_count": 17,
   "metadata": {},
   "outputs": [],
   "source": [
    "def predict(model, x_test, plot=0, xlim=[-5,5],ylim=[-5,5]):\n",
    "    x_data = Variable(x_test)\n",
    "    y = model(x_data)\n",
    "    car = CartLayer(len(y))s\n",
    "    predpos = calc_car_pos(car, y)\n",
    "    truepos = Variable(x_test)\n",
    "    loss,msg = loss_function(y, x_data)\n",
    "    print(\"loss: {}\".format(loss))\n",
    "    print(\"v,w: \\n  {}\".format(y))\n",
    "    print(\"path(x-y-th): \\n  {}\".format(car.path))\n",
    "    print(\"truth(x-y-th): \\n  {}\".format(x_test))\n",
    "    if(plot>0):\n",
    "        plot_path(car.path.data, np.reshape(x_data.data, (int(len(x_data[0])/2), 2)),xlim,ylim)"
   ]
  },
  {
   "cell_type": "code",
   "execution_count": 49,
   "metadata": {},
   "outputs": [
    {
     "name": "stdout",
     "output_type": "stream",
     "text": [
      "(1, 6)\n"
     ]
    }
   ],
   "source": [
    "l = 10\n",
    "path = make_arc_path_2(l,0)\n",
    "path_es, idx_list = get_evenly_spaced_points(path, 0.1)\n",
    "via_path = path_es[0:data_len/2]\n",
    "sample_x_test = np.array([via_path.flatten()],dtype=np.float32)\n",
    "print(sample_x_test.shape)"
   ]
  },
  {
   "cell_type": "code",
   "execution_count": 50,
   "metadata": {},
   "outputs": [
    {
     "name": "stdout",
     "output_type": "stream",
     "text": [
      "loss: variable(0.00120519)\n",
      "v,w: \n",
      "  variable([[[0.20395327 0.00034939]\n",
      "           [0.20395619 0.00061384]\n",
      "           [0.20397054 0.0005905 ]]])\n",
      "path(x-y-th): \n",
      "  variable([[[0.0000000e+00 0.0000000e+00 0.0000000e+00]\n",
      "           [2.0395325e-01 7.1258728e-05 3.4938753e-04]\n",
      "           [4.0790933e-01 2.6771458e-04 9.6322590e-04]\n",
      "           [6.1187965e-01 5.8462942e-04 1.5537291e-03]]])\n",
      "truth(x-y-th): \n",
      "  [[0.20408164 0.         0.40816328 0.         0.6122449  0.        ]]\n"
     ]
    },
    {
     "data": {
      "image/png": "[encoded data removed]",
      "text/plain": [
       "<Figure size 432x288 with 1 Axes>"
      ]
     },
     "metadata": {},
     "output_type": "display_data"
    }
   ],
   "source": [
    "predict(model, sample_x_test, plot=1, xlim=[-1,1], ylim=[-1,1])"
   ]
  },
  {
   "cell_type": "markdown",
   "metadata": {},
   "source": [
    "# 重みの保存と読み込み"
   ]
  },
  {
   "cell_type": "code",
   "execution_count": 20,
   "metadata": {},
   "outputs": [],
   "source": [
    "# rename model\n",
    "import os\n",
    "import datetime\n",
    "\n",
    "def gen_filename():\n",
    "    name_date = '{0:%Y%m%d%H%M%S}'.format(datetime.datetime.now())\n",
    "    name_epoch = '{}epoch'.format(max_epoch)\n",
    "    name_batch = '{}batch'.format(batch_size)\n",
    "    name_datasize  = '{}data'.format(data_size)\n",
    "    name_num_step = '{}step'.format(num_step)\n",
    "    model_name = name_num_step+ '_' + name_datasize + name_batch + name_epoch + '_' + name_date +  '.model'\n",
    "    print(model_name)\n",
    "    return model_name"
   ]
  },
  {
   "cell_type": "code",
   "execution_count": 21,
   "metadata": {},
   "outputs": [],
   "source": [
    "def save_pretrained(model, name):\n",
    "    serializers.save_npz(name, model)\n",
    "\n",
    "def load_pretrained(name):\n",
    "    load_model = ModelPathGenerator(input_dim, num_step)\n",
    "    serializers.load_npz(name, load_model)\n",
    "    return load_model"
   ]
  },
  {
   "cell_type": "code",
   "execution_count": 22,
   "metadata": {},
   "outputs": [],
   "source": [
    "# save\n",
    "save_pretrained(model, 'tmp.model')\n",
    "# os.rename('tmp.model', get_filename())"
   ]
  },
  {
   "cell_type": "code",
   "execution_count": 23,
   "metadata": {},
   "outputs": [],
   "source": [
    "# Parameter\n",
    "batch_size = 10\n",
    "max_epoch  = 30\n",
    "snapshot = 100\n",
    "num_step = 3\n",
    "input_dim = num_step*2\n",
    "# load\n",
    "load_model = load_pretrained('tmp.model')\n",
    "if gpu_index >=0:\n",
    "    load_model.to_gpu()"
   ]
  },
  {
   "cell_type": "code",
   "execution_count": 24,
   "metadata": {},
   "outputs": [
    {
     "name": "stdout",
     "output_type": "stream",
     "text": [
      "loss: variable(5.221512)\n",
      "v,w: \n",
      "  variable([[[ 0.21279302  0.42838645]\n",
      "           [ 0.16412239  0.6837059 ]\n",
      "           [-0.05642647  0.7946733 ]]])\n",
      "path(x-y-th): \n",
      "  variable([[[0.         0.         0.        ]\n",
      "           [0.19356444 0.08839499 0.42838645]\n",
      "           [0.26623562 0.23555157 1.1120924 ]\n",
      "           [0.28483856 0.18227983 1.9067657 ]]])\n",
      "truth(x-y-th): \n",
      "  [[0.97959185 0.         1.9591837  0.         3.         0.        ]]\n"
     ]
    },
    {
     "data": {
      "image/png": "[encoded data removed]",
      "text/plain": [
       "<Figure size 432x288 with 1 Axes>"
      ]
     },
     "metadata": {},
     "output_type": "display_data"
    }
   ],
   "source": [
    "predict(load_model, sample_x_test, plot=1, xlim=[-1,1], ylim=[-1,1])"
   ]
  },
  {
   "cell_type": "markdown",
   "metadata": {},
   "source": [
    "# 分散(未完成)"
   ]
  },
  {
   "cell_type": "code",
   "execution_count": 25,
   "metadata": {
    "scrolled": false
   },
   "outputs": [
    {
     "data": {
      "text/plain": [
       "\"\\nsample_x = [1,2,3,4]\\nsample_y = [1,4,9,16]\\nsample_error = [1,4,9,16]\\ndef plot_error(x,y,err):\\n    plt.plot(x,y)\\n    plt.errorbar(x,y,yerr=err,ecolor='r',color='b',ls='solid',lw=2,marker='o')\\n    plt.show()\\n\\n# plot_error(sample_x,sample_y,sample_error)\\n\""
      ]
     },
     "execution_count": 25,
     "metadata": {},
     "output_type": "execute_result"
    }
   ],
   "source": [
    "'''\n",
    "sample_x = [1,2,3,4]\n",
    "sample_y = [1,4,9,16]\n",
    "sample_error = [1,4,9,16]\n",
    "def plot_error(x,y,err):\n",
    "    plt.plot(x,y)\n",
    "    plt.errorbar(x,y,yerr=err,ecolor='r',color='b',ls='solid',lw=2,marker='o')\n",
    "    plt.show()\n",
    "\n",
    "# plot_error(sample_x,sample_y,sample_error)\n",
    "'''"
   ]
  },
  {
   "cell_type": "markdown",
   "metadata": {},
   "source": [
    "## 議事録\n",
    "---"
   ]
  },
  {
   "cell_type": "markdown",
   "metadata": {},
   "source": [
    "### 2019/02/19 オフィスアワー\n",
    "\n",
    "次回まで\n",
    "- PID制御と比較できるように\n",
    "- 4ステップ程度の短いステップで追従\n",
    "- 入江さんが作った関数を使って学習できるように  \n",
    "  - 同じ結果が再現できるか確認\n",
    "  - cpu用の関数になっているためgpu用に"
   ]
  },
  {
   "cell_type": "markdown",
   "metadata": {},
   "source": [
    "### 2019/01/29 オフィスアワー\n",
    "\n",
    "* 損失の計算確認\n",
    "  - Reshapeが間違い\n",
    "  - 速度・角速度計算の入力に間違い（参照axisがおかしかった）\n",
    "* 途中経路の入力（損失の計算方法を考える\n",
    "  - 経由点（入力座標）を3点に変更\n",
    "  - 9ステップ先まで予測"
   ]
  },
  {
   "cell_type": "markdown",
   "metadata": {},
   "source": [
    "### 2019/01/22 オフィスアワー \n",
    "\n",
    "* 次元ごとにforwordして結果を比較 \n",
    "* lossを貯めて擬似的にmini-batch処理\n",
    "* chainer SLAM 藤本さん qiita の記事?\n",
    "* 同次変換行列ができれば...\n",
    "* バッチ処理は先送りするのも検討\n",
    "* 経路の途中の計算を諦めて評価値だけ天から降ってくるものとして扱う案\n",
    "* NNで最適制御（普通の制御よりは複雑（非線形項））\n",
    "* 前後左右の加減速（ドローンの風で安定しないなど）\n",
    "\n",
    "#### 次回までの課題\n",
    "* 180度を跨がない\n",
    "  - -90～90度の範囲で学習\n",
    "  \n",
    "* tanh (-1 ~ 1)やシグモイド(正)で無茶な加減速を抑制\n",
    "  - tanh層を加えた\n",
    "  - 最大速度　　:１\n",
    "  - 最大角速度　:\n",
    "\n",
    "* 学習回数を増やして結果を比較\n",
    "  - 今まで1000データ 5エポック\n",
    "  - 今回は1000データ 50エポック\n",
    "\n",
    "* (できたらバッチ処理)\n",
    "  - 次元ごとにforwordして結果を比較した\n",
    "  - lossが怪しい"
   ]
  },
  {
   "cell_type": "markdown",
   "metadata": {},
   "source": [
    "### 2018/11/27\n",
    "* バッチで処理 →　学習回数を増やしてデータを取る\n",
    "* ネットワークを変える"
   ]
  },
  {
   "cell_type": "markdown",
   "metadata": {},
   "source": [
    "### 2018/10/24　オフィスアワー\n",
    "\n",
    "---\n",
    "問題点  \n",
    "* **（0,0）で動かなければ損失が少ないと学習してしまう**  \n",
    "    ・極座標系で距離を一定に学習する\n",
    "    \n",
    "    \n",
    "* **optimizers.update() **  \n",
    "    ・勾配を手動計算する場合は引数不要・勾配リセットも必要  \n",
    "    ・そうでない場合はloss_functionを引数に渡す\n",
    "\n",
    "その他  \n",
    "* **Variable配列の型が違って気持ち悪いので行列演算にしたい**"
   ]
  }
 ],
 "metadata": {
  "kernelspec": {
   "display_name": "Python 3",
   "language": "python",
   "name": "python3"
  },
  "language_info": {
   "codemirror_mode": {
    "name": "ipython",
    "version": 3
   },
   "file_extension": ".py",
   "mimetype": "text/x-python",
   "name": "python",
   "nbconvert_exporter": "python",
   "pygments_lexer": "ipython3",
   "version": "3.5.3"
  }
 },
 "nbformat": 4,
 "nbformat_minor": 2
}
