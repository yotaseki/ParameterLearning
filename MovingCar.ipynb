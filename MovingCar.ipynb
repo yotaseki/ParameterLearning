{
 "cells": [
  {
   "cell_type": "code",
   "execution_count": 1,
   "metadata": {},
   "outputs": [
    {
     "name": "stderr",
     "output_type": "stream",
     "text": [
      "/usr/local/lib/python2.7/dist-packages/h5py/__init__.py:36: FutureWarning: Conversion of the second argument of issubdtype from `float` to `np.floating` is deprecated. In future, it will be treated as `np.float64 == np.dtype(float).type`.\n",
      "  from ._conv import register_converters as _register_converters\n"
     ]
    }
   ],
   "source": [
    "from chainer import Link, Chain, ChainList, Variable, optimizers, iterators\n",
    "import chainer.functions as F\n",
    "import chainer.links as L\n",
    "from chainer import cuda\n",
    "from chainer import initializers\n",
    "from chainer import serializers\n",
    "\n",
    "%matplotlib inline\n",
    "import matplotlib.pyplot as plt\n",
    "import numpy as np"
   ]
  },
  {
   "cell_type": "code",
   "execution_count": 2,
   "metadata": {},
   "outputs": [],
   "source": [
    "# GPU settings\n",
    "gpu_index = 0\n",
    "if gpu_index >= 0:\n",
    "    cuda.check_cuda_available()\n",
    "xp = cuda.cupy if gpu_index >= 0 else np"
   ]
  },
  {
   "cell_type": "markdown",
   "metadata": {},
   "source": [
    "# 車輪型ロボットモデル（対向2輪型）"
   ]
  },
  {
   "cell_type": "code",
   "execution_count": 3,
   "metadata": {},
   "outputs": [],
   "source": [
    "class CartLayer:\n",
    "    def __init__(self,batchsize=1):\n",
    "        self.cart_num = batchsize\n",
    "        self.pos = Variable(np.zeros( (batchsize,3), dtype=np.float32))\n",
    "        self.path = np.zeros( (1,batchsize,3),dtype=float)\n",
    "\n",
    "    def move(self,param):\n",
    "        if len(param) == self.cart_num:\n",
    "            dx = F.reshape(param[:,0] * F.cos(self.pos[:,2] + param[:,1]), (self.cart_num,1))\n",
    "            dy = F.reshape(param[:,0] * F.sin(self.pos[:,2] + param[:,1]), (self.cart_num,1))\n",
    "            dth = F.reshape(param[:,1], (self.cart_num,1))\n",
    "            D = F.concat((dx,dy),axis=1)\n",
    "            D = F.concat((D,dth),axis=1)\n",
    "            self.pos = self.pos + D\n",
    "            self.path = np.vstack([self.path,[self.pos.data]])\n",
    "            return self.pos\n",
    "        else:\n",
    "            print 'len(param) != cart_num'\n",
    "            return -1\n",
    "\n",
    "# 連続で動く\n",
    "def calc_car_pos(cart_layer, y):\n",
    "    for step in range(len(y[0])):\n",
    "        cart_layer.move(y[:,step])\n",
    "    # print car.path.shape  # (4step, 50batch, 3x-y-th)\n",
    "    # print car.pos.data.shape  # (50batch, 3x-y-th)\n",
    "    return cart_layer.pos"
   ]
  },
  {
   "cell_type": "markdown",
   "metadata": {},
   "source": [
    "# 経路の描画"
   ]
  },
  {
   "cell_type": "code",
   "execution_count": 4,
   "metadata": {},
   "outputs": [],
   "source": [
    "def plot_path(cart_path,target):\n",
    "    path = cart_path[:,0,:]\n",
    "    for i in range(1,len(path)):\n",
    "        plt.quiver(path[i-1,0],path[i-1,1]\n",
    "                   , path[i,0]-path[i-1,0],path[i,1]-path[i-1,1]\n",
    "                   ,scale_units='xy', angles='xy', scale=1,color=\"blue\")\n",
    "    plt.scatter(target[0],target[1],c=\"yellow\",s=500,marker=\"*\")\n",
    "    plt.xlabel(\"x\")\n",
    "    plt.ylabel(\"y\")\n",
    "    #plt.axis('scaled')\n",
    "    plt.xlim(-3,3)\n",
    "    plt.ylim(-3,3)\n",
    "    plt.grid()\n",
    "    plt.show()"
   ]
  },
  {
   "cell_type": "code",
   "execution_count": 5,
   "metadata": {
    "scrolled": true
   },
   "outputs": [
    {
     "data": {
      "image/png": "[encoded data removed]",
      "text/plain": [
       "<matplotlib.figure.Figure at 0x7f8a0f2e8b10>"
      ]
     },
     "metadata": {},
     "output_type": "display_data"
    },
    {
     "name": "stdout",
     "output_type": "stream",
     "text": [
      "[[[0.         0.         0.        ]]\n",
      "\n",
      " [[0.86602539 0.5        0.52359879]]\n",
      "\n",
      " [[1.36602533 1.36602545 1.04719758]]\n",
      "\n",
      " [[1.36602533 2.36602545 1.57079637]]]\n"
     ]
    },
    {
     "data": {
      "text/plain": [
       "''"
      ]
     },
     "execution_count": 5,
     "metadata": {},
     "output_type": "execute_result"
    }
   ],
   "source": [
    "''' sample '''\n",
    "v_arr = np.array([1.0,1.0,1.0],dtype=np.float32)\n",
    "w_arr = np.array([30.0,30.0,30.0],dtype=np.float32)\n",
    "w_arr = w_arr * np.pi/180\n",
    "y_data = np.vstack((v_arr,w_arr)).T\n",
    "yV = Variable(np.reshape(y_data,(1,3,2) )) \n",
    "\n",
    "sample_cart = CartLayer()\n",
    "pos = calc_car_pos(sample_cart,yV)\n",
    "plot_path(sample_cart.path,[0,0])\n",
    "print sample_cart.path\n",
    "''''''"
   ]
  },
  {
   "cell_type": "markdown",
   "metadata": {},
   "source": [
    "# ネットワーク"
   ]
  },
  {
   "cell_type": "code",
   "execution_count": 6,
   "metadata": {},
   "outputs": [],
   "source": [
    "class Generator(Chain):\n",
    "    def __init__(self):\n",
    "        initializer = initializers.HeNormal()\n",
    "        super(Generator, self).__init__(\n",
    "            l1=L.Linear(2, 15, initialW=initializer),\n",
    "            l2=L.Linear(15, 8, initialW=initializer),\n",
    "            l3=L.Linear(8, 6, initialW=initializer),\n",
    "        )\n",
    "    def __call__(self, x):\n",
    "        h1 = F.relu(self.l1(x))\n",
    "        h2 = F.relu(self.l2(h1))\n",
    "        h3 = self.l3(h2)\n",
    "        h4 = F.tanh(h3)\n",
    "        o = F.reshape(h4,(len(x),3,2))\n",
    "        return o\n",
    "    '''\n",
    "    def get_vw(self,output):\n",
    "        v = output[0,0:3]\n",
    "        w = output[0,3:6]\n",
    "        return v,w\n",
    "    '''"
   ]
  },
  {
   "cell_type": "markdown",
   "metadata": {},
   "source": [
    "**入出力を確認**"
   ]
  },
  {
   "cell_type": "code",
   "execution_count": 7,
   "metadata": {
    "scrolled": false
   },
   "outputs": [
    {
     "name": "stdout",
     "output_type": "stream",
     "text": [
      "[[3. 0.]]\n",
      "variable([[[-0.9867225  -0.84820765]\n",
      "           [ 0.7227415  -0.9984141 ]\n",
      "           [ 0.7267933   0.00864794]]])\n"
     ]
    },
    {
     "data": {
      "text/plain": [
       "' '"
      ]
     },
     "execution_count": 7,
     "metadata": {},
     "output_type": "execute_result"
    }
   ],
   "source": [
    "''' sample '''\n",
    "sample_model = Generator()\n",
    "sample_x_data = np.array([[3,0]],dtype=np.float32)\n",
    "sample_x = Variable(sample_x_data)\n",
    "print sample_x_data\n",
    "sample_y = sample_model(sample_x_data)\n",
    "print sample_y\n",
    "''' '''"
   ]
  },
  {
   "cell_type": "markdown",
   "metadata": {},
   "source": [
    "### 2018/10/24　オフィスアワー\n",
    "\n",
    "---\n",
    "問題点  \n",
    "* **（0,0）で動かなければ損失が少ないと学習してしまう**  \n",
    "    ・極座標系で距離を一定に学習する\n",
    "    \n",
    "    \n",
    "* **optimizers.update() **  \n",
    "    ・勾配を手動計算する場合は引数不要・勾配リセットも必要  \n",
    "    ・そうでない場合はloss_functionを引数に渡す\n",
    "\n",
    "その他  \n",
    "* **Variable配列の型が違って気持ち悪いので行列演算にしたい**"
   ]
  },
  {
   "cell_type": "markdown",
   "metadata": {},
   "source": [
    "# 極座標変換"
   ]
  },
  {
   "cell_type": "code",
   "execution_count": 8,
   "metadata": {
    "scrolled": true
   },
   "outputs": [
    {
     "name": "stdout",
     "output_type": "stream",
     "text": [
      "[1, 1]\n",
      "[1.4142135623730951, 45.0]\n"
     ]
    },
    {
     "data": {
      "image/png": "[encoded data removed]",
      "text/plain": [
       "<matplotlib.figure.Figure at 0x7f8a0f2acf10>"
      ]
     },
     "metadata": {},
     "output_type": "display_data"
    }
   ],
   "source": [
    "# 極座標変換\n",
    "def to_polar_coordinate(x,y):\n",
    "    r = np.sqrt(x**2 + y**2)\n",
    "    theta = np.arctan2(y,x)\n",
    "    return r,theta\n",
    "# 直交座標変換\n",
    "def to_cartesian_coordinate(r,theta):\n",
    "    x = r * np.cos(theta)\n",
    "    y = r * np.sin(theta)\n",
    "    return x,y\n",
    "\n",
    "sample_x,sample_y = [1,1]\n",
    "sample_r,sample_theta = to_polar_coordinate(sample_x,sample_y)\n",
    "print [sample_x,sample_y]\n",
    "print [sample_r, sample_theta*180/np.pi]\n",
    "# 直交系グラフ\n",
    "ax1 = plt.subplot(1,2,1)\n",
    "ax1.scatter(sample_x,sample_y)\n",
    "ax1.axis([-3,3,-3,3])\n",
    "ax1.grid(True)\n",
    "\n",
    "# 極座標系グラフ\n",
    "ax2 = plt.subplot(1,2,2,polar=True)\n",
    "ax2.scatter(sample_theta,sample_r)\n",
    "ax2.set_rmax(3)\n",
    "ax2.grid(True)\n"
   ]
  },
  {
   "cell_type": "markdown",
   "metadata": {},
   "source": [
    "# 訓練データの作成\n",
    "\n",
    "* 極座標系で角度をランダムに指定  \n",
    "\n",
    "\\begin{equation*}\n",
    "\\begin{bmatrix}\n",
    "r = 2 \\\\\n",
    "-\\frac{π}{2} < θ < \\frac{π}{2}\n",
    "\\end{bmatrix}\n",
    "\\end{equation*}"
   ]
  },
  {
   "cell_type": "code",
   "execution_count": 9,
   "metadata": {
    "scrolled": true
   },
   "outputs": [
    {
     "name": "stdout",
     "output_type": "stream",
     "text": [
      "DATA_SHAPE(1000, 2)\n"
     ]
    },
    {
     "data": {
      "text/plain": [
       "array([[ 0.3087263 ,  1.9760283 ],\n",
       "       [ 1.7075903 ,  1.0412182 ],\n",
       "       [ 1.4492782 ,  1.378257  ],\n",
       "       ...,\n",
       "       [ 0.42721894, -1.9538382 ],\n",
       "       [ 1.9920504 ,  0.17814367],\n",
       "       [ 1.9109824 , -0.5900393 ]], dtype=float32)"
      ]
     },
     "execution_count": 9,
     "metadata": {},
     "output_type": "execute_result"
    },
    {
     "data": {
      "image/png": "[encoded data removed]",
      "text/plain": [
       "<matplotlib.figure.Figure at 0x7f8a78090490>"
      ]
     },
     "metadata": {},
     "output_type": "display_data"
    }
   ],
   "source": [
    "def random_point(size):\n",
    "    r = np.full(size, 2)\n",
    "    theta = np.random.rand(size) * np.pi - (np.pi/2)\n",
    "    # theta = np.random.rand(size) * 2 * np.pi - (np.pi)\n",
    "    return r, theta\n",
    "\n",
    "def generate_dataset(r,theta,plot=0):\n",
    "    x,y = to_cartesian_coordinate(r,theta)\n",
    "    x_data = np.vstack([x,y])\n",
    "    x_data = x_data.T\n",
    "    x_data = np.array(x_data, dtype=np.float32)\n",
    "    print 'DATA_SHAPE{}'.format(x_data.shape)\n",
    "    if (plot>0) :\n",
    "        fig1 = plt.subplot(1,2,2,polar=True)\n",
    "        fig1.scatter(theta,r)\n",
    "        fig1.set_rmax(3)\n",
    "        fig1.grid(True)\n",
    "\n",
    "        fig2 = plt.subplot(1,2,1)\n",
    "        fig2.scatter(x,y)\n",
    "        fig2.axis([-3,3,0,3])\n",
    "        plt.axis('scaled')\n",
    "        fig2.grid(True)\n",
    "    return x_data\n",
    "r, theta = random_point(1000)\n",
    "generate_dataset(r,theta,plot=1)\n",
    "# print x_data"
   ]
  },
  {
   "cell_type": "markdown",
   "metadata": {},
   "source": [
    "# 損失関数"
   ]
  },
  {
   "cell_type": "code",
   "execution_count": 10,
   "metadata": {},
   "outputs": [
    {
     "data": {
      "text/plain": [
       "'\\nsample_y    = Variable(np.array([[[1,2], [1,2], [1,2]], [[3,4], [3,4], [3,4]]] ,dtype=np.float32 ))\\nsample_pred = Variable(np.array([[1,1,0], [1,1,0]] ,dtype=np.float32 ))\\nsample_true = Variable(np.array([[1,1], [1,1]] ,dtype=np.float32 ))\\n\\n#sample_y    = Variable(np.array([[[2,2,2], [1,1,1]]] ,dtype=np.float32 ))\\n#sample_pred = Variable(np.array([[1,1,0]] ,dtype=np.float32 ))\\n#sample_true = Variable(np.array([[1,1]] ,dtype=np.float32 ))\\n\\nprint loss_function(sample_y, sample_pred, sample_true)\\n'"
      ]
     },
     "execution_count": 10,
     "metadata": {},
     "output_type": "execute_result"
    }
   ],
   "source": [
    "def calc_distance(predpos,truepos):\n",
    "    px, py, _ = predpos\n",
    "    tx, ty = truepos\n",
    "    D = F.sqrt( (tx-px)**2 + (ty-py)**2 )\n",
    "    # print \"p:{},{} t:{},{}  = D:{}\".format(px,py,tx,ty,D)\n",
    "    return D\n",
    "\n",
    "#sample_p = Variable(np.array([-0.04729605 , 3.132064, 0], dtype=np.float32))\n",
    "#sample_t = Variable(np.array([-0.9656074  ,1.9671886], dtype=np.float32))\n",
    "#print calc_distance(sample_p,sample_t)\n",
    "# 1.4833174\n",
    "\n",
    "def velo_diff(v):\n",
    "    # v (batch,3)\n",
    "    V = np.zeros(len(v),dtype=np.float32)\n",
    "    for i in range(len(v[0])-1):\n",
    "        diff = v[:,i] - v[:,i+1]\n",
    "        # print '{} = {} - {}'.format(diff, v[:,i], v[:,i+1])\n",
    "        V = V + diff*diff\n",
    "    init_v = np.zeros(len(v),dtype=np.float32)\n",
    "    diff = init_v - v[:,0]\n",
    "    # print '{} = {} - {}'.format(diff, init_v, v[:,0])\n",
    "    V = V + diff*diff\n",
    "    return V\n",
    "    \n",
    "def loss_function(y, predpos, truepos):\n",
    "    ppos = F.transpose(predpos) #(batch,3) -> (3,batch)\n",
    "    tpos = F.transpose(truepos) #(2,batch)\n",
    "    # print ppos\n",
    "    # print tpos\n",
    "    D = calc_distance(ppos, tpos)\n",
    "    v = y[:,:,0]\n",
    "    w = y[:,:,1]\n",
    "    V = velo_diff(v)\n",
    "    W = velo_diff(w)\n",
    "    E = (1*D) + (1*V) + (1*W)\n",
    "    # print 'D :{}'.format(D)\n",
    "    # print 'V :{}, v:{}'.format(V,v)\n",
    "    # print 'W :{}, w:{}'.format(W,w)\n",
    "    loss = F.mean(E)\n",
    "    return loss\n",
    "\n",
    "'''\n",
    "sample_y    = Variable(np.array([[[1,2], [1,2], [1,2]], [[3,4], [3,4], [3,4]]] ,dtype=np.float32 ))\n",
    "sample_pred = Variable(np.array([[1,1,0], [1,1,0]] ,dtype=np.float32 ))\n",
    "sample_true = Variable(np.array([[1,1], [1,1]] ,dtype=np.float32 ))\n",
    "\n",
    "#sample_y    = Variable(np.array([[[2,2,2], [1,1,1]]] ,dtype=np.float32 ))\n",
    "#sample_pred = Variable(np.array([[1,1,0]] ,dtype=np.float32 ))\n",
    "#sample_true = Variable(np.array([[1,1]] ,dtype=np.float32 ))\n",
    "\n",
    "print loss_function(sample_y, sample_pred, sample_true)\n",
    "'''"
   ]
  },
  {
   "cell_type": "markdown",
   "metadata": {},
   "source": [
    "# 訓練"
   ]
  },
  {
   "cell_type": "code",
   "execution_count": 11,
   "metadata": {
    "scrolled": false
   },
   "outputs": [
    {
     "name": "stdout",
     "output_type": "stream",
     "text": [
      "DATA_SHAPE(1000, 2)\n",
      "20: loss 5.011236\n",
      "40: loss 4.301013\n",
      "60: loss 3.7319615\n",
      "80: loss 3.148956\n",
      "100: loss 2.2507627\n",
      "120: loss 2.067549\n",
      "140: loss 1.8073689\n",
      "160: loss 1.7962016\n",
      "180: loss 1.430092\n",
      "200: loss 1.7400696\n",
      "220: loss 1.3789777\n",
      "240: loss 0.9865264\n",
      "260: loss 1.3208753\n",
      "280: loss 1.0754968\n",
      "300: loss 0.9471739\n",
      "320: loss 1.0712245\n",
      "340: loss 1.2395556\n",
      "360: loss 1.0151043\n",
      "380: loss 0.66424173\n",
      "400: loss 0.87321484\n",
      "420: loss 0.9766553\n",
      "440: loss 0.9442439\n",
      "460: loss 0.8712034\n",
      "480: loss 0.87307674\n",
      "500: loss 0.791226\n",
      "520: loss 0.7607505\n",
      "540: loss 0.6176579\n",
      "560: loss 0.77083725\n",
      "580: loss 0.78765124\n",
      "600: loss 0.72895604\n",
      "620: loss 0.63720745\n",
      "640: loss 0.49308968\n",
      "660: loss 0.5025663\n",
      "680: loss 0.6300916\n",
      "700: loss 0.5269926\n",
      "720: loss 0.551542\n",
      "740: loss 0.7227749\n",
      "760: loss 0.69519395\n",
      "780: loss 0.5372016\n",
      "800: loss 0.5332892\n",
      "820: loss 0.62048405\n",
      "840: loss 0.5692751\n",
      "860: loss 0.46173248\n",
      "880: loss 0.53010863\n",
      "900: loss 0.5730418\n",
      "920: loss 0.5081902\n",
      "940: loss 0.4744063\n",
      "960: loss 0.5386631\n",
      "980: loss 0.45048466\n",
      "1000: loss 0.5212841\n",
      "1020: loss 0.52785486\n",
      "1040: loss 0.51670057\n",
      "1060: loss 0.62799925\n",
      "1080: loss 0.44171435\n",
      "1100: loss 0.5373456\n",
      "1120: loss 0.4919177\n",
      "1140: loss 0.49453637\n",
      "1160: loss 0.55831826\n",
      "1180: loss 0.6179931\n",
      "1200: loss 0.5749648\n",
      "1220: loss 0.5879709\n",
      "1240: loss 0.459098\n",
      "1260: loss 0.4666197\n",
      "1280: loss 0.6003347\n",
      "1300: loss 0.4966302\n",
      "1320: loss 0.5101261\n",
      "1340: loss 0.46067515\n",
      "1360: loss 0.5919822\n",
      "1380: loss 0.51596254\n",
      "1400: loss 0.5071948\n",
      "1420: loss 0.48523617\n",
      "1440: loss 0.44219157\n",
      "1460: loss 0.64734775\n",
      "1480: loss 0.51386595\n",
      "1500: loss 0.42526108\n",
      "1520: loss 0.5173318\n",
      "1540: loss 0.5236773\n",
      "1560: loss 0.595481\n",
      "1580: loss 0.56848013\n",
      "1600: loss 0.42988655\n",
      "1620: loss 0.45356765\n",
      "1640: loss 0.44162413\n",
      "1660: loss 0.51275724\n",
      "1680: loss 0.5578133\n",
      "1700: loss 0.49715978\n",
      "1720: loss 0.43202192\n",
      "1740: loss 0.51171786\n",
      "1760: loss 0.58609456\n",
      "1780: loss 0.4891993\n",
      "1800: loss 0.47988087\n",
      "1820: loss 0.5566281\n",
      "1840: loss 0.4195114\n",
      "1860: loss 0.50140935\n",
      "1880: loss 0.48554817\n",
      "1900: loss 0.5314287\n",
      "1920: loss 0.46715546\n",
      "1940: loss 0.44847614\n",
      "1960: loss 0.530495\n",
      "1980: loss 0.4324255\n",
      "2000: loss 0.47910997\n",
      "2020: loss 0.45157441\n",
      "2040: loss 0.5226145\n",
      "2060: loss 0.5033583\n",
      "2080: loss 0.5051761\n",
      "2100: loss 0.47349533\n",
      "2120: loss 0.58948237\n",
      "2140: loss 0.4593577\n",
      "2160: loss 0.49728376\n",
      "2180: loss 0.5408312\n",
      "2200: loss 0.3986547\n",
      "2220: loss 0.51346534\n",
      "2240: loss 0.5223579\n",
      "2260: loss 0.51323324\n",
      "2280: loss 0.56294405\n",
      "2300: loss 0.4594229\n",
      "2320: loss 0.4720398\n",
      "2340: loss 0.48575827\n",
      "2360: loss 0.44497713\n",
      "2380: loss 0.48706958\n",
      "2400: loss 0.65512484\n",
      "2420: loss 0.4815615\n",
      "2440: loss 0.5180146\n",
      "2460: loss 0.4477318\n",
      "2480: loss 0.54175097\n",
      "2500: loss 0.5344271\n",
      "2520: loss 0.48336002\n",
      "2540: loss 0.5554564\n",
      "2560: loss 0.44211254\n",
      "2580: loss 0.49906316\n",
      "2600: loss 0.4887093\n",
      "2620: loss 0.4471705\n",
      "2640: loss 0.49963742\n",
      "2660: loss 0.44255772\n",
      "2680: loss 0.55557984\n",
      "2700: loss 0.437409\n",
      "2720: loss 0.44963327\n",
      "2740: loss 0.47431785\n",
      "2760: loss 0.47988153\n",
      "2780: loss 0.46892095\n",
      "2800: loss 0.40526924\n",
      "2820: loss 0.48054224\n",
      "2840: loss 0.5202693\n",
      "2860: loss 0.5402264\n",
      "2880: loss 0.57434875\n",
      "2900: loss 0.49318886\n",
      "2920: loss 0.49061105\n",
      "2940: loss 0.4185713\n",
      "2960: loss 0.42658386\n",
      "2980: loss 0.43600342\n",
      "3000: loss 0.61787266\n",
      "3020: loss 0.47741586\n",
      "3040: loss 0.48864728\n",
      "3060: loss 0.453115\n",
      "3080: loss 0.55605763\n",
      "3100: loss 0.47772384\n",
      "3120: loss 0.394551\n",
      "3140: loss 0.4632682\n",
      "3160: loss 0.5405938\n",
      "3180: loss 0.49896023\n",
      "3200: loss 0.5481978\n",
      "3220: loss 0.55816627\n",
      "3240: loss 0.4674158\n",
      "3260: loss 0.41387582\n",
      "3280: loss 0.5339772\n",
      "3300: loss 0.6014389\n",
      "3320: loss 0.6245227\n",
      "3340: loss 0.4480271\n",
      "3360: loss 0.4835309\n",
      "3380: loss 0.444525\n",
      "3400: loss 0.45402867\n",
      "3420: loss 0.5257618\n",
      "3440: loss 0.40181765\n",
      "3460: loss 0.48013592\n",
      "3480: loss 0.49205112\n",
      "3500: loss 0.63723534\n",
      "3520: loss 0.5133927\n",
      "3540: loss 0.45295095\n",
      "3560: loss 0.46137735\n",
      "3580: loss 0.46149907\n",
      "3600: loss 0.4035344\n",
      "3620: loss 0.48064288\n",
      "3640: loss 0.5722346\n",
      "3660: loss 0.4621322\n",
      "3680: loss 0.40941414\n",
      "3700: loss 0.4809722\n",
      "3720: loss 0.56310743\n",
      "3740: loss 0.39347646\n",
      "3760: loss 0.5019726\n",
      "3780: loss 0.49103504\n",
      "3800: loss 0.5058234\n",
      "3820: loss 0.49465248\n",
      "3840: loss 0.4501102\n",
      "3860: loss 0.51010203\n",
      "3880: loss 0.48372164\n",
      "3900: loss 0.43524048\n",
      "3920: loss 0.43147635\n",
      "3940: loss 0.44924092\n",
      "3960: loss 0.47370583\n",
      "3980: loss 0.45494252\n",
      "4000: loss 0.50159144\n",
      "4020: loss 0.45419756\n",
      "4040: loss 0.521873\n",
      "4060: loss 0.41619465\n",
      "4080: loss 0.5255756\n",
      "4100: loss 0.53314984\n",
      "4120: loss 0.49604592\n",
      "4140: loss 0.53932875\n",
      "4160: loss 0.45005712\n",
      "4180: loss 0.45493346\n",
      "4200: loss 0.45236906\n",
      "4220: loss 0.49387708\n",
      "4240: loss 0.50351435\n",
      "4260: loss 0.58492947\n",
      "4280: loss 0.49392578\n",
      "4300: loss 0.4094425\n",
      "4320: loss 0.47302827\n",
      "4340: loss 0.46253917\n",
      "4360: loss 0.3902087\n",
      "4380: loss 0.5112985\n",
      "4400: loss 0.5185155\n",
      "4420: loss 0.5181848\n",
      "4440: loss 0.42847356\n",
      "4460: loss 0.4469069\n",
      "4480: loss 0.38827938\n",
      "4500: loss 0.4396058\n",
      "4520: loss 0.57489675\n",
      "4540: loss 0.43599787\n",
      "4560: loss 0.3845372\n",
      "4580: loss 0.55131465\n",
      "4600: loss 0.3613746\n",
      "4620: loss 0.42653137\n",
      "4640: loss 0.50802755\n",
      "4660: loss 0.37314555\n",
      "4680: loss 0.37602776\n",
      "4700: loss 0.5398854\n",
      "4720: loss 0.5127724\n",
      "4740: loss 0.48908925\n",
      "4760: loss 0.38658375\n",
      "4780: loss 0.5365258\n",
      "4800: loss 0.44244114\n",
      "4820: loss 0.56895316\n",
      "4840: loss 0.40897146\n",
      "4860: loss 0.54911715\n",
      "4880: loss 0.5181708\n",
      "4900: loss 0.52416867\n",
      "4920: loss 0.4402568\n",
      "4940: loss 0.47719643\n",
      "4960: loss 0.47125173\n",
      "4980: loss 0.4810492\n",
      "5000: loss 0.4521627\n",
      "5020: loss 0.4767642\n",
      "5040: loss 0.57439524\n",
      "5060: loss 0.38309684\n",
      "5080: loss 0.47673312\n",
      "5100: loss 0.464952\n",
      "5120: loss 0.47224608\n",
      "5140: loss 0.5173821\n",
      "5160: loss 0.46736032\n",
      "5180: loss 0.4561127\n",
      "5200: loss 0.41478816\n",
      "5220: loss 0.46972352\n",
      "5240: loss 0.48480096\n",
      "5260: loss 0.51536465\n",
      "5280: loss 0.4113248\n",
      "5300: loss 0.42993227\n",
      "5320: loss 0.4287139\n",
      "5340: loss 0.53533596\n",
      "5360: loss 0.43125\n",
      "5380: loss 0.54178697\n",
      "5400: loss 0.46872655\n",
      "5420: loss 0.45786127\n",
      "5440: loss 0.45909962\n",
      "5460: loss 0.49984843\n",
      "5480: loss 0.40582585\n",
      "5500: loss 0.4407917\n",
      "5520: loss 0.42873165\n",
      "5540: loss 0.3730037\n",
      "5560: loss 0.5365332\n",
      "5580: loss 0.46625003\n",
      "5600: loss 0.4731245\n",
      "5620: loss 0.41055065\n",
      "5640: loss 0.46703076\n",
      "5660: loss 0.47565255\n",
      "5680: loss 0.47273993\n",
      "5700: loss 0.49499717\n",
      "5720: loss 0.45339075\n",
      "5740: loss 0.40664187\n",
      "5760: loss 0.49208352\n",
      "5780: loss 0.5429332\n",
      "5800: loss 0.47093174\n",
      "5820: loss 0.48740917\n",
      "5840: loss 0.51338494\n",
      "5860: loss 0.43083516\n",
      "5880: loss 0.5503318\n",
      "5900: loss 0.46160507\n",
      "5920: loss 0.445649\n",
      "5940: loss 0.47905675\n",
      "5960: loss 0.43790087\n",
      "5980: loss 0.5517198\n",
      "6000: loss 0.44881216\n",
      "6020: loss 0.41969797\n",
      "6040: loss 0.56977785\n",
      "6060: loss 0.4999908\n",
      "6080: loss 0.53425324\n",
      "6100: loss 0.48449302\n",
      "6120: loss 0.46213785\n",
      "6140: loss 0.47356352\n",
      "6160: loss 0.45718604\n",
      "6180: loss 0.5552303\n",
      "6200: loss 0.40271717\n",
      "6220: loss 0.56688523\n",
      "6240: loss 0.54639745\n",
      "6260: loss 0.4604648\n",
      "6280: loss 0.44496226\n",
      "6300: loss 0.48095617\n",
      "6320: loss 0.5562331\n",
      "6340: loss 0.5007165\n",
      "6360: loss 0.43042335\n",
      "6380: loss 0.47489595\n",
      "6400: loss 0.38497564\n",
      "6420: loss 0.46759245\n",
      "6440: loss 0.4177783\n",
      "6460: loss 0.53151524\n",
      "6480: loss 0.42130515\n",
      "6500: loss 0.41616198\n",
      "6520: loss 0.5390875\n",
      "6540: loss 0.49616557\n",
      "6560: loss 0.4494527\n",
      "6580: loss 0.54562247\n",
      "6600: loss 0.48351607\n",
      "6620: loss 0.42198768\n",
      "6640: loss 0.4239827\n",
      "6660: loss 0.5034617\n",
      "6680: loss 0.43359342\n",
      "6700: loss 0.50879556\n",
      "6720: loss 0.5172736\n",
      "6740: loss 0.52460283\n",
      "6760: loss 0.44234028\n",
      "6780: loss 0.54798007\n",
      "6800: loss 0.5130518\n",
      "6820: loss 0.5193874\n",
      "6840: loss 0.53862697\n",
      "6860: loss 0.51875937\n",
      "6880: loss 0.5140134\n",
      "6900: loss 0.47099343\n",
      "6920: loss 0.489554\n",
      "6940: loss 0.5169407\n",
      "6960: loss 0.52515155\n",
      "6980: loss 0.39912793\n",
      "7000: loss 0.55299854\n",
      "7020: loss 0.48803422\n",
      "7040: loss 0.5402939\n",
      "7060: loss 0.3737486\n",
      "7080: loss 0.5075663\n",
      "7100: loss 0.50410044\n",
      "7120: loss 0.48600683\n",
      "7140: loss 0.45647237\n",
      "7160: loss 0.42642996\n",
      "7180: loss 0.5844059\n",
      "7200: loss 0.42186394\n",
      "7220: loss 0.4831371\n",
      "7240: loss 0.49598074\n",
      "7260: loss 0.4740195\n",
      "7280: loss 0.4326503\n",
      "7300: loss 0.39099905\n",
      "7320: loss 0.53723973\n",
      "7340: loss 0.48603702\n",
      "7360: loss 0.4466884\n",
      "7380: loss 0.46375266\n",
      "7400: loss 0.47567716\n",
      "7420: loss 0.45722255\n",
      "7440: loss 0.63752574\n",
      "7460: loss 0.44661328\n",
      "7480: loss 0.45383164\n",
      "7500: loss 0.47956085\n",
      "7520: loss 0.3872884\n",
      "7540: loss 0.54135233\n",
      "7560: loss 0.5978346\n",
      "7580: loss 0.4219702\n",
      "7600: loss 0.50216174\n",
      "7620: loss 0.46147785\n",
      "7640: loss 0.51695234\n",
      "7660: loss 0.41946435\n"
     ]
    },
    {
     "name": "stdout",
     "output_type": "stream",
     "text": [
      "7680: loss 0.489801\n",
      "7700: loss 0.43274155\n",
      "7720: loss 0.41271725\n",
      "7740: loss 0.41720435\n",
      "7760: loss 0.47263226\n",
      "7780: loss 0.38986143\n",
      "7800: loss 0.43177062\n",
      "7820: loss 0.48510757\n",
      "7840: loss 0.44444156\n",
      "7860: loss 0.50905436\n",
      "7880: loss 0.46638155\n",
      "7900: loss 0.45014873\n",
      "7920: loss 0.45952207\n",
      "7940: loss 0.43928152\n",
      "7960: loss 0.43330765\n",
      "7980: loss 0.39071333\n",
      "8000: loss 0.43330774\n",
      "8020: loss 0.47866097\n",
      "8040: loss 0.51263446\n",
      "8060: loss 0.53770393\n",
      "8080: loss 0.49257484\n",
      "8100: loss 0.41424832\n",
      "8120: loss 0.45105052\n",
      "8140: loss 0.5138745\n",
      "8160: loss 0.3946745\n",
      "8180: loss 0.45034215\n",
      "8200: loss 0.41877022\n",
      "8220: loss 0.585332\n",
      "8240: loss 0.4401556\n",
      "8260: loss 0.40855345\n",
      "8280: loss 0.41989103\n",
      "8300: loss 0.41191846\n",
      "8320: loss 0.49810743\n",
      "8340: loss 0.54607356\n",
      "8360: loss 0.41411677\n",
      "8380: loss 0.47054735\n",
      "8400: loss 0.5312368\n",
      "8420: loss 0.3804808\n",
      "8440: loss 0.54235077\n",
      "8460: loss 0.49587736\n",
      "8480: loss 0.4641667\n",
      "8500: loss 0.4574719\n",
      "8520: loss 0.44767448\n",
      "8540: loss 0.47238764\n",
      "8560: loss 0.47077242\n",
      "8580: loss 0.51984876\n",
      "8600: loss 0.54400134\n",
      "8620: loss 0.54519594\n",
      "8640: loss 0.41961095\n",
      "8660: loss 0.4629695\n",
      "8680: loss 0.5626931\n",
      "8700: loss 0.58654827\n",
      "8720: loss 0.44062582\n",
      "8740: loss 0.41372982\n",
      "8760: loss 0.40979466\n",
      "8780: loss 0.51446027\n",
      "8800: loss 0.4418319\n",
      "8820: loss 0.5731924\n",
      "8840: loss 0.46651456\n",
      "8860: loss 0.48283044\n",
      "8880: loss 0.44697618\n",
      "8900: loss 0.5652309\n",
      "8920: loss 0.47794667\n",
      "8940: loss 0.4668021\n",
      "8960: loss 0.49671015\n",
      "8980: loss 0.368546\n",
      "9000: loss 0.47709256\n",
      "9020: loss 0.5559465\n",
      "9040: loss 0.50856036\n",
      "9060: loss 0.5095827\n",
      "9080: loss 0.5343354\n",
      "9100: loss 0.40934467\n",
      "9120: loss 0.5298056\n",
      "9140: loss 0.5003798\n",
      "9160: loss 0.50932014\n",
      "9180: loss 0.5296379\n",
      "9200: loss 0.4069295\n",
      "9220: loss 0.39582312\n",
      "9240: loss 0.5191742\n",
      "9260: loss 0.50132775\n",
      "9280: loss 0.4498027\n",
      "9300: loss 0.41961884\n",
      "9320: loss 0.4714202\n",
      "9340: loss 0.42858225\n",
      "9360: loss 0.48236474\n",
      "9380: loss 0.46839792\n",
      "9400: loss 0.4904944\n",
      "9420: loss 0.43769702\n",
      "9440: loss 0.47699887\n",
      "9460: loss 0.4351817\n",
      "9480: loss 0.43997583\n",
      "9500: loss 0.44609258\n",
      "9520: loss 0.47440907\n",
      "9540: loss 0.51471484\n",
      "9560: loss 0.4958782\n",
      "9580: loss 0.51319253\n",
      "9600: loss 0.50568265\n",
      "9620: loss 0.42836562\n",
      "9640: loss 0.472318\n",
      "9660: loss 0.49059325\n",
      "9680: loss 0.5368715\n",
      "9700: loss 0.46542802\n",
      "9720: loss 0.5190617\n",
      "9740: loss 0.44478947\n",
      "9760: loss 0.40197235\n",
      "9780: loss 0.56440896\n",
      "9800: loss 0.52133745\n",
      "9820: loss 0.4122605\n",
      "9840: loss 0.5790521\n",
      "9860: loss 0.49371392\n",
      "9880: loss 0.44503593\n",
      "9900: loss 0.55318195\n",
      "9920: loss 0.3876428\n",
      "9940: loss 0.40400472\n",
      "9960: loss 0.45349336\n",
      "9980: loss 0.40703654\n",
      "10000: loss 0.40077502\n"
     ]
    }
   ],
   "source": [
    "def train(x_data, max_epoch, batch_size, snapshot=10):\n",
    "    model = Generator()\n",
    "    opt = optimizers.Adam()\n",
    "    gpu_id = -1\n",
    "    if gpu_id >= 0:\n",
    "        model.to_gpu(gpu_id)\n",
    "    train_iter = iterators.SerialIterator(x_data, batch_size)\n",
    "    opt.setup(model)\n",
    "    epoch = 0\n",
    "    while train_iter.epoch < max_epoch:\n",
    "        train_batch = np.array(train_iter.next())\n",
    "        x = Variable(train_batch.astype(np.float32).reshape(len(train_batch),2))\n",
    "        y = model(x)\n",
    "        truepos = Variable(train_batch.astype(np.float32).reshape(len(train_batch),2))\n",
    "        car = CartLayer(len(y))\n",
    "        predpos = calc_car_pos(car, y)\n",
    "        loss = loss_function(y,predpos,truepos)\n",
    "        model.cleargrads()\n",
    "        loss.backward()\n",
    "        opt.update(loss_function,y,predpos,truepos)\n",
    "        epoch = epoch + 1\n",
    "        if (epoch % snapshot)==0:\n",
    "            print str(epoch)+\": loss \"+str(loss.data)\n",
    "            # print model.l1.W.grad\n",
    "            # plot_path(car.path, target_pos.data)\n",
    "    return model\n",
    "\n",
    "# parameter\n",
    "batch_size = 10\n",
    "max_epoch  = 100\n",
    "snapshot = 20\n",
    "# dataset\n",
    "data_size  = 1000\n",
    "r, theta = random_point(data_size)\n",
    "x_data = generate_dataset(r,theta)\n",
    "model = train(x_data, max_epoch, batch_size, snapshot)"
   ]
  },
  {
   "cell_type": "markdown",
   "metadata": {},
   "source": [
    "# 推論"
   ]
  },
  {
   "cell_type": "code",
   "execution_count": 27,
   "metadata": {
    "scrolled": true
   },
   "outputs": [
    {
     "name": "stdout",
     "output_type": "stream",
     "text": [
      "DATA_SHAPE(1, 2)\n",
      "loss: variable(0.5169265)bbbbb\n",
      "v,w: \n",
      "variable([[[ 0.4348397  -0.3686374 ]\n",
      "           [ 0.77139306 -0.52967757]\n",
      "           [ 0.9652716  -0.549229  ]]])\n"
     ]
    },
    {
     "data": {
      "image/png": "[encoded data removed]",
      "text/plain": [
       "<matplotlib.figure.Figure at 0x7f89f7419fd0>"
      ]
     },
     "metadata": {},
     "output_type": "display_data"
    }
   ],
   "source": [
    "def predict(model, x_test, plot=0):\n",
    "    x_data = Variable(x_test)\n",
    "    o = model(x_data)\n",
    "    car = CartLayer(len(o))\n",
    "    predpos = calc_car_pos(car, o)\n",
    "    truepos = Variable(x_test)\n",
    "    loss = loss_function(o,predpos, truepos)\n",
    "    print \"loss: {}bbbbb\".format(loss)\n",
    "    print \"v,w: \\n{}\".format(o)\n",
    "    # print car.path\n",
    "    if(plot>0):\n",
    "        plot_path(car.path, x_data.data[0])\n",
    "\n",
    "sample_r     = [2]\n",
    "sample_theta = [np.deg2rad(-60)]\n",
    "sample_x_test = generate_dataset(sample_r,sample_theta)\n",
    "predict(model, sample_x_test, plot=1)"
   ]
  },
  {
   "cell_type": "markdown",
   "metadata": {},
   "source": [
    "# 重みの保存と読み込み"
   ]
  },
  {
   "cell_type": "code",
   "execution_count": 13,
   "metadata": {},
   "outputs": [],
   "source": [
    "# save\n",
    "def save_pretrained(model, name):\n",
    "    serializers.save_npz(name, model)\n",
    "\n",
    "save_pretrained(model, 'tmp.model')"
   ]
  },
  {
   "cell_type": "code",
   "execution_count": 14,
   "metadata": {},
   "outputs": [
    {
     "name": "stdout",
     "output_type": "stream",
     "text": [
      "1000data10batch100epoch_20190201162128.model\n"
     ]
    }
   ],
   "source": [
    "# rename model\n",
    "import os\n",
    "import datetime\n",
    "\n",
    "name_date = '{0:%Y%m%d%H%M%S}'.format(datetime.datetime.now())\n",
    "name_epoch = '{}epoch'.format(max_epoch)\n",
    "name_batch = '{}batch'.format(batch_size)\n",
    "name_datasize  = '{}data'.format(data_size)\n",
    "model_name = name_datasize + name_batch + name_epoch + '_' + name_date + '.model' \n",
    "print model_name\n",
    "# os.rename('tmp.model', model_name)"
   ]
  },
  {
   "cell_type": "code",
   "execution_count": 15,
   "metadata": {},
   "outputs": [
    {
     "name": "stdout",
     "output_type": "stream",
     "text": [
      "DATA_SHAPE(1, 2)\n",
      "loss: variable(0.2987355)bbbbb\n",
      "v,w: \n",
      "variable([[[ 0.42097545 -0.01303103]\n",
      "           [ 0.7187794  -0.00227076]\n",
      "           [ 0.84534234  0.03157258]]])\n"
     ]
    }
   ],
   "source": [
    "# load\n",
    "def load_pretrained(name):\n",
    "    load_model = Generator()\n",
    "    serializers.load_npz(name, load_model)\n",
    "    return load_model\n",
    "\n",
    "load_model = load_pretrained('tmp.model')\n",
    "\n",
    "sample_r     = [2]\n",
    "sample_theta = [np.deg2rad(0)]\n",
    "sample_x_test = generate_dataset(sample_r,sample_theta)\n",
    "predict(load_model, sample_x_test, plot=0)"
   ]
  },
  {
   "cell_type": "markdown",
   "metadata": {},
   "source": [
    "### 2018/11/27\n",
    "---\n",
    "* バッチで処理 →　学習回数を増やしてデータを取る\n",
    "* ネットワークを変える"
   ]
  },
  {
   "cell_type": "markdown",
   "metadata": {},
   "source": [
    "### 2019/01/22 オフィスアワー \n",
    "\n",
    "* 次元ごとにforwordして結果を比較 \n",
    "* lossを貯めて擬似的にmini-batch処理\n",
    "* chainer SLAM 藤本さん qiita の記事?\n",
    "* 同次変換行列ができれば...\n",
    "* バッチ処理は先送りするのも検討\n",
    "* 経路の途中の計算を諦めて評価値だけ天から降ってくるものとして扱う案\n",
    "* NNで最適制御（普通の制御よりは複雑（非線形項））\n",
    "* 前後左右の加減速（ドローンの風で安定しないなど）\n",
    "\n",
    "### 次回までの課題\n",
    "* 180度を跨がない\n",
    "  - -90～90度の範囲で学習\n",
    "  \n",
    "* tanh (-1 ~ 1)やシグモイド(正)で無茶な加減速を抑制\n",
    "  - tanh層を加えた\n",
    "  - 最大速度　　:１\n",
    "  - 最大角速度　:\n",
    "\n",
    "* 学習回数を増やして結果を比較\n",
    "  - 今まで1000データ 5エポック\n",
    "  - 今回は1000データ 50エポック\n",
    "\n",
    "* (できたらバッチ処理)\n",
    "  - 次元ごとにforwordして結果を比較した\n",
    "  - lossが怪しい"
   ]
  },
  {
   "cell_type": "markdown",
   "metadata": {},
   "source": [
    "## 検証① 入力がバッチのとき・バッチでないときの結果を比較"
   ]
  },
  {
   "cell_type": "code",
   "execution_count": 16,
   "metadata": {},
   "outputs": [
    {
     "name": "stdout",
     "output_type": "stream",
     "text": [
      "loss: variable(0.6707916)bbbbb\n",
      "v,w: \n",
      "variable([[[ 0.42097545 -0.01303098]\n",
      "           [ 0.7187794  -0.00227075]\n",
      "           [ 0.84534234  0.0315726 ]]\n",
      "\n",
      "          [[ 0.46001548  0.57559735]\n",
      "           [ 0.88841856  0.75026006]\n",
      "           [ 0.99527067  0.77164686]]\n",
      "\n",
      "          [[ 0.46643886 -0.5945964 ]\n",
      "           [ 0.89487296 -0.76957893]\n",
      "           [ 0.99603045 -0.76746666]]])\n",
      "\n",
      "---\n",
      "\n",
      "loss: variable(0.2987355)bbbbb\n",
      "v,w: \n",
      "variable([[[ 0.42097545 -0.01303103]\n",
      "           [ 0.7187794  -0.00227076]\n",
      "           [ 0.84534234  0.03157258]]])\n",
      "loss: variable(0.87348425)bbbbb\n",
      "v,w: \n",
      "variable([[[0.4600156  0.57559735]\n",
      "           [0.88841856 0.7502601 ]\n",
      "           [0.99527067 0.77164686]]])\n",
      "loss: variable(0.8401551)bbbbb\n",
      "v,w: \n",
      "variable([[[ 0.46643886 -0.5945964 ]\n",
      "           [ 0.8948729  -0.769579  ]\n",
      "           [ 0.99603045 -0.76746666]]])\n"
     ]
    }
   ],
   "source": [
    "sample_input = np.array([ [2,0], [0,2], [0,-2] ], dtype=np.float32)\n",
    "predict(model, sample_input)\n",
    "print '\\n---\\n'\n",
    "predict(model,np.array([[2,0]], dtype=np.float32))\n",
    "predict(model,np.array([[0,2]], dtype=np.float32))\n",
    "predict(model,np.array([[0,-2]], dtype=np.float32))"
   ]
  },
  {
   "cell_type": "markdown",
   "metadata": {},
   "source": [
    "# 分散"
   ]
  },
  {
   "cell_type": "code",
   "execution_count": 17,
   "metadata": {
    "scrolled": true
   },
   "outputs": [],
   "source": [
    "sample_x = [1,2,3,4]\n",
    "sample_y = [1,4,9,16]\n",
    "sample_error = [1,4,9,16]\n",
    "def plot_error(x,y,err):\n",
    "    plt.plot(x,y)\n",
    "    plt.errorbar(x,y,yerr=err,ecolor='r',color='b',ls='solid',lw=2,marker='o')\n",
    "    plt.show()\n",
    "\n",
    "# plot_error(sample_x,sample_y,sample_error)"
   ]
  },
  {
   "cell_type": "markdown",
   "metadata": {},
   "source": [
    "### 2019/01/29 オフィスアワー\n",
    "\n",
    "* 損失の計算確認\n",
    "  - Reshapeが間違い\n",
    "  - 速度・角速度計算の入力に間違い（参照axisがおかしかった）\n",
    "* 途中経路の入力（損失の計算方法を考える"
   ]
  }
 ],
 "metadata": {
  "kernelspec": {
   "display_name": "Python 2",
   "language": "python",
   "name": "python2"
  },
  "language_info": {
   "codemirror_mode": {
    "name": "ipython",
    "version": 2
   },
   "file_extension": ".py",
   "mimetype": "text/x-python",
   "name": "python",
   "nbconvert_exporter": "python",
   "pygments_lexer": "ipython2",
   "version": "2.7.12"
  }
 },
 "nbformat": 4,
 "nbformat_minor": 2
}
