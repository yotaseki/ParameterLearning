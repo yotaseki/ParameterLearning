{
 "cells": [
  {
   "cell_type": "code",
   "execution_count": 1,
   "metadata": {},
   "outputs": [],
   "source": [
    "from chainer import Link, Chain, ChainList, Variable, optimizers, iterators\n",
    "import chainer.functions as F\n",
    "import chainer.links as L\n",
    "from chainer import cuda\n",
    "from chainer import initializers\n",
    "from chainer import serializers\n",
    "\n",
    "import time\n",
    "import matplotlib.pyplot as plt\n",
    "%matplotlib inline\n",
    "import pandas as pd\n",
    "import numpy\n",
    "import cupy"
   ]
  },
  {
   "cell_type": "code",
   "execution_count": 2,
   "metadata": {},
   "outputs": [],
   "source": [
    "# GPU settings\n",
    "gpu_index = 0\n",
    "if gpu_index >= 0:\n",
    "    cuda.check_cuda_available()\n",
    "    np = cuda.cupy\n",
    "else:\n",
    "    np = numpy"
   ]
  },
  {
   "cell_type": "markdown",
   "metadata": {},
   "source": [
    "# 車輪型ロボットモデル（対向2輪型）"
   ]
  },
  {
   "cell_type": "code",
   "execution_count": 3,
   "metadata": {},
   "outputs": [],
   "source": [
    "class CartLayer:\n",
    "    def __init__(self,batchsize=1):\n",
    "        self.cart_num = batchsize\n",
    "        self.pos = Variable(np.zeros( (batchsize,3), dtype=np.float32))\n",
    "        self.path = Variable(np.zeros( (batchsize,1,3), dtype=np.float32))\n",
    "\n",
    "    def move(self,param):\n",
    "        if len(param) == self.cart_num:\n",
    "            dx = F.reshape(param[:,0] * F.cos(self.pos[:,2] + param[:,1]), (self.cart_num,1))\n",
    "            dy = F.reshape(param[:,0] * F.sin(self.pos[:,2] + param[:,1]), (self.cart_num,1))\n",
    "            dth = F.reshape(param[:,1], (self.cart_num,1))\n",
    "            D = F.concat((dx,dy),axis=1)\n",
    "            D = F.concat((D,dth),axis=1)\n",
    "            self.pos = self.pos + D\n",
    "            self.path = F.concat((self.path, F.reshape(self.pos,(self.cart_num,1,3))),axis=1)\n",
    "            return self.pos\n",
    "        else:\n",
    "            print(len(param))\n",
    "            return -1\n",
    "\n",
    "# 連続で動く\n",
    "def calc_car_pos(cart_layer, y):\n",
    "    for step in range(len(y[0])):\n",
    "        cart_layer.move(y[:,step])\n",
    "    # print car.path.shape  # (4step, 50batch, 3x-y-th)\n",
    "    # print car.pos.data.shape  # (50batch, 3x-y-th)\n",
    "    return cart_layer.pos"
   ]
  },
  {
   "cell_type": "markdown",
   "metadata": {},
   "source": [
    "# 経路の描画"
   ]
  },
  {
   "cell_type": "code",
   "execution_count": 4,
   "metadata": {},
   "outputs": [],
   "source": [
    "def plot_path(cart_path,target,xlim=[-5,5],ylim=[-5,5]):\n",
    "    path = cart_path[0,:,:]\n",
    "    if gpu_index >= 0:\n",
    "        path = np.asnumpy(path)\n",
    "        t = np.asnumpy(target)\n",
    "    for i in range(1,len(path)):\n",
    "        plt.quiver(path[i-1,0],path[i-1,1]\n",
    "                   , path[i,0]-path[i-1,0],path[i,1]-path[i-1,1]\n",
    "                   , scale_units='xy', angles='xy', scale=1,color=\"blue\")\n",
    "    plt.scatter(t[:,0],t[:,1],c=\"red\",s=80,marker=\"o\")\n",
    "    num_step = len(target)\n",
    "    plt.scatter(t[num_step-1,0],t[num_step-1,1],c=\"yellow\",s=500,marker=\"*\")\n",
    "    plt.xlabel(\"x\")\n",
    "    plt.ylabel(\"y\")\n",
    "    plt.axis('scaled')\n",
    "    plt.xlim(xlim[0],xlim[1])\n",
    "    plt.ylim(ylim[0],ylim[1])\n",
    "    plt.grid()\n",
    "    plt.show()"
   ]
  },
  {
   "cell_type": "code",
   "execution_count": 5,
   "metadata": {
    "scrolled": true
   },
   "outputs": [
    {
     "data": {
      "image/png": "[encoded data removed]",
      "text/plain": [
       "<Figure size 432x288 with 1 Axes>"
      ]
     },
     "metadata": {},
     "output_type": "display_data"
    },
    {
     "name": "stdout",
     "output_type": "stream",
     "text": [
      "[[[0. 0. 0.]\n",
      "  [1. 0. 0.]\n",
      "  [2. 0. 0.]\n",
      "  [3. 0. 0.]]]\n"
     ]
    }
   ],
   "source": [
    "sample_v_arr = np.array([1.0,1.0,1.0],dtype=np.float32)\n",
    "sample_w_arr = np.array([0.0,0.0,0.0],dtype=np.float32)\n",
    "sample_w_arr = sample_w_arr * np.pi/180\n",
    "sample_y_data = np.vstack((sample_v_arr,sample_w_arr)).T\n",
    "sample_yV = Variable(np.reshape(sample_y_data,(1,3,2) )) \n",
    "sample_cart = CartLayer()\n",
    "pos = calc_car_pos(sample_cart,sample_yV)\n",
    "plot_path(sample_cart.path.data,np.array([[0,0],[1,1],[2,2]]) )\n",
    "print(sample_cart.path.data)\n"
   ]
  },
  {
   "cell_type": "markdown",
   "metadata": {},
   "source": [
    "# ネットワーク"
   ]
  },
  {
   "cell_type": "code",
   "execution_count": 6,
   "metadata": {},
   "outputs": [],
   "source": [
    "class ModelPathGenerator(Chain):\n",
    "    def __init__(self, input_dimension, num_step):\n",
    "        self.input_dim = input_dimension\n",
    "        self.num_step = num_step\n",
    "        initializer = initializers.HeNormal()\n",
    "        super(ModelPathGenerator, self).__init__(\n",
    "            l1=L.Linear(self.input_dim, 15, initialW=initializer),\n",
    "            l2=L.Linear(15, 8, initialW=initializer),\n",
    "            l3=L.Linear(8, self.num_step*2, initialW=initializer),\n",
    "        )\n",
    "    def __call__(self, x):\n",
    "        h1 = F.relu(self.l1(x))\n",
    "        h2 = F.relu(self.l2(h1))\n",
    "        h3 = self.l3(h2)\n",
    "        h4 = F.tanh(h3)\n",
    "        o = F.reshape(h4,(len(x),self.num_step,2))\n",
    "        return o\n",
    "\n",
    "    '''\n",
    "    def loss_function():\n",
    "        path\n",
    "    \n",
    "    def get_vw(self,output):\n",
    "        v = output[0,0:3]\n",
    "        w = output[0,3:6]\n",
    "        return v,w\n",
    "    '''"
   ]
  },
  {
   "cell_type": "code",
   "execution_count": 7,
   "metadata": {
    "scrolled": false
   },
   "outputs": [
    {
     "name": "stdout",
     "output_type": "stream",
     "text": [
      "[[3. 0.]]\n",
      "variable([[[-0.05129338  0.92245173]\n",
      "           [ 0.9999133   0.58900076]\n",
      "           [ 0.99959946 -0.99905103]]])\n"
     ]
    }
   ],
   "source": [
    "# sample forward\n",
    "sample_model = ModelPathGenerator(2,3)\n",
    "if gpu_index >=0:\n",
    "    sample_model.to_gpu()\n",
    "sample_x_data = np.array([[3,0]],dtype=np.float32)\n",
    "sample_x = Variable(sample_x_data)\n",
    "print(sample_x_data)\n",
    "sample_y = sample_model(sample_x_data)\n",
    "print(sample_y)"
   ]
  },
  {
   "cell_type": "markdown",
   "metadata": {},
   "source": [
    "# 訓練データの作成\n",
    "\n",
    "* ある関数から経由点のcsvファイルを生成\n",
    "* csvファイルから経路を生成"
   ]
  },
  {
   "cell_type": "code",
   "execution_count": 8,
   "metadata": {},
   "outputs": [],
   "source": [
    "def plot_f(X,Y,color=\"black\"):\n",
    "    if gpu_index >= 0:\n",
    "        x = np.asnumpy(X)\n",
    "        y = np.asnumpy(Y)\n",
    "    plt.scatter(x,y,c=\"gray\",edgecolor=\"black\",s=3,marker=\"o\")\n",
    "\n",
    "# ある関数を経路として生成\n",
    "def make_function_path(f,x,plot=0):\n",
    "    X = x\n",
    "    Y = f(X)\n",
    "    path = np.stack((Y,X),axis=1)\n",
    "    if(plot):\n",
    "        plot_f(X,Y)\n",
    "    return path\n",
    "\n",
    "# 長さと半径から曲率一定の経路を生成\n",
    "def make_arc_path(l,r,plot=0):\n",
    "    theta = np.linspace(-np.pi/2, -np.pi/2+l/r)\n",
    "    X = r * np.cos(theta)\n",
    "    Y = r * np.sin(theta) + r\n",
    "    path = np.stack((Y,X),axis=1)\n",
    "    if(plot):\n",
    "        plot_f(X,Y)\n",
    "        plt.axis('scaled')\n",
    "        # plt.gca().set_aspect('equal', adjustable='box')\n",
    "    return path\n",
    "\n",
    "def make_arc_path_2(l,alpha,s=1,plot=0):\n",
    "    if alpha==0:\n",
    "        X = np.linspace(0, l)\n",
    "        Y = np.zeros(len(X))\n",
    "        path = np.stack((Y,X),axis=1)\n",
    "    else:\n",
    "        r = s/alpha # 曲率\n",
    "        theta = np.linspace(-np.pi/2, -np.pi/2+l/r)\n",
    "        X = r * np.cos(theta)\n",
    "        Y = r * np.sin(theta) + r\n",
    "        path = np.stack((Y,X),axis=1)\n",
    "    if(plot):\n",
    "        plot_f(X,Y,color=\"gray\")\n",
    "        plt.axis('scaled')\n",
    "        # plt.gca().set_aspect('equal', adjustable='box')\n",
    "    return path\n",
    "\n",
    "# 経路を回転\n",
    "def rotate_path(path, rad,plot=0):\n",
    "    theta = rad\n",
    "    X = path[:,1]*np.cos(theta) - path[:,0]*np.sin(theta)\n",
    "    Y = path[:,1]*np.sin(theta) + path[:,0]*np.cos(theta)\n",
    "    ret = np.stack((Y,X),axis=1)\n",
    "    if(plot):\n",
    "        plot_f(X,Y,color=\"gray\")\n",
    "        plt.axis('scaled')\n",
    "        # plt.gca().set_aspect('equal', adjustable='box')\n",
    "    return ret\n",
    "\n",
    "# CSVから経路の読み取り\n",
    "def read_path_csv(filename,plot=0):\n",
    "    df = pd.read_csv(filename, header=None)\n",
    "    path = np.array(df.values,dtype=np.float32)\n",
    "    if(plot):\n",
    "        plot_f(path[:,0],path[:,1],color=\"gray\")\n",
    "        # plt.gca().set_aspect('equal', adjustable='box')\n",
    "    return path\n",
    "\n",
    "# 経路からN点抜き出す\n",
    "def get_n_point_from_path(n,path,margin=5,plot=0):\n",
    "    path_data = np.empty((1,2))\n",
    "    idx = 0\n",
    "    for i in range(n):\n",
    "        idx = idx + np.random.randint(margin,len(path)/3)\n",
    "        if(idx > len(path)):\n",
    "            idx = len(path)\n",
    "        path_data = np.vstack((path_data,path[idx]))\n",
    "    if(plot):\n",
    "        plot_f(path_data[:,1],path_data[:,0],color=\"red\")\n",
    "    return path_data[1:len(path_data)]\n",
    "\n",
    "def get_n_point_from_path_2(n,path,plot=0):\n",
    "    path_data = np.empty((1,2))\n",
    "    idx = [(len(path)-1)/3, (len(path)-1)*2/3, len(path)-1]\n",
    "    for i in idx:\n",
    "        i = int(i)\n",
    "        path_data = np.vstack((path_data,path[i]))\n",
    "    if(plot):\n",
    "        plot_f(path_data[:,1],path_data[:,0],color=\"red\")\n",
    "    return path_data[1:len(path_data)]"
   ]
  },
  {
   "cell_type": "code",
   "execution_count": 9,
   "metadata": {},
   "outputs": [
    {
     "data": {
      "text/plain": [
       "'\\nrand = np.random.rand() * 2 * np.pi\\nx = [rand + (0.1*i) for i in range(5)]\\nprint(x)\\np = make_function_path(np.sin,x,plot=1)\\n'"
      ]
     },
     "execution_count": 9,
     "metadata": {},
     "output_type": "execute_result"
    },
    {
     "data": {
      "image/png": "[encoded data removed]",
      "text/plain": [
       "<Figure size 432x288 with 1 Axes>"
      ]
     },
     "metadata": {},
     "output_type": "display_data"
    }
   ],
   "source": [
    "p = make_function_path(np.sin,np.linspace(0,2*np.pi),plot=1)\n",
    "p = make_function_path(np.cos,np.linspace(0,2*np.pi),plot=1)\n",
    "'''\n",
    "rand = np.random.rand() * 2 * np.pi\n",
    "x = [rand + (0.1*i) for i in range(5)]\n",
    "print(x)\n",
    "p = make_function_path(np.sin,x,plot=1)\n",
    "'''"
   ]
  },
  {
   "cell_type": "code",
   "execution_count": 10,
   "metadata": {},
   "outputs": [
    {
     "name": "stdout",
     "output_type": "stream",
     "text": [
      "[[4.59901220e-01 8.16601187e-01]\n",
      " [1.39662119e+00 8.46639973e-01]\n",
      " [1.90985932e+00 4.82546535e-16]]\n"
     ]
    },
    {
     "data": {
      "text/plain": [
       "array([4.59901220e-01, 8.16601187e-01, 1.39662119e+00, 8.46639973e-01,\n",
       "       1.90985932e+00, 4.82546535e-16])"
      ]
     },
     "execution_count": 10,
     "metadata": {},
     "output_type": "execute_result"
    },
    {
     "data": {
      "image/png": "[encoded data removed]",
      "text/plain": [
       "<Figure size 432x288 with 1 Axes>"
      ]
     },
     "metadata": {},
     "output_type": "display_data"
    }
   ],
   "source": [
    "sample_p = make_arc_path_2(3,np.pi/3,plot=1)\n",
    "sample_vp = get_n_point_from_path_2(3,sample_p,plot=1)\n",
    "print(sample_vp)\n",
    "sample_vp.flatten()"
   ]
  },
  {
   "cell_type": "code",
   "execution_count": 11,
   "metadata": {},
   "outputs": [
    {
     "name": "stdout",
     "output_type": "stream",
     "text": [
      "[[0.0000e+00 0.0000e+00 1.5976e-01]\n",
      " [1.0012e-02 1.6380e-03 1.5976e-01]\n",
      " [2.0024e-02 3.2266e-03 1.5498e-01]\n",
      " ...\n",
      " [3.3239e-03 2.9697e+00 1.6865e+00]\n",
      " [1.6183e-03 2.9848e+00 1.6801e+00]\n",
      " [0.0000e+00 3.0000e+00 1.6801e+00]]\n"
     ]
    },
    {
     "data": {
      "image/png": "[encoded data removed]",
      "text/plain": [
       "<Figure size 432x288 with 1 Axes>"
      ]
     },
     "metadata": {},
     "output_type": "display_data"
    }
   ],
   "source": [
    "test_path = read_path_csv('path.csv',plot=1)\n",
    "print(test_path)"
   ]
  },
  {
   "cell_type": "code",
   "execution_count": 12,
   "metadata": {},
   "outputs": [
    {
     "name": "stdout",
     "output_type": "stream",
     "text": [
      "(1000, 6)\n"
     ]
    },
    {
     "data": {
      "text/plain": [
       "(-0.16138608400719967,\n",
       " 3.1614045680554694,\n",
       " -2.4341644348925104,\n",
       " 2.4341777863329397)"
      ]
     },
     "execution_count": 12,
     "metadata": {},
     "output_type": "execute_result"
    },
    {
     "data": {
      "image/png": "[encoded data removed]",
      "text/plain": [
       "<Figure size 432x288 with 1 Axes>"
      ]
     },
     "metadata": {},
     "output_type": "display_data"
    }
   ],
   "source": [
    "data_num = 1000\n",
    "data_len = 3 * 2 #(3step , X-Y)\n",
    "\n",
    "def get_path_data(data_num, data_len):\n",
    "    data = np.empty((1,6),dtype=np.float32)\n",
    "    l = 3 # 円弧の長さ\n",
    "    for i in range(data_num):\n",
    "        rand_rad = np.random.rand() * (2*np.pi/3) - np.pi/3 # 回転範囲 -60 ~ 60\n",
    "        path = make_arc_path_2(l,rand_rad)\n",
    "        via_path = get_n_point_from_path_2(data_len/2,path)\n",
    "        data = np.vstack((data,via_path.flatten()))\n",
    "        #data = np.vstack((data,[via_path]))\n",
    "    return data[1:len(data)]\n",
    "\n",
    "train_data = get_path_data(data_num,data_len)\n",
    "train_data = np.array(train_data,dtype=np.float32)\n",
    "print(train_data.shape)\n",
    "if gpu_index >= 0:\n",
    "    td = np.asnumpy(train_data)\n",
    "plt.scatter(td[:,1],td[:,0],c=\"red\",edgecolor=\"red\",s=30,marker=\"o\")\n",
    "plt.scatter(td[:,3],td[:,2],c=\"red\",edgecolor=\"red\",s=30,marker=\"o\")\n",
    "plt.scatter(td[:,5],td[:,4],c=\"red\",edgecolor=\"red\",s=30,marker=\"o\")\n",
    "plt.axis('scaled')"
   ]
  },
  {
   "cell_type": "markdown",
   "metadata": {},
   "source": [
    "# 損失関数"
   ]
  },
  {
   "cell_type": "code",
   "execution_count": 13,
   "metadata": {
    "scrolled": true
   },
   "outputs": [],
   "source": [
    "def calc_distance(predict_pos,true_pos):\n",
    "    #print \"true_pos\\n{}\".format(true_pos.shape)\n",
    "    #print \"predict_pos\\n{}\".format(predict_pos.shape)\n",
    "    D = F.sqrt(F.sum((true_pos-predict_pos)**2, axis=1))\n",
    "    return D\n",
    "\n",
    "# sample_p = Variable(np.array([[-0.04729605 , 3.132064, 0]], dtype=np.float32))\n",
    "# sample_t = Variable(np.array([-0.9656074  ,1.9671886], dtype=np.float32))\n",
    "# print calc_distance(sample_p[0,0:2],sample_t)\n",
    "# 1.4833174\n",
    "\n",
    "def velo_diff(v):\n",
    "    # v (batch,3)\n",
    "    V = np.zeros(len(v),dtype=np.float32)\n",
    "    for i in range(len(v[0])-1):\n",
    "        diff = v[:,i] - v[:,i+1]\n",
    "        # print '{} = {} - {}'.format(diff, v[:,i], v[:,i+1])\n",
    "        V = V + (diff*diff)\n",
    "    init_v = np.zeros(len(v),dtype=np.float32)\n",
    "    diff = init_v - v[:,0]\n",
    "    # print '{} = {} - {}'.format(diff, init_v, v[:,0])\n",
    "    V = V + diff*diff\n",
    "    return V\n",
    "\n",
    "# sample_p = Variable(np.array([[1, 1, 1], [2, 2, 2], [1, 1, 1]], dtype=np.float32) )\n",
    "# print velo_diff(sample_p)\n",
    "\n",
    "def terminal_cost(predict_terminal_position, true_terminal_position):\n",
    "    p = predict_terminal_position\n",
    "    t = true_terminal_position\n",
    "    Loss = calc_distance(p,t)\n",
    "    return Loss\n",
    "\n",
    "def List_var2Variable(L):  # list内のVariableをF.concatで結合\n",
    "    if(len(L) >= 2):\n",
    "        V = F.concat((L[0],L[1]))\n",
    "        for i in range(2,len(L)):\n",
    "            V = F.concat((V,L[i]))\n",
    "    else:\n",
    "        V = L[0]\n",
    "    return V\n",
    "\n",
    "def stage_cost(predict_path, true_path):\n",
    "    Loss = np.zeros(len(predict_path),dtype=np.float32)\n",
    "    # print predict_path.shape\n",
    "    # print true_path.shape\n",
    "    if len(true_path[0]) < 2 or len(predict_path[0]) < 3:\n",
    "        return Loss\n",
    "    else:\n",
    "        li_D = []\n",
    "        for i in range( 1,len(predict_path[0])-1 ): # 始点と終点を除く\n",
    "            # print 'ppos:{}'.format(predict_path[:,p_pos])\n",
    "            # print 'tpos:{}'.format(true_path[:,t_pos])\n",
    "            D = calc_distance(predict_path[:,i], true_path[:,i-1])  # D(batch)\n",
    "            D = F.reshape(D,(len(D),1))\n",
    "            li_D.append(D)\n",
    "        Dvar = List_var2Variable(li_D)\n",
    "        # print \"Dmin_var\\n\",Dmin_var\n",
    "        Loss = F.sum(Dvar, axis=1)\n",
    "        return Loss\n",
    "\"\"\"\n",
    "def stage_cost(predict_path, true_path):\n",
    "    Loss = np.zeros(len(predict_path),dtype=np.float32)\n",
    "    # print predict_path.shape\n",
    "    # print true_path.shape\n",
    "    if len(predict_path[0]) < 2:\n",
    "        return Loss\n",
    "    else:\n",
    "        li_Dmin = []\n",
    "        for t_pos in range( 0,len(true_path[0])-1 ): # 終点を除く\n",
    "            li_D = []\n",
    "            for p_pos in range( 1,len(predict_path[0])-1 ): # 始点と終点を除く\n",
    "                # print 'ppos:{}'.format(predict_path[:,p_pos])\n",
    "                # print 'tpos:{}'.format(true_path[:,t_pos])\n",
    "                D = calc_distance(predict_path[:,p_pos], true_path[:,t_pos])  # D(batch)\n",
    "                D = F.reshape(D,(len(D),1))\n",
    "                li_D.append(D)\n",
    "            Dvar = List_var2Variable(li_D)\n",
    "            # print \"Dvar\\n\",Dvar\n",
    "            Dmin = F.min(Dvar,axis=1)\n",
    "            Dmin = F.reshape(Dmin,(len(Dmin),1))\n",
    "            # print \"Dmin\\n\",Dmin\n",
    "            li_Dmin.append(Dmin)\n",
    "        Dmin_var =  List_var2Variable(li_Dmin)\n",
    "        # print \"Dmin_var\\n\",Dmin_var\n",
    "        Loss = F.sum(Dmin_var, axis=1)\n",
    "        return Loss\n",
    "\"\"\"\n",
    "\n",
    "def loss_function(y, x_data):\n",
    "    # y      [ batch, step,param]\n",
    "    # x_data [ batch, point_x-y]\n",
    "    x_data = F.reshape(x_data, (len(x_data),int(len(x_data[0])/2), 2))\n",
    "    num_step = len(y[0])\n",
    "    cart = CartLayer(len(y))\n",
    "    calc_car_pos(cart,y)\n",
    "\n",
    "    # Stage cost\n",
    "    predict_path = cart.path[:,:,0:2] # cart.path [ batch ,step ,x-y-th]\n",
    "    true_path = x_data\n",
    "    Dst = stage_cost(predict_path, true_path)\n",
    "\n",
    "    # Terminal cost\n",
    "    predict_term_pos = cart.pos[:,0:2]\n",
    "    true_term_pos = x_data[:,len(x_data[0])-1]\n",
    "    Dtc = terminal_cost(predict_term_pos, true_term_pos)\n",
    "\n",
    "    # Limiting\n",
    "    v = y[:,:,0]\n",
    "    w = y[:,:,1]\n",
    "    V = velo_diff(v)\n",
    "    W = velo_diff(w)\n",
    "    \n",
    "    # print 'Dtc :{}'.format(Dtc)\n",
    "    # print 'Dst :{}'.format(Dst)\n",
    "    # print 'V :{}, v:{}'.format(V,v)\n",
    "    # print 'W :{}, w:{}'.format(W,w)\n",
    "    Dtc = F.mean(Dtc) # terminate cost\n",
    "    Dst = F.mean(Dst) # stage cost\n",
    "    V = F.mean(1 * V)\n",
    "    W = F.mean(1 * W)\n",
    "    loss = Dtc + Dst\n",
    "    message = \"\\t{} \\t{} \\t{} \\t{}\".format(Dtc.data, Dst.data, V.data, W.data)\n",
    "    return loss, message"
   ]
  },
  {
   "cell_type": "code",
   "execution_count": 14,
   "metadata": {
    "scrolled": false
   },
   "outputs": [],
   "source": [
    "# sample_y = Variable(np.array([[[1,0], [1,0], [2,np.pi/2]], [[-1,0], [-1,0], [-2,-(np.pi/2)]]] ,dtype=np.float32 )) # 2batch 3step v-w\n",
    "# sample_x = Variable(np.array([ [[1,1],[2, 2], [3,3] ]                             , [[2,2],[1,-1],[3,3] ] ] ,dtype=np.float32 )) # 2batch 2point x-y\n",
    "# print loss_function(sample_y, sample_x)"
   ]
  },
  {
   "cell_type": "markdown",
   "metadata": {},
   "source": [
    "# 訓練"
   ]
  },
  {
   "cell_type": "code",
   "execution_count": 15,
   "metadata": {
    "scrolled": true
   },
   "outputs": [],
   "source": [
    "def train(x_data, max_epoch, batch_size, snapshot=10):\n",
    "    input_dim = len(x_data[0])\n",
    "    model = ModelPathGenerator(input_dim, num_step)\n",
    "    if gpu_index >= 0:\n",
    "        cupy.cuda.Device(gpu_index).use()\n",
    "        model.to_gpu(gpu_index)\n",
    "    opt = optimizers.Adam()\n",
    "    opt.setup(model)\n",
    "    train_iter = iterators.SerialIterator(x_data, batch_size)\n",
    "    iterator = 0\n",
    "    print(\"Iter. \\tLoss \\t\\tTerm. \\t\\tStg. \\t\\tV \\t\\tW\")\n",
    "    while train_iter.epoch < max_epoch:\n",
    "        train_batch = np.array(train_iter.next(),dtype=np.float32)\n",
    "        x = Variable(train_batch.reshape(len(train_batch),input_dim))\n",
    "        y = model(x)\n",
    "        loss, msg = loss_function(y,x)\n",
    "        model.cleargrads()\n",
    "        loss.backward()\n",
    "        opt.update()\n",
    "        iterator = iterator + 1\n",
    "        if (iterator % snapshot)==0:\n",
    "            print(str(iterator)+\"\\t\"+str(loss.data)+msg)\n",
    "    return model"
   ]
  },
  {
   "cell_type": "code",
   "execution_count": 16,
   "metadata": {},
   "outputs": [
    {
     "name": "stdout",
     "output_type": "stream",
     "text": [
      "Iter. \tLoss \t\tTerm. \t\tStg. \t\tV \t\tW\n",
      "100\t2.9997725\t1.8346163 \t1.1651564 \t4.5941815 \t1.4278402\n",
      "200\t1.8913157\t0.96693873 \t0.92437696 \t2.7140362 \t1.9838032\n",
      "300\t1.9563677\t0.8709188 \t1.0854489 \t1.7568158 \t2.0372667\n",
      "400\t1.9636061\t0.8793396 \t1.0842665 \t1.6219739 \t1.8979701\n",
      "500\t1.8496866\t0.90062606 \t0.94906056 \t1.7036282 \t2.1791842\n",
      "600\t1.9392698\t0.877052 \t1.0622178 \t1.6619031 \t1.9243734\n",
      "700\t1.8919092\t0.88458323 \t1.007326 \t1.6857904 \t2.0318305\n",
      "800\t1.8131366\t0.8580548 \t0.9550817 \t1.8888241 \t2.2997851\n",
      "900\t1.8831179\t0.8523552 \t1.0307628 \t1.7353474 \t2.0016174\n",
      "1000\t1.8713272\t0.8367155 \t1.0346116 \t1.652786 \t2.0855272\n",
      "1100\t1.8865554\t0.8051515 \t1.081404 \t1.5482336 \t2.1307116\n",
      "1200\t1.8925328\t0.7638304 \t1.1287024 \t1.6645994 \t2.2137794\n",
      "1300\t1.8731723\t0.78926766 \t1.0839046 \t1.6762081 \t2.1242707\n",
      "1400\t1.8021245\t0.8016197 \t1.0005049 \t1.6078956 \t2.349856\n",
      "1500\t1.8494782\t0.78516895 \t1.0643092 \t1.6966408 \t2.2382703\n",
      "1600\t1.8650885\t0.7923123 \t1.0727761 \t1.6751072 \t2.230809\n",
      "1700\t1.7768497\t0.79129064 \t0.98555917 \t1.729297 \t2.2786646\n",
      "1800\t1.8223509\t0.80901885 \t1.013332 \t1.585033 \t2.1248746\n",
      "1900\t1.8431094\t0.7832365 \t1.0598729 \t1.7398096 \t2.2887673\n",
      "2000\t1.8367298\t0.7823016 \t1.0544282 \t1.7521499 \t2.3765662\n",
      "2100\t1.8070993\t0.7670143 \t1.040085 \t1.774538 \t2.3962793\n",
      "2200\t1.7828948\t0.7996688 \t0.983226 \t1.7653692 \t2.4336143\n",
      "2300\t1.8322824\t0.76547813 \t1.0668043 \t1.4848863 \t2.2133417\n",
      "2400\t1.8471296\t0.76094526 \t1.0861843 \t1.5967306 \t2.2117777\n",
      "2500\t1.8729591\t0.7872113 \t1.0857478 \t1.5835441 \t2.2158089\n",
      "2600\t1.8426764\t0.7490251 \t1.0936513 \t1.7861288 \t2.3871932\n",
      "2700\t1.7323736\t0.7699003 \t0.9624733 \t1.8818868 \t2.649306\n",
      "2800\t1.8363357\t0.75094205 \t1.0853935 \t1.6029595 \t2.2789612\n",
      "2900\t1.8882148\t0.73507506 \t1.1531398 \t1.6148237 \t2.1822565\n",
      "3000\t1.7822945\t0.7860192 \t0.9962753 \t1.7057699 \t2.4664006\n",
      "3100\t1.908562\t0.7583521 \t1.1502098 \t1.5359724 \t2.0816967\n",
      "3200\t1.8614889\t0.75983715 \t1.1016518 \t1.7461169 \t2.263505\n",
      "3300\t1.884733\t0.77310413 \t1.1116288 \t1.5553125 \t2.1718426\n",
      "3400\t1.8666452\t0.7526572 \t1.113988 \t1.6703851 \t2.2940207\n",
      "3500\t1.7431109\t0.77123 \t0.97188085 \t1.6699297 \t2.6718783\n",
      "3600\t1.8660547\t0.7554834 \t1.1105713 \t1.6733865 \t2.2226245\n",
      "3700\t1.8508945\t0.7311467 \t1.1197478 \t1.701815 \t2.4267166\n",
      "3800\t1.8658634\t0.74784195 \t1.1180215 \t1.6587554 \t2.1637926\n",
      "3900\t1.8086016\t0.76701766 \t1.041584 \t1.6693368 \t2.4652553\n",
      "4000\t1.8697767\t0.7733499 \t1.0964268 \t1.5908606 \t2.2092078\n",
      "4100\t1.8369145\t0.74745697 \t1.0894576 \t1.6656375 \t2.3507903\n",
      "4200\t1.8047292\t0.76004314 \t1.0446861 \t1.5977625 \t2.4913592\n",
      "4300\t1.9172971\t0.76593834 \t1.1513588 \t1.5458112 \t1.9855249\n",
      "4400\t1.8979039\t0.7603877 \t1.1375163 \t1.6082072 \t2.0282469\n",
      "4500\t1.8184804\t0.7100868 \t1.1083935 \t1.572215 \t2.3826005\n",
      "4600\t1.8677024\t0.74717736 \t1.120525 \t1.6342602 \t2.2788887\n",
      "4700\t1.9618204\t0.7199154 \t1.241905 \t1.5252813 \t2.1557512\n",
      "4800\t1.870349\t0.74979615 \t1.1205529 \t1.6534301 \t2.3432453\n",
      "4900\t1.7958978\t0.7562516 \t1.0396463 \t1.6655638 \t2.4536307\n",
      "5000\t1.8378389\t0.7360558 \t1.1017832 \t1.603803 \t2.4171631\n",
      "5100\t1.8875995\t0.7203348 \t1.1672646 \t1.6235079 \t2.3491266\n",
      "5200\t1.866887\t0.7706983 \t1.0961887 \t1.5550795 \t2.3006444\n",
      "5300\t1.7565422\t0.76715237 \t0.9893898 \t1.7340077 \t2.6256855\n",
      "5400\t1.9188905\t0.7356355 \t1.183255 \t1.4837708 \t2.0983706\n",
      "5500\t1.7670383\t0.7459347 \t1.0211036 \t1.6752887 \t2.5026503\n",
      "5600\t1.8268212\t0.76323843 \t1.0635828 \t1.5666391 \t2.2627368\n",
      "5700\t1.7996267\t0.7378485 \t1.0617782 \t1.6909506 \t2.525143\n",
      "5800\t1.8758707\t0.69616455 \t1.1797062 \t1.5585525 \t2.1499789\n",
      "5900\t1.8716733\t0.720753 \t1.1509204 \t1.7119147 \t2.3768663\n",
      "6000\t1.7542305\t0.8090426 \t0.945188 \t1.6405523 \t2.6152554\n",
      "6100\t1.8504083\t0.74923366 \t1.1011747 \t1.5825471 \t2.315276\n",
      "6200\t1.8722173\t0.76591694 \t1.1063004 \t1.6257973 \t2.4390662\n",
      "6300\t1.8132024\t0.73307234 \t1.0801301 \t1.5917697 \t2.393748\n",
      "6400\t1.8710587\t0.7226016 \t1.1484572 \t1.5400895 \t2.237741\n",
      "6500\t1.8369886\t0.74567175 \t1.0913168 \t1.6973252 \t2.5042021\n",
      "6600\t1.8442175\t0.7845599 \t1.0596577 \t1.6036968 \t2.2412033\n",
      "6700\t1.7848233\t0.6947042 \t1.0901191 \t1.8167807 \t2.5852618\n",
      "6800\t1.8798122\t0.7493424 \t1.1304699 \t1.5709497 \t2.2813308\n",
      "6900\t1.9345906\t0.71529096 \t1.2192997 \t1.6092426 \t2.3142374\n",
      "7000\t1.7718873\t0.77054054 \t1.0013468 \t1.6947104 \t2.5347936\n",
      "7100\t1.7665927\t0.7734319 \t0.99316084 \t1.6691614 \t2.554251\n",
      "7200\t1.8213983\t0.73089725 \t1.090501 \t1.6636703 \t2.2357843\n",
      "7300\t1.7949007\t0.7686406 \t1.02626 \t1.5196127 \t2.3586845\n",
      "7400\t1.8671997\t0.75455445 \t1.1126453 \t1.606523 \t2.3867562\n",
      "7500\t1.8947444\t0.7577923 \t1.1369522 \t1.6168373 \t2.2022078\n",
      "7600\t1.7845218\t0.76402426 \t1.0204976 \t1.6765054 \t2.5630815\n",
      "7700\t1.8736459\t0.7505685 \t1.1230774 \t1.6752213 \t2.3049018\n",
      "7800\t1.8417468\t0.7502818 \t1.091465 \t1.62324 \t2.4789429\n",
      "7900\t1.8678063\t0.749647 \t1.1181593 \t1.5191576 \t2.3808734\n",
      "8000\t1.9018202\t0.74559814 \t1.1562221 \t1.5003463 \t2.1025553\n",
      "8100\t1.850679\t0.749166 \t1.101513 \t1.6827643 \t2.3224056\n",
      "8200\t1.831854\t0.7218436 \t1.1100104 \t1.6265006 \t2.3586786\n",
      "8300\t1.8628299\t0.7609888 \t1.1018412 \t1.5918936 \t2.2839684\n",
      "8400\t1.8165786\t0.74033904 \t1.0762396 \t1.7306137 \t2.422156\n",
      "8500\t1.8492897\t0.7374927 \t1.111797 \t1.6292337 \t2.3877566\n",
      "8600\t1.9231343\t0.7553192 \t1.1678151 \t1.5901942 \t2.100163\n",
      "8700\t1.8758577\t0.75594604 \t1.1199117 \t1.5635711 \t2.3370087\n",
      "8800\t1.845349\t0.7650758 \t1.0802732 \t1.7554919 \t2.5293932\n",
      "8900\t1.8288162\t0.7702945 \t1.0585217 \t1.5433385 \t2.3252034\n",
      "9000\t1.8885516\t0.73922753 \t1.149324 \t1.6467379 \t2.1696835\n",
      "9100\t1.8668966\t0.720758 \t1.1461387 \t1.664512 \t2.202927\n",
      "9200\t1.8835285\t0.73822224 \t1.1453062 \t1.6391727 \t2.2417226\n",
      "9300\t1.8868687\t0.7587891 \t1.1280795 \t1.473178 \t2.2836041\n",
      "9400\t1.8408442\t0.79059684 \t1.0502473 \t1.530877 \t2.3704233\n",
      "9500\t1.905579\t0.75960255 \t1.1459764 \t1.543225 \t2.144748\n",
      "9600\t1.895633\t0.7380919 \t1.1575412 \t1.4518636 \t2.0780427\n",
      "9700\t1.7960787\t0.73809737 \t1.0579814 \t1.5396165 \t2.5187387\n",
      "9800\t1.8738523\t0.76052517 \t1.113327 \t1.5536544 \t2.3255246\n",
      "9900\t1.7648351\t0.7430734 \t1.0217617 \t1.7136114 \t2.6496532\n",
      "10000\t1.8241549\t0.7665883 \t1.0575666 \t1.6504099 \t2.4530816\n",
      "10100\t1.9035614\t0.7250129 \t1.1785485 \t1.6255932 \t2.0711832\n",
      "10200\t1.7707474\t0.77616423 \t0.99458325 \t1.6372838 \t2.503571\n",
      "10300\t1.8453945\t0.7541567 \t1.0912378 \t1.6138504 \t2.2813323\n",
      "10400\t1.7927243\t0.7559836 \t1.0367407 \t1.644581 \t2.6008818\n",
      "10500\t1.8139026\t0.7756904 \t1.0382123 \t1.618076 \t2.366372\n",
      "10600\t1.8287122\t0.7711229 \t1.0575893 \t1.6881965 \t2.4985766\n",
      "10700\t1.8312441\t0.74893403 \t1.0823101 \t1.6120263 \t2.2947872\n",
      "10800\t1.7684414\t0.7610368 \t1.0074046 \t1.7191741 \t2.4419768\n",
      "10900\t1.7513294\t0.76612854 \t0.98520094 \t1.6822827 \t2.522445\n",
      "11000\t1.8024142\t0.74565405 \t1.0567601 \t1.5923153 \t2.3900795\n",
      "11100\t1.9520357\t0.7459161 \t1.2061195 \t1.5542959 \t2.09618\n",
      "11200\t1.8340209\t0.7569545 \t1.0770663 \t1.5473727 \t2.2777314\n",
      "11300\t1.7279725\t0.79162276 \t0.93634975 \t1.6819543 \t2.7670193\n",
      "11400\t1.8131917\t0.78037655 \t1.0328151 \t1.7566922 \t2.5066597\n",
      "11500\t1.8633645\t0.7425663 \t1.1207981 \t1.5489038 \t2.424852\n",
      "11600\t1.8608354\t0.7571498 \t1.1036856 \t1.437489 \t2.2244236\n",
      "11700\t1.7296486\t0.7623158 \t0.9673327 \t1.7316934 \t2.8130586\n",
      "11800\t1.871686\t0.7254782 \t1.1462078 \t1.5964273 \t2.2473183\n",
      "11900\t1.8861475\t0.7318667 \t1.1542808 \t1.657931 \t2.4126413\n",
      "12000\t1.8127459\t0.7528497 \t1.0598962 \t1.6609883 \t2.5823398\n",
      "12100\t1.858843\t0.74226177 \t1.1165812 \t1.5754026 \t2.339802\n",
      "12200\t1.7613603\t0.7408781 \t1.0204822 \t1.7871052 \t2.67635\n",
      "12300\t1.8416595\t0.7413088 \t1.1003507 \t1.5811331 \t2.3363755\n",
      "12400\t1.9235263\t0.71513456 \t1.2083917 \t1.4975986 \t2.1740265\n",
      "12500\t1.8961167\t0.7722489 \t1.1238678 \t1.4947526 \t2.1166382\n",
      "12600\t1.7242649\t0.740603 \t0.98366183 \t1.7527689 \t2.5680623\n",
      "12700\t1.7759788\t0.738468 \t1.0375108 \t1.6763564 \t2.4727113\n",
      "12800\t1.8125937\t0.7633081 \t1.0492855 \t1.7592269 \t2.5046942\n",
      "12900\t1.8722837\t0.7368191 \t1.1354645 \t1.5274618 \t2.2958555\n",
      "13000\t1.8318294\t0.72433805 \t1.1074914 \t1.5057725 \t2.269718\n",
      "13100\t1.817678\t0.74636257 \t1.0713154 \t1.6378407 \t2.1411479\n",
      "13200\t1.8381941\t0.6979423 \t1.1402519 \t1.5391521 \t2.5639763\n",
      "13300\t1.6624097\t0.74138945 \t0.9210202 \t1.8447552 \t2.9876502\n",
      "13400\t1.9111235\t0.736407 \t1.1747165 \t1.5557038 \t2.2002993\n",
      "13500\t1.8161387\t0.7287716 \t1.0873672 \t1.627701 \t2.6348166\n",
      "13600\t1.8507729\t0.7272549 \t1.123518 \t1.5868232 \t2.405341\n",
      "13700\t1.7377399\t0.7603408 \t0.9773991 \t1.759743 \t2.7272785\n",
      "13800\t1.8970182\t0.74231845 \t1.1546997 \t1.4637648 \t2.293985\n",
      "13900\t1.8418787\t0.71848935 \t1.1233894 \t1.4779811 \t2.3770509\n",
      "14000\t1.8045473\t0.709606 \t1.0949414 \t1.543645 \t2.3427017\n",
      "14100\t1.7551343\t0.73711866 \t1.0180157 \t1.6766675 \t2.5741174\n",
      "14200\t1.8064387\t0.76001626 \t1.0464224 \t1.7586602 \t2.515985\n",
      "14300\t1.8329835\t0.75307435 \t1.0799091 \t1.6073642 \t2.333396\n",
      "14400\t1.8534622\t0.7535722 \t1.09989 \t1.6979371 \t2.409599\n",
      "14500\t1.788705\t0.73248506 \t1.0562199 \t1.5818624 \t2.4267123\n",
      "14600\t1.8237709\t0.73842347 \t1.0853474 \t1.595683 \t2.336486\n",
      "14700\t1.8317833\t0.7418823 \t1.089901 \t1.6178126 \t2.4419444\n",
      "14800\t1.8011453\t0.7530061 \t1.0481392 \t1.609818 \t2.3283951\n",
      "14900\t1.7556171\t0.72998685 \t1.0256304 \t1.605029 \t2.5667205\n",
      "15000\t1.9137635\t0.7442711 \t1.1694924 \t1.5219073 \t2.1755567\n",
      "15100\t1.9381834\t0.7509049 \t1.1872785 \t1.644356 \t2.267994\n",
      "15200\t1.8707311\t0.71241677 \t1.1583143 \t1.6620755 \t2.1407003\n",
      "15300\t1.8594285\t0.7201804 \t1.1392481 \t1.6635355 \t2.2713819\n",
      "15400\t1.781935\t0.74981505 \t1.03212 \t1.6295509 \t2.6218772\n",
      "15500\t1.837038\t0.75323576 \t1.0838023 \t1.7700045 \t2.439284\n",
      "15600\t1.9070222\t0.7503163 \t1.1567059 \t1.6894798 \t2.2395575\n",
      "15700\t1.7705517\t0.7241333 \t1.0464183 \t1.6611606 \t2.6726818\n",
      "15800\t1.8065753\t0.74841803 \t1.0581572 \t1.7011019 \t2.505051\n",
      "15900\t1.9033186\t0.7396338 \t1.1636848 \t1.6201335 \t2.123195\n",
      "16000\t1.8622186\t0.7802901 \t1.0819285 \t1.706928 \t2.438781\n",
      "16100\t1.852267\t0.7742918 \t1.0779752 \t1.5969424 \t2.3411913\n",
      "16200\t1.8252975\t0.7553351 \t1.0699624 \t1.615321 \t2.5180385\n",
      "16300\t1.8449314\t0.7122744 \t1.132657 \t1.5557599 \t2.3261492\n",
      "16400\t1.8558233\t0.76784575 \t1.0879775 \t1.6107246 \t2.2674017\n",
      "16500\t1.7292323\t0.783652 \t0.94558024 \t1.7084188 \t2.4365892\n",
      "16600\t1.8777333\t0.746109 \t1.1316243 \t1.4707311 \t2.3915012\n",
      "16700\t1.8121986\t0.7559837 \t1.0562149 \t1.612712 \t2.4958837\n",
      "16800\t1.8243651\t0.73684293 \t1.0875223 \t1.5185606 \t2.3225772\n",
      "16900\t1.8800945\t0.74660885 \t1.1334857 \t1.550177 \t2.2462022\n",
      "17000\t1.8881752\t0.75365484 \t1.1345204 \t1.670173 \t2.238448\n",
      "17100\t1.8491807\t0.7770662 \t1.0721146 \t1.6214212 \t2.1977887\n",
      "17200\t1.7924461\t0.77522475 \t1.0172215 \t1.6648763 \t2.4615684\n",
      "17300\t1.8403935\t0.7348581 \t1.1055355 \t1.6634966 \t2.4509063\n",
      "17400\t1.910789\t0.76083785 \t1.1499511 \t1.5975741 \t2.1311088\n",
      "17500\t1.8987386\t0.7467549 \t1.1519837 \t1.4976634 \t2.1454642\n",
      "17600\t1.9109286\t0.71844816 \t1.1924804 \t1.5892023 \t2.2675426\n",
      "17700\t1.8008113\t0.754978 \t1.0458333 \t1.6653075 \t2.6317363\n",
      "17800\t1.7380114\t0.7751691 \t0.9628422 \t1.6101546 \t2.5582235\n",
      "17900\t1.772992\t0.72467136 \t1.0483207 \t1.7350869 \t2.6303506\n",
      "18000\t1.7960563\t0.7256947 \t1.0703615 \t1.5992575 \t2.5441704\n",
      "18100\t1.8905504\t0.7405952 \t1.1499552 \t1.6859441 \t2.368244\n",
      "18200\t1.8924115\t0.7511185 \t1.141293 \t1.5974258 \t2.3023171\n",
      "18300\t1.799478\t0.7445076 \t1.0549704 \t1.7299715 \t2.6657672\n",
      "18400\t1.8721771\t0.7357367 \t1.1364404 \t1.6021523 \t2.253688\n",
      "18500\t1.6953719\t0.7452662 \t0.9501057 \t1.8676999 \t2.7830245\n",
      "18600\t1.9122336\t0.7078296 \t1.204404 \t1.4805895 \t2.2501411\n",
      "18700\t1.8713758\t0.74609876 \t1.125277 \t1.6003766 \t2.4070113\n",
      "18800\t1.8303745\t0.7323497 \t1.0980248 \t1.5541435 \t2.4325655\n",
      "18900\t1.9652171\t0.7019967 \t1.2632204 \t1.5745519 \t2.055638\n",
      "19000\t1.7665632\t0.71781445 \t1.0487487 \t1.6231607 \t2.508062\n",
      "19100\t1.7987818\t0.73371756 \t1.0650642 \t1.6891768 \t2.5520098\n",
      "19200\t1.8935649\t0.7233901 \t1.1701748 \t1.7553965 \t2.0732813\n",
      "19300\t1.8544035\t0.7511547 \t1.1032488 \t1.5593461 \t2.1664696\n",
      "19400\t1.8808072\t0.745587 \t1.1352202 \t1.4213663 \t2.1561005\n",
      "19500\t1.9366771\t0.73839986 \t1.1982772 \t1.6559728 \t2.2166414\n",
      "19600\t1.8287234\t0.7668138 \t1.0619096 \t1.5258465 \t2.4467778\n",
      "19700\t1.7455314\t0.73430264 \t1.0112288 \t1.6618365 \t2.6350331\n",
      "19800\t1.8527117\t0.7317069 \t1.1210048 \t1.5649348 \t2.352186\n",
      "19900\t1.8092104\t0.7161983 \t1.0930121 \t1.6794944 \t2.3145514\n",
      "20000\t1.7561454\t0.74437356 \t1.0117718 \t1.6679993 \t2.6841314\n",
      "Time :730.3744626045227\n"
     ]
    }
   ],
   "source": [
    "# Dataset\n",
    "data_len = 3*2\n",
    "data_size = 1000\n",
    "\n",
    "# Parameter\n",
    "batch_size = 100\n",
    "max_epoch  = 2000\n",
    "iteration = data_size / batch_size * max_epoch\n",
    "snapshot = 100\n",
    "num_step = 3\n",
    "input_dim = num_step*2\n",
    "\n",
    "# Training\n",
    "start_t = time.time()\n",
    "model = train(train_data, max_epoch, batch_size, snapshot)\n",
    "process_time = time.time() - start_t\n",
    "print('Time :{}'.format(process_time))"
   ]
  },
  {
   "cell_type": "markdown",
   "metadata": {},
   "source": [
    "# 推論"
   ]
  },
  {
   "cell_type": "code",
   "execution_count": 17,
   "metadata": {},
   "outputs": [],
   "source": [
    "def predict(model, x_test, plot=0, xlim=[-5,5],ylim=[-5,5]):\n",
    "    x_data = Variable(x_test)\n",
    "    y = model(x_data)\n",
    "    car = CartLayer(len(y))\n",
    "    predpos = calc_car_pos(car, y)\n",
    "    truepos = Variable(x_test)\n",
    "    loss,msg = loss_function(y, x_data)\n",
    "    print(\"loss: {}\".format(loss))\n",
    "    print(\"v,w: \\n  {}\".format(y))\n",
    "    print(\"path(x-y-th): \\n  {}\".format(car.path))\n",
    "    print(\"truth(x-y-th): \\n  {}\".format(x_test))\n",
    "    if(plot>0):\n",
    "        plot_path(car.path.data, np.reshape(x_data.data, (int(len(x_data[0])/2), 2)),xlim,ylim)"
   ]
  },
  {
   "cell_type": "code",
   "execution_count": 35,
   "metadata": {},
   "outputs": [
    {
     "name": "stdout",
     "output_type": "stream",
     "text": [
      "loss: variable(2.4504764)\n",
      "v,w: \n",
      "  variable([[[-0.49207044 -1.        ]\n",
      "           [-1.         -0.9999892 ]\n",
      "           [-1.         -1.        ]]])\n",
      "path(x-y-th): \n",
      "  variable([[[ 0.          0.          0.        ]\n",
      "           [-0.2658668   0.414063   -1.        ]\n",
      "           [ 0.15027028  1.3233649  -1.9999893 ]\n",
      "           [ 1.1402613   1.4644954  -2.9999893 ]]])\n",
      "truth(x-y-th): \n",
      "  [[0.24576317 0.9372015  0.9198024  1.6332023  1.9098593  1.9098593 ]]\n"
     ]
    },
    {
     "data": {
      "image/png": "[encoded data removed]",
      "text/plain": [
       "<Figure size 432x288 with 1 Axes>"
      ]
     },
     "metadata": {},
     "output_type": "display_data"
    }
   ],
   "source": [
    "l = 3\n",
    "path = make_arc_path_2(l,np.pi/6)\n",
    "via_path = get_n_point_from_path_2(data_len/2,path)\n",
    "sample_x_test = np.array([via_path.flatten()],dtype=np.float32)\n",
    "predict(model, sample_x_test, plot=1, xlim=[-5,5], ylim=[-5,5])"
   ]
  },
  {
   "cell_type": "markdown",
   "metadata": {},
   "source": [
    "# 重みの保存と読み込み"
   ]
  },
  {
   "cell_type": "code",
   "execution_count": 19,
   "metadata": {},
   "outputs": [],
   "source": [
    "# rename model\n",
    "import os\n",
    "import datetime\n",
    "\n",
    "def gen_filename():\n",
    "    name_date = '{0:%Y%m%d%H%M%S}'.format(datetime.datetime.now())\n",
    "    name_epoch = '{}epoch'.format(max_epoch)\n",
    "    name_batch = '{}batch'.format(batch_size)\n",
    "    name_datasize  = '{}data'.format(data_size)\n",
    "    name_num_step = '{}step'.format(num_step)\n",
    "    model_name = name_num_step+ '_' + name_datasize + name_batch + name_epoch + '_' + name_date +  '.model'\n",
    "    print(model_name)\n",
    "    return model_name"
   ]
  },
  {
   "cell_type": "code",
   "execution_count": 20,
   "metadata": {},
   "outputs": [],
   "source": [
    "def save_pretrained(model, name):\n",
    "    serializers.save_npz(name, model)\n",
    "\n",
    "def load_pretrained(name):\n",
    "    load_model = ModelPathGenerator(input_dim, num_step)\n",
    "    serializers.load_npz(name, load_model)\n",
    "    return load_model"
   ]
  },
  {
   "cell_type": "code",
   "execution_count": 21,
   "metadata": {},
   "outputs": [],
   "source": [
    "# save\n",
    "save_pretrained(model, 'tmp.model')\n",
    "# os.rename('tmp.model', get_filename())"
   ]
  },
  {
   "cell_type": "code",
   "execution_count": 22,
   "metadata": {},
   "outputs": [],
   "source": [
    "# Parameter\n",
    "batch_size = 10\n",
    "max_epoch  = 30\n",
    "snapshot = 100\n",
    "num_step = 3\n",
    "input_dim = num_step*2\n",
    "# load\n",
    "load_model = load_pretrained('tmp.model')\n",
    "if gpu_index >=0:\n",
    "    load_model.to_gpu()"
   ]
  },
  {
   "cell_type": "code",
   "execution_count": 23,
   "metadata": {},
   "outputs": [
    {
     "name": "stdout",
     "output_type": "stream",
     "text": [
      "loss: variable(1.2974051)\n",
      "v,w: \n",
      "  variable([[[-0.9447818 -1.       ]\n",
      "           [-0.9877662 -0.1045359]\n",
      "           [ 0.2909356 -1.       ]]])\n",
      "path(x-y-th): \n",
      "  variable([[[ 0.          0.          0.        ]\n",
      "           [-0.51046777  0.7950065  -1.        ]\n",
      "           [-0.9545171   1.6773343  -1.1045359 ]\n",
      "           [-1.1025325   1.4268649  -2.104536  ]]])\n",
      "truth(x-y-th): \n",
      "  [[-0.24576317  0.9372015  -0.9198024   1.6332023  -1.9098593   1.9098593 ]]\n"
     ]
    },
    {
     "data": {
      "image/png": "[encoded data removed]",
      "text/plain": [
       "<Figure size 432x288 with 1 Axes>"
      ]
     },
     "metadata": {},
     "output_type": "display_data"
    }
   ],
   "source": [
    "predict(load_model, sample_x_test, plot=1, xlim=[-2,2], ylim=[-2,3])"
   ]
  },
  {
   "cell_type": "markdown",
   "metadata": {},
   "source": [
    "# 分散(未完成)"
   ]
  },
  {
   "cell_type": "code",
   "execution_count": 24,
   "metadata": {
    "scrolled": false
   },
   "outputs": [
    {
     "data": {
      "text/plain": [
       "\"\\nsample_x = [1,2,3,4]\\nsample_y = [1,4,9,16]\\nsample_error = [1,4,9,16]\\ndef plot_error(x,y,err):\\n    plt.plot(x,y)\\n    plt.errorbar(x,y,yerr=err,ecolor='r',color='b',ls='solid',lw=2,marker='o')\\n    plt.show()\\n\\n# plot_error(sample_x,sample_y,sample_error)\\n\""
      ]
     },
     "execution_count": 24,
     "metadata": {},
     "output_type": "execute_result"
    }
   ],
   "source": [
    "'''\n",
    "sample_x = [1,2,3,4]\n",
    "sample_y = [1,4,9,16]\n",
    "sample_error = [1,4,9,16]\n",
    "def plot_error(x,y,err):\n",
    "    plt.plot(x,y)\n",
    "    plt.errorbar(x,y,yerr=err,ecolor='r',color='b',ls='solid',lw=2,marker='o')\n",
    "    plt.show()\n",
    "\n",
    "# plot_error(sample_x,sample_y,sample_error)\n",
    "'''"
   ]
  },
  {
   "cell_type": "markdown",
   "metadata": {},
   "source": [
    "## 議事録\n",
    "---"
   ]
  },
  {
   "cell_type": "markdown",
   "metadata": {},
   "source": [
    "### 2019/02/19 オフィスアワー\n",
    "\n",
    "次回まで\n",
    "- PID制御と比較できるように\n",
    "- 4ステップ程度の短いステップで追従\n",
    "- 入江さんが作った関数を使って学習できるように  \n",
    "  - 同じ結果が再現できるか確認\n",
    "  - cpu用の関数になっているためgpu用に"
   ]
  },
  {
   "cell_type": "markdown",
   "metadata": {},
   "source": [
    "### 2019/01/29 オフィスアワー\n",
    "\n",
    "* 損失の計算確認\n",
    "  - Reshapeが間違い\n",
    "  - 速度・角速度計算の入力に間違い（参照axisがおかしかった）\n",
    "* 途中経路の入力（損失の計算方法を考える\n",
    "  - 経由点（入力座標）を3点に変更\n",
    "  - 9ステップ先まで予測"
   ]
  },
  {
   "cell_type": "markdown",
   "metadata": {},
   "source": [
    "### 2019/01/22 オフィスアワー \n",
    "\n",
    "* 次元ごとにforwordして結果を比較 \n",
    "* lossを貯めて擬似的にmini-batch処理\n",
    "* chainer SLAM 藤本さん qiita の記事?\n",
    "* 同次変換行列ができれば...\n",
    "* バッチ処理は先送りするのも検討\n",
    "* 経路の途中の計算を諦めて評価値だけ天から降ってくるものとして扱う案\n",
    "* NNで最適制御（普通の制御よりは複雑（非線形項））\n",
    "* 前後左右の加減速（ドローンの風で安定しないなど）\n",
    "\n",
    "#### 次回までの課題\n",
    "* 180度を跨がない\n",
    "  - -90～90度の範囲で学習\n",
    "  \n",
    "* tanh (-1 ~ 1)やシグモイド(正)で無茶な加減速を抑制\n",
    "  - tanh層を加えた\n",
    "  - 最大速度　　:１\n",
    "  - 最大角速度　:\n",
    "\n",
    "* 学習回数を増やして結果を比較\n",
    "  - 今まで1000データ 5エポック\n",
    "  - 今回は1000データ 50エポック\n",
    "\n",
    "* (できたらバッチ処理)\n",
    "  - 次元ごとにforwordして結果を比較した\n",
    "  - lossが怪しい"
   ]
  },
  {
   "cell_type": "markdown",
   "metadata": {},
   "source": [
    "### 2018/11/27\n",
    "* バッチで処理 →　学習回数を増やしてデータを取る\n",
    "* ネットワークを変える"
   ]
  },
  {
   "cell_type": "markdown",
   "metadata": {},
   "source": [
    "### 2018/10/24　オフィスアワー\n",
    "\n",
    "---\n",
    "問題点  \n",
    "* **（0,0）で動かなければ損失が少ないと学習してしまう**  \n",
    "    ・極座標系で距離を一定に学習する\n",
    "    \n",
    "    \n",
    "* **optimizers.update() **  \n",
    "    ・勾配を手動計算する場合は引数不要・勾配リセットも必要  \n",
    "    ・そうでない場合はloss_functionを引数に渡す\n",
    "\n",
    "その他  \n",
    "* **Variable配列の型が違って気持ち悪いので行列演算にしたい**"
   ]
  }
 ],
 "metadata": {
  "kernelspec": {
   "display_name": "Python 3",
   "language": "python",
   "name": "python3"
  },
  "language_info": {
   "codemirror_mode": {
    "name": "ipython",
    "version": 3
   },
   "file_extension": ".py",
   "mimetype": "text/x-python",
   "name": "python",
   "nbconvert_exporter": "python",
   "pygments_lexer": "ipython3",
   "version": "3.5.3"
  }
 },
 "nbformat": 4,
 "nbformat_minor": 2
}
