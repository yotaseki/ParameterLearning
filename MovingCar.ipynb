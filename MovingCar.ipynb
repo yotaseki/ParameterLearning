{
 "cells": [
  {
   "cell_type": "code",
   "execution_count": 1,
   "metadata": {},
   "outputs": [
    {
     "name": "stderr",
     "output_type": "stream",
     "text": [
      "/usr/local/lib/python2.7/dist-packages/h5py/__init__.py:36: FutureWarning: Conversion of the second argument of issubdtype from `float` to `np.floating` is deprecated. In future, it will be treated as `np.float64 == np.dtype(float).type`.\n",
      "  from ._conv import register_converters as _register_converters\n"
     ]
    }
   ],
   "source": [
    "from chainer import Link, Chain, ChainList, Variable, optimizers, iterators\n",
    "import chainer.functions as F\n",
    "import chainer.links as L\n",
    "from chainer import cuda\n",
    "from chainer import initializers\n",
    "from chainer import serializers\n",
    "\n",
    "import time\n",
    "import matplotlib.pyplot as plt\n",
    "%matplotlib inline\n",
    "import numpy as np"
   ]
  },
  {
   "cell_type": "code",
   "execution_count": 2,
   "metadata": {},
   "outputs": [],
   "source": [
    "# GPU settings\n",
    "gpu_index = 0\n",
    "if gpu_index >= 0:\n",
    "    cuda.check_cuda_available()\n",
    "xp = cuda.cupy if gpu_index >= 0 else np"
   ]
  },
  {
   "cell_type": "markdown",
   "metadata": {},
   "source": [
    "# 車輪型ロボットモデル（対向2輪型）"
   ]
  },
  {
   "cell_type": "code",
   "execution_count": 3,
   "metadata": {},
   "outputs": [],
   "source": [
    "class CartLayer:\n",
    "    def __init__(self,batchsize=1):\n",
    "        self.cart_num = batchsize\n",
    "        self.pos = Variable(np.zeros( (batchsize,3), dtype=np.float32))\n",
    "        self.path = Variable(np.zeros( (batchsize,1,3), dtype=np.float32))\n",
    "\n",
    "    def move(self,param):\n",
    "        if len(param) == self.cart_num:\n",
    "            dx = F.reshape(param[:,0] * F.cos(self.pos[:,2] + param[:,1]), (self.cart_num,1))\n",
    "            dy = F.reshape(param[:,0] * F.sin(self.pos[:,2] + param[:,1]), (self.cart_num,1))\n",
    "            dth = F.reshape(param[:,1], (self.cart_num,1))\n",
    "            D = F.concat((dx,dy),axis=1)\n",
    "            D = F.concat((D,dth),axis=1)\n",
    "            self.pos = self.pos + D\n",
    "            self.path = F.concat((self.path, F.reshape(self.pos,(self.cart_num,1,3))),axis=1)\n",
    "            return self.pos\n",
    "        else:\n",
    "            print 'len(param) != cart_num'\n",
    "            return -1\n",
    "\n",
    "# 連続で動く\n",
    "def calc_car_pos(cart_layer, y):\n",
    "    for step in range(len(y[0])):\n",
    "        cart_layer.move(y[:,step])\n",
    "    # print car.path.shape  # (4step, 50batch, 3x-y-th)\n",
    "    # print car.pos.data.shape  # (50batch, 3x-y-th)\n",
    "    return cart_layer.pos"
   ]
  },
  {
   "cell_type": "markdown",
   "metadata": {},
   "source": [
    "# 経路の描画"
   ]
  },
  {
   "cell_type": "code",
   "execution_count": 4,
   "metadata": {},
   "outputs": [],
   "source": [
    "def plot_path(cart_path,target):\n",
    "    path = cart_path[0,:,:]\n",
    "    for i in range(1,len(path)):\n",
    "        plt.quiver(path[i-1,0],path[i-1,1]\n",
    "                   , path[i,0]-path[i-1,0],path[i,1]-path[i-1,1]\n",
    "                   ,scale_units='xy', angles='xy', scale=1,color=\"blue\")\n",
    "    plt.scatter(target[:,0],target[:,1],c=\"red\",s=80,marker=\"o\")\n",
    "    num_step = len(target)\n",
    "    plt.scatter(target[num_step-1,0],target[num_step-1,1],c=\"yellow\",s=500,marker=\"*\")\n",
    "    plt.xlabel(\"x\")\n",
    "    plt.ylabel(\"y\")\n",
    "    #plt.axis('scaled')\n",
    "    #plt.xlim(-10,10)\n",
    "    #plt.ylim(-10,10)\n",
    "    plt.grid()\n",
    "    plt.show()"
   ]
  },
  {
   "cell_type": "code",
   "execution_count": 5,
   "metadata": {
    "scrolled": true
   },
   "outputs": [
    {
     "data": {
      "image/png": "[encoded data removed]",
      "text/plain": [
       "<matplotlib.figure.Figure at 0x7f1788327610>"
      ]
     },
     "metadata": {},
     "output_type": "display_data"
    },
    {
     "name": "stdout",
     "output_type": "stream",
     "text": [
      "[[[0.        0.        0.       ]\n",
      "  [0.8660254 0.5       0.5235988]\n",
      "  [1.3660253 1.3660254 1.0471976]\n",
      "  [1.3660253 2.3660254 1.5707964]]]\n"
     ]
    }
   ],
   "source": [
    "sample_v_arr = np.array([1.0,1.0,1.0],dtype=np.float32)\n",
    "sample_w_arr = np.array([30.0,30.0,30.0],dtype=np.float32)\n",
    "sample_w_arr = sample_w_arr * np.pi/180\n",
    "sample_y_data = np.vstack((sample_v_arr,sample_w_arr)).T\n",
    "sample_yV = Variable(np.reshape(sample_y_data,(1,3,2) )) \n",
    "sample_cart = CartLayer()\n",
    "pos = calc_car_pos(sample_cart,sample_yV)\n",
    "plot_path(sample_cart.path.data,np.array([[0,0],[1,1],[2,2]]) )\n",
    "print sample_cart.path.data\n"
   ]
  },
  {
   "cell_type": "markdown",
   "metadata": {},
   "source": [
    "# ネットワーク"
   ]
  },
  {
   "cell_type": "code",
   "execution_count": 6,
   "metadata": {},
   "outputs": [],
   "source": [
    "class ModelPathGenerator(Chain):\n",
    "    def __init__(self, input_dimension, num_step):\n",
    "        self.input_dim = input_dimension\n",
    "        self.num_step = num_step\n",
    "        initializer = initializers.HeNormal()\n",
    "        super(ModelPathGenerator, self).__init__(\n",
    "            l1=L.Linear(self.input_dim, 15, initialW=initializer),\n",
    "            l2=L.Linear(15, 8, initialW=initializer),\n",
    "            l3=L.Linear(8, self.num_step*2, initialW=initializer),\n",
    "        )\n",
    "    def __call__(self, x):\n",
    "        h1 = F.relu(self.l1(x))\n",
    "        h2 = F.relu(self.l2(h1))\n",
    "        h3 = self.l3(h2)\n",
    "        h4 = F.tanh(h3)\n",
    "        o = F.reshape(h4,(len(x),self.num_step,2))\n",
    "        return o\n",
    "    \n",
    "    '''\n",
    "    def loss_function():\n",
    "        path\n",
    "    \n",
    "    def get_vw(self,output):\n",
    "        v = output[0,0:3]\n",
    "        w = output[0,3:6]\n",
    "        return v,w\n",
    "    '''"
   ]
  },
  {
   "cell_type": "markdown",
   "metadata": {},
   "source": [
    "**入出力を確認**"
   ]
  },
  {
   "cell_type": "code",
   "execution_count": 7,
   "metadata": {
    "scrolled": false
   },
   "outputs": [
    {
     "name": "stdout",
     "output_type": "stream",
     "text": [
      "[[3. 0.]]\n",
      "variable([[[-0.270693   -0.2962532 ]\n",
      "           [ 0.15840848 -0.18301901]\n",
      "           [-0.558009   -0.7510562 ]]])\n"
     ]
    },
    {
     "data": {
      "text/plain": [
       "' '"
      ]
     },
     "execution_count": 7,
     "metadata": {},
     "output_type": "execute_result"
    }
   ],
   "source": [
    "''' sample '''\n",
    "sample_model = ModelPathGenerator(2,3)\n",
    "sample_x_data = np.array([[3,0]],dtype=np.float32)\n",
    "sample_x = Variable(sample_x_data)\n",
    "print sample_x_data\n",
    "sample_y = sample_model(sample_x_data)\n",
    "print sample_y\n",
    "''' '''"
   ]
  },
  {
   "cell_type": "markdown",
   "metadata": {},
   "source": [
    "### 2018/10/24　オフィスアワー\n",
    "\n",
    "---\n",
    "問題点  \n",
    "* **（0,0）で動かなければ損失が少ないと学習してしまう**  \n",
    "    ・極座標系で距離を一定に学習する\n",
    "    \n",
    "    \n",
    "* **optimizers.update() **  \n",
    "    ・勾配を手動計算する場合は引数不要・勾配リセットも必要  \n",
    "    ・そうでない場合はloss_functionを引数に渡す\n",
    "\n",
    "その他  \n",
    "* **Variable配列の型が違って気持ち悪いので行列演算にしたい**"
   ]
  },
  {
   "cell_type": "markdown",
   "metadata": {},
   "source": [
    "# 極座標変換"
   ]
  },
  {
   "cell_type": "code",
   "execution_count": 8,
   "metadata": {
    "scrolled": true
   },
   "outputs": [
    {
     "name": "stdout",
     "output_type": "stream",
     "text": [
      "[1, 1]\n",
      "[1.4142135623730951, 45.0]\n"
     ]
    },
    {
     "data": {
      "image/png": "[encoded data removed]",
      "text/plain": [
       "<matplotlib.figure.Figure at 0x7f17f15f4690>"
      ]
     },
     "metadata": {},
     "output_type": "display_data"
    }
   ],
   "source": [
    "# 極座標変換\n",
    "def to_polar_coordinate(x,y):\n",
    "    r = np.sqrt(x**2 + y**2)\n",
    "    theta = np.arctan2(y,x)\n",
    "    return r,theta\n",
    "# 直交座標変換\n",
    "def to_cartesian_coordinate(r,theta):\n",
    "    x = r * np.cos(theta)\n",
    "    y = r * np.sin(theta)\n",
    "    return x,y\n",
    "\n",
    "sample_x,sample_y = [1,1]\n",
    "sample_r,sample_theta = to_polar_coordinate(sample_x,sample_y)\n",
    "print [sample_x,sample_y]\n",
    "print [sample_r, sample_theta*180/np.pi]\n",
    "# 直交系グラフ\n",
    "ax1 = plt.subplot(1,2,1)\n",
    "ax1.scatter(sample_x,sample_y)\n",
    "ax1.axis([-3,3,-3,3])\n",
    "ax1.grid(True)\n",
    "\n",
    "# 極座標系グラフ\n",
    "ax2 = plt.subplot(1,2,2,polar=True)\n",
    "ax2.scatter(sample_theta,sample_r)\n",
    "ax2.set_rmax(3)\n",
    "ax2.grid(True)\n"
   ]
  },
  {
   "cell_type": "markdown",
   "metadata": {},
   "source": [
    "# 訓練データの作成\n",
    "\n",
    "* 極座標系で角度をランダムに指定  \n",
    "\n",
    "直線版\n",
    "\\begin{equation*}\n",
    "\\begin{bmatrix}\n",
    "2 < r1 < 3\\\\ 4 < r2 < 5\\\\ 7 < r3< 8 \\\\\n",
    "-\\frac{π}{2} < θ < \\frac{π}{2}\n",
    "\\end{bmatrix}\n",
    "\\end{equation*}\n",
    "\n",
    "前まで\n",
    "\\begin{equation*}\n",
    "\\begin{bmatrix}\n",
    "0 < r < 6 \\\\\n",
    "-\\frac{π}{2} < θ < \\frac{π}{2}\n",
    "\\end{bmatrix}\n",
    "\\end{equation*}"
   ]
  },
  {
   "cell_type": "code",
   "execution_count": 9,
   "metadata": {
    "scrolled": true
   },
   "outputs": [
    {
     "name": "stdout",
     "output_type": "stream",
     "text": [
      "DATA_SHAPE(1000, 3, 2)\n",
      "[[0.88157326 2.281601  ]\n",
      " [1.6907895  4.375934  ]\n",
      " [2.684239   6.947082  ]]\n"
     ]
    },
    {
     "data": {
      "image/png": "[encoded data removed]",
      "text/plain": [
       "<matplotlib.figure.Figure at 0x7f17f15d1a10>"
      ]
     },
     "metadata": {},
     "output_type": "display_data"
    }
   ],
   "source": [
    "def random_point(size, min_r,max_r, min_theta, max_theta):\n",
    "    min_rad = np.deg2rad(min_theta)\n",
    "    max_rad = np.deg2rad(max_theta)\n",
    "    r = np.random.rand(size) * (max_r-min_r) + min_r\n",
    "    theta = np.random.rand(size) * (max_rad-min_rad) + min_rad\n",
    "    # theta = np.random.rand(size) * 2 * np.pi - (np.pi)\n",
    "    return r, theta\n",
    "\n",
    "def generate_dataset(r,theta,data_length=2,plot=0):\n",
    "    x,y = to_cartesian_coordinate(r,theta)\n",
    "    x_data = np.vstack([x,y])\n",
    "    x_data = x_data.T\n",
    "    x_data = np.array(x_data, dtype=np.float32)\n",
    "    if (plot>0) :\n",
    "        plt.figure()\n",
    "        fig1 = plt.subplot(1,2,2,polar=True)\n",
    "        fig1.scatter(theta,r)\n",
    "        # fig1.set_rmax(3)\n",
    "        fig1.grid(True)\n",
    "\n",
    "        fig2 = plt.subplot(1,2,1)\n",
    "        fig2.scatter(x,y)\n",
    "        # fig2.axis([-3,3,0,3])\n",
    "        plt.axis('scaled')\n",
    "        fig2.grid(True)\n",
    "    x_data = np.reshape(x_data,((len(r)*2)/data_length,data_length))\n",
    "    return x_data\n",
    "\n",
    "sample_data_len = 2\n",
    "sample_data_size = 1000\n",
    "# step 1\n",
    "sample_r, sample_theta = random_point(sample_data_size,2,3,-90,90 )\n",
    "sample_step1 = generate_dataset(sample_r,sample_theta,sample_data_len,plot=0)\n",
    "# step 2\n",
    "sample_r, _ = random_point(sample_data_size,4,5,-90,90 )\n",
    "sample_step2 = generate_dataset(sample_r,sample_theta,sample_data_len,plot=0)\n",
    "# step 3\n",
    "sample_r, _ = random_point(sample_data_size,7,8,-90,90 )\n",
    "sample_step3 = generate_dataset(sample_r,sample_theta,sample_data_len,plot=0)\n",
    "\n",
    "fig3 = plt.figure()\n",
    "sample_dataX = np.concatenate((sample_step1,sample_step2,sample_step3),axis=1)\n",
    "sample_plotX = np.reshape(sample_dataX, (sample_data_size,3,2))\n",
    "print 'DATA_SHAPE{}'.format(sample_plotX.shape)\n",
    "print sample_plotX[0]\n",
    "plot_path(np.array([[[[0,0,0]]]]), sample_plotX[0])"
   ]
  },
  {
   "cell_type": "markdown",
   "metadata": {},
   "source": [
    "# 損失関数"
   ]
  },
  {
   "cell_type": "code",
   "execution_count": 10,
   "metadata": {
    "scrolled": true
   },
   "outputs": [],
   "source": [
    "def calc_distance(predict_pos,true_pos):\n",
    "    #print \"true_pos\\n{}\".format(true_pos.shape)\n",
    "    #print \"predict_pos\\n{}\".format(predict_pos.shape)\n",
    "    D = F.sqrt(F.sum((true_pos-predict_pos)**2, axis=1))\n",
    "    return D\n",
    "\n",
    "# sample_p = Variable(np.array([[-0.04729605 , 3.132064, 0]], dtype=np.float32))\n",
    "# sample_t = Variable(np.array([-0.9656074  ,1.9671886], dtype=np.float32))\n",
    "# print calc_distance(sample_p[0,0:2],sample_t)\n",
    "# 1.4833174\n",
    "\n",
    "def velo_diff(v):\n",
    "    # v (batch,3)\n",
    "    V = np.zeros(len(v),dtype=np.float32)\n",
    "    for i in range(len(v[0])-1):\n",
    "        diff = v[:,i] - v[:,i+1]\n",
    "        # print '{} = {} - {}'.format(diff, v[:,i], v[:,i+1])\n",
    "        V = V + (diff*diff)\n",
    "    init_v = np.zeros(len(v),dtype=np.float32)\n",
    "    diff = init_v - v[:,0]\n",
    "    # print '{} = {} - {}'.format(diff, init_v, v[:,0])\n",
    "    V = V + diff*diff\n",
    "    return V\n",
    "\n",
    "# sample_p = Variable(np.array([[1, 1, 1], [2, 2, 2], [1, 1, 1]], dtype=np.float32) )\n",
    "# print velo_diff(sample_p)\n",
    "\n",
    "def terminal_cost(predict_terminal_position, true_terminal_position):\n",
    "    p = predict_terminal_position\n",
    "    t = true_terminal_position\n",
    "    Loss = calc_distance(p,t)\n",
    "    return Loss\n",
    "\n",
    "def List_var2Variable(L):  # list内のVariableをF.concatで結合\n",
    "    if(len(L) >= 2):\n",
    "        V = F.concat((L[0],L[1]))\n",
    "        for i in range(2,len(L)):\n",
    "            V = F.concat((V,L[i]))\n",
    "    else:\n",
    "        V = L[0]\n",
    "    return V\n",
    "\n",
    "def stage_cost(predict_path, true_path):\n",
    "    Loss = np.zeros(len(predict_path),dtype=np.float32)\n",
    "    # print predict_path.shape\n",
    "    # print true_path.shape\n",
    "    if len(predict_path[0]) < 2:\n",
    "        return Loss\n",
    "    else:\n",
    "        li_Dmin = []\n",
    "        for t_pos in range( 0,len(true_path[0])-1 ): # 終点を除く\n",
    "            li_D = []\n",
    "            for p_pos in range( 1,len(predict_path[0])-1 ): # 始点と終点を除く\n",
    "                # print 'ppos:{}'.format(predict_path[:,p_pos])\n",
    "                # print 'tpos:{}'.format(true_path[:,t_pos])\n",
    "                D = calc_distance(predict_path[:,p_pos], true_path[:,t_pos])  # D(batch)\n",
    "                D = F.reshape(D,(len(D),1))\n",
    "                li_D.append(D)\n",
    "            Dvar = List_var2Variable(li_D)\n",
    "            # print \"Dvar\\n\",Dvar\n",
    "            Dmin = F.min(Dvar,axis=1)\n",
    "            Dmin = F.reshape(Dmin,(len(Dmin),1))\n",
    "            # print \"Dmin\\n\",Dmin\n",
    "            li_Dmin.append(Dmin)\n",
    "        Dmin_var =  List_var2Variable(li_Dmin)\n",
    "        # print \"Dmin_var\\n\",Dmin_var\n",
    "        Loss = F.sum(Dmin_var, axis=1)\n",
    "        return Loss\n",
    "    \n",
    "def loss_function(y, x_data):\n",
    "    # y      [ batch, step,param]\n",
    "    # x_data [ batch, point_x-y]\n",
    "    x_data = F.reshape(x_data,(len(x_data),len(x_data[0])/2, 2) )\n",
    "    num_step = len(y[0])\n",
    "    cart = CartLayer(len(y))\n",
    "    calc_car_pos(cart,y)\n",
    "\n",
    "    # Stage cost\n",
    "    predict_path = cart.path[:,:,0:2] # cart.path [ batch ,step ,x-y-th]\n",
    "    true_path = x_data\n",
    "    Dst = stage_cost(predict_path, true_path)\n",
    "\n",
    "    # Terminal cost\n",
    "    predict_term_pos = cart.pos[:,0:2]\n",
    "    true_term_pos = x_data[:,len(x_data[0])-1]\n",
    "    Dtc = terminal_cost(predict_term_pos, true_term_pos)\n",
    "\n",
    "    # Limiting\n",
    "    v = y[:,:,0]\n",
    "    w = y[:,:,1]\n",
    "    V = velo_diff(v)\n",
    "    W = velo_diff(w)\n",
    "    \n",
    "    # print 'Dtc :{}'.format(Dtc)\n",
    "    # print 'Dst :{}'.format(Dst)\n",
    "    # print 'V :{}, v:{}'.format(V,v)\n",
    "    # print 'W :{}, w:{}'.format(W,w)\n",
    "    E = (1*Dtc) + (1*Dst) + (1*V) + (1*W)\n",
    "    loss = F.mean(E)\n",
    "    return loss"
   ]
  },
  {
   "cell_type": "code",
   "execution_count": 11,
   "metadata": {
    "scrolled": false
   },
   "outputs": [],
   "source": [
    "# sample_y = Variable(np.array([[[1,0], [1,0], [2,np.pi/2]], [[-1,0], [-1,0], [-2,-(np.pi/2)]]] ,dtype=np.float32 )) # 2batch 3step v-w\n",
    "# sample_x = Variable(np.array([ [[1,1],[2, 2], [3,3] ]                             , [[2,2],[1,-1],[3,3] ] ] ,dtype=np.float32 )) # 2batch 2point x-y\n",
    "# print loss_function(sample_y, sample_x)"
   ]
  },
  {
   "cell_type": "markdown",
   "metadata": {},
   "source": [
    "# 訓練"
   ]
  },
  {
   "cell_type": "code",
   "execution_count": 12,
   "metadata": {
    "scrolled": false
   },
   "outputs": [
    {
     "name": "stdout",
     "output_type": "stream",
     "text": [
      "100: loss 17.707945\n",
      "200: loss 12.479579\n",
      "300: loss 10.153044\n",
      "400: loss 11.841151\n",
      "500: loss 12.807294\n",
      "600: loss 14.752173\n",
      "700: loss 10.515759\n",
      "800: loss 9.708506\n",
      "900: loss 9.628545\n",
      "1000: loss 8.497747\n",
      "1100: loss 7.308948\n",
      "1200: loss 7.8425536\n",
      "1300: loss 8.703895\n",
      "1400: loss 8.135512\n",
      "1500: loss 6.6496696\n",
      "1600: loss 7.0991693\n",
      "1700: loss 6.787988\n",
      "1800: loss 7.1051965\n",
      "1900: loss 7.8836513\n",
      "2000: loss 6.910454\n",
      "2100: loss 7.0651965\n",
      "2200: loss 7.39135\n",
      "2300: loss 8.244697\n",
      "2400: loss 7.2734985\n",
      "2500: loss 7.089142\n",
      "2600: loss 7.098336\n",
      "2700: loss 7.5306716\n",
      "2800: loss 7.2905135\n",
      "2900: loss 7.0547533\n",
      "3000: loss 7.0683913\n",
      "3100: loss 6.9215326\n",
      "3200: loss 7.0042453\n",
      "3300: loss 6.9889464\n",
      "3400: loss 7.4417696\n",
      "3500: loss 5.8122554\n",
      "3600: loss 6.2871857\n",
      "3700: loss 6.7330585\n",
      "3800: loss 5.410796\n",
      "3900: loss 5.430436\n",
      "4000: loss 4.29624\n",
      "4100: loss 3.4225042\n",
      "4200: loss 4.32276\n",
      "4300: loss 4.2346306\n",
      "4400: loss 3.4617813\n",
      "4500: loss 4.3940363\n",
      "4600: loss 3.2541559\n",
      "4700: loss 3.4836946\n",
      "4800: loss 2.8173132\n",
      "4900: loss 1.5239094\n",
      "5000: loss 1.4503735\n",
      "5100: loss 2.1626616\n",
      "5200: loss 1.8727087\n",
      "5300: loss 1.4202055\n",
      "5400: loss 1.5700668\n",
      "5500: loss 2.155922\n",
      "5600: loss 2.095886\n",
      "5700: loss 1.4775225\n",
      "5800: loss 1.7257222\n",
      "5900: loss 1.6396586\n",
      "6000: loss 1.2395481\n",
      "6100: loss 1.4922656\n",
      "6200: loss 1.1638292\n",
      "6300: loss 1.4115729\n",
      "6400: loss 1.6627169\n",
      "6500: loss 1.3629858\n",
      "6600: loss 1.4386761\n",
      "6700: loss 1.4460719\n",
      "6800: loss 1.6813935\n",
      "6900: loss 1.5970671\n",
      "7000: loss 1.5732069\n",
      "7100: loss 1.6952527\n",
      "7200: loss 1.4999864\n",
      "7300: loss 1.3745978\n",
      "7400: loss 1.9773225\n",
      "7500: loss 1.0717014\n",
      "7600: loss 1.7628434\n",
      "7700: loss 1.3793294\n",
      "7800: loss 1.4159225\n",
      "7900: loss 1.8216534\n",
      "8000: loss 1.2732393\n",
      "8100: loss 1.2730292\n",
      "8200: loss 1.4279534\n",
      "8300: loss 1.5744215\n",
      "8400: loss 1.1551998\n",
      "8500: loss 1.6358498\n",
      "8600: loss 1.4111427\n",
      "8700: loss 1.5619215\n",
      "8800: loss 1.313917\n",
      "8900: loss 1.4116261\n",
      "9000: loss 1.3419837\n",
      "9100: loss 1.4043916\n",
      "9200: loss 1.4640677\n",
      "9300: loss 1.4519416\n",
      "9400: loss 1.1021645\n",
      "9500: loss 1.171422\n",
      "9600: loss 1.4163449\n",
      "9700: loss 1.3471053\n",
      "9800: loss 1.4211504\n",
      "9900: loss 1.2160956\n",
      "10000: loss 1.1966861\n",
      "10100: loss 1.27193\n",
      "10200: loss 1.5092158\n",
      "10300: loss 1.3820035\n",
      "10400: loss 1.0877434\n",
      "10500: loss 1.1638567\n",
      "10600: loss 1.5717889\n",
      "10700: loss 1.2420905\n",
      "10800: loss 1.4500638\n",
      "10900: loss 1.2599058\n",
      "11000: loss 1.5183791\n",
      "11100: loss 1.5058215\n",
      "11200: loss 1.2140542\n",
      "11300: loss 1.3089005\n",
      "11400: loss 1.6499611\n",
      "11500: loss 1.1587942\n",
      "11600: loss 1.1544138\n",
      "11700: loss 1.203801\n",
      "11800: loss 1.2803298\n",
      "11900: loss 1.1766232\n",
      "12000: loss 1.073399\n",
      "12100: loss 1.3271666\n",
      "12200: loss 1.4312533\n",
      "12300: loss 1.2136195\n",
      "12400: loss 1.0919918\n",
      "12500: loss 0.99908537\n",
      "12600: loss 1.4112595\n",
      "12700: loss 1.2985879\n",
      "12800: loss 1.3287966\n",
      "12900: loss 1.4382094\n",
      "13000: loss 1.398424\n",
      "13100: loss 1.5482868\n",
      "13200: loss 1.2083977\n",
      "13300: loss 1.1926911\n",
      "13400: loss 1.2123413\n",
      "13500: loss 1.0992774\n",
      "13600: loss 1.3965015\n",
      "13700: loss 1.2779363\n",
      "13800: loss 1.3596444\n",
      "13900: loss 1.0461141\n",
      "14000: loss 1.0421461\n",
      "14100: loss 1.1274176\n",
      "14200: loss 1.2519386\n",
      "14300: loss 1.6638027\n",
      "14400: loss 1.2573541\n",
      "14500: loss 1.1421465\n",
      "14600: loss 0.99134743\n",
      "14700: loss 1.21393\n",
      "14800: loss 1.1188365\n",
      "14900: loss 1.4515874\n",
      "15000: loss 1.3449291\n",
      "15100: loss 1.2983637\n",
      "15200: loss 1.2742761\n",
      "15300: loss 1.2672156\n",
      "15400: loss 1.5283123\n",
      "15500: loss 0.9799178\n",
      "15600: loss 1.3156054\n",
      "15700: loss 1.3084792\n",
      "15800: loss 1.4090631\n",
      "15900: loss 1.3410859\n",
      "16000: loss 1.3684874\n",
      "16100: loss 1.2008352\n",
      "16200: loss 1.5884451\n",
      "16300: loss 1.093196\n",
      "16400: loss 1.2798861\n",
      "16500: loss 1.1965297\n",
      "16600: loss 0.85015756\n",
      "16700: loss 1.2264842\n",
      "16800: loss 1.1421206\n",
      "16900: loss 1.2978371\n",
      "17000: loss 1.1268724\n",
      "17100: loss 1.2017907\n",
      "17200: loss 1.067749\n",
      "17300: loss 1.2275995\n",
      "17400: loss 1.5046595\n",
      "17500: loss 1.1262814\n",
      "17600: loss 1.5617188\n",
      "17700: loss 1.0783325\n",
      "17800: loss 1.2248331\n",
      "17900: loss 1.4904898\n",
      "18000: loss 1.2515382\n",
      "18100: loss 1.2782815\n",
      "18200: loss 1.4997799\n",
      "18300: loss 1.2246633\n",
      "18400: loss 1.1272663\n",
      "18500: loss 1.1137463\n",
      "18600: loss 1.4645147\n",
      "18700: loss 1.0768137\n",
      "18800: loss 1.0724872\n",
      "18900: loss 1.143322\n",
      "19000: loss 1.2450631\n",
      "19100: loss 1.4823967\n",
      "19200: loss 1.1700492\n",
      "19300: loss 1.3493057\n",
      "19400: loss 0.9060046\n",
      "19500: loss 1.3212881\n",
      "19600: loss 1.1625683\n",
      "19700: loss 1.2758683\n",
      "19800: loss 1.5790966\n",
      "19900: loss 1.3562635\n",
      "20000: loss 1.2605733\n",
      "Time :758.429880142\n"
     ]
    }
   ],
   "source": [
    "def train(x_data, max_epoch, batch_size, snapshot=10):\n",
    "    num_step = 9  # 台車が進む回数\n",
    "    input_dim = len(x_data[0])\n",
    "    model = ModelPathGenerator(input_dim, num_step)\n",
    "    opt = optimizers.Adam()\n",
    "    gpu_id = -1\n",
    "    if gpu_id >= 0:\n",
    "        model.to_gpu(gpu_id)\n",
    "    train_iter = iterators.SerialIterator(x_data, batch_size)\n",
    "    opt.setup(model)\n",
    "    epoch = 0\n",
    "    while train_iter.epoch < max_epoch:\n",
    "        train_batch = np.array(train_iter.next())\n",
    "        x = Variable(train_batch.astype(np.float32).reshape(len(train_batch),input_dim))\n",
    "        y = model(x)\n",
    "        loss = loss_function(y,x)\n",
    "        model.cleargrads()\n",
    "        loss.backward()\n",
    "        opt.update()\n",
    "        epoch = epoch + 1\n",
    "        if (epoch % snapshot)==0:\n",
    "            print str(epoch)+\": loss \"+str(loss.data)\n",
    "    return model\n",
    "\n",
    "# parameter\n",
    "batch_size = 5\n",
    "max_epoch  = 100\n",
    "snapshot = 100\n",
    "# dataset\n",
    "data_size  = 1000\n",
    "data_step = 3\n",
    "r, theta = random_point(data_size,0,8,-90,90)\n",
    "x_data = generate_dataset(r,theta)\n",
    "start_t = time.time()\n",
    "model = train(sample_dataX, max_epoch, batch_size, snapshot)\n",
    "process_time = time.time() - start_t\n",
    "print 'Time :{}'.format(process_time)"
   ]
  },
  {
   "cell_type": "markdown",
   "metadata": {},
   "source": [
    "# 推論"
   ]
  },
  {
   "cell_type": "code",
   "execution_count": 17,
   "metadata": {
    "scrolled": true
   },
   "outputs": [
    {
     "name": "stdout",
     "output_type": "stream",
     "text": [
      "loss: variable(1.5190266)\n",
      "v,w: \n",
      "variable([[[ 0.12181387  0.12684584]\n",
      "           [ 0.31544194  0.22177547]\n",
      "           [ 0.57454497  0.22793178]\n",
      "           [ 0.8268161   0.07855241]\n",
      "           [ 0.9984434  -0.05837477]\n",
      "           [ 0.9998665  -0.15055454]\n",
      "           [ 0.9999758  -0.046829  ]\n",
      "           [ 0.9999799   0.03134978]\n",
      "           [ 0.9999866   0.02418423]]])\n"
     ]
    },
    {
     "data": {
      "image/png": "[encoded data removed]",
      "text/plain": [
       "<matplotlib.figure.Figure at 0x7f17877672d0>"
      ]
     },
     "metadata": {},
     "output_type": "display_data"
    }
   ],
   "source": [
    "def predict(model, x_test, plot=0):\n",
    "    x_data = Variable(x_test)\n",
    "    y = model(x_data)\n",
    "    car = CartLayer(len(y))\n",
    "    predpos = calc_car_pos(car, y)\n",
    "    truepos = Variable(x_test)\n",
    "    loss = loss_function(y, x_data)\n",
    "    print \"loss: {}\".format(loss)\n",
    "    print \"v,w: \\n{}\".format(y)\n",
    "    # print car.path\n",
    "    if(plot>0):\n",
    "        plot_path(car.path.data, np.reshape(x_data.data, (len(x_data[0])/2, 2)))\n",
    "\n",
    "sample_r     = [2, 4, 6]\n",
    "sample_theta = [np.deg2rad(-30),np.deg2rad(-30),np.deg2rad(-30)]\n",
    "data_len = 3*2\n",
    "sample_x_test = generate_dataset(sample_r,sample_theta,data_len)\n",
    "predict(model, sample_x_test, plot=1)"
   ]
  },
  {
   "cell_type": "markdown",
   "metadata": {},
   "source": [
    "# 重みの保存と読み込み"
   ]
  },
  {
   "cell_type": "code",
   "execution_count": 14,
   "metadata": {},
   "outputs": [],
   "source": [
    "# save\n",
    "def save_pretrained(model, name):\n",
    "    serializers.save_npz(name, model)\n",
    "\n",
    "save_pretrained(model, 'tmp.model')"
   ]
  },
  {
   "cell_type": "code",
   "execution_count": 15,
   "metadata": {},
   "outputs": [
    {
     "name": "stdout",
     "output_type": "stream",
     "text": [
      "1000data5batch100epoch_20190208172356.model\n"
     ]
    }
   ],
   "source": [
    "# rename model\n",
    "import os\n",
    "import datetime\n",
    "\n",
    "name_date = '{0:%Y%m%d%H%M%S}'.format(datetime.datetime.now())\n",
    "name_epoch = '{}epoch'.format(max_epoch)\n",
    "name_batch = '{}batch'.format(batch_size)\n",
    "name_datasize  = '{}data'.format(data_size)\n",
    "model_name = name_datasize + name_batch + name_epoch + '_' + name_date + '.model' \n",
    "print model_name\n",
    "# os.rename('tmp.model', model_name)"
   ]
  },
  {
   "cell_type": "code",
   "execution_count": 16,
   "metadata": {},
   "outputs": [
    {
     "ename": "NameError",
     "evalue": "global name 'Generator' is not defined",
     "output_type": "error",
     "traceback": [
      "\u001b[0;31m---------------------------------------------------------------------------\u001b[0m",
      "\u001b[0;31mNameError\u001b[0m                                 Traceback (most recent call last)",
      "\u001b[0;32m<ipython-input-16-26612efd5fd3>\u001b[0m in \u001b[0;36m<module>\u001b[0;34m()\u001b[0m\n\u001b[1;32m      5\u001b[0m     \u001b[0;32mreturn\u001b[0m \u001b[0mload_model\u001b[0m\u001b[0;34m\u001b[0m\u001b[0m\n\u001b[1;32m      6\u001b[0m \u001b[0;34m\u001b[0m\u001b[0m\n\u001b[0;32m----> 7\u001b[0;31m \u001b[0mload_model\u001b[0m \u001b[0;34m=\u001b[0m \u001b[0mload_pretrained\u001b[0m\u001b[0;34m(\u001b[0m\u001b[0;34m'tmp.model'\u001b[0m\u001b[0;34m)\u001b[0m\u001b[0;34m\u001b[0m\u001b[0m\n\u001b[0m\u001b[1;32m      8\u001b[0m \u001b[0;34m\u001b[0m\u001b[0m\n\u001b[1;32m      9\u001b[0m \u001b[0msample_r\u001b[0m     \u001b[0;34m=\u001b[0m \u001b[0;34m[\u001b[0m\u001b[0;36m2\u001b[0m\u001b[0;34m]\u001b[0m\u001b[0;34m\u001b[0m\u001b[0m\n",
      "\u001b[0;32m<ipython-input-16-26612efd5fd3>\u001b[0m in \u001b[0;36mload_pretrained\u001b[0;34m(name)\u001b[0m\n\u001b[1;32m      1\u001b[0m \u001b[0;31m# load\u001b[0m\u001b[0;34m\u001b[0m\u001b[0;34m\u001b[0m\u001b[0m\n\u001b[1;32m      2\u001b[0m \u001b[0;32mdef\u001b[0m \u001b[0mload_pretrained\u001b[0m\u001b[0;34m(\u001b[0m\u001b[0mname\u001b[0m\u001b[0;34m)\u001b[0m\u001b[0;34m:\u001b[0m\u001b[0;34m\u001b[0m\u001b[0m\n\u001b[0;32m----> 3\u001b[0;31m     \u001b[0mload_model\u001b[0m \u001b[0;34m=\u001b[0m \u001b[0mGenerator\u001b[0m\u001b[0;34m(\u001b[0m\u001b[0;34m)\u001b[0m\u001b[0;34m\u001b[0m\u001b[0m\n\u001b[0m\u001b[1;32m      4\u001b[0m     \u001b[0mserializers\u001b[0m\u001b[0;34m.\u001b[0m\u001b[0mload_npz\u001b[0m\u001b[0;34m(\u001b[0m\u001b[0mname\u001b[0m\u001b[0;34m,\u001b[0m \u001b[0mload_model\u001b[0m\u001b[0;34m)\u001b[0m\u001b[0;34m\u001b[0m\u001b[0m\n\u001b[1;32m      5\u001b[0m     \u001b[0;32mreturn\u001b[0m \u001b[0mload_model\u001b[0m\u001b[0;34m\u001b[0m\u001b[0m\n",
      "\u001b[0;31mNameError\u001b[0m: global name 'Generator' is not defined"
     ]
    }
   ],
   "source": [
    "# load\n",
    "def load_pretrained(name):\n",
    "    load_model = Generator()\n",
    "    serializers.load_npz(name, load_model)\n",
    "    return load_model\n",
    "\n",
    "load_model = load_pretrained('tmp.model')\n",
    "\n",
    "sample_r     = [2]\n",
    "sample_theta = [np.deg2rad(0)]\n",
    "sample_x_test = generate_dataset(sample_r,sample_theta)\n",
    "predict(load_model, sample_x_test, plot=0)"
   ]
  },
  {
   "cell_type": "markdown",
   "metadata": {},
   "source": [
    "### 2018/11/27\n",
    "---\n",
    "* バッチで処理 →　学習回数を増やしてデータを取る\n",
    "* ネットワークを変える"
   ]
  },
  {
   "cell_type": "markdown",
   "metadata": {},
   "source": [
    "### 2019/01/22 オフィスアワー \n",
    "\n",
    "* 次元ごとにforwordして結果を比較 \n",
    "* lossを貯めて擬似的にmini-batch処理\n",
    "* chainer SLAM 藤本さん qiita の記事?\n",
    "* 同次変換行列ができれば...\n",
    "* バッチ処理は先送りするのも検討\n",
    "* 経路の途中の計算を諦めて評価値だけ天から降ってくるものとして扱う案\n",
    "* NNで最適制御（普通の制御よりは複雑（非線形項））\n",
    "* 前後左右の加減速（ドローンの風で安定しないなど）\n",
    "\n",
    "### 次回までの課題\n",
    "* 180度を跨がない\n",
    "  - -90～90度の範囲で学習\n",
    "  \n",
    "* tanh (-1 ~ 1)やシグモイド(正)で無茶な加減速を抑制\n",
    "  - tanh層を加えた\n",
    "  - 最大速度　　:１\n",
    "  - 最大角速度　:\n",
    "\n",
    "* 学習回数を増やして結果を比較\n",
    "  - 今まで1000データ 5エポック\n",
    "  - 今回は1000データ 50エポック\n",
    "\n",
    "* (できたらバッチ処理)\n",
    "  - 次元ごとにforwordして結果を比較した\n",
    "  - lossが怪しい"
   ]
  },
  {
   "cell_type": "markdown",
   "metadata": {},
   "source": [
    "## 検証① 入力がバッチのとき・バッチでないときの結果を比較"
   ]
  },
  {
   "cell_type": "code",
   "execution_count": null,
   "metadata": {},
   "outputs": [],
   "source": [
    "sample_input = np.array([ [2,0], [0,2], [0,-2] ], dtype=np.float32)\n",
    "predict(model, sample_input)\n",
    "print '\\n---\\n'\n",
    "predict(model,np.array([[2,0]], dtype=np.float32))\n",
    "predict(model,np.array([[0,2]], dtype=np.float32))\n",
    "predict(model,np.array([[0,-2]], dtype=np.float32))"
   ]
  },
  {
   "cell_type": "markdown",
   "metadata": {},
   "source": [
    "# 分散"
   ]
  },
  {
   "cell_type": "code",
   "execution_count": null,
   "metadata": {
    "scrolled": true
   },
   "outputs": [],
   "source": [
    "sample_x = [1,2,3,4]\n",
    "sample_y = [1,4,9,16]\n",
    "sample_error = [1,4,9,16]\n",
    "def plot_error(x,y,err):\n",
    "    plt.plot(x,y)\n",
    "    plt.errorbar(x,y,yerr=err,ecolor='r',color='b',ls='solid',lw=2,marker='o')\n",
    "    plt.show()\n",
    "\n",
    "# plot_error(sample_x,sample_y,sample_error)"
   ]
  },
  {
   "cell_type": "markdown",
   "metadata": {},
   "source": [
    "### 2019/01/29 オフィスアワー\n",
    "\n",
    "* 損失の計算確認\n",
    "  - Reshapeが間違い\n",
    "  - 速度・角速度計算の入力に間違い（参照axisがおかしかった）\n",
    "* 途中経路の入力（損失の計算方法を考える\n",
    "  - 経由点（入力座標）を3点に変更\n",
    "  - 9ステップ先まで予測\n",
    "  - "
   ]
  },
  {
   "cell_type": "code",
   "execution_count": null,
   "metadata": {},
   "outputs": [],
   "source": [
    "def calc_distance(predpos,truepos):\n",
    "    px, py, _ = predpos\n",
    "    tx, ty = truepos\n",
    "    print px\n",
    "    print py\n",
    "    print tx\n",
    "    print ty\n",
    "    D = F.sqrt( (tx-px)**2 + (ty-py)**2 )\n",
    "    # print \"p:{},{} t:{},{}  = D:{}\".format(px,py,tx,ty,D)\n",
    "    return D\n",
    "\n",
    "v1 = Variable(np.array([ [[0,1,5],[0,3,2],[0,5,1],[0,8,7]],[[1,1,5],[1,3,8],[1,5,2],[1,8,7]] ],dtype=np.float32) )\n",
    "v2 = Variable(np.array([ [[1,1],[2,2],[3,3]],[[2,2],[6,6],[8,8]] ],dtype=np.float32) )\n",
    "# F.min( v1 , axis=1)\n",
    "cv1 = F.concat( (v1[0,:,:],v1[0,:,:],v1[0,:,:]),axis=1)\n",
    "tv1 = F.transpose(cv1)\n",
    "print tv1\n",
    "# calc_distance(tv1,tv2)\n",
    "# F.transpose(v1)"
   ]
  }
 ],
 "metadata": {
  "kernelspec": {
   "display_name": "Python 2",
   "language": "python",
   "name": "python2"
  },
  "language_info": {
   "codemirror_mode": {
    "name": "ipython",
    "version": 2
   },
   "file_extension": ".py",
   "mimetype": "text/x-python",
   "name": "python",
   "nbconvert_exporter": "python",
   "pygments_lexer": "ipython2",
   "version": "2.7.12"
  }
 },
 "nbformat": 4,
 "nbformat_minor": 2
}
