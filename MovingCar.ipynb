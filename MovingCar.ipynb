{
 "cells": [
  {
   "cell_type": "code",
   "execution_count": 1,
   "metadata": {},
   "outputs": [],
   "source": [
    "from chainer import Link, Chain, ChainList, Variable, optimizers\n",
    "import chainer.functions as F\n",
    "import chainer.links as L\n",
    "from chainer import cuda\n",
    "from chainer import initializers\n",
    "\n",
    "%matplotlib inline\n",
    "import matplotlib.pyplot as plt\n",
    "import numpy as np"
   ]
  },
  {
   "cell_type": "code",
   "execution_count": 2,
   "metadata": {},
   "outputs": [],
   "source": [
    "# GPU settings\n",
    "gpu_index = 0\n",
    "if gpu_index >= 0:\n",
    "    cuda.check_cuda_available()\n",
    "xp = cuda.cupy if gpu_index >= 0 else np"
   ]
  },
  {
   "cell_type": "markdown",
   "metadata": {},
   "source": [
    "# 車輪型ロボットモデル（対向2輪型）"
   ]
  },
  {
   "cell_type": "code",
   "execution_count": 3,
   "metadata": {},
   "outputs": [],
   "source": [
    "class Car:\n",
    "    def __init__(self):\n",
    "        self.pos = Variable(np.array([[0,0,0]], dtype=np.float32))\n",
    "        self.path = np.zeros(3,dtype=float)\n",
    "\n",
    "    def move(self,param):\n",
    "        dx = F.reshape(param[0] * F.cos(self.pos[0][2] + param[1]), (1,1))\n",
    "        dy = F.reshape(param[0] * F.sin(self.pos[0][2] + param[1]), (1,1))\n",
    "        dth = F.reshape(param[1], (1,1))\n",
    "        D = F.concat((dx,dy),axis=1)\n",
    "        D = F.concat((D,dth),axis=1)\n",
    "        \n",
    "        self.pos = self.pos + D\n",
    "        # set_pos\n",
    "        self.path = np.vstack((self.path,np.array([self.pos.data[0][0], self.pos.data[0][1], self.pos.data[0][2]])))\n",
    "        return self.pos[0][0:2]\n",
    "        # 行列で演算\n",
    "\n",
    "# 連続で動く\n",
    "def calc_car_pos(car, y):\n",
    "    for i in range(len(y)):\n",
    "        pos = car.move(y[i])\n",
    "    return pos"
   ]
  },
  {
   "cell_type": "markdown",
   "metadata": {},
   "source": [
    "# 経路の描画"
   ]
  },
  {
   "cell_type": "code",
   "execution_count": 4,
   "metadata": {},
   "outputs": [],
   "source": [
    "def plot_path(path,target):\n",
    "    for i in range(1,len(path[:,0])):\n",
    "        plt.quiver(path[i-1,0],path[i-1,1], path[i,0]-path[i-1,0],path[i,1]-path[i-1,1],scale_units='xy', angles='xy', scale=1,color=\"blue\")\n",
    "    plt.scatter(target[0],target[1],c=\"yellow\",s=500,marker=\"*\")\n",
    "    plt.xlabel(\"x\")\n",
    "    plt.ylabel(\"y\")\n",
    "    #plt.axis('scaled')\n",
    "    plt.xlim(-3,3)\n",
    "    plt.ylim(-3,3)\n",
    "    plt.grid()\n",
    "    plt.show()"
   ]
  },
  {
   "cell_type": "code",
   "execution_count": 5,
   "metadata": {
    "scrolled": true
   },
   "outputs": [
    {
     "name": "stdout",
     "output_type": "stream",
     "text": [
      "variable([[ 1.          0.52359879]\n",
      "          [ 1.          0.52359879]\n",
      "          [ 1.          0.52359879]])\n"
     ]
    },
    {
     "data": {
      "image/png": "[encoded data removed]",
      "text/plain": [
       "<matplotlib.figure.Figure at 0x7f5ba6a01e90>"
      ]
     },
     "metadata": {},
     "output_type": "display_data"
    },
    {
     "name": "stdout",
     "output_type": "stream",
     "text": [
      "[[ 0.          0.          0.        ]\n",
      " [ 0.86602539  0.5         0.52359879]\n",
      " [ 1.36602533  1.36602545  1.04719758]\n",
      " [ 1.36602533  2.36602545  1.57079637]]\n"
     ]
    }
   ],
   "source": [
    "v_arr = np.array([1.0,1.0,1.0],dtype=np.float32)\n",
    "w_arr = np.array([30.0,30.0,30.0],dtype=np.float32)\n",
    "w_arr = w_arr * np.pi/180\n",
    "y_data = Variable(np.vstack((v_arr,w_arr)).T )\n",
    "print y_data\n",
    "\n",
    "car = Car()\n",
    "pos = calc_car_pos(car,y_data)\n",
    "plot_path(car.path,[0,0])\n",
    "print car.path"
   ]
  },
  {
   "cell_type": "markdown",
   "metadata": {},
   "source": [
    "# ネットワーク"
   ]
  },
  {
   "cell_type": "code",
   "execution_count": 6,
   "metadata": {},
   "outputs": [],
   "source": [
    "class Generator(Chain):\n",
    "    def __init__(self):\n",
    "        initializer = initializers.HeNormal()\n",
    "        super(Generator, self).__init__(\n",
    "            l1=L.Linear(2, 15, initialW=initializer),\n",
    "            l2=L.Linear(15, 6, initialW=initializer),\n",
    "        )\n",
    "    def __call__(self, x):\n",
    "        h1 = F.relu(self.l1(x))\n",
    "        h2 = self.l2(h1)\n",
    "        o = F.reshape(h2,(3,2))\n",
    "        return o\n",
    "    '''\n",
    "    def get_vw(self,output):\n",
    "        v = output[0,0:3]\n",
    "        w = output[0,3:6]\n",
    "        return v,w\n",
    "    '''"
   ]
  },
  {
   "cell_type": "markdown",
   "metadata": {},
   "source": [
    "**入出力を確認**"
   ]
  },
  {
   "cell_type": "code",
   "execution_count": 7,
   "metadata": {
    "scrolled": false
   },
   "outputs": [
    {
     "name": "stdout",
     "output_type": "stream",
     "text": [
      "[[ 3.  0.]]\n",
      "variable([[ 3.6190455  -2.51612186]\n",
      "          [ 0.55239755  2.84267497]\n",
      "          [ 7.69672394  3.68663883]])\n"
     ]
    }
   ],
   "source": [
    "model = Generator()\n",
    "x_data = np.array([[3,0]],dtype=np.float32)\n",
    "x = Variable(x_data)\n",
    "print x_data\n",
    "y = model(x_data)\n",
    "print y"
   ]
  },
  {
   "cell_type": "markdown",
   "metadata": {},
   "source": [
    "### 2018/10/24　オフィスアワー\n",
    "\n",
    "---\n",
    "問題点  \n",
    "* **（0,0）で動かなければ損失が少ないと学習してしまう**  \n",
    "    ・極座標系で距離を一定に学習する\n",
    "    \n",
    "    \n",
    "* **optimizers.update() **  \n",
    "    ・勾配を手動計算する場合は引数不要・勾配リセットも必要  \n",
    "    ・そうでない場合はloss_functionを引数に渡す\n",
    "\n",
    "その他  \n",
    "* **Variable配列の型が違って気持ち悪いので行列演算にしたい**"
   ]
  },
  {
   "cell_type": "markdown",
   "metadata": {},
   "source": [
    "# 極座標変換"
   ]
  },
  {
   "cell_type": "code",
   "execution_count": 8,
   "metadata": {
    "scrolled": true
   },
   "outputs": [
    {
     "name": "stdout",
     "output_type": "stream",
     "text": [
      "[1, 1]\n",
      "[1.4142135623730951, 45.0]\n"
     ]
    },
    {
     "data": {
      "image/png": "[encoded data removed]",
      "text/plain": [
       "<matplotlib.figure.Figure at 0x7f5c067f0650>"
      ]
     },
     "metadata": {},
     "output_type": "display_data"
    }
   ],
   "source": [
    "# 極座標変換\n",
    "def to_polar_coordinate(x,y):\n",
    "    r = np.sqrt(x**2 + y**2)\n",
    "    theta = np.arctan2(y,x)\n",
    "    return r,theta\n",
    "# 直交座標変換\n",
    "def to_cartesian_coordinate(r,theta):\n",
    "    x = r * np.cos(theta)\n",
    "    y = r * np.sin(theta)\n",
    "    return x,y\n",
    "\n",
    "x,y = [1,1]\n",
    "r,theta = to_polar_coordinate(x,y)\n",
    "print [x,y]\n",
    "print [r, theta*180/np.pi]\n",
    "# 直交系グラフ\n",
    "ax1 = plt.subplot(1,2,1)\n",
    "ax1.scatter(x,y)\n",
    "ax1.axis([0,3,0,3])\n",
    "ax1.grid(True)\n",
    "\n",
    "# 極座標系グラフ\n",
    "ax2 = plt.subplot(1,2,2,polar=True)\n",
    "ax2.scatter(theta,r)\n",
    "ax2.set_rmax(3)\n",
    "ax2.grid(True)\n"
   ]
  },
  {
   "cell_type": "markdown",
   "metadata": {},
   "source": [
    "# 訓練データの作成\n",
    "\n",
    "* 極座標系で角度をランダムに指定  \n",
    "\n",
    "\\begin{equation*}\n",
    "\\begin{bmatrix}\n",
    "r = 2 \\\\\n",
    "0 < θ < π\n",
    "\\end{bmatrix}\n",
    "\\end{equation*}"
   ]
  },
  {
   "cell_type": "code",
   "execution_count": 9,
   "metadata": {
    "scrolled": false
   },
   "outputs": [
    {
     "name": "stderr",
     "output_type": "stream",
     "text": [
      "/usr/local/lib/python2.7/dist-packages/numpy/core/numeric.py:301: FutureWarning: in the future, full(100, 2) will return an array of dtype('int64')\n",
      "  format(shape, fill_value, array(fill_value).dtype), FutureWarning)\n"
     ]
    },
    {
     "data": {
      "image/png": "[encoded data removed]",
      "text/plain": [
       "<matplotlib.figure.Figure at 0x7f5ba2f49690>"
      ]
     },
     "metadata": {},
     "output_type": "display_data"
    }
   ],
   "source": [
    "r = np.full(100, 2)\n",
    "theta = np.random.rand(100) * np.pi\n",
    "x,y = to_cartesian_coordinate(r,theta)\n",
    "x_data = np.vstack((x,y))\n",
    "x_data = x_data.T\n",
    "#print x_data\n",
    "\n",
    "fig1 = plt.subplot(1,2,2,polar=True)\n",
    "fig1.scatter(theta,r)\n",
    "fig1.set_rmax(3)\n",
    "fig1.grid(True)\n",
    "\n",
    "fig2 = plt.subplot(1,2,1)\n",
    "fig2.scatter(x,y)\n",
    "fig2.axis([-3,3,0,3])\n",
    "plt.axis('scaled')\n",
    "fig2.grid(True)"
   ]
  },
  {
   "cell_type": "markdown",
   "metadata": {},
   "source": [
    "# 損失関数"
   ]
  },
  {
   "cell_type": "code",
   "execution_count": null,
   "metadata": {},
   "outputs": [],
   "source": [
    "def calc_distance(predpos,truepos):\n",
    "    tx, ty = truepos\n",
    "    px, py = predpos\n",
    "    D = F.sqrt(((tx-px)**2 + (ty-py)**2))\n",
    "    # mean_sq　使わない\n",
    "    return D\n",
    "\n",
    "def loss_function(predpos, truepos):\n",
    "    D = calc_distance(predpos, truepos)\n",
    "    return D"
   ]
  },
  {
   "cell_type": "markdown",
   "metadata": {},
   "source": [
    "# 訓練"
   ]
  },
  {
   "cell_type": "code",
   "execution_count": null,
   "metadata": {},
   "outputs": [
    {
     "name": "stdout",
     "output_type": "stream",
     "text": [
      "0: loss 3.03044390678\n",
      "500: loss 0.620869100094\n",
      "1000: loss 0.410135418177\n",
      "1500: loss 0.100180968642\n",
      "2000: loss 0.0104650286958\n",
      "2500: loss 0.164812192321\n",
      "3000: loss 0.0320554450154\n",
      "3500: loss 0.110788747668\n",
      "4000: loss 0.00658976426348\n",
      "4500: loss 0.0664381459355\n",
      "5000: loss 0.0473433285952\n",
      "5500: loss 0.0600371956825\n",
      "6000: loss 0.0712841376662\n",
      "6500: loss 0.0997690930963\n",
      "7000: loss 0.0890682414174\n",
      "7500: loss 0.0587155371904\n",
      "8000: loss 0.0821083039045\n",
      "8500: loss 0.0806974619627\n",
      "9000: loss 0.0792253017426\n",
      "9500: loss 0.0460510738194\n",
      "10000: loss 0.02269477956\n"
     ]
    }
   ],
   "source": [
    "def train(x_data):\n",
    "    model = Generator()\n",
    "    opt = optimizers.Adam()\n",
    "    opt.setup(model)\n",
    "    iterate = 20000\n",
    "    snapshot = 500\n",
    "    idx = 0\n",
    "    for i in range(iterate+1):\n",
    "        idx = np.random.randint(len(x_data)-1)\n",
    "        \"\"\"\n",
    "        if(idx == len(x_data)-1):\n",
    "            idx = 0\n",
    "        idx = idx + 1\n",
    "        \"\"\"\n",
    "        x = Variable( np.array([x_data[idx]],dtype=np.float32) )\n",
    "        y = model(x)\n",
    "        truepos = Variable( np.array(x.data,dtype=np.float32) )\n",
    "        car = Car()\n",
    "        predpos = calc_car_pos(car,y)\n",
    "        loss = loss_function(predpos,truepos[0])\n",
    "        opt.update(loss_function,predpos,truepos[0])\n",
    "        if (i % snapshot)==0:\n",
    "            print str(i)+\": loss \"+str(loss.data)\n",
    "            #plot_path(car.path, target_pos.data)\n",
    "train(x_data)"
   ]
  },
  {
   "cell_type": "markdown",
   "metadata": {},
   "source": [
    "# 推論"
   ]
  },
  {
   "cell_type": "code",
   "execution_count": null,
   "metadata": {
    "scrolled": true
   },
   "outputs": [],
   "source": [
    "r = 2\n",
    "theta = 10.0 * np.pi /180.0\n",
    "x,y = to_cartesian_coordinate(r,theta)\n",
    "x_data = Variable(np.array([[x,y]],dtype=np.float32))\n",
    "o = model(x_data)\n",
    "car = Car()\n",
    "predict_pos = calc_car_pos(car,o)\n",
    "plot_path(car.path, x_data.data[0])\n",
    "target_pos = x_data[0]\n",
    "loss = loss_function(target_pos, predict_pos)\n",
    "print car.path\n",
    "print loss"
   ]
  },
  {
   "cell_type": "markdown",
   "metadata": {},
   "source": [
    "### 2018/10/30　オフィスアワー\n",
    "---\n",
    "* "
   ]
  }
 ],
 "metadata": {
  "kernelspec": {
   "display_name": "Python 3",
   "language": "python",
   "name": "python3"
  },
  "language_info": {
   "codemirror_mode": {
    "name": "ipython",
    "version": 2
   },
   "file_extension": ".py",
   "mimetype": "text/x-python",
   "name": "python",
   "nbconvert_exporter": "python",
   "pygments_lexer": "ipython2",
   "version": "2.7.12"
  }
 },
 "nbformat": 4,
 "nbformat_minor": 2
}
