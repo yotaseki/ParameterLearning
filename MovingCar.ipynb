{
 "cells": [
  {
   "cell_type": "code",
   "execution_count": 1,
   "metadata": {},
   "outputs": [
    {
     "name": "stderr",
     "output_type": "stream",
     "text": [
      "/usr/local/lib/python3.5/dist-packages/h5py/__init__.py:36: FutureWarning: Conversion of the second argument of issubdtype from `float` to `np.floating` is deprecated. In future, it will be treated as `np.float64 == np.dtype(float).type`.\n",
      "  from ._conv import register_converters as _register_converters\n"
     ]
    }
   ],
   "source": [
    "from chainer import Link, Chain, ChainList, Variable, optimizers, iterators\n",
    "import chainer.functions as F\n",
    "import chainer.links as L\n",
    "from chainer import cuda\n",
    "from chainer import initializers\n",
    "from chainer import serializers\n",
    "\n",
    "import time\n",
    "import random\n",
    "import matplotlib.pyplot as plt\n",
    "%matplotlib inline\n",
    "import pandas as pd\n",
    "import numpy\n",
    "import cupy"
   ]
  },
  {
   "cell_type": "code",
   "execution_count": 2,
   "metadata": {},
   "outputs": [],
   "source": [
    "# GPU settings\n",
    "gpu_index = 0\n",
    "if gpu_index >= 0:\n",
    "    cuda.check_cuda_available()\n",
    "    np = cuda.cupy\n",
    "else:\n",
    "    np = numpy"
   ]
  },
  {
   "cell_type": "markdown",
   "metadata": {},
   "source": [
    "# 車輪型ロボットモデル（対向2輪型）"
   ]
  },
  {
   "cell_type": "code",
   "execution_count": 3,
   "metadata": {},
   "outputs": [],
   "source": [
    "class CartLayer:\n",
    "    def __init__(self,batchsize=1):\n",
    "        self.cart_num = batchsize\n",
    "        self.pos = Variable(np.zeros( (batchsize,3), dtype=np.float32))\n",
    "        self.path = Variable(np.zeros( (batchsize,1,3), dtype=np.float32))\n",
    "\n",
    "    def move(self,param):\n",
    "        if len(param) == self.cart_num:\n",
    "            dx = F.reshape(param[:,0] * F.cos(self.pos[:,2] + param[:,1]), (self.cart_num,1))\n",
    "            dy = F.reshape(param[:,0] * F.sin(self.pos[:,2] + param[:,1]), (self.cart_num,1))\n",
    "            dth = F.reshape(param[:,1], (self.cart_num,1))\n",
    "            D = F.concat((dx,dy),axis=1)\n",
    "            D = F.concat((D,dth),axis=1)\n",
    "            self.pos = self.pos + D\n",
    "            self.path = F.concat((self.path, F.reshape(self.pos,(self.cart_num,1,3))),axis=1)\n",
    "            return self.pos\n",
    "        else:\n",
    "            print(len(param))\n",
    "            return -1\n",
    "\n",
    "# 連続で動く\n",
    "def calc_car_pos(cart_layer, y):\n",
    "    for step in range(len(y[0])):\n",
    "        cart_layer.move(y[:,step])\n",
    "    # print car.path.shape  # (4step, 50batch, 3x-y-th)\n",
    "    # print car.pos.data.shape  # (50batch, 3x-y-th)\n",
    "    return cart_layer.pos"
   ]
  },
  {
   "cell_type": "markdown",
   "metadata": {},
   "source": [
    "# 経路の描画"
   ]
  },
  {
   "cell_type": "code",
   "execution_count": 4,
   "metadata": {},
   "outputs": [],
   "source": [
    "def plot_path(cart_path,target,xlim=[-5,5],ylim=[-5,5]):\n",
    "    path = cart_path[0,:,:]\n",
    "    if gpu_index >= 0:\n",
    "        path = np.asnumpy(path)\n",
    "        t = np.asnumpy(target)\n",
    "    for i in range(1,len(path)):\n",
    "        plt.quiver(path[i-1,0],path[i-1,1]\n",
    "                   , path[i,0]-path[i-1,0],path[i,1]-path[i-1,1]\n",
    "                   , scale_units='xy', angles='xy', scale=1,color=\"blue\")\n",
    "    plt.scatter(t[:,0],t[:,1],c=\"red\",s=80,marker=\"o\")\n",
    "    num_step = len(target)\n",
    "    plt.scatter(t[num_step-1,0],t[num_step-1,1],c=\"yellow\",s=500,marker=\"*\")\n",
    "    plt.xlabel(\"x\")\n",
    "    plt.ylabel(\"y\")\n",
    "    plt.axis('scaled')\n",
    "    plt.xlim(xlim[0],xlim[1])\n",
    "    plt.ylim(ylim[0],ylim[1])\n",
    "    plt.grid()\n",
    "    plt.show()"
   ]
  },
  {
   "cell_type": "code",
   "execution_count": 5,
   "metadata": {
    "scrolled": true
   },
   "outputs": [
    {
     "data": {
      "image/png": "[encoded data removed]",
      "text/plain": [
       "<matplotlib.figure.Figure at 0x7f7cfcce2cc0>"
      ]
     },
     "metadata": {},
     "output_type": "display_data"
    },
    {
     "name": "stdout",
     "output_type": "stream",
     "text": [
      "[[[0. 0. 0.]\n",
      "  [1. 0. 0.]\n",
      "  [2. 0. 0.]\n",
      "  [3. 0. 0.]]]\n"
     ]
    },
    {
     "data": {
      "image/png": "[encoded data removed]",
      "text/plain": [
       "<matplotlib.figure.Figure at 0x7f7cfcce2a20>"
      ]
     },
     "metadata": {},
     "output_type": "display_data"
    },
    {
     "name": "stdout",
     "output_type": "stream",
     "text": [
      "[[[0. 0. 0.]\n",
      "  [1. 0. 0.]\n",
      "  [2. 0. 0.]\n",
      "  [3. 0. 0.]]]\n"
     ]
    }
   ],
   "source": [
    "sample_v_arr = np.array([1.0,1.0,1.0],dtype=np.float32)\n",
    "sample_w_arr = np.array([0.0,0.0,0.0],dtype=np.float32)\n",
    "sample_w_arr = sample_w_arr * np.pi/180\n",
    "sample_y_data = np.vstack((sample_v_arr,sample_w_arr)).T\n",
    "sample_yV = Variable(np.reshape(sample_y_data,(1,3,2) )) \n",
    "sample_cart = CartLayer()\n",
    "pos = calc_car_pos(sample_cart,sample_yV)\n",
    "plot_path(sample_cart.path.data,np.array([[1,0],[2,0],[3,0]]) )\n",
    "print(sample_cart.path.data)\n",
    "sample_v_arr = np.array([1.0,1.0,1.0],dtype=np.float32)\n",
    "sample_w_arr = np.array([0.0,0.0,0.0],dtype=np.float32)\n",
    "sample_w_arr = sample_w_arr * np.pi/180\n",
    "sample_y_data = np.vstack((sample_v_arr,sample_w_arr)).T\n",
    "sample_yV = Variable(np.reshape(sample_y_data,(1,3,2) )) \n",
    "sample_cart = CartLayer()\n",
    "pos = calc_car_pos(sample_cart,sample_yV)\n",
    "plot_path(sample_cart.path.data,np.array([[0,0],[1,1],[2,2]]) )\n",
    "print(sample_cart.path.data)\n"
   ]
  },
  {
   "cell_type": "markdown",
   "metadata": {},
   "source": [
    "# ネットワーク"
   ]
  },
  {
   "cell_type": "code",
   "execution_count": 6,
   "metadata": {},
   "outputs": [],
   "source": [
    "class ModelPathGenerator(Chain):\n",
    "    def __init__(self, input_dimension, num_step):\n",
    "        self.input_dim = input_dimension\n",
    "        self.num_step = num_step\n",
    "        initializer = initializers.HeNormal()\n",
    "        super(ModelPathGenerator, self).__init__(\n",
    "            l1=L.Linear(self.input_dim, 15, initialW=initializer),\n",
    "            l2=L.Linear(15, 8, initialW=initializer),\n",
    "            l3=L.Linear(8, self.num_step*2, initialW=initializer),\n",
    "        )\n",
    "    def __call__(self, x):\n",
    "        h1 = F.relu(self.l1(x))\n",
    "        h2 = F.relu(self.l2(h1))\n",
    "        h3 = self.l3(h2)\n",
    "        h4 = F.tanh(h3)\n",
    "        o = F.reshape(h4,(len(x),self.num_step,2))\n",
    "        return o\n",
    "\n",
    "    '''\n",
    "    def loss_function():\n",
    "        path\n",
    "    \n",
    "    def get_vw(self,output):\n",
    "        v = output[0,0:3]\n",
    "        w = output[0,3:6]\n",
    "        return v,w\n",
    "    '''"
   ]
  },
  {
   "cell_type": "code",
   "execution_count": 7,
   "metadata": {
    "scrolled": false
   },
   "outputs": [
    {
     "name": "stdout",
     "output_type": "stream",
     "text": [
      "[[3. 0.]]\n",
      "variable([[[-0.11915506  0.16510583]\n",
      "           [ 0.046286   -0.7272359 ]\n",
      "           [ 0.49518594 -0.47363156]]])\n"
     ]
    }
   ],
   "source": [
    "# sample forward\n",
    "sample_model = ModelPathGenerator(2,3)\n",
    "if gpu_index >=0:\n",
    "    sample_model.to_gpu()\n",
    "sample_x_data = np.array([[3,0]],dtype=np.float32)\n",
    "sample_x = Variable(sample_x_data)\n",
    "print(sample_x_data)\n",
    "sample_y = sample_model(sample_x_data)\n",
    "print(sample_y)"
   ]
  },
  {
   "cell_type": "markdown",
   "metadata": {},
   "source": [
    "# 訓練データの作成\n",
    "\n",
    "* ある関数から経由点のcsvファイルを生成\n",
    "* csvファイルから経路を生成"
   ]
  },
  {
   "cell_type": "code",
   "execution_count": 8,
   "metadata": {},
   "outputs": [],
   "source": [
    "def plot_f(X,Y,color=\"black\"):\n",
    "    if gpu_index >= 0:\n",
    "        x = np.asnumpy(X)\n",
    "        y = np.asnumpy(Y)\n",
    "    plt.scatter(x,y,c=\"gray\",edgecolor=\"black\",s=3,marker=\"o\")\n",
    "\n",
    "# ある関数を経路として生成\n",
    "def make_function_path(f,x,plot=0):\n",
    "    X = x\n",
    "    Y = f(X)\n",
    "    path = np.stack((X,Y),axis=1)\n",
    "    if(plot):\n",
    "        plot_f(X,Y)\n",
    "    return path\n",
    "\n",
    "# 長さと半径から曲率一定の経路を生成\n",
    "def make_arc_path(l,r,plot=0):\n",
    "    theta = np.linspace(-np.pi/2, -np.pi/2+l/r)\n",
    "    X = r * np.cos(theta)\n",
    "    Y = r * np.sin(theta) + r\n",
    "    path = np.stack((X,Y),axis=1)\n",
    "    if(plot):\n",
    "        plot_f(X,Y)\n",
    "        plt.axis('scaled')\n",
    "        # plt.gca().set_aspect('equal', adjustable='box')\n",
    "    return path\n",
    "\n",
    "def make_arc_path_2(l,alpha,s=1,plot=0):\n",
    "    if alpha==0:\n",
    "        X = np.linspace(0, l)\n",
    "        Y = np.zeros(len(X))\n",
    "        path = np.stack((X,Y),axis=1)\n",
    "    else:\n",
    "        r = s/alpha # 曲率\n",
    "        theta = np.linspace(-np.pi/2, -np.pi/2+l/r)\n",
    "        X = r * np.cos(theta)\n",
    "        Y = r * np.sin(theta) + r\n",
    "        path = np.stack((X,Y),axis=1)\n",
    "    if(plot):\n",
    "        plot_f(X,Y,color=\"gray\")\n",
    "        plt.axis('scaled')\n",
    "        # plt.gca().set_aspect('equal', adjustable='box')\n",
    "    return path\n",
    "\n",
    "# 経路を回転\n",
    "def rotate_path(path, rad,plot=0):\n",
    "    theta = rad\n",
    "    X = path[:,1]*np.cos(theta) - path[:,0]*np.sin(theta)\n",
    "    Y = path[:,1]*np.sin(theta) + path[:,0]*np.cos(theta)\n",
    "    ret = np.stack((X,Y),axis=1)\n",
    "    if(plot):\n",
    "        plot_f(X,Y,color=\"gray\")\n",
    "        plt.axis('scaled')\n",
    "        # plt.gca().set_aspect('equal', adjustable='box')\n",
    "    return ret\n",
    "\n",
    "# CSVから経路の読み取り\n",
    "def read_path_csv(filename,plot=0):\n",
    "    df = pd.read_csv(filename, header=None)\n",
    "    path = np.array(df.values,dtype=np.float32)\n",
    "    if(plot):\n",
    "        plot_f(path[:,0],path[:,1],color=\"gray\")\n",
    "        # plt.gca().set_aspect('equal', adjustable='box')\n",
    "    return path\n",
    "\n",
    "# 経路からN点抜き出す\n",
    "def get_n_point_from_path(n,path,margin=5,plot=0):\n",
    "    path_data = np.empty((1,2))\n",
    "    idx = 0\n",
    "    for i in range(n):\n",
    "        idx = idx + np.random.randint(margin,len(path)/3)\n",
    "        if(idx > len(path)):\n",
    "            idx = len(path)\n",
    "        path_data = np.vstack((path_data,path[idx]))\n",
    "    if(plot):\n",
    "        plot_f(path_data[:,0],path_data[:,1],color=\"red\")\n",
    "    return path_data[1:len(path_data)]\n",
    "\n",
    "def get_n_point_from_path_2(n,path,plot=0):\n",
    "    path_data = np.empty((1,2))\n",
    "    idx = [(len(path)-1)/3, (len(path)-1)*2/3, len(path)-1]\n",
    "    for i in idx:\n",
    "        i = int(i)\n",
    "        path_data = np.vstack((path_data,path[i]))\n",
    "    if(plot):\n",
    "        plot_f(path_data[:,0],path_data[:,1],color=\"red\")\n",
    "    return path_data[1:len(path_data)]\n",
    "\n",
    "def distance(p1,p2,ax=0):\n",
    "    D = np.sqrt(np.sum((p1-p2)**2,axis=ax))\n",
    "    return D\n",
    "\n",
    "def get_evenly_spaced_points(data,space):\n",
    "    ret = np.empty((0,2))\n",
    "    idx_list = [];\n",
    "    p1 = np.array((0.0, 0.0),dtype=np.float32);\n",
    "    for i in range(len(data)):\n",
    "        p2 = data[i]\n",
    "        D = distance(p1,p2) \n",
    "        if(D >= space):\n",
    "            ret = np.vstack((ret,p2))\n",
    "            idx_list.append(i)\n",
    "            p1 = p2\n",
    "    return ret, idx_list"
   ]
  },
  {
   "cell_type": "code",
   "execution_count": 9,
   "metadata": {},
   "outputs": [
    {
     "data": {
      "text/plain": [
       "'\\nrand = np.random.rand() * 2 * np.pi\\nx = [rand + (0.1*i) for i in range(5)]\\nprint(x)\\np = make_function_path(np.sin,x,plot=1)\\n'"
      ]
     },
     "execution_count": 9,
     "metadata": {},
     "output_type": "execute_result"
    },
    {
     "data": {
      "image/png": "[encoded data removed]",
      "text/plain": [
       "<matplotlib.figure.Figure at 0x7f7cfccba588>"
      ]
     },
     "metadata": {},
     "output_type": "display_data"
    }
   ],
   "source": [
    "p = make_function_path(np.sin,np.linspace(0,2*np.pi),plot=1)\n",
    "p = make_function_path(np.cos,np.linspace(0,2*np.pi),plot=1)\n",
    "'''\n",
    "rand = np.random.rand() * 2 * np.pi\n",
    "x = [rand + (0.1*i) for i in range(5)]\n",
    "print(x)\n",
    "p = make_function_path(np.sin,x,plot=1)\n",
    "'''"
   ]
  },
  {
   "cell_type": "code",
   "execution_count": 10,
   "metadata": {},
   "outputs": [
    {
     "name": "stdout",
     "output_type": "stream",
     "text": [
      "[[8.16601187e-01 4.59901220e-01]\n",
      " [8.46639973e-01 1.39662119e+00]\n",
      " [4.82546535e-16 1.90985932e+00]]\n"
     ]
    },
    {
     "data": {
      "text/plain": [
       "array([8.16601187e-01, 4.59901220e-01, 8.46639973e-01, 1.39662119e+00,\n",
       "       4.82546535e-16, 1.90985932e+00])"
      ]
     },
     "execution_count": 10,
     "metadata": {},
     "output_type": "execute_result"
    },
    {
     "data": {
      "image/png": "[encoded data removed]",
      "text/plain": [
       "<matplotlib.figure.Figure at 0x7f7cfd32e4e0>"
      ]
     },
     "metadata": {},
     "output_type": "display_data"
    }
   ],
   "source": [
    "sample_p = make_arc_path_2(3,np.pi/3,plot=1)\n",
    "sample_vp = get_n_point_from_path_2(3,sample_p,plot=1)\n",
    "print(sample_vp)\n",
    "sample_vp.flatten()"
   ]
  },
  {
   "cell_type": "code",
   "execution_count": 11,
   "metadata": {},
   "outputs": [
    {
     "name": "stdout",
     "output_type": "stream",
     "text": [
      "[[0.0000e+00 0.0000e+00 1.5976e-01]\n",
      " [1.0012e-02 1.6380e-03 1.5976e-01]\n",
      " [2.0024e-02 3.2266e-03 1.5498e-01]\n",
      " ...\n",
      " [3.3239e-03 2.9697e+00 1.6865e+00]\n",
      " [1.6183e-03 2.9848e+00 1.6801e+00]\n",
      " [0.0000e+00 3.0000e+00 1.6801e+00]]\n"
     ]
    },
    {
     "data": {
      "image/png": "[encoded data removed]",
      "text/plain": [
       "<matplotlib.figure.Figure at 0x7f7d031c5518>"
      ]
     },
     "metadata": {},
     "output_type": "display_data"
    }
   ],
   "source": [
    "test_path = read_path_csv('path.csv',plot=1)\n",
    "print(test_path)"
   ]
  },
  {
   "cell_type": "code",
   "execution_count": 12,
   "metadata": {},
   "outputs": [],
   "source": [
    "# 訓練データのパラメータ\n",
    "data_num = 1000\n",
    "data_len = 20 * 2 # [step] * 2dim[X-Y]\n",
    "space = 200 #   [mm/0.1sec]\n",
    "\n",
    "def get_path_data(data_num, data_len):\n",
    "    data = np.empty((0,data_len),dtype=np.float32)\n",
    "    l = 10 # 円弧の長さ\n",
    "    for i in range(data_num):\n",
    "        rand_rad = np.random.rand() * (2*np.pi/3) - np.pi/3 # 回転範囲 -60 ~ 60\n",
    "        path = make_arc_path_2(l,rand_rad)\n",
    "        path_es, idx_list = get_evenly_spaced_points(path, space/1000)\n",
    "        via_path = path_es[0:data_len/2]\n",
    "        data = np.vstack((data,via_path.flatten()))\n",
    "        #data = np.vstack((data,[via_path]))\n",
    "    return data\n",
    "\n",
    "train_data = get_path_data(data_num,data_len)\n",
    "train_data = np.array(train_data,dtype=np.float32)"
   ]
  },
  {
   "cell_type": "code",
   "execution_count": 13,
   "metadata": {},
   "outputs": [
    {
     "name": "stdout",
     "output_type": "stream",
     "text": [
      "(1000, 40)\n",
      "[ 0.20262513  0.0210628   0.396586    0.08335057  0.57358885  0.18419987\n",
      "  0.726065    0.3192984   0.84749454  0.4828693   0.9326852   0.6679183\n",
      "  0.9779942   0.8665327   0.9814841   1.0702198   0.94300574  1.2702698\n",
      "  0.8642044   1.4581285   0.7484496   1.6257633   0.6006911   1.766006\n",
      "  0.427247    1.8728597   0.23553379  1.9417555   0.03374916  1.9697474\n",
      " -0.1694786   1.9556384  -0.36545944  1.9000318  -0.5458132   1.8053054\n",
      " -0.702828    1.6755096  -0.8297898   1.5161945 ]\n",
      "idx: 284\n",
      "[0.20373428 0.01030561 0.4053887  0.04111723 0.6029046  0.09212032\n",
      " 0.79426575 0.1627942  0.97751844 0.2524174  1.1507919  0.36007494\n",
      " 1.3123174  0.48466784 1.4604459  0.6249241  1.5936651  0.779412\n",
      " 1.7106152  0.9465543  1.810102   1.1246448  1.8911102  1.3118653\n",
      " 1.9528127  1.5063047  1.9945794  1.7059779  2.0159843  1.9088466\n",
      " 2.0168085  2.1128397  1.9970438  2.3158748  1.9568921  2.515879\n",
      " 1.896763   2.7108107  1.8172705  2.8986797 ]\n"
     ]
    },
    {
     "data": {
      "image/png": "[encoded data removed]",
      "text/plain": [
       "<matplotlib.figure.Figure at 0x7f7cf629ae80>"
      ]
     },
     "metadata": {},
     "output_type": "display_data"
    },
    {
     "name": "stdout",
     "output_type": "stream",
     "text": [
      "idx: 586\n",
      "[ 0.20289136 -0.01904937  0.39869112 -0.07553163  0.5805555  -0.16747259\n",
      "  0.7421278  -0.29165864  0.87776065 -0.4437491   0.9827133  -0.61842805\n",
      "  1.0533173  -0.8095899   1.0871049  -1.010553    1.0828952  -1.2142932\n",
      "  1.0408353  -1.4136891   0.96239513 -1.6017715   0.8503166  -1.771966\n",
      "  0.7085171  -1.9183241   0.54195285 -2.0357301   0.3564459  -2.1200802\n",
      "  0.15848017 -2.1684263  -0.0450249  -2.1790786  -0.24695623 -2.1516647\n",
      " -0.44025573 -2.0871427  -0.6181671  -1.9877679 ]\n"
     ]
    },
    {
     "data": {
      "image/png": "[encoded data removed]",
      "text/plain": [
       "<matplotlib.figure.Figure at 0x7f7cf60a7cf8>"
      ]
     },
     "metadata": {},
     "output_type": "display_data"
    },
    {
     "name": "stdout",
     "output_type": "stream",
     "text": [
      "idx: 55\n",
      "[ 0.20330322 -0.015416    0.40195733 -0.06131146  0.5914196  -0.13663685\n",
      "  0.76735735 -0.23966965  0.9257473  -0.36805373  1.0629674  -0.5188532\n",
      "  1.1758798  -0.6886197   1.2619025  -0.87347084  1.3190681  -1.0691797\n",
      "  1.3460695  -1.2712706   1.3422892  -1.4751225   1.3078138  -1.6760734\n",
      "  1.2434314  -1.8695283   1.1506146  -2.051063    1.0314857  -2.2165265\n",
      "  0.8887689  -2.362135    0.7257279  -2.4845583   0.54609114 -2.5809972\n",
      "  0.35396644 -2.6492465   0.15374732 -2.687745  ]\n"
     ]
    },
    {
     "data": {
      "image/png": "[encoded data removed]",
      "text/plain": [
       "<matplotlib.figure.Figure at 0x7f7cf61aeac8>"
      ]
     },
     "metadata": {},
     "output_type": "display_data"
    },
    {
     "name": "stdout",
     "output_type": "stream",
     "text": [
      "idx: 892\n",
      "[0.2036467  0.01153011 0.40469047 0.04597308 0.60056174 0.10288868\n",
      " 0.78875685 0.18154943 0.9668705  0.28094992 1.132626   0.3998197\n",
      " 1.2839049  0.5366394  1.4187735  0.68966025 1.535508   0.85692644\n",
      " 1.6326164  1.0363     1.7088575  1.2254883  1.7632568  1.4220732\n",
      " 1.7951189  1.6235422  1.8040367  1.82732    1.7898962  2.030802\n",
      " 1.7528782  2.2313876  1.6934556  2.426513   1.6123881  2.613684\n",
      " 1.5107119  2.7905083  1.3897264  2.954726  ]\n"
     ]
    },
    {
     "data": {
      "image/png": "[encoded data removed]",
      "text/plain": [
       "<matplotlib.figure.Figure at 0x7f7cf62d4978>"
      ]
     },
     "metadata": {},
     "output_type": "display_data"
    },
    {
     "name": "stdout",
     "output_type": "stream",
     "text": [
      "idx: 680\n",
      "[ 0.2031839   0.01655199  0.40100986  0.06577147  0.58826125  0.14636055\n",
      "  0.76000017  0.25619406  0.9116979   0.39237574  1.0393543   0.5513145\n",
      "  1.139603    0.728819    1.2098004   0.9202087   1.2480954   1.1204364\n",
      "  1.2534783   1.3242223   1.225807    1.5261925   1.1658113   1.7210212\n",
      "  1.0750731   1.9035705   0.9559854   2.0690267   0.8116884   2.213027\n",
      "  0.6459872   2.3317738   0.46325144  2.4221356   0.2682997   2.48173\n",
      "  0.06627294  2.5089853  -0.13750145  2.503183  ]\n"
     ]
    },
    {
     "data": {
      "image/png": "[encoded data removed]",
      "text/plain": [
       "<matplotlib.figure.Figure at 0x7f7cf635a940>"
      ]
     },
     "metadata": {},
     "output_type": "display_data"
    },
    {
     "name": "stdout",
     "output_type": "stream",
     "text": [
      "idx: 67\n",
      "[ 0.203141    0.01694167  0.4006694   0.06729858  0.5871276   0.14967942\n",
      "  0.7573641   0.2618081   0.9066752   0.40058658  1.0309358   0.5621805\n",
      "  1.1267124   0.7421253   1.191359    0.93544906  1.2230896   1.1368107\n",
      "  1.2210271   1.3406464   1.1852288   1.5413247   1.1166837   1.7333008\n",
      "  1.0172856   1.9112709   0.88978076  2.0703173   0.7376921   2.2060463\n",
      "  0.5652217   2.3147075   0.37713474  2.3932986   0.17862786  2.4396484\n",
      " -0.02481435  2.4524763  -0.22757097  2.4314277 ]\n"
     ]
    },
    {
     "data": {
      "image/png": "[encoded data removed]",
      "text/plain": [
       "<matplotlib.figure.Figure at 0x7f7cf6268550>"
      ]
     },
     "metadata": {},
     "output_type": "display_data"
    },
    {
     "name": "stdout",
     "output_type": "stream",
     "text": [
      "idx: 260\n",
      "[ 2.0403828e-01 -3.6429581e-03  4.0781647e-01 -1.4567189e-02\n",
      "  6.1107481e-01 -3.2758769e-02  8.1355423e-01 -5.8194503e-02\n",
      "  1.0149966e+00 -9.0841979e-02  1.2151451e+00 -1.3065957e-01\n",
      "  1.4137448e+00 -1.7759652e-01  1.6105423e+00 -2.3159303e-01\n",
      "  1.8052869e+00 -2.9258022e-01  1.9977303e+00 -3.6048040e-01\n",
      "  2.1876271e+00 -4.3520695e-01  2.3747356e+00 -5.1666468e-01\n",
      "  2.5588167e+00 -6.0474974e-01  2.7396362e+00 -6.9934988e-01\n",
      "  2.9169636e+00 -8.0034441e-01  3.0905728e+00 -9.0760469e-01\n",
      "  3.2602422e+00 -1.0209939e+00  3.4257560e+00 -1.1403677e+00\n",
      "  3.5869029e+00 -1.2655737e+00  3.7434776e+00 -1.3964525e+00]\n"
     ]
    },
    {
     "data": {
      "image/png": "[encoded data removed]",
      "text/plain": [
       "<matplotlib.figure.Figure at 0x7f7cf6351ef0>"
      ]
     },
     "metadata": {},
     "output_type": "display_data"
    },
    {
     "name": "stdout",
     "output_type": "stream",
     "text": [
      "idx: 674\n",
      "[ 0.20296337  0.01846655  0.39926124  0.07325973  0.58244693  0.16258009\n",
      "  0.7465046   0.28349426  0.8860463   0.4320313   0.9964894   0.60331315\n",
      "  1.0742068   0.79171467  1.1166463   0.99104863  1.1224141   1.1947687\n",
      "  1.0913206   1.3961846   1.0243872   1.5886815   0.92381203  1.7659377\n",
      "  0.7928979   1.9221319   0.63594425  2.0521345   0.45810562  2.1516764\n",
      "  0.26522234  2.217488    0.06362892  2.2474084  -0.14005415  2.240455\n",
      " -0.3391377   2.1968558  -0.52708364  2.118043  ]\n"
     ]
    },
    {
     "data": {
      "image/png": "[encoded data removed]",
      "text/plain": [
       "<matplotlib.figure.Figure at 0x7f7cf6029dd8>"
      ]
     },
     "metadata": {},
     "output_type": "display_data"
    },
    {
     "name": "stdout",
     "output_type": "stream",
     "text": [
      "idx: 304\n",
      "[0.20396236 0.00604145 0.40720955 0.02414463 0.6090289  0.05424606\n",
      " 0.8087127  0.09624019 1.0055609  0.14997976 1.1988832  0.21527636\n",
      " 1.3880016  0.29190102 1.5722532  0.37958506 1.7509918  0.47802103\n",
      " 1.9235908  0.58686376 2.0894449  0.70573163 2.2479725  0.83420783\n",
      " 2.3986177  0.9718419  2.5408525  1.1181512  2.6741781  1.2726226\n",
      " 2.798127   1.4347147  2.9122643  1.603859   3.0161903  1.7794625\n",
      " 3.10954    1.9609092  3.1919866  2.1475632 ]\n"
     ]
    },
    {
     "data": {
      "image/png": "[encoded data removed]",
      "text/plain": [
       "<matplotlib.figure.Figure at 0x7f7cf07d10f0>"
      ]
     },
     "metadata": {},
     "output_type": "display_data"
    },
    {
     "name": "stdout",
     "output_type": "stream",
     "text": [
      "idx: 227\n",
      "[0.2038211  0.0089268  0.4060813  0.03563882 0.6052317  0.07993152\n",
      " 0.79974717 0.1414657  0.9881381  0.21977009 1.1689618  0.31424507\n",
      " 1.3408334  0.42416713 1.5024369  0.54869443 1.6525345  0.68687344\n",
      " 1.7899768  0.8376458  1.9137113  0.99985707 2.0227904  1.1722649\n",
      " 2.116379   1.353549   2.19376    1.5423211  2.254341   1.7371355\n",
      " 2.297658   1.9365004  2.3233793  2.138889   2.331308   2.3427515\n",
      " 2.3213832  2.5465264  2.2936811  2.7486534 ]\n"
     ]
    },
    {
     "data": {
      "image/png": "[encoded data removed]",
      "text/plain": [
       "<matplotlib.figure.Figure at 0x7f7cf07a0780>"
      ]
     },
     "metadata": {},
     "output_type": "display_data"
    }
   ],
   "source": [
    "# 確認\n",
    "print(train_data.shape)\n",
    "print(train_data[0])\n",
    "if gpu_index >= 0:\n",
    "    td = np.asnumpy(train_data)\n",
    "for n in range(10):\n",
    "    idx = random.randint(0,data_num)\n",
    "    print('idx:', idx)\n",
    "    print(td[idx])\n",
    "    for i in range(0,data_len-1,2):\n",
    "        plt.scatter(td[idx,i],td[idx,i+1],c=\"red\",edgecolor=\"red\",s=30,marker=\"o\")\n",
    "    plt.xlim([-5,5])\n",
    "    plt.ylim([-5,5])\n",
    "    plt.grid()\n",
    "    plt.show()"
   ]
  },
  {
   "cell_type": "markdown",
   "metadata": {},
   "source": [
    "# 損失関数"
   ]
  },
  {
   "cell_type": "code",
   "execution_count": 14,
   "metadata": {
    "scrolled": true
   },
   "outputs": [],
   "source": [
    "def calc_distance(predict_pos,true_pos):\n",
    "    #print \"true_pos\\n{}\".format(true_pos.shape)\n",
    "    #print \"predict_pos\\n{}\".format(predict_pos.shape)\n",
    "    D = F.sqrt(F.sum((true_pos-predict_pos)**2, axis=1))\n",
    "    return D\n",
    "\n",
    "# sample_p = Variable(np.array([[-0.04729605 , 3.132064, 0]], dtype=np.float32))\n",
    "# sample_t = Variable(np.array([-0.9656074  ,1.9671886], dtype=np.float32))\n",
    "# print calc_distance(sample_p[0,0:2],sample_t)\n",
    "# 1.4833174\n",
    "\n",
    "def velo_diff(v):\n",
    "    # v (batch,3)\n",
    "    V = np.zeros(len(v),dtype=np.float32)\n",
    "    for i in range(len(v[0])-1):\n",
    "        diff = v[:,i] - v[:,i+1]\n",
    "        # print '{} = {} - {}'.format(diff, v[:,i], v[:,i+1])\n",
    "        V = V + (diff*diff)\n",
    "    init_v = np.zeros(len(v),dtype=np.float32)\n",
    "    diff = init_v - v[:,0]\n",
    "    # print '{} = {} - {}'.format(diff, init_v, v[:,0])\n",
    "    V = V + diff*diff\n",
    "    return V\n",
    "\n",
    "# sample_p = Variable(np.array([[1, 1, 1], [2, 2, 2], [1, 1, 1]], dtype=np.float32) )\n",
    "# print velo_diff(sample_p)\n",
    "\n",
    "def terminal_cost(predict_terminal_position, true_terminal_position):\n",
    "    p = predict_terminal_position\n",
    "    t = true_terminal_position\n",
    "    Loss = calc_distance(p,t)\n",
    "    return Loss\n",
    "\n",
    "def List_var2Variable(L):  # list内のVariableをF.concatで結合\n",
    "    if(len(L) >= 2):\n",
    "        V = F.concat((L[0],L[1]))\n",
    "        for i in range(2,len(L)):\n",
    "            V = F.concat((V,L[i]))\n",
    "    else:\n",
    "        V = L[0]\n",
    "    return V\n",
    "\n",
    "def stage_cost(predict_path, true_path):\n",
    "    Loss = np.zeros(len(predict_path),dtype=np.float32)\n",
    "    # print predict_path.shape\n",
    "    # print true_path.shape\n",
    "    if len(true_path[0]) < 2 or len(predict_path[0]) < 3:\n",
    "        return Loss\n",
    "    else:\n",
    "        li_D = []\n",
    "        for i in range( 1,len(predict_path[0])-1 ): # 始点と終点を除く\n",
    "            # print 'ppos:{}'.format(predict_path[:,p_pos])\n",
    "            # print 'tpos:{}'.format(true_path[:,t_pos])\n",
    "            D = calc_distance(predict_path[:,i], true_path[:,i-1])  # D(batch)\n",
    "            D = F.reshape(D,(len(D),1))\n",
    "            li_D.append(D)\n",
    "        Dvar = List_var2Variable(li_D)\n",
    "        # print \"Dmin_var\\n\",Dmin_var\n",
    "        Loss = F.sum(Dvar, axis=1)\n",
    "        return Loss\n",
    "\"\"\"\n",
    "def stage_cost(predict_path, true_path):\n",
    "    Loss = np.zeros(len(predict_path),dtype=np.float32)\n",
    "    # print predict_path.shape\n",
    "    # print true_path.shape\n",
    "    if len(predict_path[0]) < 2:\n",
    "        return Loss\n",
    "    else:\n",
    "        li_Dmin = []\n",
    "        for t_pos in range( 0,len(true_path[0])-1 ): # 終点を除く\n",
    "            li_D = []\n",
    "            for p_pos in range( 1,len(predict_path[0])-1 ): # 始点と終点を除く\n",
    "                # print 'ppos:{}'.format(predict_path[:,p_pos])\n",
    "                # print 'tpos:{}'.format(true_path[:,t_pos])\n",
    "                D = calc_distance(predict_path[:,p_pos], true_path[:,t_pos])  # D(batch)\n",
    "                D = F.reshape(D,(len(D),1))\n",
    "                li_D.append(D)\n",
    "            Dvar = List_var2Variable(li_D)\n",
    "            # print \"Dvar\\n\",Dvar\n",
    "            Dmin = F.min(Dvar,axis=1)\n",
    "            Dmin = F.reshape(Dmin,(len(Dmin),1))\n",
    "            # print \"Dmin\\n\",Dmin\n",
    "            li_Dmin.append(Dmin)\n",
    "        Dmin_var =  List_var2Variable(li_Dmin)\n",
    "        # print \"Dmin_var\\n\",Dmin_var\n",
    "        Loss = F.sum(Dmin_var, axis=1)\n",
    "        return Loss\n",
    "\"\"\"\n",
    "\n",
    "def loss_function(y, x_data):\n",
    "    # y      [ batch, step,param]\n",
    "    # x_data [ batch, point_x-y]\n",
    "    x_data = F.reshape(x_data, (len(x_data),int(len(x_data[0])/2), 2))\n",
    "    num_step = len(y[0])\n",
    "    cart = CartLayer(len(y))\n",
    "    calc_car_pos(cart,y)\n",
    "\n",
    "    # Stage cost\n",
    "    predict_path = cart.path[:,:,0:2] # cart.path [ batch ,step ,x-y-th]\n",
    "    true_path = x_data\n",
    "    Dst = stage_cost(predict_path, true_path)\n",
    "\n",
    "    # Terminal cost\n",
    "    predict_term_pos = cart.pos[:,0:2]\n",
    "    true_term_pos = x_data[:,len(x_data[0])-1]\n",
    "    Dtc = terminal_cost(predict_term_pos, true_term_pos)\n",
    "\n",
    "    # Limiting\n",
    "    v = y[:,:,0]\n",
    "    w = y[:,:,1]\n",
    "    V = velo_diff(v)\n",
    "    W = velo_diff(w)\n",
    "    \n",
    "    # print 'Dtc :{}'.format(Dtc)\n",
    "    # print 'Dst :{}'.format(Dst)\n",
    "    # print 'V :{}, v:{}'.format(V,v)\n",
    "    # print 'W :{}, w:{}'.format(W,w)\n",
    "    Dtc = F.mean(Dtc) # terminate cost\n",
    "    Dst = F.mean(Dst) # stage cost\n",
    "    V = F.mean(1 * V)\n",
    "    W = F.mean(1 * W)\n",
    "    loss = Dtc + Dst\n",
    "    message = \"\\t{} \\t{} \\t{} \\t{}\".format(Dtc.data, Dst.data, V.data, W.data)\n",
    "    return loss, message"
   ]
  },
  {
   "cell_type": "code",
   "execution_count": 15,
   "metadata": {
    "scrolled": false
   },
   "outputs": [],
   "source": [
    "# sample_y = Variable(np.array([[[1,0], [1,0], [2,np.pi/2]], [[-1,0], [-1,0], [-2,-(np.pi/2)]]] ,dtype=np.float32 )) # 2batch 3step v-w\n",
    "# sample_x = Variable(np.array([ [[1,1],[2, 2], [3,3] ]                             , [[2,2],[1,-1],[3,3] ] ] ,dtype=np.float32 )) # 2batch 2point x-y\n",
    "# print loss_function(sample_y, sample_x)"
   ]
  },
  {
   "cell_type": "markdown",
   "metadata": {},
   "source": [
    "# 訓練"
   ]
  },
  {
   "cell_type": "code",
   "execution_count": null,
   "metadata": {
    "scrolled": true
   },
   "outputs": [],
   "source": [
    "def train(x_data, max_epoch, batch_size, snapshot=10):\n",
    "    losses = []\n",
    "    input_dim = len(x_data[0])\n",
    "    model = ModelPathGenerator(input_dim, num_step)\n",
    "    if gpu_index >= 0:\n",
    "        cupy.cuda.Device(gpu_index).use()\n",
    "        model.to_gpu(gpu_index)\n",
    "    opt = optimizers.Adam()\n",
    "    opt.setup(model)\n",
    "    train_iter = iterators.SerialIterator(x_data, batch_size)\n",
    "    iterator = 0\n",
    "    print(\"Iter. \\tLoss \\t\\tTerm. \\t\\tStg. \\t\\tV \\t\\tW\")\n",
    "    while train_iter.epoch < max_epoch:\n",
    "        train_batch = np.array(train_iter.next(),dtype=np.float32)\n",
    "        x = Variable(train_batch.reshape(len(train_batch),input_dim))\n",
    "        y = model(x)\n",
    "        loss, msg = loss_function(y,x)\n",
    "        model.cleargrads()\n",
    "        loss.backward()\n",
    "        opt.update()\n",
    "        iterator = iterator + 1\n",
    "        if (iterator % snapshot)==0:\n",
    "            print(str(iterator)+\"\\t\"+str(loss.data)+msg)\n",
    "            losses.append([iterator, loss.data])\n",
    "    return model, losses"
   ]
  },
  {
   "cell_type": "code",
   "execution_count": null,
   "metadata": {},
   "outputs": [
    {
     "name": "stdout",
     "output_type": "stream",
     "text": [
      "iter: 20000.0\n",
      "Iter. \tLoss \t\tTerm. \t\tStg. \t\tV \t\tW\n",
      "100\t21.605114\t1.986113 \t19.619001 \t5.052982 \t3.549257\n",
      "200\t11.761481\t0.7834918 \t10.977989 \t7.663255 \t4.633858\n",
      "300\t13.511358\t0.6522592 \t12.859099 \t12.0573225 \t10.047747\n",
      "400\t10.094775\t0.69951147 \t9.395264 \t6.194323 \t4.2341886\n",
      "500\t6.6229944\t0.390091 \t6.2329035 \t8.092059 \t6.3304706\n",
      "600\t6.6246367\t0.3753634 \t6.2492733 \t8.154368 \t7.5147705\n",
      "700\t6.1674194\t0.31524524 \t5.8521743 \t7.289384 \t7.9516764\n",
      "800\t3.121841\t0.25948882 \t2.8623521 \t2.0454965 \t0.6122476\n",
      "900\t2.8358831\t0.12965055 \t2.7062325 \t2.4709291 \t0.8098208\n",
      "1000\t3.9362757\t0.21362653 \t3.722649 \t3.5331078 \t4.1020966\n",
      "1100\t3.1027992\t0.22815065 \t2.8746486 \t1.5088376 \t0.64846545\n",
      "1200\t3.3023083\t0.2919069 \t3.0104015 \t1.8378953 \t0.8271033\n",
      "1300\t3.546893\t0.19143187 \t3.3554611 \t2.7421308 \t3.2124352\n",
      "1400\t2.7924767\t0.14590107 \t2.6465757 \t2.4526951 \t4.5517135\n",
      "1500\t1.803716\t0.15071867 \t1.6529973 \t0.5263316 \t0.4297338\n",
      "1600\t4.1627254\t0.40341178 \t3.7593136 \t2.0786512 \t4.6843424\n",
      "1700\t2.4862237\t0.15500003 \t2.3312237 \t2.4022825 \t4.624289\n"
     ]
    }
   ],
   "source": [
    "# Parameter\n",
    "batch_size = 10\n",
    "max_epoch  = 200\n",
    "iteration = data_num / batch_size * max_epoch\n",
    "print(\"iter:\", iteration)\n",
    "snapshot = 100\n",
    "num_step = int(data_len/2)\n",
    "input_dim = int(data_len)\n",
    "\n",
    "# Training\n",
    "start_t = time.time()\n",
    "model, losses = train(train_data, max_epoch, batch_size, snapshot)\n",
    "process_time = time.time() - start_t\n",
    "print('Time :{}'.format(process_time))"
   ]
  },
  {
   "cell_type": "markdown",
   "metadata": {},
   "source": [
    "# 推論"
   ]
  },
  {
   "cell_type": "code",
   "execution_count": null,
   "metadata": {},
   "outputs": [],
   "source": [
    "def predict(model, x_test, plot=0, xlim=[-5,5],ylim=[-5,5]):\n",
    "    x_data = Variable(x_test)\n",
    "    y = model(x_data)\n",
    "    car = CartLayer(len(y))\n",
    "    predpos = calc_car_pos(car, y)\n",
    "    truepos = Variable(x_test)\n",
    "    loss,msg = loss_function(y, x_data)\n",
    "    print(\"loss: {}\".format(loss))\n",
    "    print(\"v,w: \\n  {}\".format(y))\n",
    "    print(\"path(x-y-th): \\n  {}\".format(car.path))\n",
    "    print(\"truth(x-y-th): \\n  {}\".format(x_test))\n",
    "    if(plot>0):\n",
    "        plot_path(car.path.data, np.reshape(x_data.data, (int(len(x_data[0])/2), 2)),xlim,ylim)"
   ]
  },
  {
   "cell_type": "code",
   "execution_count": null,
   "metadata": {},
   "outputs": [],
   "source": [
    "l = 10\n",
    "path = make_arc_path_2(l,0)\n",
    "path_es, idx_list = get_evenly_spaced_points(path, 0.1)\n",
    "via_path = path_es[0:data_len/2]\n",
    "sample_x_test = np.array([via_path.flatten()],dtype=np.float32)\n",
    "print(sample_x_test.shape)"
   ]
  },
  {
   "cell_type": "code",
   "execution_count": null,
   "metadata": {},
   "outputs": [],
   "source": [
    "predict(model, sample_x_test, plot=1, xlim=[-2,2], ylim=[-2,2])"
   ]
  },
  {
   "cell_type": "markdown",
   "metadata": {},
   "source": [
    "# 重みの保存と読み込み"
   ]
  },
  {
   "cell_type": "code",
   "execution_count": null,
   "metadata": {},
   "outputs": [],
   "source": [
    "# rename model\n",
    "import os\n",
    "import datetime\n",
    "\n",
    "def gen_filename():\n",
    "    name_date = '{0:%Y%m%d%H%M%S}'.format(datetime.datetime.now())\n",
    "    name_epoch = '{}epoch'.format(max_epoch)\n",
    "    name_batch = '{}batch'.format(batch_size)\n",
    "    name_datasize  = '{}data'.format(data_num)\n",
    "    name_num_step = '{}step'.format(num_step)\n",
    "    name_space = '{}mm'.format(space)\n",
    "    model_name = 'cart' + name_num_step + name_space + '_' + name_date + '_'   + name_datasize + name_batch + name_epoch + '.model'\n",
    "    print(model_name)\n",
    "    return model_name"
   ]
  },
  {
   "cell_type": "code",
   "execution_count": null,
   "metadata": {},
   "outputs": [],
   "source": [
    "def save_pretrained(model, name):\n",
    "    serializers.save_npz(name, model)\n",
    "\n",
    "def load_pretrained(name,dim,step):\n",
    "    load_model = ModelPathGenerator(dim, step)\n",
    "    serializers.load_npz(name, load_model)\n",
    "    return load_model"
   ]
  },
  {
   "cell_type": "code",
   "execution_count": null,
   "metadata": {},
   "outputs": [],
   "source": [
    "# save & copy\n",
    "import shutil\n",
    "save_pretrained(model, 'tmp.model')\n",
    "shutil.copyfile('tmp.model', gen_filename())"
   ]
  },
  {
   "cell_type": "code",
   "execution_count": null,
   "metadata": {},
   "outputs": [],
   "source": [
    "# Parameter\n",
    "batch_size = 10\n",
    "max_epoch  = 30\n",
    "snapshot = 100\n",
    "num_step = int(data_len/2)\n",
    "input_dim = int(data_len)\n",
    "# load\n",
    "load_model = load_pretrained('cart20step200mm_20190805194353_1000data100batch2000epoch.model',input_dim, num_step)\n",
    "if gpu_index >=0:\n",
    "    load_model.to_gpu()"
   ]
  },
  {
   "cell_type": "code",
   "execution_count": null,
   "metadata": {},
   "outputs": [],
   "source": [
    "l = 10\n",
    "path = make_arc_path_2(l,-np.random.rand()*np.pi/3)\n",
    "path_es, idx_list = get_evenly_spaced_points(path, 0.1)\n",
    "via_path = path_es[0:data_len/2]\n",
    "sample_x_test = np.array([via_path.flatten()],dtype=np.float32)\n",
    "\"\"\"\n",
    "sample_x_test = np.array(\n",
    "    [[0.36320275 ,0.04153628,\n",
    "     0.56022495 ,0.09437521,\n",
    "     0.7504879  ,0.1679259 ,\n",
    "     0.93182117 ,0.26134932,\n",
    "     1.1021562  ,0.3735797 ,\n",
    "     1.25955    ,0.50333685,\n",
    "     1.4022069  ,0.6491404 ,\n",
    "     1.5284996  ,0.8093273 ,\n",
    "     1.6369876  ,0.9820701 ,\n",
    "     1.726433   ,1.1653982 ,\n",
    "     1.7958156  ,1.3572204 ,\n",
    "     1.8443439  ,1.5553484 ,\n",
    "     1.8714645  ,1.7575221 ,\n",
    "     1.8768679  ,1.961435  ,\n",
    "     1.8604922  ,2.164761  ,\n",
    "     1.8225244  ,2.365181  ,\n",
    "     1.7633978  ,2.5604086 ,\n",
    "     1.6837866  ,2.7482162 ,\n",
    "     1.5845993  ,2.9264622 ,\n",
    "     1.466967   ,3.0931125 ]]\n",
    "    ,dtype=np.float32)\n",
    "#\"\"\"\n",
    "print(sample_x_test.shape)\n",
    "predict(load_model, sample_x_test, plot=1, xlim=[-2,2], ylim=[-2,2])"
   ]
  },
  {
   "cell_type": "markdown",
   "metadata": {},
   "source": [
    "# 分散(未完成)"
   ]
  },
  {
   "cell_type": "code",
   "execution_count": null,
   "metadata": {
    "scrolled": false
   },
   "outputs": [],
   "source": [
    "'''\n",
    "sample_x = [1,2,3,4]\n",
    "sample_y = [1,4,9,16]\n",
    "sample_error = [1,4,9,16]\n",
    "def plot_error(x,y,err):\n",
    "    plt.plot(x,y)\n",
    "    plt.errorbar(x,y,yerr=err,ecolor='r',color='b',ls='solid',lw=2,marker='o')\n",
    "    plt.show()\n",
    "\n",
    "# plot_error(sample_x,sample_y,sample_error)\n",
    "'''"
   ]
  },
  {
   "cell_type": "markdown",
   "metadata": {},
   "source": [
    "## 議事録\n",
    "---"
   ]
  },
  {
   "cell_type": "markdown",
   "metadata": {},
   "source": [
    "### 2019/02/19 オフィスアワー\n",
    "\n",
    "次回まで\n",
    "- PID制御と比較できるように\n",
    "- 4ステップ程度の短いステップで追従\n",
    "- 入江さんが作った関数を使って学習できるように  \n",
    "  - 同じ結果が再現できるか確認\n",
    "  - cpu用の関数になっているためgpu用に"
   ]
  },
  {
   "cell_type": "markdown",
   "metadata": {},
   "source": [
    "### 2019/01/29 オフィスアワー\n",
    "\n",
    "* 損失の計算確認\n",
    "  - Reshapeが間違い\n",
    "  - 速度・角速度計算の入力に間違い（参照axisがおかしかった）\n",
    "* 途中経路の入力（損失の計算方法を考える\n",
    "  - 経由点（入力座標）を3点に変更\n",
    "  - 9ステップ先まで予測"
   ]
  },
  {
   "cell_type": "markdown",
   "metadata": {},
   "source": [
    "### 2019/01/22 オフィスアワー \n",
    "\n",
    "* 次元ごとにforwordして結果を比較 \n",
    "* lossを貯めて擬似的にmini-batch処理\n",
    "* chainer SLAM 藤本さん qiita の記事?\n",
    "* 同次変換行列ができれば...\n",
    "* バッチ処理は先送りするのも検討\n",
    "* 経路の途中の計算を諦めて評価値だけ天から降ってくるものとして扱う案\n",
    "* NNで最適制御（普通の制御よりは複雑（非線形項））\n",
    "* 前後左右の加減速（ドローンの風で安定しないなど）\n",
    "\n",
    "#### 次回までの課題\n",
    "* 180度を跨がない\n",
    "  - -90～90度の範囲で学習\n",
    "  \n",
    "* tanh (-1 ~ 1)やシグモイド(正)で無茶な加減速を抑制\n",
    "  - tanh層を加えた\n",
    "  - 最大速度　　:１\n",
    "  - 最大角速度　:\n",
    "\n",
    "* 学習回数を増やして結果を比較\n",
    "  - 今まで1000データ 5エポック\n",
    "  - 今回は1000データ 50エポック\n",
    "\n",
    "* (できたらバッチ処理)\n",
    "  - 次元ごとにforwordして結果を比較した\n",
    "  - lossが怪しい"
   ]
  },
  {
   "cell_type": "markdown",
   "metadata": {},
   "source": [
    "### 2018/11/27\n",
    "* バッチで処理 →　学習回数を増やしてデータを取る\n",
    "* ネットワークを変える"
   ]
  },
  {
   "cell_type": "markdown",
   "metadata": {},
   "source": [
    "### 2018/10/24　オフィスアワー\n",
    "\n",
    "---\n",
    "問題点  \n",
    "* **（0,0）で動かなければ損失が少ないと学習してしまう**  \n",
    "    ・極座標系で距離を一定に学習する\n",
    "    \n",
    "    \n",
    "* **optimizers.update() **  \n",
    "    ・勾配を手動計算する場合は引数不要・勾配リセットも必要  \n",
    "    ・そうでない場合はloss_functionを引数に渡す\n",
    "\n",
    "その他  \n",
    "* **Variable配列の型が違って気持ち悪いので行列演算にしたい**"
   ]
  }
 ],
 "metadata": {
  "kernelspec": {
   "display_name": "Python 3",
   "language": "python",
   "name": "python3"
  },
  "language_info": {
   "codemirror_mode": {
    "name": "ipython",
    "version": 3
   },
   "file_extension": ".py",
   "mimetype": "text/x-python",
   "name": "python",
   "nbconvert_exporter": "python",
   "pygments_lexer": "ipython3",
   "version": "3.5.2"
  }
 },
 "nbformat": 4,
 "nbformat_minor": 2
}
