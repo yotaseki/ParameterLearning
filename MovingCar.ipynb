{
 "cells": [
  {
   "cell_type": "code",
   "execution_count": 2,
   "metadata": {},
   "outputs": [
    {
     "name": "stderr",
     "output_type": "stream",
     "text": [
      "/usr/local/lib/python3.5/dist-packages/h5py/__init__.py:36: FutureWarning: Conversion of the second argument of issubdtype from `float` to `np.floating` is deprecated. In future, it will be treated as `np.float64 == np.dtype(float).type`.\n",
      "  from ._conv import register_converters as _register_converters\n"
     ]
    }
   ],
   "source": [
    "from chainer import Link, Chain, ChainList, Variable, optimizers, iterators\n",
    "import chainer.functions as F\n",
    "import chainer.links as L\n",
    "from chainer import cuda\n",
    "from chainer import initializers\n",
    "from chainer import serializers\n",
    "\n",
    "import time\n",
    "import matplotlib.pyplot as plt\n",
    "%matplotlib inline\n",
    "import pandas as pd\n",
    "import numpy\n",
    "import cupy"
   ]
  },
  {
   "cell_type": "code",
   "execution_count": 3,
   "metadata": {},
   "outputs": [],
   "source": [
    "# GPU settings\n",
    "gpu_index = 0\n",
    "if gpu_index >= 0:\n",
    "    cuda.check_cuda_available()\n",
    "    np = cuda.cupy\n",
    "else:\n",
    "    np = numpy"
   ]
  },
  {
   "cell_type": "markdown",
   "metadata": {},
   "source": [
    "# 車輪型ロボットモデル（対向2輪型）"
   ]
  },
  {
   "cell_type": "code",
   "execution_count": 4,
   "metadata": {},
   "outputs": [],
   "source": [
    "class CartLayer:\n",
    "    def __init__(self,batchsize=1):\n",
    "        self.cart_num = batchsize\n",
    "        self.pos = Variable(np.zeros( (batchsize,3), dtype=np.float32))\n",
    "        self.path = Variable(np.zeros( (batchsize,1,3), dtype=np.float32))\n",
    "\n",
    "    def move(self,param):\n",
    "        if len(param) == self.cart_num:\n",
    "            dx = F.reshape(param[:,0] * F.cos(self.pos[:,2] + param[:,1]), (self.cart_num,1))\n",
    "            dy = F.reshape(param[:,0] * F.sin(self.pos[:,2] + param[:,1]), (self.cart_num,1))\n",
    "            dth = F.reshape(param[:,1], (self.cart_num,1))\n",
    "            D = F.concat((dx,dy),axis=1)\n",
    "            D = F.concat((D,dth),axis=1)\n",
    "            self.pos = self.pos + D\n",
    "            self.path = F.concat((self.path, F.reshape(self.pos,(self.cart_num,1,3))),axis=1)\n",
    "            return self.pos\n",
    "        else:\n",
    "            print(len(param))\n",
    "            return -1\n",
    "\n",
    "# 連続で動く\n",
    "def calc_car_pos(cart_layer, y):\n",
    "    for step in range(len(y[0])):\n",
    "        cart_layer.move(y[:,step])\n",
    "    # print car.path.shape  # (4step, 50batch, 3x-y-th)\n",
    "    # print car.pos.data.shape  # (50batch, 3x-y-th)\n",
    "    return cart_layer.pos"
   ]
  },
  {
   "cell_type": "markdown",
   "metadata": {},
   "source": [
    "# 経路の描画"
   ]
  },
  {
   "cell_type": "code",
   "execution_count": 5,
   "metadata": {},
   "outputs": [],
   "source": [
    "def plot_path(cart_path,target,xlim=[-5,5],ylim=[-5,5]):\n",
    "    path = cart_path[0,:,:]\n",
    "    if gpu_index >= 0:\n",
    "        path = np.asnumpy(path)\n",
    "        t = np.asnumpy(target)\n",
    "    for i in range(1,len(path)):\n",
    "        plt.quiver(path[i-1,0],path[i-1,1]\n",
    "                   , path[i,0]-path[i-1,0],path[i,1]-path[i-1,1]\n",
    "                   , scale_units='xy', angles='xy', scale=1,color=\"blue\")\n",
    "    plt.scatter(t[:,0],t[:,1],c=\"red\",s=80,marker=\"o\")\n",
    "    num_step = len(target)\n",
    "    plt.scatter(t[num_step-1,0],t[num_step-1,1],c=\"yellow\",s=500,marker=\"*\")\n",
    "    plt.xlabel(\"x\")\n",
    "    plt.ylabel(\"y\")\n",
    "    plt.axis('scaled')\n",
    "    plt.xlim(xlim[0],xlim[1])\n",
    "    plt.ylim(ylim[0],ylim[1])\n",
    "    plt.grid()\n",
    "    plt.show()"
   ]
  },
  {
   "cell_type": "code",
   "execution_count": 31,
   "metadata": {
    "scrolled": true
   },
   "outputs": [
    {
     "data": {
      "image/png": "[encoded data removed]",
      "text/plain": [
       "<matplotlib.figure.Figure at 0x7fe4b612b550>"
      ]
     },
     "metadata": {},
     "output_type": "display_data"
    },
    {
     "name": "stdout",
     "output_type": "stream",
     "text": [
      "[[[0. 0. 0.]\n",
      "  [1. 0. 0.]\n",
      "  [2. 0. 0.]\n",
      "  [3. 0. 0.]]]\n"
     ]
    },
    {
     "data": {
      "image/png": "[encoded data removed]",
      "text/plain": [
       "<matplotlib.figure.Figure at 0x7fe4b07c0400>"
      ]
     },
     "metadata": {},
     "output_type": "display_data"
    },
    {
     "name": "stdout",
     "output_type": "stream",
     "text": [
      "[[[0. 0. 0.]\n",
      "  [1. 0. 0.]\n",
      "  [2. 0. 0.]\n",
      "  [3. 0. 0.]]]\n"
     ]
    }
   ],
   "source": [
    "sample_v_arr = np.array([1.0,1.0,1.0],dtype=np.float32)\n",
    "sample_w_arr = np.array([0.0,0.0,0.0],dtype=np.float32)\n",
    "sample_w_arr = sample_w_arr * np.pi/180\n",
    "sample_y_data = np.vstack((sample_v_arr,sample_w_arr)).T\n",
    "sample_yV = Variable(np.reshape(sample_y_data,(1,3,2) )) \n",
    "sample_cart = CartLayer()\n",
    "pos = calc_car_pos(sample_cart,sample_yV)\n",
    "plot_path(sample_cart.path.data,np.array([[1,0],[2,0],[3,0]]) )\n",
    "print(sample_cart.path.data)\n",
    "sample_v_arr = np.array([1.0,1.0,1.0],dtype=np.float32)\n",
    "sample_w_arr = np.array([0.0,0.0,0.0],dtype=np.float32)\n",
    "sample_w_arr = sample_w_arr * np.pi/180\n",
    "sample_y_data = np.vstack((sample_v_arr,sample_w_arr)).T\n",
    "sample_yV = Variable(np.reshape(sample_y_data,(1,3,2) )) \n",
    "sample_cart = CartLayer()\n",
    "pos = calc_car_pos(sample_cart,sample_yV)\n",
    "plot_path(sample_cart.path.data,np.array([[0,0],[1,1],[2,2]]) )\n",
    "print(sample_cart.path.data)\n"
   ]
  },
  {
   "cell_type": "markdown",
   "metadata": {},
   "source": [
    "# ネットワーク"
   ]
  },
  {
   "cell_type": "code",
   "execution_count": 7,
   "metadata": {},
   "outputs": [],
   "source": [
    "class ModelPathGenerator(Chain):\n",
    "    def __init__(self, input_dimension, num_step):\n",
    "        self.input_dim = input_dimension\n",
    "        self.num_step = num_step\n",
    "        initializer = initializers.HeNormal()\n",
    "        super(ModelPathGenerator, self).__init__(\n",
    "            l1=L.Linear(self.input_dim, 15, initialW=initializer),\n",
    "            l2=L.Linear(15, 8, initialW=initializer),\n",
    "            l3=L.Linear(8, self.num_step*2, initialW=initializer),\n",
    "        )\n",
    "    def __call__(self, x):\n",
    "        h1 = F.relu(self.l1(x))\n",
    "        h2 = F.relu(self.l2(h1))\n",
    "        h3 = self.l3(h2)\n",
    "        h4 = F.tanh(h3)\n",
    "        o = F.reshape(h4,(len(x),self.num_step,2))\n",
    "        return o\n",
    "\n",
    "    '''\n",
    "    def loss_function():\n",
    "        path\n",
    "    \n",
    "    def get_vw(self,output):\n",
    "        v = output[0,0:3]\n",
    "        w = output[0,3:6]\n",
    "        return v,w\n",
    "    '''"
   ]
  },
  {
   "cell_type": "code",
   "execution_count": 8,
   "metadata": {
    "scrolled": false
   },
   "outputs": [
    {
     "name": "stdout",
     "output_type": "stream",
     "text": [
      "[[3. 0.]]\n",
      "variable([[[-0.14476041 -0.8101671 ]\n",
      "           [ 0.2858162   0.7429408 ]\n",
      "           [-0.29422736  0.088386  ]]])\n"
     ]
    }
   ],
   "source": [
    "# sample forward\n",
    "sample_model = ModelPathGenerator(2,3)\n",
    "if gpu_index >=0:\n",
    "    sample_model.to_gpu()\n",
    "sample_x_data = np.array([[3,0]],dtype=np.float32)\n",
    "sample_x = Variable(sample_x_data)\n",
    "print(sample_x_data)\n",
    "sample_y = sample_model(sample_x_data)\n",
    "print(sample_y)"
   ]
  },
  {
   "cell_type": "markdown",
   "metadata": {},
   "source": [
    "# 訓練データの作成\n",
    "\n",
    "* ある関数から経由点のcsvファイルを生成\n",
    "* csvファイルから経路を生成"
   ]
  },
  {
   "cell_type": "code",
   "execution_count": 38,
   "metadata": {},
   "outputs": [],
   "source": [
    "def plot_f(X,Y,color=\"black\"):\n",
    "    if gpu_index >= 0:\n",
    "        x = np.asnumpy(X)\n",
    "        y = np.asnumpy(Y)\n",
    "    plt.scatter(x,y,c=\"gray\",edgecolor=\"black\",s=3,marker=\"o\")\n",
    "\n",
    "# ある関数を経路として生成\n",
    "def make_function_path(f,x,plot=0):\n",
    "    X = x\n",
    "    Y = f(X)\n",
    "    path = np.stack((X,Y),axis=1)\n",
    "    if(plot):\n",
    "        plot_f(X,Y)\n",
    "    return path\n",
    "\n",
    "# 長さと半径から曲率一定の経路を生成\n",
    "def make_arc_path(l,r,plot=0):\n",
    "    theta = np.linspace(-np.pi/2, -np.pi/2+l/r)\n",
    "    X = r * np.cos(theta)\n",
    "    Y = r * np.sin(theta) + r\n",
    "    path = np.stack((X,Y),axis=1)\n",
    "    if(plot):\n",
    "        plot_f(X,Y)\n",
    "        plt.axis('scaled')\n",
    "        # plt.gca().set_aspect('equal', adjustable='box')\n",
    "    return path\n",
    "\n",
    "def make_arc_path_2(l,alpha,s=1,plot=0):\n",
    "    if alpha==0:\n",
    "        X = np.linspace(0, l)\n",
    "        Y = np.zeros(len(X))\n",
    "        path = np.stack((X,Y),axis=1)\n",
    "    else:\n",
    "        r = s/alpha # 曲率\n",
    "        theta = np.linspace(-np.pi/2, -np.pi/2+l/r)\n",
    "        X = r * np.cos(theta)\n",
    "        Y = r * np.sin(theta) + r\n",
    "        path = np.stack((X,Y),axis=1)\n",
    "    if(plot):\n",
    "        plot_f(X,Y,color=\"gray\")\n",
    "        plt.axis('scaled')\n",
    "        # plt.gca().set_aspect('equal', adjustable='box')\n",
    "    return path\n",
    "\n",
    "# 経路を回転\n",
    "def rotate_path(path, rad,plot=0):\n",
    "    theta = rad\n",
    "    X = path[:,1]*np.cos(theta) - path[:,0]*np.sin(theta)\n",
    "    Y = path[:,1]*np.sin(theta) + path[:,0]*np.cos(theta)\n",
    "    ret = np.stack((X,Y),axis=1)\n",
    "    if(plot):\n",
    "        plot_f(X,Y,color=\"gray\")\n",
    "        plt.axis('scaled')\n",
    "        # plt.gca().set_aspect('equal', adjustable='box')\n",
    "    return ret\n",
    "\n",
    "# CSVから経路の読み取り\n",
    "def read_path_csv(filename,plot=0):\n",
    "    df = pd.read_csv(filename, header=None)\n",
    "    path = np.array(df.values,dtype=np.float32)\n",
    "    if(plot):\n",
    "        plot_f(path[:,0],path[:,1],color=\"gray\")\n",
    "        # plt.gca().set_aspect('equal', adjustable='box')\n",
    "    return path\n",
    "\n",
    "# 経路からN点抜き出す\n",
    "def get_n_point_from_path(n,path,margin=5,plot=0):\n",
    "    path_data = np.empty((1,2))\n",
    "    idx = 0\n",
    "    for i in range(n):\n",
    "        idx = idx + np.random.randint(margin,len(path)/3)\n",
    "        if(idx > len(path)):\n",
    "            idx = len(path)\n",
    "        path_data = np.vstack((path_data,path[idx]))\n",
    "    if(plot):\n",
    "        plot_f(path_data[:,0],path_data[:,1],color=\"red\")\n",
    "    return path_data[1:len(path_data)]\n",
    "\n",
    "def get_n_point_from_path_2(n,path,plot=0):\n",
    "    path_data = np.empty((1,2))\n",
    "    idx = [(len(path)-1)/3, (len(path)-1)*2/3, len(path)-1]\n",
    "    for i in idx:\n",
    "        i = int(i)\n",
    "        path_data = np.vstack((path_data,path[i]))\n",
    "    if(plot):\n",
    "        plot_f(path_data[:,0],path_data[:,1],color=\"red\")\n",
    "    return path_data[1:len(path_data)]"
   ]
  },
  {
   "cell_type": "code",
   "execution_count": 9,
   "metadata": {},
   "outputs": [
    {
     "data": {
      "text/plain": [
       "'\\nrand = np.random.rand() * 2 * np.pi\\nx = [rand + (0.1*i) for i in range(5)]\\nprint(x)\\np = make_function_path(np.sin,x,plot=1)\\n'"
      ]
     },
     "execution_count": 9,
     "metadata": {},
     "output_type": "execute_result"
    },
    {
     "data": {
      "image/png": "[encoded data removed]",
      "text/plain": [
       "<matplotlib.figure.Figure at 0x7ff8065385f8>"
      ]
     },
     "metadata": {},
     "output_type": "display_data"
    }
   ],
   "source": [
    "p = make_function_path(np.sin,np.linspace(0,2*np.pi),plot=1)\n",
    "p = make_function_path(np.cos,np.linspace(0,2*np.pi),plot=1)\n",
    "'''\n",
    "rand = np.random.rand() * 2 * np.pi\n",
    "x = [rand + (0.1*i) for i in range(5)]\n",
    "print(x)\n",
    "p = make_function_path(np.sin,x,plot=1)\n",
    "'''"
   ]
  },
  {
   "cell_type": "code",
   "execution_count": 10,
   "metadata": {},
   "outputs": [
    {
     "name": "stdout",
     "output_type": "stream",
     "text": [
      "[[4.59901220e-01 8.16601187e-01]\n",
      " [1.39662119e+00 8.46639973e-01]\n",
      " [1.90985932e+00 4.82546535e-16]]\n"
     ]
    },
    {
     "data": {
      "text/plain": [
       "array([4.59901220e-01, 8.16601187e-01, 1.39662119e+00, 8.46639973e-01,\n",
       "       1.90985932e+00, 4.82546535e-16])"
      ]
     },
     "execution_count": 10,
     "metadata": {},
     "output_type": "execute_result"
    },
    {
     "data": {
      "image/png": "[encoded data removed]",
      "text/plain": [
       "<matplotlib.figure.Figure at 0x7ff87ca45a58>"
      ]
     },
     "metadata": {},
     "output_type": "display_data"
    }
   ],
   "source": [
    "sample_p = make_arc_path_2(3,np.pi/3,plot=1)\n",
    "sample_vp = get_n_point_from_path_2(3,sample_p,plot=1)\n",
    "print(sample_vp)\n",
    "sample_vp.flatten()"
   ]
  },
  {
   "cell_type": "code",
   "execution_count": 11,
   "metadata": {},
   "outputs": [
    {
     "name": "stdout",
     "output_type": "stream",
     "text": [
      "[[0.0000e+00 0.0000e+00 1.5976e-01]\n",
      " [1.0012e-02 1.6380e-03 1.5976e-01]\n",
      " [2.0024e-02 3.2266e-03 1.5498e-01]\n",
      " ...\n",
      " [3.3239e-03 2.9697e+00 1.6865e+00]\n",
      " [1.6183e-03 2.9848e+00 1.6801e+00]\n",
      " [0.0000e+00 3.0000e+00 1.6801e+00]]\n"
     ]
    },
    {
     "data": {
      "image/png": "[encoded data removed]",
      "text/plain": [
       "<matplotlib.figure.Figure at 0x7ff8002675c0>"
      ]
     },
     "metadata": {},
     "output_type": "display_data"
    }
   ],
   "source": [
    "test_path = read_path_csv('path.csv',plot=1)\n",
    "print(test_path)"
   ]
  },
  {
   "cell_type": "code",
   "execution_count": 39,
   "metadata": {},
   "outputs": [
    {
     "name": "stdout",
     "output_type": "stream",
     "text": [
      "(1000, 6)\n",
      "[0.81781536 0.4584116  0.8535424  1.3952609  0.01186085 1.917337  ]\n"
     ]
    },
    {
     "data": {
      "text/plain": [
       "(-0.16128430561119564,\n",
       " 3.161394368083427,\n",
       " -2.43415884298922,\n",
       " 2.4341626576864863)"
      ]
     },
     "execution_count": 39,
     "metadata": {},
     "output_type": "execute_result"
    },
    {
     "data": {
      "image/png": "[encoded data removed]",
      "text/plain": [
       "<matplotlib.figure.Figure at 0x7fe4b61a75c0>"
      ]
     },
     "metadata": {},
     "output_type": "display_data"
    }
   ],
   "source": [
    "data_num = 1000\n",
    "data_len = 3 * 2 #(3step , X-Y)\n",
    "\n",
    "def get_path_data(data_num, data_len):\n",
    "    data = np.empty((1,6),dtype=np.float32)\n",
    "    l = 3 # 円弧の長さ\n",
    "    for i in range(data_num):\n",
    "        rand_rad = np.random.rand() * (2*np.pi/3) - np.pi/3 # 回転範囲 -60 ~ 60\n",
    "        path = make_arc_path_2(l,rand_rad)\n",
    "        via_path = get_n_point_from_path_2(data_len/2,path)\n",
    "        data = np.vstack((data,via_path.flatten()))\n",
    "        #data = np.vstack((data,[via_path]))\n",
    "    return data[1:len(data)]\n",
    "\n",
    "train_data = get_path_data(data_num,data_len)\n",
    "train_data = np.array(train_data,dtype=np.float32)\n",
    "print(train_data.shape)\n",
    "print(train_data[0])\n",
    "if gpu_index >= 0:\n",
    "    td = np.asnumpy(train_data)\n",
    "plt.scatter(td[:,0],td[:,1],c=\"red\",edgecolor=\"red\",s=30,marker=\"o\")\n",
    "plt.scatter(td[:,2],td[:,3],c=\"red\",edgecolor=\"red\",s=30,marker=\"o\")\n",
    "plt.scatter(td[:,4],td[:,5],c=\"red\",edgecolor=\"red\",s=30,marker=\"o\")\n",
    "plt.axis('scaled')"
   ]
  },
  {
   "cell_type": "markdown",
   "metadata": {},
   "source": [
    "# 損失関数"
   ]
  },
  {
   "cell_type": "code",
   "execution_count": 40,
   "metadata": {
    "scrolled": true
   },
   "outputs": [],
   "source": [
    "def calc_distance(predict_pos,true_pos):\n",
    "    #print \"true_pos\\n{}\".format(true_pos.shape)\n",
    "    #print \"predict_pos\\n{}\".format(predict_pos.shape)\n",
    "    D = F.sqrt(F.sum((true_pos-predict_pos)**2, axis=1))\n",
    "    return D\n",
    "\n",
    "# sample_p = Variable(np.array([[-0.04729605 , 3.132064, 0]], dtype=np.float32))\n",
    "# sample_t = Variable(np.array([-0.9656074  ,1.9671886], dtype=np.float32))\n",
    "# print calc_distance(sample_p[0,0:2],sample_t)\n",
    "# 1.4833174\n",
    "\n",
    "def velo_diff(v):\n",
    "    # v (batch,3)\n",
    "    V = np.zeros(len(v),dtype=np.float32)\n",
    "    for i in range(len(v[0])-1):\n",
    "        diff = v[:,i] - v[:,i+1]\n",
    "        # print '{} = {} - {}'.format(diff, v[:,i], v[:,i+1])\n",
    "        V = V + (diff*diff)\n",
    "    init_v = np.zeros(len(v),dtype=np.float32)\n",
    "    diff = init_v - v[:,0]\n",
    "    # print '{} = {} - {}'.format(diff, init_v, v[:,0])\n",
    "    V = V + diff*diff\n",
    "    return V\n",
    "\n",
    "# sample_p = Variable(np.array([[1, 1, 1], [2, 2, 2], [1, 1, 1]], dtype=np.float32) )\n",
    "# print velo_diff(sample_p)\n",
    "\n",
    "def terminal_cost(predict_terminal_position, true_terminal_position):\n",
    "    p = predict_terminal_position\n",
    "    t = true_terminal_position\n",
    "    Loss = calc_distance(p,t)\n",
    "    return Loss\n",
    "\n",
    "def List_var2Variable(L):  # list内のVariableをF.concatで結合\n",
    "    if(len(L) >= 2):\n",
    "        V = F.concat((L[0],L[1]))\n",
    "        for i in range(2,len(L)):\n",
    "            V = F.concat((V,L[i]))\n",
    "    else:\n",
    "        V = L[0]\n",
    "    return V\n",
    "\n",
    "def stage_cost(predict_path, true_path):\n",
    "    Loss = np.zeros(len(predict_path),dtype=np.float32)\n",
    "    # print predict_path.shape\n",
    "    # print true_path.shape\n",
    "    if len(true_path[0]) < 2 or len(predict_path[0]) < 3:\n",
    "        return Loss\n",
    "    else:\n",
    "        li_D = []\n",
    "        for i in range( 1,len(predict_path[0])-1 ): # 始点と終点を除く\n",
    "            # print 'ppos:{}'.format(predict_path[:,p_pos])\n",
    "            # print 'tpos:{}'.format(true_path[:,t_pos])\n",
    "            D = calc_distance(predict_path[:,i], true_path[:,i-1])  # D(batch)\n",
    "            D = F.reshape(D,(len(D),1))\n",
    "            li_D.append(D)\n",
    "        Dvar = List_var2Variable(li_D)\n",
    "        # print \"Dmin_var\\n\",Dmin_var\n",
    "        Loss = F.sum(Dvar, axis=1)\n",
    "        return Loss\n",
    "\"\"\"\n",
    "def stage_cost(predict_path, true_path):\n",
    "    Loss = np.zeros(len(predict_path),dtype=np.float32)\n",
    "    # print predict_path.shape\n",
    "    # print true_path.shape\n",
    "    if len(predict_path[0]) < 2:\n",
    "        return Loss\n",
    "    else:\n",
    "        li_Dmin = []\n",
    "        for t_pos in range( 0,len(true_path[0])-1 ): # 終点を除く\n",
    "            li_D = []\n",
    "            for p_pos in range( 1,len(predict_path[0])-1 ): # 始点と終点を除く\n",
    "                # print 'ppos:{}'.format(predict_path[:,p_pos])\n",
    "                # print 'tpos:{}'.format(true_path[:,t_pos])\n",
    "                D = calc_distance(predict_path[:,p_pos], true_path[:,t_pos])  # D(batch)\n",
    "                D = F.reshape(D,(len(D),1))\n",
    "                li_D.append(D)\n",
    "            Dvar = List_var2Variable(li_D)\n",
    "            # print \"Dvar\\n\",Dvar\n",
    "            Dmin = F.min(Dvar,axis=1)\n",
    "            Dmin = F.reshape(Dmin,(len(Dmin),1))\n",
    "            # print \"Dmin\\n\",Dmin\n",
    "            li_Dmin.append(Dmin)\n",
    "        Dmin_var =  List_var2Variable(li_Dmin)\n",
    "        # print \"Dmin_var\\n\",Dmin_var\n",
    "        Loss = F.sum(Dmin_var, axis=1)\n",
    "        return Loss\n",
    "\"\"\"\n",
    "\n",
    "def loss_function(y, x_data):\n",
    "    # y      [ batch, step,param]\n",
    "    # x_data [ batch, point_x-y]\n",
    "    x_data = F.reshape(x_data, (len(x_data),int(len(x_data[0])/2), 2))\n",
    "    num_step = len(y[0])\n",
    "    cart = CartLayer(len(y))\n",
    "    calc_car_pos(cart,y)\n",
    "\n",
    "    # Stage cost\n",
    "    predict_path = cart.path[:,:,0:2] # cart.path [ batch ,step ,x-y-th]\n",
    "    true_path = x_data\n",
    "    Dst = stage_cost(predict_path, true_path)\n",
    "\n",
    "    # Terminal cost\n",
    "    predict_term_pos = cart.pos[:,0:2]\n",
    "    true_term_pos = x_data[:,len(x_data[0])-1]\n",
    "    Dtc = terminal_cost(predict_term_pos, true_term_pos)\n",
    "\n",
    "    # Limiting\n",
    "    v = y[:,:,0]\n",
    "    w = y[:,:,1]\n",
    "    V = velo_diff(v)\n",
    "    W = velo_diff(w)\n",
    "    \n",
    "    # print 'Dtc :{}'.format(Dtc)\n",
    "    # print 'Dst :{}'.format(Dst)\n",
    "    # print 'V :{}, v:{}'.format(V,v)\n",
    "    # print 'W :{}, w:{}'.format(W,w)\n",
    "    Dtc = F.mean(Dtc) # terminate cost\n",
    "    Dst = F.mean(Dst) # stage cost\n",
    "    V = F.mean(1 * V)\n",
    "    W = F.mean(1 * W)\n",
    "    loss = Dtc + Dst\n",
    "    message = \"\\t{} \\t{} \\t{} \\t{}\".format(Dtc.data, Dst.data, V.data, W.data)\n",
    "    return loss, message"
   ]
  },
  {
   "cell_type": "code",
   "execution_count": 14,
   "metadata": {
    "scrolled": false
   },
   "outputs": [],
   "source": [
    "# sample_y = Variable(np.array([[[1,0], [1,0], [2,np.pi/2]], [[-1,0], [-1,0], [-2,-(np.pi/2)]]] ,dtype=np.float32 )) # 2batch 3step v-w\n",
    "# sample_x = Variable(np.array([ [[1,1],[2, 2], [3,3] ]                             , [[2,2],[1,-1],[3,3] ] ] ,dtype=np.float32 )) # 2batch 2point x-y\n",
    "# print loss_function(sample_y, sample_x)"
   ]
  },
  {
   "cell_type": "markdown",
   "metadata": {},
   "source": [
    "# 訓練"
   ]
  },
  {
   "cell_type": "code",
   "execution_count": 41,
   "metadata": {
    "scrolled": true
   },
   "outputs": [],
   "source": [
    "def train(x_data, max_epoch, batch_size, snapshot=10):\n",
    "    input_dim = len(x_data[0])\n",
    "    model = ModelPathGenerator(input_dim, num_step)\n",
    "    if gpu_index >= 0:\n",
    "        cupy.cuda.Device(gpu_index).use()\n",
    "        model.to_gpu(gpu_index)\n",
    "    opt = optimizers.Adam()\n",
    "    opt.setup(model)\n",
    "    train_iter = iterators.SerialIterator(x_data, batch_size)\n",
    "    iterator = 0\n",
    "    print(\"Iter. \\tLoss \\t\\tTerm. \\t\\tStg. \\t\\tV \\t\\tW\")\n",
    "    while train_iter.epoch < max_epoch:\n",
    "        train_batch = np.array(train_iter.next(),dtype=np.float32)\n",
    "        x = Variable(train_batch.reshape(len(train_batch),input_dim))\n",
    "        y = model(x)\n",
    "        loss, msg = loss_function(y,x)\n",
    "        model.cleargrads()\n",
    "        loss.backward()\n",
    "        opt.update()\n",
    "        iterator = iterator + 1\n",
    "        if (iterator % snapshot)==0:\n",
    "            print(str(iterator)+\"\\t\"+str(loss.data)+msg)\n",
    "    return model"
   ]
  },
  {
   "cell_type": "code",
   "execution_count": 42,
   "metadata": {},
   "outputs": [
    {
     "name": "stdout",
     "output_type": "stream",
     "text": [
      "Iter. \tLoss \t\tTerm. \t\tStg. \t\tV \t\tW\n",
      "100\t4.834631\t2.2534595 \t2.5811715 \t0.29560408 \t0.44361204\n",
      "200\t4.1688147\t1.9583633 \t2.2104516 \t0.3671452 \t0.3617215\n",
      "300\t2.813243\t1.6292434 \t1.1839994 \t2.240721 \t1.1118003\n",
      "400\t1.3720727\t0.6793074 \t0.69276536 \t1.2022238 \t0.5198087\n",
      "500\t0.8537693\t0.4009426 \t0.45282668 \t1.03849 \t0.45010933\n",
      "600\t0.5215436\t0.21612239 \t0.30542126 \t1.1131016 \t0.43721014\n",
      "700\t0.324943\t0.13380764 \t0.19113536 \t1.077832 \t0.45402953\n",
      "800\t0.22758086\t0.084647834 \t0.14293303 \t0.9753786 \t0.28916836\n",
      "900\t0.17323902\t0.059552383 \t0.113686636 \t0.96009946 \t0.2427106\n",
      "1000\t0.18064253\t0.06581601 \t0.11482652 \t0.96773297 \t0.23189953\n",
      "1100\t0.17338893\t0.0640706 \t0.10931832 \t0.9682102 \t0.23652206\n",
      "1200\t0.166\t0.06310267 \t0.10289732 \t0.980059 \t0.23094139\n",
      "1300\t0.1386981\t0.047176722 \t0.091521375 \t0.9772323 \t0.22898984\n",
      "1400\t0.11361352\t0.036307015 \t0.07730651 \t0.9817043 \t0.19423862\n",
      "1500\t0.11918087\t0.044395637 \t0.07478523 \t0.9766426 \t0.19762523\n",
      "1600\t0.12101094\t0.047632635 \t0.0733783 \t0.9778108 \t0.20312706\n",
      "1700\t0.11454732\t0.04055933 \t0.07398799 \t0.97454345 \t0.19788805\n",
      "1800\t0.11791381\t0.047697056 \t0.07021676 \t0.9727365 \t0.21893184\n",
      "1900\t0.10739553\t0.041094627 \t0.0663009 \t0.97040623 \t0.17618766\n",
      "2000\t0.10759659\t0.043465536 \t0.06413106 \t0.9764961 \t0.17555086\n",
      "2100\t0.1056083\t0.03878697 \t0.06682133 \t0.9761024 \t0.1825552\n",
      "2200\t0.09718101\t0.036444128 \t0.060736883 \t0.9691121 \t0.18752013\n",
      "2300\t0.10991775\t0.040696383 \t0.06922137 \t0.97666836 \t0.1904393\n",
      "2400\t0.08897114\t0.032577142 \t0.056393996 \t0.97051555 \t0.16837187\n",
      "2500\t0.08732881\t0.036375757 \t0.050953053 \t0.959895 \t0.16838668\n",
      "2600\t0.09871\t0.043283295 \t0.05542671 \t0.96394086 \t0.1960001\n",
      "2700\t0.08489871\t0.036453538 \t0.048445173 \t0.9527291 \t0.16671085\n",
      "2800\t0.076237336\t0.03684985 \t0.03938749 \t0.94546425 \t0.15994209\n",
      "2900\t0.07428664\t0.032743927 \t0.04154271 \t0.9447933 \t0.16050978\n",
      "3000\t0.08032306\t0.037637506 \t0.042685557 \t0.9386146 \t0.17596051\n",
      "3100\t0.06408112\t0.030406913 \t0.033674203 \t0.9379643 \t0.17179938\n",
      "3200\t0.073558405\t0.038729604 \t0.0348288 \t0.93617177 \t0.16792521\n",
      "3300\t0.065102465\t0.03068315 \t0.034419317 \t0.9364853 \t0.16731592\n",
      "3400\t0.070740566\t0.036631923 \t0.03410864 \t0.93268067 \t0.1818988\n",
      "3500\t0.06811727\t0.029136313 \t0.038980957 \t0.93306875 \t0.17564763\n",
      "3600\t0.06652938\t0.031986833 \t0.03454255 \t0.9312956 \t0.18144947\n",
      "3700\t0.068600275\t0.03401822 \t0.034582056 \t0.9316566 \t0.18514363\n",
      "3800\t0.06400788\t0.034457266 \t0.029550616 \t0.9353642 \t0.15835983\n",
      "3900\t0.06401258\t0.031672083 \t0.032340497 \t0.9314898 \t0.18034683\n",
      "4000\t0.062611155\t0.03230662 \t0.030304536 \t0.93440735 \t0.16447338\n",
      "4100\t0.06940315\t0.03795212 \t0.031451028 \t0.93239576 \t0.17870791\n",
      "4200\t0.061605476\t0.031373158 \t0.03023232 \t0.9304797 \t0.18389994\n",
      "4300\t0.06081779\t0.03415375 \t0.026664041 \t0.93741256 \t0.14596887\n",
      "4400\t0.05524598\t0.028112633 \t0.027133346 \t0.93502605 \t0.1626803\n",
      "4500\t0.058806084\t0.031783596 \t0.02702249 \t0.9314151 \t0.17942405\n",
      "4600\t0.05981188\t0.03279381 \t0.02701807 \t0.9354159 \t0.1566142\n",
      "4700\t0.055626467\t0.031152964 \t0.024473501 \t0.93198925 \t0.18180095\n",
      "4800\t0.051280204\t0.02571246 \t0.025567744 \t0.93353844 \t0.1787177\n",
      "4900\t0.04639063\t0.023422752 \t0.022967877 \t0.9358472 \t0.16169599\n",
      "5000\t0.049824744\t0.02685501 \t0.022969736 \t0.9346266 \t0.161686\n",
      "5100\t0.055225402\t0.029833326 \t0.025392078 \t0.9312481 \t0.18339856\n",
      "5200\t0.0519457\t0.026405917 \t0.025539784 \t0.93438566 \t0.17100212\n",
      "5300\t0.04690595\t0.025250558 \t0.021655392 \t0.93639356 \t0.15911537\n",
      "5400\t0.050332874\t0.027792959 \t0.022539917 \t0.9373077 \t0.15184447\n",
      "5500\t0.045965347\t0.026350174 \t0.019615173 \t0.934536 \t0.17078158\n",
      "5600\t0.055243567\t0.032128096 \t0.023115473 \t0.9315074 \t0.18039103\n",
      "5700\t0.051188335\t0.029268222 \t0.021920113 \t0.9354942 \t0.15910223\n",
      "5800\t0.0522929\t0.0321758 \t0.020117097 \t0.9318925 \t0.1745998\n",
      "5900\t0.043429628\t0.023911795 \t0.019517833 \t0.9385733 \t0.14953868\n",
      "6000\t0.054993033\t0.031711187 \t0.023281846 \t0.93439347 \t0.16983359\n",
      "6100\t0.049985014\t0.028599778 \t0.021385236 \t0.9311263 \t0.18253\n",
      "6200\t0.05076067\t0.031223672 \t0.019537 \t0.933668 \t0.17760386\n",
      "6300\t0.048315525\t0.028831115 \t0.019484412 \t0.9316503 \t0.18635623\n",
      "6400\t0.044770505\t0.026715854 \t0.018054651 \t0.93103695 \t0.1872264\n",
      "6500\t0.047460526\t0.028203001 \t0.019257527 \t0.93145674 \t0.19080846\n",
      "6600\t0.047109623\t0.028358812 \t0.018750811 \t0.9320859 \t0.18698348\n",
      "6700\t0.04842244\t0.028162181 \t0.020260258 \t0.9352799 \t0.1614705\n",
      "6800\t0.048437353\t0.029860217 \t0.018577136 \t0.9346893 \t0.16731565\n",
      "6900\t0.045332007\t0.02746046 \t0.01787155 \t0.93326277 \t0.18124066\n",
      "7000\t0.04957875\t0.030597188 \t0.01898156 \t0.9378475 \t0.13936995\n",
      "7100\t0.047312435\t0.02894523 \t0.018367205 \t0.93187606 \t0.18127759\n",
      "7200\t0.047453165\t0.02981607 \t0.017637093 \t0.9353269 \t0.16877653\n",
      "7300\t0.04216358\t0.025755111 \t0.016408471 \t0.9324432 \t0.18363342\n",
      "7400\t0.047229286\t0.028244395 \t0.018984891 \t0.93162936 \t0.18527646\n",
      "7500\t0.049648706\t0.032966927 \t0.01668178 \t0.93211776 \t0.18326958\n",
      "7600\t0.05098211\t0.033670988 \t0.01731112 \t0.93476975 \t0.16741018\n",
      "7700\t0.04981524\t0.030099291 \t0.01971595 \t0.9327394 \t0.18303569\n",
      "7800\t0.049714707\t0.031807184 \t0.01790752 \t0.9360628 \t0.15416557\n",
      "7900\t0.047298763\t0.028301273 \t0.01899749 \t0.93287337 \t0.18235537\n",
      "8000\t0.052292425\t0.033815168 \t0.018477257 \t0.9368785 \t0.15343544\n",
      "8100\t0.04866995\t0.03233007 \t0.016339881 \t0.93512875 \t0.15875301\n",
      "8200\t0.04881513\t0.03172646 \t0.017088672 \t0.9332603 \t0.18122894\n",
      "8300\t0.044280764\t0.028948708 \t0.015332057 \t0.9338518 \t0.17748322\n",
      "8400\t0.043107577\t0.026097678 \t0.017009897 \t0.9357782 \t0.15898238\n",
      "8500\t0.04555128\t0.030457301 \t0.015093979 \t0.9326216 \t0.17242512\n",
      "8600\t0.04291048\t0.02678823 \t0.016122252 \t0.9351935 \t0.16280389\n",
      "8700\t0.04496299\t0.029324677 \t0.015638314 \t0.9356644 \t0.16096695\n",
      "8800\t0.044493396\t0.028002212 \t0.016491184 \t0.93153334 \t0.19193698\n",
      "8900\t0.042266928\t0.026327867 \t0.01593906 \t0.93057114 \t0.1983804\n",
      "9000\t0.048108697\t0.0313041 \t0.0168046 \t0.93395346 \t0.17251152\n",
      "9100\t0.04771927\t0.03154423 \t0.016175041 \t0.9314366 \t0.18786293\n",
      "9200\t0.042002365\t0.026311407 \t0.015690956 \t0.9347991 \t0.1680362\n",
      "9300\t0.04197833\t0.025435345 \t0.016542982 \t0.93168485 \t0.19238599\n",
      "9400\t0.03790784\t0.023317555 \t0.014590282 \t0.9332318 \t0.1767126\n",
      "9500\t0.04129277\t0.02533441 \t0.015958361 \t0.93460536 \t0.16580245\n",
      "9600\t0.046181887\t0.030322045 \t0.015859844 \t0.9333691 \t0.17225261\n",
      "9700\t0.04522971\t0.029512381 \t0.015717328 \t0.9352781 \t0.16569567\n",
      "9800\t0.052630764\t0.03586008 \t0.016770683 \t0.9301534 \t0.19396219\n",
      "9900\t0.04459294\t0.030573223 \t0.014019717 \t0.93467474 \t0.16415729\n",
      "10000\t0.046094913\t0.030658752 \t0.015436162 \t0.9331281 \t0.17412135\n",
      "10100\t0.044050686\t0.029214071 \t0.014836614 \t0.93121547 \t0.19176084\n",
      "10200\t0.040895954\t0.026333155 \t0.0145628 \t0.93385196 \t0.17412809\n",
      "10300\t0.04249385\t0.028030843 \t0.014463007 \t0.9350522 \t0.15616205\n",
      "10400\t0.05434119\t0.03518871 \t0.01915248 \t0.9358975 \t0.16558403\n",
      "10500\t0.044279076\t0.02974461 \t0.014534466 \t0.93472344 \t0.16798809\n",
      "10600\t0.043329373\t0.029289745 \t0.014039628 \t0.9342499 \t0.16701597\n",
      "10700\t0.041578203\t0.028935986 \t0.012642216 \t0.9365611 \t0.15317616\n",
      "10800\t0.043509737\t0.030086398 \t0.01342334 \t0.9359142 \t0.15327176\n",
      "10900\t0.03858586\t0.025406927 \t0.013178934 \t0.9360687 \t0.15666106\n",
      "11000\t0.039910767\t0.02735363 \t0.012557137 \t0.9339854 \t0.16798411\n",
      "11100\t0.046564892\t0.03107753 \t0.015487361 \t0.9361992 \t0.15407242\n",
      "11200\t0.042354904\t0.028659794 \t0.013695109 \t0.93225724 \t0.18126175\n",
      "11300\t0.04990632\t0.034707107 \t0.015199212 \t0.93158 \t0.18151817\n",
      "11400\t0.040610325\t0.028311005 \t0.012299321 \t0.9320756 \t0.17976208\n",
      "11500\t0.039382026\t0.02668507 \t0.012696957 \t0.9374919 \t0.14545278\n",
      "11600\t0.04040528\t0.026857035 \t0.0135482475 \t0.9323815 \t0.17643943\n",
      "11700\t0.041595288\t0.028882673 \t0.0127126165 \t0.9379222 \t0.14538303\n",
      "11800\t0.04103516\t0.029000789 \t0.012034371 \t0.9333592 \t0.17240138\n",
      "11900\t0.040159397\t0.027963605 \t0.012195793 \t0.93947047 \t0.13499884\n",
      "12000\t0.041118857\t0.028965874 \t0.012152983 \t0.9356827 \t0.16098566\n",
      "12100\t0.042260785\t0.029450472 \t0.012810311 \t0.9322106 \t0.1806328\n",
      "12200\t0.03736006\t0.026653476 \t0.010706584 \t0.9334992 \t0.17300288\n",
      "12300\t0.037240636\t0.025150087 \t0.012090549 \t0.9311127 \t0.18460144\n",
      "12400\t0.043293603\t0.030759828 \t0.012533773 \t0.9347454 \t0.16608533\n",
      "12500\t0.041792452\t0.028193407 \t0.013599047 \t0.93238044 \t0.1806735\n",
      "12600\t0.04127584\t0.027625885 \t0.013649954 \t0.93573207 \t0.15682563\n",
      "12700\t0.035087973\t0.024740914 \t0.010347059 \t0.9345538 \t0.16296138\n",
      "12800\t0.03982253\t0.029192371 \t0.010630159 \t0.9383514 \t0.13914102\n"
     ]
    },
    {
     "name": "stdout",
     "output_type": "stream",
     "text": [
      "12900\t0.03834908\t0.026297724 \t0.012051358 \t0.93534636 \t0.16232865\n",
      "13000\t0.039152745\t0.026796414 \t0.012356331 \t0.9339246 \t0.17235585\n",
      "13100\t0.03957178\t0.027150873 \t0.012420907 \t0.93141645 \t0.18830553\n",
      "13200\t0.03717886\t0.026125092 \t0.011053768 \t0.93393064 \t0.16404179\n",
      "13300\t0.041144714\t0.028605351 \t0.012539361 \t0.9333555 \t0.17856912\n",
      "13400\t0.03822865\t0.026650323 \t0.011578327 \t0.93577534 \t0.16182144\n",
      "13500\t0.04033046\t0.027423438 \t0.012907021 \t0.9304968 \t0.19455236\n",
      "13600\t0.043953363\t0.031144997 \t0.012808366 \t0.9337494 \t0.16721818\n",
      "13700\t0.04150718\t0.029753728 \t0.011753453 \t0.9346568 \t0.1625594\n",
      "13800\t0.037181616\t0.026165195 \t0.011016422 \t0.9325988 \t0.18422619\n",
      "13900\t0.036003254\t0.0252582 \t0.010745053 \t0.93444306 \t0.17042786\n",
      "14000\t0.041743755\t0.029202512 \t0.012541245 \t0.9356903 \t0.16066214\n",
      "14100\t0.039585516\t0.027820496 \t0.011765018 \t0.93670726 \t0.1508507\n",
      "14200\t0.037568145\t0.025789145 \t0.011779 \t0.93664503 \t0.15163143\n",
      "14300\t0.044012897\t0.02962729 \t0.014385609 \t0.93413466 \t0.16918005\n",
      "14400\t0.037074447\t0.026508195 \t0.010566253 \t0.9370009 \t0.15059234\n",
      "14500\t0.041179903\t0.029872684 \t0.011307218 \t0.9320034 \t0.17986386\n",
      "14600\t0.039546456\t0.027054083 \t0.012492374 \t0.93171936 \t0.18721111\n",
      "14700\t0.041477613\t0.02964228 \t0.011835334 \t0.9358865 \t0.15514846\n",
      "14800\t0.042159546\t0.02909746 \t0.013062087 \t0.9319105 \t0.18626592\n",
      "14900\t0.03914965\t0.027626494 \t0.011523154 \t0.9361508 \t0.16013297\n",
      "15000\t0.0422064\t0.0284246 \t0.013781801 \t0.93219036 \t0.18485385\n",
      "15100\t0.0419008\t0.030178498 \t0.011722302 \t0.934345 \t0.1672274\n",
      "15200\t0.040377893\t0.027005477 \t0.013372417 \t0.9360121 \t0.15946524\n",
      "15300\t0.03643069\t0.02573765 \t0.01069304 \t0.93461716 \t0.1613594\n",
      "15400\t0.037712615\t0.025570258 \t0.012142356 \t0.9327998 \t0.1782444\n",
      "15500\t0.03969711\t0.028052874 \t0.011644237 \t0.93121356 \t0.19065216\n",
      "15600\t0.040553\t0.02976479 \t0.010788209 \t0.93049747 \t0.19427001\n",
      "15700\t0.041792233\t0.028643977 \t0.013148257 \t0.9365745 \t0.1565088\n",
      "15800\t0.037736993\t0.02680122 \t0.010935773 \t0.935477 \t0.15997349\n",
      "15900\t0.036028884\t0.025853774 \t0.010175113 \t0.935475 \t0.16523176\n",
      "16000\t0.03868265\t0.026984222 \t0.011698429 \t0.93142307 \t0.18571652\n",
      "16100\t0.038121935\t0.027104625 \t0.01101731 \t0.9318655 \t0.18332736\n",
      "16200\t0.03818956\t0.026688717 \t0.011500842 \t0.93635434 \t0.15639873\n",
      "16300\t0.040262938\t0.027210407 \t0.01305253 \t0.9356004 \t0.16267116\n",
      "16400\t0.037574586\t0.02658089 \t0.010993695 \t0.9359529 \t0.15853567\n",
      "16500\t0.043374944\t0.03212776 \t0.011247184 \t0.93616694 \t0.15266882\n",
      "16600\t0.039414905\t0.027905876 \t0.011509031 \t0.93879706 \t0.13619064\n",
      "16700\t0.040195435\t0.027296774 \t0.012898659 \t0.9341684 \t0.16758558\n",
      "16800\t0.034256194\t0.024691243 \t0.00956495 \t0.93337387 \t0.1708426\n",
      "16900\t0.03857051\t0.02678862 \t0.01178189 \t0.9369148 \t0.15175499\n",
      "17000\t0.042408753\t0.029468255 \t0.012940497 \t0.9392645 \t0.13484704\n",
      "17100\t0.040760323\t0.029316958 \t0.011443365 \t0.9340748 \t0.17409645\n",
      "17200\t0.036431786\t0.025437793 \t0.010993994 \t0.9365448 \t0.15749359\n",
      "17300\t0.04650597\t0.031297334 \t0.015208635 \t0.933273 \t0.1783548\n",
      "17400\t0.04060499\t0.028407106 \t0.012197883 \t0.93092346 \t0.18949062\n",
      "17500\t0.035760313\t0.02494915 \t0.010811164 \t0.93258345 \t0.18058848\n",
      "17600\t0.039052054\t0.027815226 \t0.011236827 \t0.93604535 \t0.15576082\n",
      "17700\t0.04219415\t0.030126963 \t0.012067188 \t0.93010986 \t0.19698755\n",
      "17800\t0.038720116\t0.025086382 \t0.013633732 \t0.93687034 \t0.14995949\n",
      "17900\t0.041174524\t0.02944143 \t0.011733095 \t0.93278 \t0.17878395\n",
      "18000\t0.039053746\t0.028739158 \t0.010314586 \t0.9337225 \t0.16844533\n",
      "18100\t0.04195105\t0.03011622 \t0.01183483 \t0.93056333 \t0.19402507\n",
      "18200\t0.04083442\t0.028680667 \t0.012153751 \t0.9311723 \t0.18966731\n",
      "18300\t0.040868968\t0.028914012 \t0.011954956 \t0.93396544 \t0.17062789\n",
      "18400\t0.040079795\t0.029072365 \t0.01100743 \t0.9333763 \t0.17430636\n",
      "18500\t0.040341247\t0.028805844 \t0.011535403 \t0.9335465 \t0.17022398\n",
      "18600\t0.03963159\t0.027760066 \t0.011871526 \t0.930706 \t0.19429864\n",
      "18700\t0.037987996\t0.026462935 \t0.01152506 \t0.93263525 \t0.17890926\n",
      "18800\t0.039105907\t0.027180716 \t0.011925192 \t0.93616897 \t0.15687612\n",
      "18900\t0.044028573\t0.030386036 \t0.013642535 \t0.92558026 \t0.22353283\n",
      "19000\t0.044036664\t0.030518416 \t0.013518249 \t0.93667096 \t0.15073779\n",
      "19100\t0.03957328\t0.027848748 \t0.011724529 \t0.932993 \t0.17971183\n",
      "19200\t0.041441116\t0.029054083 \t0.0123870345 \t0.9340082 \t0.1709389\n",
      "19300\t0.038809974\t0.027851518 \t0.010958456 \t0.9325864 \t0.1781938\n",
      "19400\t0.038407296\t0.025206642 \t0.013200652 \t0.93472105 \t0.16691346\n",
      "19500\t0.03772468\t0.027273234 \t0.010451449 \t0.93326396 \t0.1742987\n",
      "19600\t0.03661592\t0.026743084 \t0.009872835 \t0.9363861 \t0.15454707\n",
      "19700\t0.038018256\t0.026727494 \t0.011290764 \t0.93395156 \t0.16942784\n",
      "19800\t0.03976945\t0.026911838 \t0.012857612 \t0.93266463 \t0.18046701\n",
      "19900\t0.051612385\t0.035685953 \t0.015926432 \t0.9277559 \t0.21172214\n",
      "20000\t0.043538533\t0.030299582 \t0.013238953 \t0.93287796 \t0.17900379\n",
      "Time :585.1062154769897\n"
     ]
    }
   ],
   "source": [
    "# Dataset\n",
    "data_len = 3*2\n",
    "data_size = 1000\n",
    "\n",
    "# Parameter\n",
    "batch_size = 100\n",
    "max_epoch  = 2000\n",
    "iteration = data_size / batch_size * max_epoch\n",
    "snapshot = 100\n",
    "num_step = 3\n",
    "input_dim = num_step*2\n",
    "\n",
    "# Training\n",
    "start_t = time.time()\n",
    "model = train(train_data, max_epoch, batch_size, snapshot)\n",
    "process_time = time.time() - start_t\n",
    "print('Time :{}'.format(process_time))"
   ]
  },
  {
   "cell_type": "markdown",
   "metadata": {},
   "source": [
    "# 推論"
   ]
  },
  {
   "cell_type": "code",
   "execution_count": 43,
   "metadata": {},
   "outputs": [],
   "source": [
    "def predict(model, x_test, plot=0, xlim=[-5,5],ylim=[-5,5]):\n",
    "    x_data = Variable(x_test)\n",
    "    y = model(x_data)\n",
    "    car = CartLayer(len(y))\n",
    "    predpos = calc_car_pos(car, y)\n",
    "    truepos = Variable(x_test)\n",
    "    loss,msg = loss_function(y, x_data)\n",
    "    print(\"loss: {}\".format(loss))\n",
    "    print(\"v,w: \\n  {}\".format(y))\n",
    "    print(\"path(x-y-th): \\n  {}\".format(car.path))\n",
    "    print(\"truth(x-y-th): \\n  {}\".format(x_test))\n",
    "    if(plot>0):\n",
    "        plot_path(car.path.data, np.reshape(x_data.data, (int(len(x_data[0])/2), 2)),xlim,ylim)"
   ]
  },
  {
   "cell_type": "code",
   "execution_count": 57,
   "metadata": {},
   "outputs": [
    {
     "name": "stdout",
     "output_type": "stream",
     "text": [
      "[[0.97959184 0.        ]\n",
      " [1.95918367 0.        ]\n",
      " [3.         0.        ]]\n"
     ]
    }
   ],
   "source": [
    "l = 3\n",
    "path = make_arc_path_2(l,0)\n",
    "via_path = get_n_point_from_path_2(data_len/2,path)\n",
    "sample_x_test = np.array([via_path.flatten()],dtype=np.float32)\n",
    "print(via_path)"
   ]
  },
  {
   "cell_type": "code",
   "execution_count": 58,
   "metadata": {},
   "outputs": [
    {
     "name": "stdout",
     "output_type": "stream",
     "text": [
      "loss: variable(0.04263193)\n",
      "v,w: \n",
      "  variable([[[ 9.8067844e-01 -4.2113659e-04]\n",
      "           [ 9.8763448e-01 -2.6882375e-03]\n",
      "           [ 9.9999970e-01  5.9596635e-03]]])\n",
      "path(x-y-th): \n",
      "  variable([[[ 0.0000000e+00  0.0000000e+00  0.0000000e+00]\n",
      "           [ 9.8067838e-01 -4.1299957e-04 -4.2113659e-04]\n",
      "           [ 1.9683081e+00 -3.4839197e-03 -3.1093741e-03]\n",
      "           [ 2.9683037e+00 -6.3363509e-04  2.8502895e-03]]])\n",
      "truth(x-y-th): \n",
      "  [[0.97959185 0.         1.9591837  0.         3.         0.        ]]\n"
     ]
    },
    {
     "data": {
      "image/png": "[encoded data removed]",
      "text/plain": [
       "<matplotlib.figure.Figure at 0x7fe4b60e82e8>"
      ]
     },
     "metadata": {},
     "output_type": "display_data"
    }
   ],
   "source": [
    "predict(model, sample_x_test, plot=1, xlim=[-5,5], ylim=[-5,5])"
   ]
  },
  {
   "cell_type": "markdown",
   "metadata": {},
   "source": [
    "# 重みの保存と読み込み"
   ]
  },
  {
   "cell_type": "code",
   "execution_count": 48,
   "metadata": {},
   "outputs": [],
   "source": [
    "# rename model\n",
    "import os\n",
    "import datetime\n",
    "\n",
    "def gen_filename():\n",
    "    name_date = '{0:%Y%m%d%H%M%S}'.format(datetime.datetime.now())\n",
    "    name_epoch = '{}epoch'.format(max_epoch)\n",
    "    name_batch = '{}batch'.format(batch_size)\n",
    "    name_datasize  = '{}data'.format(data_size)\n",
    "    name_num_step = '{}step'.format(num_step)\n",
    "    model_name = name_num_step+ '_' + name_datasize + name_batch + name_epoch + '_' + name_date +  '.model'\n",
    "    print(model_name)\n",
    "    return model_name"
   ]
  },
  {
   "cell_type": "code",
   "execution_count": 49,
   "metadata": {},
   "outputs": [],
   "source": [
    "def save_pretrained(model, name):\n",
    "    serializers.save_npz(name, model)\n",
    "\n",
    "def load_pretrained(name):\n",
    "    load_model = ModelPathGenerator(input_dim, num_step)\n",
    "    serializers.load_npz(name, load_model)\n",
    "    return load_model"
   ]
  },
  {
   "cell_type": "code",
   "execution_count": 50,
   "metadata": {},
   "outputs": [],
   "source": [
    "# save\n",
    "save_pretrained(model, 'tmp.model')\n",
    "# os.rename('tmp.model', get_filename())"
   ]
  },
  {
   "cell_type": "code",
   "execution_count": 51,
   "metadata": {},
   "outputs": [],
   "source": [
    "# Parameter\n",
    "batch_size = 10\n",
    "max_epoch  = 30\n",
    "snapshot = 100\n",
    "num_step = 3\n",
    "input_dim = num_step*2\n",
    "# load\n",
    "load_model = load_pretrained('tmp.model')\n",
    "if gpu_index >=0:\n",
    "    load_model.to_gpu()"
   ]
  },
  {
   "cell_type": "code",
   "execution_count": 52,
   "metadata": {},
   "outputs": [
    {
     "name": "stdout",
     "output_type": "stream",
     "text": [
      "loss: variable(0.03475315)\n",
      "v,w: \n",
      "  variable([[[0.9690365  0.25521606]\n",
      "           [0.9760521  0.5140976 ]\n",
      "           [0.99999076 0.5194981 ]]])\n",
      "path(x-y-th): \n",
      "  variable([[[0.         0.         0.        ]\n",
      "           [0.93764824 0.24463762 0.25521606]\n",
      "           [1.6388326  0.92362076 0.76931363]\n",
      "           [1.9170924  1.8841169  1.2888117 ]]])\n",
      "truth(x-y-th): \n",
      "  [[0.9372015  0.24576317 1.6332023  0.9198024  1.9098593  1.9098593 ]]\n"
     ]
    },
    {
     "data": {
      "image/png": "[encoded data removed]",
      "text/plain": [
       "<matplotlib.figure.Figure at 0x7fe4b0797c50>"
      ]
     },
     "metadata": {},
     "output_type": "display_data"
    }
   ],
   "source": [
    "predict(load_model, sample_x_test, plot=1, xlim=[-2,2], ylim=[-2,3])"
   ]
  },
  {
   "cell_type": "markdown",
   "metadata": {},
   "source": [
    "# 分散(未完成)"
   ]
  },
  {
   "cell_type": "code",
   "execution_count": 24,
   "metadata": {
    "scrolled": false
   },
   "outputs": [
    {
     "data": {
      "text/plain": [
       "\"\\nsample_x = [1,2,3,4]\\nsample_y = [1,4,9,16]\\nsample_error = [1,4,9,16]\\ndef plot_error(x,y,err):\\n    plt.plot(x,y)\\n    plt.errorbar(x,y,yerr=err,ecolor='r',color='b',ls='solid',lw=2,marker='o')\\n    plt.show()\\n\\n# plot_error(sample_x,sample_y,sample_error)\\n\""
      ]
     },
     "execution_count": 24,
     "metadata": {},
     "output_type": "execute_result"
    }
   ],
   "source": [
    "'''\n",
    "sample_x = [1,2,3,4]\n",
    "sample_y = [1,4,9,16]\n",
    "sample_error = [1,4,9,16]\n",
    "def plot_error(x,y,err):\n",
    "    plt.plot(x,y)\n",
    "    plt.errorbar(x,y,yerr=err,ecolor='r',color='b',ls='solid',lw=2,marker='o')\n",
    "    plt.show()\n",
    "\n",
    "# plot_error(sample_x,sample_y,sample_error)\n",
    "'''"
   ]
  },
  {
   "cell_type": "markdown",
   "metadata": {},
   "source": [
    "## 議事録\n",
    "---"
   ]
  },
  {
   "cell_type": "markdown",
   "metadata": {},
   "source": [
    "### 2019/02/19 オフィスアワー\n",
    "\n",
    "次回まで\n",
    "- PID制御と比較できるように\n",
    "- 4ステップ程度の短いステップで追従\n",
    "- 入江さんが作った関数を使って学習できるように  \n",
    "  - 同じ結果が再現できるか確認\n",
    "  - cpu用の関数になっているためgpu用に"
   ]
  },
  {
   "cell_type": "markdown",
   "metadata": {},
   "source": [
    "### 2019/01/29 オフィスアワー\n",
    "\n",
    "* 損失の計算確認\n",
    "  - Reshapeが間違い\n",
    "  - 速度・角速度計算の入力に間違い（参照axisがおかしかった）\n",
    "* 途中経路の入力（損失の計算方法を考える\n",
    "  - 経由点（入力座標）を3点に変更\n",
    "  - 9ステップ先まで予測"
   ]
  },
  {
   "cell_type": "markdown",
   "metadata": {},
   "source": [
    "### 2019/01/22 オフィスアワー \n",
    "\n",
    "* 次元ごとにforwordして結果を比較 \n",
    "* lossを貯めて擬似的にmini-batch処理\n",
    "* chainer SLAM 藤本さん qiita の記事?\n",
    "* 同次変換行列ができれば...\n",
    "* バッチ処理は先送りするのも検討\n",
    "* 経路の途中の計算を諦めて評価値だけ天から降ってくるものとして扱う案\n",
    "* NNで最適制御（普通の制御よりは複雑（非線形項））\n",
    "* 前後左右の加減速（ドローンの風で安定しないなど）\n",
    "\n",
    "#### 次回までの課題\n",
    "* 180度を跨がない\n",
    "  - -90～90度の範囲で学習\n",
    "  \n",
    "* tanh (-1 ~ 1)やシグモイド(正)で無茶な加減速を抑制\n",
    "  - tanh層を加えた\n",
    "  - 最大速度　　:１\n",
    "  - 最大角速度　:\n",
    "\n",
    "* 学習回数を増やして結果を比較\n",
    "  - 今まで1000データ 5エポック\n",
    "  - 今回は1000データ 50エポック\n",
    "\n",
    "* (できたらバッチ処理)\n",
    "  - 次元ごとにforwordして結果を比較した\n",
    "  - lossが怪しい"
   ]
  },
  {
   "cell_type": "markdown",
   "metadata": {},
   "source": [
    "### 2018/11/27\n",
    "* バッチで処理 →　学習回数を増やしてデータを取る\n",
    "* ネットワークを変える"
   ]
  },
  {
   "cell_type": "markdown",
   "metadata": {},
   "source": [
    "### 2018/10/24　オフィスアワー\n",
    "\n",
    "---\n",
    "問題点  \n",
    "* **（0,0）で動かなければ損失が少ないと学習してしまう**  \n",
    "    ・極座標系で距離を一定に学習する\n",
    "    \n",
    "    \n",
    "* **optimizers.update() **  \n",
    "    ・勾配を手動計算する場合は引数不要・勾配リセットも必要  \n",
    "    ・そうでない場合はloss_functionを引数に渡す\n",
    "\n",
    "その他  \n",
    "* **Variable配列の型が違って気持ち悪いので行列演算にしたい**"
   ]
  }
 ],
 "metadata": {
  "kernelspec": {
   "display_name": "Python 3",
   "language": "python",
   "name": "python3"
  },
  "language_info": {
   "codemirror_mode": {
    "name": "ipython",
    "version": 3
   },
   "file_extension": ".py",
   "mimetype": "text/x-python",
   "name": "python",
   "nbconvert_exporter": "python",
   "pygments_lexer": "ipython3",
   "version": "3.5.2"
  }
 },
 "nbformat": 4,
 "nbformat_minor": 2
}
